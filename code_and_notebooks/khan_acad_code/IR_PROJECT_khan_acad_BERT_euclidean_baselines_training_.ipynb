{
  "nbformat": 4,
  "nbformat_minor": 0,
  "metadata": {
    "accelerator": "GPU",
    "colab": {
      "name": "IR_PROJECT_khan_acad_BERT_euclidean_baselines_training .ipynb",
      "provenance": [],
      "collapsed_sections": []
    },
    "kernelspec": {
      "display_name": "Python 3",
      "language": "python",
      "name": "python3"
    },
    "language_info": {
      "codemirror_mode": {
        "name": "ipython",
        "version": 3
      },
      "file_extension": ".py",
      "mimetype": "text/x-python",
      "name": "python",
      "nbconvert_exporter": "python",
      "pygments_lexer": "ipython3",
      "version": "3.7.7"
    },
    "widgets": {
      "application/vnd.jupyter.widget-state+json": {
        "b2b7f889d2c442e9bb9a6ff6918bf9ee": {
          "model_module": "@jupyter-widgets/controls",
          "model_name": "HBoxModel",
          "state": {
            "_view_name": "HBoxView",
            "_dom_classes": [],
            "_model_name": "HBoxModel",
            "_view_module": "@jupyter-widgets/controls",
            "_model_module_version": "1.5.0",
            "_view_count": null,
            "_view_module_version": "1.5.0",
            "box_style": "",
            "layout": "IPY_MODEL_d3dd53d8b41d46cda3fd0a7316c563a3",
            "_model_module": "@jupyter-widgets/controls",
            "children": [
              "IPY_MODEL_93e82f983a4247758f4d5e61ead14fde",
              "IPY_MODEL_b7aba79a7cfd4e16a51c20df4d32905d"
            ]
          }
        },
        "d3dd53d8b41d46cda3fd0a7316c563a3": {
          "model_module": "@jupyter-widgets/base",
          "model_name": "LayoutModel",
          "state": {
            "_view_name": "LayoutView",
            "grid_template_rows": null,
            "right": null,
            "justify_content": null,
            "_view_module": "@jupyter-widgets/base",
            "overflow": null,
            "_model_module_version": "1.2.0",
            "_view_count": null,
            "flex_flow": null,
            "width": null,
            "min_width": null,
            "border": null,
            "align_items": null,
            "bottom": null,
            "_model_module": "@jupyter-widgets/base",
            "top": null,
            "grid_column": null,
            "overflow_y": null,
            "overflow_x": null,
            "grid_auto_flow": null,
            "grid_area": null,
            "grid_template_columns": null,
            "flex": null,
            "_model_name": "LayoutModel",
            "justify_items": null,
            "grid_row": null,
            "max_height": null,
            "align_content": null,
            "visibility": null,
            "align_self": null,
            "height": null,
            "min_height": null,
            "padding": null,
            "grid_auto_rows": null,
            "grid_gap": null,
            "max_width": null,
            "order": null,
            "_view_module_version": "1.2.0",
            "grid_template_areas": null,
            "object_position": null,
            "object_fit": null,
            "grid_auto_columns": null,
            "margin": null,
            "display": null,
            "left": null
          }
        },
        "93e82f983a4247758f4d5e61ead14fde": {
          "model_module": "@jupyter-widgets/controls",
          "model_name": "FloatProgressModel",
          "state": {
            "_view_name": "ProgressView",
            "style": "IPY_MODEL_f9540bd040bf493fb19699d450ee2208",
            "_dom_classes": [],
            "description": "Downloading: 100%",
            "_model_name": "FloatProgressModel",
            "bar_style": "success",
            "max": 231508,
            "_view_module": "@jupyter-widgets/controls",
            "_model_module_version": "1.5.0",
            "value": 231508,
            "_view_count": null,
            "_view_module_version": "1.5.0",
            "orientation": "horizontal",
            "min": 0,
            "description_tooltip": null,
            "_model_module": "@jupyter-widgets/controls",
            "layout": "IPY_MODEL_6d728545a237418eaeeec91b2ee4d6f6"
          }
        },
        "b7aba79a7cfd4e16a51c20df4d32905d": {
          "model_module": "@jupyter-widgets/controls",
          "model_name": "HTMLModel",
          "state": {
            "_view_name": "HTMLView",
            "style": "IPY_MODEL_d96a6725c2fe44e585a4e85e9c21e346",
            "_dom_classes": [],
            "description": "",
            "_model_name": "HTMLModel",
            "placeholder": "​",
            "_view_module": "@jupyter-widgets/controls",
            "_model_module_version": "1.5.0",
            "value": " 232k/232k [00:00&lt;00:00, 3.15MB/s]",
            "_view_count": null,
            "_view_module_version": "1.5.0",
            "description_tooltip": null,
            "_model_module": "@jupyter-widgets/controls",
            "layout": "IPY_MODEL_a6d0b7d2bfcd43f3932f4ef60cb82b76"
          }
        },
        "f9540bd040bf493fb19699d450ee2208": {
          "model_module": "@jupyter-widgets/controls",
          "model_name": "ProgressStyleModel",
          "state": {
            "_view_name": "StyleView",
            "_model_name": "ProgressStyleModel",
            "description_width": "initial",
            "_view_module": "@jupyter-widgets/base",
            "_model_module_version": "1.5.0",
            "_view_count": null,
            "_view_module_version": "1.2.0",
            "bar_color": null,
            "_model_module": "@jupyter-widgets/controls"
          }
        },
        "6d728545a237418eaeeec91b2ee4d6f6": {
          "model_module": "@jupyter-widgets/base",
          "model_name": "LayoutModel",
          "state": {
            "_view_name": "LayoutView",
            "grid_template_rows": null,
            "right": null,
            "justify_content": null,
            "_view_module": "@jupyter-widgets/base",
            "overflow": null,
            "_model_module_version": "1.2.0",
            "_view_count": null,
            "flex_flow": null,
            "width": null,
            "min_width": null,
            "border": null,
            "align_items": null,
            "bottom": null,
            "_model_module": "@jupyter-widgets/base",
            "top": null,
            "grid_column": null,
            "overflow_y": null,
            "overflow_x": null,
            "grid_auto_flow": null,
            "grid_area": null,
            "grid_template_columns": null,
            "flex": null,
            "_model_name": "LayoutModel",
            "justify_items": null,
            "grid_row": null,
            "max_height": null,
            "align_content": null,
            "visibility": null,
            "align_self": null,
            "height": null,
            "min_height": null,
            "padding": null,
            "grid_auto_rows": null,
            "grid_gap": null,
            "max_width": null,
            "order": null,
            "_view_module_version": "1.2.0",
            "grid_template_areas": null,
            "object_position": null,
            "object_fit": null,
            "grid_auto_columns": null,
            "margin": null,
            "display": null,
            "left": null
          }
        },
        "d96a6725c2fe44e585a4e85e9c21e346": {
          "model_module": "@jupyter-widgets/controls",
          "model_name": "DescriptionStyleModel",
          "state": {
            "_view_name": "StyleView",
            "_model_name": "DescriptionStyleModel",
            "description_width": "",
            "_view_module": "@jupyter-widgets/base",
            "_model_module_version": "1.5.0",
            "_view_count": null,
            "_view_module_version": "1.2.0",
            "_model_module": "@jupyter-widgets/controls"
          }
        },
        "a6d0b7d2bfcd43f3932f4ef60cb82b76": {
          "model_module": "@jupyter-widgets/base",
          "model_name": "LayoutModel",
          "state": {
            "_view_name": "LayoutView",
            "grid_template_rows": null,
            "right": null,
            "justify_content": null,
            "_view_module": "@jupyter-widgets/base",
            "overflow": null,
            "_model_module_version": "1.2.0",
            "_view_count": null,
            "flex_flow": null,
            "width": null,
            "min_width": null,
            "border": null,
            "align_items": null,
            "bottom": null,
            "_model_module": "@jupyter-widgets/base",
            "top": null,
            "grid_column": null,
            "overflow_y": null,
            "overflow_x": null,
            "grid_auto_flow": null,
            "grid_area": null,
            "grid_template_columns": null,
            "flex": null,
            "_model_name": "LayoutModel",
            "justify_items": null,
            "grid_row": null,
            "max_height": null,
            "align_content": null,
            "visibility": null,
            "align_self": null,
            "height": null,
            "min_height": null,
            "padding": null,
            "grid_auto_rows": null,
            "grid_gap": null,
            "max_width": null,
            "order": null,
            "_view_module_version": "1.2.0",
            "grid_template_areas": null,
            "object_position": null,
            "object_fit": null,
            "grid_auto_columns": null,
            "margin": null,
            "display": null,
            "left": null
          }
        }
      }
    }
  },
  "cells": [
    {
      "cell_type": "code",
      "metadata": {
        "id": "sR9av2JU3kf6",
        "colab": {
          "base_uri": "https://localhost:8080/"
        },
        "outputId": "00c5d435-fd29-4eac-9819-e3f03e8f35b2"
      },
      "source": [
        "import os\n",
        "os.environ['CUDA_LAUNCH_BLOCKING'] = \"1\"\n",
        "import torch\n",
        "import logging\n",
        "logging.basicConfig(level=logging.ERROR)\n",
        "# If there's a GPU available...\n",
        "if torch.cuda.is_available():    \n",
        "\n",
        "    # Tell PyTorch to use the GPU.    \n",
        "    device = torch.device(\"cuda\")\n",
        "\n",
        "    print('There are %d GPU(s) available.' % torch.cuda.device_count())\n",
        "\n",
        "    print('We will use the GPU:', torch.cuda.get_device_name(0))\n",
        "\n",
        "# If not...\n",
        "else:\n",
        "    print('No GPU available, using the CPU instead.')\n",
        "    device = torch.device(\"cpu\")"
      ],
      "execution_count": null,
      "outputs": [
        {
          "output_type": "stream",
          "text": [
            "There are 1 GPU(s) available.\n",
            "We will use the GPU: Tesla T4\n"
          ],
          "name": "stdout"
        }
      ]
    },
    {
      "cell_type": "code",
      "metadata": {
        "id": "Di-2CSfib17y",
        "colab": {
          "base_uri": "https://localhost:8080/"
        },
        "outputId": "5d53df0e-863f-4009-c452-bfbc876c7d03"
      },
      "source": [
        "from google.colab import drive\n",
        "drive.mount('/content/drive')"
      ],
      "execution_count": null,
      "outputs": [
        {
          "output_type": "stream",
          "text": [
            "Mounted at /content/drive\n"
          ],
          "name": "stdout"
        }
      ]
    },
    {
      "cell_type": "code",
      "metadata": {
        "id": "BzKeqoCs3kgA",
        "colab": {
          "base_uri": "https://localhost:8080/"
        },
        "outputId": "1cdb3185-9820-4d1f-9312-c7dad2575eb4"
      },
      "source": [
        "!pip install transformers==2.8.0"
      ],
      "execution_count": null,
      "outputs": [
        {
          "output_type": "stream",
          "text": [
            "Collecting transformers==2.8.0\n",
            "\u001b[?25l  Downloading https://files.pythonhosted.org/packages/a3/78/92cedda05552398352ed9784908b834ee32a0bd071a9b32de287327370b7/transformers-2.8.0-py3-none-any.whl (563kB)\n",
            "\u001b[K     |████████████████████████████████| 573kB 17.9MB/s \n",
            "\u001b[?25hRequirement already satisfied: regex!=2019.12.17 in /usr/local/lib/python3.6/dist-packages (from transformers==2.8.0) (2019.12.20)\n",
            "Collecting sacremoses\n",
            "\u001b[?25l  Downloading https://files.pythonhosted.org/packages/7d/34/09d19aff26edcc8eb2a01bed8e98f13a1537005d31e95233fd48216eed10/sacremoses-0.0.43.tar.gz (883kB)\n",
            "\u001b[K     |████████████████████████████████| 890kB 43.8MB/s \n",
            "\u001b[?25hCollecting sentencepiece\n",
            "\u001b[?25l  Downloading https://files.pythonhosted.org/packages/14/67/e42bd1181472c95c8cda79305df848264f2a7f62740995a46945d9797b67/sentencepiece-0.1.95-cp36-cp36m-manylinux2014_x86_64.whl (1.2MB)\n",
            "\u001b[K     |████████████████████████████████| 1.2MB 52.9MB/s \n",
            "\u001b[?25hCollecting tokenizers==0.5.2\n",
            "\u001b[?25l  Downloading https://files.pythonhosted.org/packages/d1/3f/73c881ea4723e43c1e9acf317cf407fab3a278daab3a69c98dcac511c04f/tokenizers-0.5.2-cp36-cp36m-manylinux1_x86_64.whl (3.7MB)\n",
            "\u001b[K     |████████████████████████████████| 3.7MB 52.8MB/s \n",
            "\u001b[?25hCollecting boto3\n",
            "\u001b[?25l  Downloading https://files.pythonhosted.org/packages/a4/88/788fa9c12396c9b468d3cbddb4dd9196d08abd8a8cddf093d170b5d83b5c/boto3-1.17.12.tar.gz (100kB)\n",
            "\u001b[K     |████████████████████████████████| 102kB 15.1MB/s \n",
            "\u001b[?25hRequirement already satisfied: tqdm>=4.27 in /usr/local/lib/python3.6/dist-packages (from transformers==2.8.0) (4.41.1)\n",
            "Requirement already satisfied: dataclasses; python_version < \"3.7\" in /usr/local/lib/python3.6/dist-packages (from transformers==2.8.0) (0.8)\n",
            "Requirement already satisfied: filelock in /usr/local/lib/python3.6/dist-packages (from transformers==2.8.0) (3.0.12)\n",
            "Requirement already satisfied: requests in /usr/local/lib/python3.6/dist-packages (from transformers==2.8.0) (2.23.0)\n",
            "Requirement already satisfied: numpy in /usr/local/lib/python3.6/dist-packages (from transformers==2.8.0) (1.19.5)\n",
            "Requirement already satisfied: six in /usr/local/lib/python3.6/dist-packages (from sacremoses->transformers==2.8.0) (1.15.0)\n",
            "Requirement already satisfied: click in /usr/local/lib/python3.6/dist-packages (from sacremoses->transformers==2.8.0) (7.1.2)\n",
            "Requirement already satisfied: joblib in /usr/local/lib/python3.6/dist-packages (from sacremoses->transformers==2.8.0) (1.0.0)\n",
            "Collecting botocore<1.21.0,>=1.20.12\n",
            "\u001b[?25l  Downloading https://files.pythonhosted.org/packages/85/78/b71baa2fa2dac70638a360ec6fdb00960134a1b68e895acc12b8f6916da2/botocore-1.20.12-py2.py3-none-any.whl (7.2MB)\n",
            "\u001b[K     |████████████████████████████████| 7.2MB 51.9MB/s \n",
            "\u001b[?25hCollecting jmespath<1.0.0,>=0.7.1\n",
            "  Downloading https://files.pythonhosted.org/packages/07/cb/5f001272b6faeb23c1c9e0acc04d48eaaf5c862c17709d20e3469c6e0139/jmespath-0.10.0-py2.py3-none-any.whl\n",
            "Collecting s3transfer<0.4.0,>=0.3.0\n",
            "\u001b[?25l  Downloading https://files.pythonhosted.org/packages/ea/43/4b4a1b26eb03a429a4c37ca7fdf369d938bd60018fc194e94b8379b0c77c/s3transfer-0.3.4-py2.py3-none-any.whl (69kB)\n",
            "\u001b[K     |████████████████████████████████| 71kB 11.7MB/s \n",
            "\u001b[?25hRequirement already satisfied: urllib3!=1.25.0,!=1.25.1,<1.26,>=1.21.1 in /usr/local/lib/python3.6/dist-packages (from requests->transformers==2.8.0) (1.24.3)\n",
            "Requirement already satisfied: idna<3,>=2.5 in /usr/local/lib/python3.6/dist-packages (from requests->transformers==2.8.0) (2.10)\n",
            "Requirement already satisfied: chardet<4,>=3.0.2 in /usr/local/lib/python3.6/dist-packages (from requests->transformers==2.8.0) (3.0.4)\n",
            "Requirement already satisfied: certifi>=2017.4.17 in /usr/local/lib/python3.6/dist-packages (from requests->transformers==2.8.0) (2020.12.5)\n",
            "Requirement already satisfied: python-dateutil<3.0.0,>=2.1 in /usr/local/lib/python3.6/dist-packages (from botocore<1.21.0,>=1.20.12->boto3->transformers==2.8.0) (2.8.1)\n",
            "Building wheels for collected packages: sacremoses, boto3\n",
            "  Building wheel for sacremoses (setup.py) ... \u001b[?25l\u001b[?25hdone\n",
            "  Created wheel for sacremoses: filename=sacremoses-0.0.43-cp36-none-any.whl size=893261 sha256=40ede09eff4d1c2babf5c06b394dcacce2fb62436c7e1d2d0d8e148f32fe3510\n",
            "  Stored in directory: /root/.cache/pip/wheels/29/3c/fd/7ce5c3f0666dab31a50123635e6fb5e19ceb42ce38d4e58f45\n",
            "  Building wheel for boto3 (setup.py) ... \u001b[?25l\u001b[?25hdone\n",
            "  Created wheel for boto3: filename=boto3-1.17.12-py2.py3-none-any.whl size=128775 sha256=c70408932f6b9c866e46aca90e29e8560e10d1c0b26a996ceb67f59afab93ae5\n",
            "  Stored in directory: /root/.cache/pip/wheels/53/00/be/27e37811c37fe384b780ce89ce3b8e021493b1ab7d19fa71ef\n",
            "Successfully built sacremoses boto3\n",
            "\u001b[31mERROR: botocore 1.20.12 has requirement urllib3<1.27,>=1.25.4, but you'll have urllib3 1.24.3 which is incompatible.\u001b[0m\n",
            "Installing collected packages: sacremoses, sentencepiece, tokenizers, jmespath, botocore, s3transfer, boto3, transformers\n",
            "Successfully installed boto3-1.17.12 botocore-1.20.12 jmespath-0.10.0 s3transfer-0.3.4 sacremoses-0.0.43 sentencepiece-0.1.95 tokenizers-0.5.2 transformers-2.8.0\n"
          ],
          "name": "stdout"
        }
      ]
    },
    {
      "cell_type": "code",
      "metadata": {
        "colab": {
          "base_uri": "https://localhost:8080/"
        },
        "id": "8mNG6fA-53zb",
        "outputId": "32203e7c-efed-4093-dfa8-8a9d1558258e"
      },
      "source": [
        "!pip install tensorflow==1.13.1"
      ],
      "execution_count": null,
      "outputs": [
        {
          "output_type": "stream",
          "text": [
            "Collecting tensorflow==1.13.1\n",
            "\u001b[?25l  Downloading https://files.pythonhosted.org/packages/77/63/a9fa76de8dffe7455304c4ed635be4aa9c0bacef6e0633d87d5f54530c5c/tensorflow-1.13.1-cp36-cp36m-manylinux1_x86_64.whl (92.5MB)\n",
            "\u001b[K     |████████████████████████████████| 92.5MB 46kB/s \n",
            "\u001b[?25hRequirement already satisfied: keras-preprocessing>=1.0.5 in /usr/local/lib/python3.6/dist-packages (from tensorflow==1.13.1) (1.1.2)\n",
            "Requirement already satisfied: gast>=0.2.0 in /usr/local/lib/python3.6/dist-packages (from tensorflow==1.13.1) (0.3.3)\n",
            "Collecting tensorboard<1.14.0,>=1.13.0\n",
            "\u001b[?25l  Downloading https://files.pythonhosted.org/packages/0f/39/bdd75b08a6fba41f098b6cb091b9e8c7a80e1b4d679a581a0ccd17b10373/tensorboard-1.13.1-py3-none-any.whl (3.2MB)\n",
            "\u001b[K     |████████████████████████████████| 3.2MB 49.5MB/s \n",
            "\u001b[?25hRequirement already satisfied: termcolor>=1.1.0 in /usr/local/lib/python3.6/dist-packages (from tensorflow==1.13.1) (1.1.0)\n",
            "Requirement already satisfied: astor>=0.6.0 in /usr/local/lib/python3.6/dist-packages (from tensorflow==1.13.1) (0.8.1)\n",
            "Collecting keras-applications>=1.0.6\n",
            "\u001b[?25l  Downloading https://files.pythonhosted.org/packages/71/e3/19762fdfc62877ae9102edf6342d71b28fbfd9dea3d2f96a882ce099b03f/Keras_Applications-1.0.8-py3-none-any.whl (50kB)\n",
            "\u001b[K     |████████████████████████████████| 51kB 9.7MB/s \n",
            "\u001b[?25hRequirement already satisfied: grpcio>=1.8.6 in /usr/local/lib/python3.6/dist-packages (from tensorflow==1.13.1) (1.32.0)\n",
            "Requirement already satisfied: numpy>=1.13.3 in /usr/local/lib/python3.6/dist-packages (from tensorflow==1.13.1) (1.19.5)\n",
            "Requirement already satisfied: six>=1.10.0 in /usr/local/lib/python3.6/dist-packages (from tensorflow==1.13.1) (1.15.0)\n",
            "Requirement already satisfied: absl-py>=0.1.6 in /usr/local/lib/python3.6/dist-packages (from tensorflow==1.13.1) (0.10.0)\n",
            "Requirement already satisfied: protobuf>=3.6.1 in /usr/local/lib/python3.6/dist-packages (from tensorflow==1.13.1) (3.12.4)\n",
            "Collecting tensorflow-estimator<1.14.0rc0,>=1.13.0\n",
            "\u001b[?25l  Downloading https://files.pythonhosted.org/packages/bb/48/13f49fc3fa0fdf916aa1419013bb8f2ad09674c275b4046d5ee669a46873/tensorflow_estimator-1.13.0-py2.py3-none-any.whl (367kB)\n",
            "\u001b[K     |████████████████████████████████| 368kB 54.2MB/s \n",
            "\u001b[?25hRequirement already satisfied: wheel>=0.26 in /usr/local/lib/python3.6/dist-packages (from tensorflow==1.13.1) (0.36.2)\n",
            "Requirement already satisfied: markdown>=2.6.8 in /usr/local/lib/python3.6/dist-packages (from tensorboard<1.14.0,>=1.13.0->tensorflow==1.13.1) (3.3.3)\n",
            "Requirement already satisfied: werkzeug>=0.11.15 in /usr/local/lib/python3.6/dist-packages (from tensorboard<1.14.0,>=1.13.0->tensorflow==1.13.1) (1.0.1)\n",
            "Requirement already satisfied: h5py in /usr/local/lib/python3.6/dist-packages (from keras-applications>=1.0.6->tensorflow==1.13.1) (2.10.0)\n",
            "Requirement already satisfied: setuptools in /usr/local/lib/python3.6/dist-packages (from protobuf>=3.6.1->tensorflow==1.13.1) (53.0.0)\n",
            "Collecting mock>=2.0.0\n",
            "  Downloading https://files.pythonhosted.org/packages/5c/03/b7e605db4a57c0f6fba744b11ef3ddf4ddebcada35022927a2b5fc623fdf/mock-4.0.3-py3-none-any.whl\n",
            "Requirement already satisfied: importlib-metadata; python_version < \"3.8\" in /usr/local/lib/python3.6/dist-packages (from markdown>=2.6.8->tensorboard<1.14.0,>=1.13.0->tensorflow==1.13.1) (3.4.0)\n",
            "Requirement already satisfied: zipp>=0.5 in /usr/local/lib/python3.6/dist-packages (from importlib-metadata; python_version < \"3.8\"->markdown>=2.6.8->tensorboard<1.14.0,>=1.13.0->tensorflow==1.13.1) (3.4.0)\n",
            "Requirement already satisfied: typing-extensions>=3.6.4; python_version < \"3.8\" in /usr/local/lib/python3.6/dist-packages (from importlib-metadata; python_version < \"3.8\"->markdown>=2.6.8->tensorboard<1.14.0,>=1.13.0->tensorflow==1.13.1) (3.7.4.3)\n",
            "Installing collected packages: tensorboard, keras-applications, mock, tensorflow-estimator, tensorflow\n",
            "  Found existing installation: tensorboard 2.4.1\n",
            "    Uninstalling tensorboard-2.4.1:\n",
            "      Successfully uninstalled tensorboard-2.4.1\n",
            "  Found existing installation: tensorflow-estimator 2.4.0\n",
            "    Uninstalling tensorflow-estimator-2.4.0:\n",
            "      Successfully uninstalled tensorflow-estimator-2.4.0\n",
            "  Found existing installation: tensorflow 2.4.1\n",
            "    Uninstalling tensorflow-2.4.1:\n",
            "      Successfully uninstalled tensorflow-2.4.1\n",
            "Successfully installed keras-applications-1.0.8 mock-4.0.3 tensorboard-1.13.1 tensorflow-1.13.1 tensorflow-estimator-1.13.0\n"
          ],
          "name": "stdout"
        }
      ]
    },
    {
      "cell_type": "code",
      "metadata": {
        "id": "sr_TarOVYOjm"
      },
      "source": [
        "#Preprocessing script required for first time\n",
        "\n",
        "!cp \"/content/drive/MyDrive/Information_retrieval_project/khan_acad/khan_acad_ir_project.csv\" /content"
      ],
      "execution_count": null,
      "outputs": []
    },
    {
      "cell_type": "code",
      "metadata": {
        "id": "mAdSVuPgZS8Q"
      },
      "source": [
        "import re\n",
        "def clean_sentence(question):\n",
        "  # print(question)\n",
        "  question = re.sub('<[^>]*>', ' ',question)\n",
        "  question = re.sub(' +', ' ', question)\n",
        "  question = re.sub('\\xa0','',question)\n",
        "  question = question.rstrip()\n",
        "  question = re.sub('nan','',question)\n",
        "  question = re.sub(u'\\u2004','',question)\n",
        "  question = re.sub(u'\\u2009','',question)\n",
        "  question = re.sub(\"Voiceover:\",\"\",question)\n",
        "  question = re.sub(\"•\",\"\",question)\n",
        "  question = re.sub(\"\\d:\\d\\d\",\"\",question)\n",
        "\n",
        "  question = re.sub(\"\\[Voiceover\\]\",\"\",question)\n",
        "  question = re.sub(\"\\[Instructor\\]\",\"\",question)\n",
        "  question = re.sub(\"\\[Narrator\\]\",\"\",question)\n",
        "\n",
        "  # question = question.decode(\"utf-8\")\n",
        "  # question = question.replace(u'\\u200\\d*','').encode(\"utf-8\")\n",
        "  question = re.sub('&nbsp','',question)\n",
        "  question = re.sub('&ndash','',question)\n",
        "  question = re.sub('\\r','',question)\n",
        "  question = re.sub('\\t','',question)\n",
        "  question = re.sub('\\n',' ',question)\n",
        "\n",
        "  question = re.sub('MathType@.*','',question)\n",
        "  question = re.sub('&thinsp','',question)\n",
        "  question = re.sub('&times','',question)\n",
        "  question = re.sub('\\u200b','',question)\n",
        "  question = re.sub('&rarr;;;','',question)\n",
        "\n",
        "  return question"
      ],
      "execution_count": null,
      "outputs": []
    },
    {
      "cell_type": "code",
      "metadata": {
        "colab": {
          "base_uri": "https://localhost:8080/",
          "height": 402
        },
        "id": "cRZxPmqzY4xp",
        "outputId": "0cb7584a-3364-461e-c7fe-df4b121d24e8"
      },
      "source": [
        "import pandas as pd\n",
        "data = pd.read_csv(\"khan_acad_ir_project.csv\")\n",
        "data\n",
        "output = data[\"video_transcripts\"].apply(lambda x: clean_sentence(x))\n",
        "data[\"video_transcripts\"] = output\n",
        "data = data[[\"video_transcripts\",\"hierarchy\"]]\n",
        "data"
      ],
      "execution_count": null,
      "outputs": [
        {
          "output_type": "execute_result",
          "data": {
            "text/html": [
              "<div>\n",
              "<style scoped>\n",
              "    .dataframe tbody tr th:only-of-type {\n",
              "        vertical-align: middle;\n",
              "    }\n",
              "\n",
              "    .dataframe tbody tr th {\n",
              "        vertical-align: top;\n",
              "    }\n",
              "\n",
              "    .dataframe thead th {\n",
              "        text-align: right;\n",
              "    }\n",
              "</style>\n",
              "<table border=\"1\" class=\"dataframe\">\n",
              "  <thead>\n",
              "    <tr style=\"text-align: right;\">\n",
              "      <th></th>\n",
              "      <th>video_transcripts</th>\n",
              "      <th>hierarchy</th>\n",
              "    </tr>\n",
              "  </thead>\n",
              "  <tbody>\n",
              "    <tr>\n",
              "      <th>0</th>\n",
              "      <td>Here's an example of a nucleophilic addition...</td>\n",
              "      <td>science&gt;&gt;organic-chemistry&gt;&gt;aldehydes-ketones</td>\n",
              "    </tr>\n",
              "    <tr>\n",
              "      <th>1</th>\n",
              "      <td>In the previous video, we saw how to make hy...</td>\n",
              "      <td>science&gt;&gt;organic-chemistry&gt;&gt;aldehydes-ketones</td>\n",
              "    </tr>\n",
              "    <tr>\n",
              "      <th>2</th>\n",
              "      <td>We've already seen how to form hydrates and ...</td>\n",
              "      <td>science&gt;&gt;organic-chemistry&gt;&gt;aldehydes-ketones</td>\n",
              "    </tr>\n",
              "    <tr>\n",
              "      <th>3</th>\n",
              "      <td>If we react an aldehyde, or a ketone, with a...</td>\n",
              "      <td>science&gt;&gt;organic-chemistry&gt;&gt;aldehydes-ketones</td>\n",
              "    </tr>\n",
              "    <tr>\n",
              "      <th>4</th>\n",
              "      <td>We've already seen how to form acetals. If w...</td>\n",
              "      <td>science&gt;&gt;organic-chemistry&gt;&gt;aldehydes-ketones</td>\n",
              "    </tr>\n",
              "    <tr>\n",
              "      <th>...</th>\n",
              "      <td>...</td>\n",
              "      <td>...</td>\n",
              "    </tr>\n",
              "    <tr>\n",
              "      <th>6154</th>\n",
              "      <td>-  Let's multiply 40 times 70. So 40 times, w...</td>\n",
              "      <td>math&gt;&gt;arithmetic-home&gt;&gt;multiply-divide</td>\n",
              "    </tr>\n",
              "    <tr>\n",
              "      <th>6155</th>\n",
              "      <td>-  Let's talk about multiplying by 10, 100, a...</td>\n",
              "      <td>math&gt;&gt;arithmetic-home&gt;&gt;multiply-divide</td>\n",
              "    </tr>\n",
              "    <tr>\n",
              "      <th>6156</th>\n",
              "      <td>When we were first exposed to multiplication ...</td>\n",
              "      <td>math&gt;&gt;arithmetic-home&gt;&gt;arith-review-fractions</td>\n",
              "    </tr>\n",
              "    <tr>\n",
              "      <th>6157</th>\n",
              "      <td>My wife and I have recently purchased an asso...</td>\n",
              "      <td>math&gt;&gt;arithmetic-home&gt;&gt;arith-review-fractions</td>\n",
              "    </tr>\n",
              "    <tr>\n",
              "      <th>6158</th>\n",
              "      <td>We've already seen that a fraction like 2/9 c...</td>\n",
              "      <td>math&gt;&gt;arithmetic-home&gt;&gt;arith-review-fractions</td>\n",
              "    </tr>\n",
              "  </tbody>\n",
              "</table>\n",
              "<p>6159 rows × 2 columns</p>\n",
              "</div>"
            ],
            "text/plain": [
              "                                      video_transcripts                                      hierarchy\n",
              "0       Here's an example of a nucleophilic addition...  science>>organic-chemistry>>aldehydes-ketones\n",
              "1       In the previous video, we saw how to make hy...  science>>organic-chemistry>>aldehydes-ketones\n",
              "2       We've already seen how to form hydrates and ...  science>>organic-chemistry>>aldehydes-ketones\n",
              "3       If we react an aldehyde, or a ketone, with a...  science>>organic-chemistry>>aldehydes-ketones\n",
              "4       We've already seen how to form acetals. If w...  science>>organic-chemistry>>aldehydes-ketones\n",
              "...                                                 ...                                            ...\n",
              "6154   -  Let's multiply 40 times 70. So 40 times, w...         math>>arithmetic-home>>multiply-divide\n",
              "6155   -  Let's talk about multiplying by 10, 100, a...         math>>arithmetic-home>>multiply-divide\n",
              "6156   When we were first exposed to multiplication ...  math>>arithmetic-home>>arith-review-fractions\n",
              "6157   My wife and I have recently purchased an asso...  math>>arithmetic-home>>arith-review-fractions\n",
              "6158   We've already seen that a fraction like 2/9 c...  math>>arithmetic-home>>arith-review-fractions\n",
              "\n",
              "[6159 rows x 2 columns]"
            ]
          },
          "metadata": {
            "tags": []
          },
          "execution_count": 65
        }
      ]
    },
    {
      "cell_type": "code",
      "metadata": {
        "id": "nX-cUMCrhCAG"
      },
      "source": [
        "from sklearn.model_selection import train_test_split\n",
        "train,val = train_test_split(data,test_size=0.15)"
      ],
      "execution_count": null,
      "outputs": []
    },
    {
      "cell_type": "code",
      "metadata": {
        "id": "wz0UT3xrnuiP"
      },
      "source": [
        "train,test = train_test_split(train,test_size=0.20)"
      ],
      "execution_count": null,
      "outputs": []
    },
    {
      "cell_type": "code",
      "metadata": {
        "colab": {
          "base_uri": "https://localhost:8080/",
          "height": 402
        },
        "id": "5c9B_ZRdm_nV",
        "outputId": "625b01d4-4888-4a75-f650-d634b8475429"
      },
      "source": [
        "val"
      ],
      "execution_count": null,
      "outputs": [
        {
          "output_type": "execute_result",
          "data": {
            "text/html": [
              "<div>\n",
              "<style scoped>\n",
              "    .dataframe tbody tr th:only-of-type {\n",
              "        vertical-align: middle;\n",
              "    }\n",
              "\n",
              "    .dataframe tbody tr th {\n",
              "        vertical-align: top;\n",
              "    }\n",
              "\n",
              "    .dataframe thead th {\n",
              "        text-align: right;\n",
              "    }\n",
              "</style>\n",
              "<table border=\"1\" class=\"dataframe\">\n",
              "  <thead>\n",
              "    <tr style=\"text-align: right;\">\n",
              "      <th></th>\n",
              "      <th>video_transcripts</th>\n",
              "      <th>hierarchy</th>\n",
              "    </tr>\n",
              "  </thead>\n",
              "  <tbody>\n",
              "    <tr>\n",
              "      <th>2111</th>\n",
              "      <td>Find the probability of rolling doubles on tw...</td>\n",
              "      <td>math&gt;&gt;precalculus&gt;&gt;x9e81a4f98389efdf:prob-comb</td>\n",
              "    </tr>\n",
              "    <tr>\n",
              "      <th>1633</th>\n",
              "      <td>After the food is swallowed, it leaves the m...</td>\n",
              "      <td>science&gt;&gt;health-and-medicine&gt;&gt;human-anatomy-an...</td>\n",
              "    </tr>\n",
              "    <tr>\n",
              "      <th>5365</th>\n",
              "      <td>Let's now talk about what is easily one of th...</td>\n",
              "      <td>math&gt;&gt;geometry&gt;&gt;hs-geo-trig</td>\n",
              "    </tr>\n",
              "    <tr>\n",
              "      <th>2517</th>\n",
              "      <td>The goal in this video is to essentially prov...</td>\n",
              "      <td>science&gt;&gt;chemistry&gt;&gt;thermodynamics-chemistry</td>\n",
              "    </tr>\n",
              "    <tr>\n",
              "      <th>3665</th>\n",
              "      <td>A line goes through the points (-1, 6) and (5...</td>\n",
              "      <td>math&gt;&gt;in-in-grade-11-ncert&gt;&gt;in-in-class11-stra...</td>\n",
              "    </tr>\n",
              "    <tr>\n",
              "      <th>...</th>\n",
              "      <td>...</td>\n",
              "      <td>...</td>\n",
              "    </tr>\n",
              "    <tr>\n",
              "      <th>2465</th>\n",
              "      <td>-  As long as human beings have been around I...</td>\n",
              "      <td>science&gt;&gt;ap-biology&gt;&gt;gene-expression-and-regul...</td>\n",
              "    </tr>\n",
              "    <tr>\n",
              "      <th>5214</th>\n",
              "      <td>Let's see if we can multiply 9 times 0.6. Or ...</td>\n",
              "      <td>math&gt;&gt;6th-engage-ny&gt;&gt;engage-6th-module-2</td>\n",
              "    </tr>\n",
              "    <tr>\n",
              "      <th>5480</th>\n",
              "      <td>-  So let's say that we have y is equal to th...</td>\n",
              "      <td>math&gt;&gt;calculus-all-old&gt;&gt;taking-derivatives-calc</td>\n",
              "    </tr>\n",
              "    <tr>\n",
              "      <th>5600</th>\n",
              "      <td>-  What I want to do in this video is see if ...</td>\n",
              "      <td>math&gt;&gt;old-ap-calculus-ab&gt;&gt;ab-accumulation-riem...</td>\n",
              "    </tr>\n",
              "    <tr>\n",
              "      <th>1552</th>\n",
              "      <td>-  In this video, I'm going to introduce you ...</td>\n",
              "      <td>math&gt;&gt;cc-fifth-grade-math&gt;&gt;powers-of-ten</td>\n",
              "    </tr>\n",
              "  </tbody>\n",
              "</table>\n",
              "<p>924 rows × 2 columns</p>\n",
              "</div>"
            ],
            "text/plain": [
              "                                      video_transcripts                                          hierarchy\n",
              "2111   Find the probability of rolling doubles on tw...     math>>precalculus>>x9e81a4f98389efdf:prob-comb\n",
              "1633    After the food is swallowed, it leaves the m...  science>>health-and-medicine>>human-anatomy-an...\n",
              "5365   Let's now talk about what is easily one of th...                        math>>geometry>>hs-geo-trig\n",
              "2517   The goal in this video is to essentially prov...       science>>chemistry>>thermodynamics-chemistry\n",
              "3665   A line goes through the points (-1, 6) and (5...  math>>in-in-grade-11-ncert>>in-in-class11-stra...\n",
              "...                                                 ...                                                ...\n",
              "2465   -  As long as human beings have been around I...  science>>ap-biology>>gene-expression-and-regul...\n",
              "5214   Let's see if we can multiply 9 times 0.6. Or ...           math>>6th-engage-ny>>engage-6th-module-2\n",
              "5480   -  So let's say that we have y is equal to th...    math>>calculus-all-old>>taking-derivatives-calc\n",
              "5600   -  What I want to do in this video is see if ...  math>>old-ap-calculus-ab>>ab-accumulation-riem...\n",
              "1552   -  In this video, I'm going to introduce you ...           math>>cc-fifth-grade-math>>powers-of-ten\n",
              "\n",
              "[924 rows x 2 columns]"
            ]
          },
          "metadata": {
            "tags": []
          },
          "execution_count": 68
        }
      ]
    },
    {
      "cell_type": "code",
      "metadata": {
        "colab": {
          "base_uri": "https://localhost:8080/",
          "height": 402
        },
        "id": "Q0_s4Mznn2MU",
        "outputId": "b6af3aa2-72ef-4fa6-c3fc-214e4b6876db"
      },
      "source": [
        "train"
      ],
      "execution_count": null,
      "outputs": [
        {
          "output_type": "execute_result",
          "data": {
            "text/html": [
              "<div>\n",
              "<style scoped>\n",
              "    .dataframe tbody tr th:only-of-type {\n",
              "        vertical-align: middle;\n",
              "    }\n",
              "\n",
              "    .dataframe tbody tr th {\n",
              "        vertical-align: top;\n",
              "    }\n",
              "\n",
              "    .dataframe thead th {\n",
              "        text-align: right;\n",
              "    }\n",
              "</style>\n",
              "<table border=\"1\" class=\"dataframe\">\n",
              "  <thead>\n",
              "    <tr style=\"text-align: right;\">\n",
              "      <th></th>\n",
              "      <th>video_transcripts</th>\n",
              "      <th>hierarchy</th>\n",
              "    </tr>\n",
              "  </thead>\n",
              "  <tbody>\n",
              "    <tr>\n",
              "      <th>166</th>\n",
              "      <td>In the last couple of videos we saw that we c...</td>\n",
              "      <td>math&gt;&gt;multivariable-calculus&gt;&gt;multivariable-de...</td>\n",
              "    </tr>\n",
              "    <tr>\n",
              "      <th>3556</th>\n",
              "      <td>-  What we're going to do in this video is gi...</td>\n",
              "      <td>science&gt;&gt;ap-biology&gt;&gt;natural-selection</td>\n",
              "    </tr>\n",
              "    <tr>\n",
              "      <th>5435</th>\n",
              "      <td>So once again, we have three equal, or we say...</td>\n",
              "      <td>math&gt;&gt;pre-algebra&gt;&gt;pre-algebra-equations-expre...</td>\n",
              "    </tr>\n",
              "    <tr>\n",
              "      <th>2184</th>\n",
              "      <td>-  Liz's math test included a survey question...</td>\n",
              "      <td>math&gt;&gt;engageny-alg-1&gt;&gt;alg1-2</td>\n",
              "    </tr>\n",
              "    <tr>\n",
              "      <th>5848</th>\n",
              "      <td>- The following two equations form a linear s...</td>\n",
              "      <td>math&gt;&gt;algebra-home&gt;&gt;alg-system-of-equations</td>\n",
              "    </tr>\n",
              "    <tr>\n",
              "      <th>...</th>\n",
              "      <td>...</td>\n",
              "      <td>...</td>\n",
              "    </tr>\n",
              "    <tr>\n",
              "      <th>1498</th>\n",
              "      <td>-  Hello everyone. So this is what I might ca...</td>\n",
              "      <td>math&gt;&gt;multivariable-calculus&gt;&gt;multivariable-de...</td>\n",
              "    </tr>\n",
              "    <tr>\n",
              "      <th>4886</th>\n",
              "      <td>-  Let's try now to subtract some two-digit n...</td>\n",
              "      <td>math&gt;&gt;early-math&gt;&gt;cc-early-math-add-sub-100</td>\n",
              "    </tr>\n",
              "    <tr>\n",
              "      <th>5371</th>\n",
              "      <td>- Let's say that I have a circle. My best att...</td>\n",
              "      <td>math&gt;&gt;engageny-geo&gt;&gt;geo-5</td>\n",
              "    </tr>\n",
              "    <tr>\n",
              "      <th>5247</th>\n",
              "      <td>- So let's look at the female reproductive cy...</td>\n",
              "      <td>science&gt;&gt;health-and-medicine&gt;&gt;human-anatomy-an...</td>\n",
              "    </tr>\n",
              "    <tr>\n",
              "      <th>2912</th>\n",
              "      <td>-  We're now in the home stretch. We just hav...</td>\n",
              "      <td>math&gt;&gt;multivariable-calculus&gt;&gt;greens-theorem-a...</td>\n",
              "    </tr>\n",
              "  </tbody>\n",
              "</table>\n",
              "<p>4188 rows × 2 columns</p>\n",
              "</div>"
            ],
            "text/plain": [
              "                                      video_transcripts                                          hierarchy\n",
              "166    In the last couple of videos we saw that we c...  math>>multivariable-calculus>>multivariable-de...\n",
              "3556   -  What we're going to do in this video is gi...             science>>ap-biology>>natural-selection\n",
              "5435   So once again, we have three equal, or we say...  math>>pre-algebra>>pre-algebra-equations-expre...\n",
              "2184   -  Liz's math test included a survey question...                       math>>engageny-alg-1>>alg1-2\n",
              "5848   - The following two equations form a linear s...        math>>algebra-home>>alg-system-of-equations\n",
              "...                                                 ...                                                ...\n",
              "1498   -  Hello everyone. So this is what I might ca...  math>>multivariable-calculus>>multivariable-de...\n",
              "4886   -  Let's try now to subtract some two-digit n...        math>>early-math>>cc-early-math-add-sub-100\n",
              "5371   - Let's say that I have a circle. My best att...                          math>>engageny-geo>>geo-5\n",
              "5247   - So let's look at the female reproductive cy...  science>>health-and-medicine>>human-anatomy-an...\n",
              "2912   -  We're now in the home stretch. We just hav...  math>>multivariable-calculus>>greens-theorem-a...\n",
              "\n",
              "[4188 rows x 2 columns]"
            ]
          },
          "metadata": {
            "tags": []
          },
          "execution_count": 69
        }
      ]
    },
    {
      "cell_type": "code",
      "metadata": {
        "colab": {
          "base_uri": "https://localhost:8080/",
          "height": 402
        },
        "id": "LLDKtNTnmwre",
        "outputId": "d160b868-b0c8-4627-dac4-2c7522de57c5"
      },
      "source": [
        "test"
      ],
      "execution_count": null,
      "outputs": [
        {
          "output_type": "execute_result",
          "data": {
            "text/html": [
              "<div>\n",
              "<style scoped>\n",
              "    .dataframe tbody tr th:only-of-type {\n",
              "        vertical-align: middle;\n",
              "    }\n",
              "\n",
              "    .dataframe tbody tr th {\n",
              "        vertical-align: top;\n",
              "    }\n",
              "\n",
              "    .dataframe thead th {\n",
              "        text-align: right;\n",
              "    }\n",
              "</style>\n",
              "<table border=\"1\" class=\"dataframe\">\n",
              "  <thead>\n",
              "    <tr style=\"text-align: right;\">\n",
              "      <th></th>\n",
              "      <th>video_transcripts</th>\n",
              "      <th>hierarchy</th>\n",
              "    </tr>\n",
              "  </thead>\n",
              "  <tbody>\n",
              "    <tr>\n",
              "      <th>5576</th>\n",
              "      <td>-  What I hope to do in this video is get fam...</td>\n",
              "      <td>math&gt;&gt;math1&gt;&gt;x89d82521517266d4:functions</td>\n",
              "    </tr>\n",
              "    <tr>\n",
              "      <th>4317</th>\n",
              "      <td>In the last video we were able to set up this...</td>\n",
              "      <td>math&gt;&gt;old-ap-calculus-ab&gt;&gt;ab-applications-defi...</td>\n",
              "    </tr>\n",
              "    <tr>\n",
              "      <th>3261</th>\n",
              "      <td>-  In previous videos we talk about GDP as th...</td>\n",
              "      <td>economics-finance-domain&gt;&gt;ap-macroeconomics&gt;&gt;e...</td>\n",
              "    </tr>\n",
              "    <tr>\n",
              "      <th>2342</th>\n",
              "      <td>-  So what we're gonna do in this video is se...</td>\n",
              "      <td>math&gt;&gt;old-integral-calculus&gt;&gt;definite-integral...</td>\n",
              "    </tr>\n",
              "    <tr>\n",
              "      <th>3892</th>\n",
              "      <td>-  So I've said that if you have a vector fie...</td>\n",
              "      <td>math&gt;&gt;multivariable-calculus&gt;&gt;multivariable-de...</td>\n",
              "    </tr>\n",
              "    <tr>\n",
              "      <th>...</th>\n",
              "      <td>...</td>\n",
              "      <td>...</td>\n",
              "    </tr>\n",
              "    <tr>\n",
              "      <th>439</th>\n",
              "      <td>In the last video, we saw that if a vector fi...</td>\n",
              "      <td>math&gt;&gt;multivariable-calculus&gt;&gt;integrating-mult...</td>\n",
              "    </tr>\n",
              "    <tr>\n",
              "      <th>3733</th>\n",
              "      <td>So I have the function g of x is equal to 9 t...</td>\n",
              "      <td>math&gt;&gt;algebra-home&gt;&gt;alg-sequences</td>\n",
              "    </tr>\n",
              "    <tr>\n",
              "      <th>2767</th>\n",
              "      <td>Let's see if we can get a little bit more pra...</td>\n",
              "      <td>science&gt;&gt;in-in-class11th-physics&gt;&gt;in-in-system...</td>\n",
              "    </tr>\n",
              "    <tr>\n",
              "      <th>4802</th>\n",
              "      <td>Find the probability of rolling even numbers ...</td>\n",
              "      <td>math&gt;&gt;precalculus&gt;&gt;x9e81a4f98389efdf:prob-comb</td>\n",
              "    </tr>\n",
              "    <tr>\n",
              "      <th>508</th>\n",
              "      <td>-  In the last video we began to see some pre...</td>\n",
              "      <td>science&gt;&gt;biology&gt;&gt;dna-as-the-genetic-material</td>\n",
              "    </tr>\n",
              "  </tbody>\n",
              "</table>\n",
              "<p>1047 rows × 2 columns</p>\n",
              "</div>"
            ],
            "text/plain": [
              "                                      video_transcripts                                          hierarchy\n",
              "5576   -  What I hope to do in this video is get fam...           math>>math1>>x89d82521517266d4:functions\n",
              "4317   In the last video we were able to set up this...  math>>old-ap-calculus-ab>>ab-applications-defi...\n",
              "3261   -  In previous videos we talk about GDP as th...  economics-finance-domain>>ap-macroeconomics>>e...\n",
              "2342   -  So what we're gonna do in this video is se...  math>>old-integral-calculus>>definite-integral...\n",
              "3892   -  So I've said that if you have a vector fie...  math>>multivariable-calculus>>multivariable-de...\n",
              "...                                                 ...                                                ...\n",
              "439    In the last video, we saw that if a vector fi...  math>>multivariable-calculus>>integrating-mult...\n",
              "3733   So I have the function g of x is equal to 9 t...                  math>>algebra-home>>alg-sequences\n",
              "2767   Let's see if we can get a little bit more pra...  science>>in-in-class11th-physics>>in-in-system...\n",
              "4802   Find the probability of rolling even numbers ...     math>>precalculus>>x9e81a4f98389efdf:prob-comb\n",
              "508    -  In the last video we began to see some pre...      science>>biology>>dna-as-the-genetic-material\n",
              "\n",
              "[1047 rows x 2 columns]"
            ]
          },
          "metadata": {
            "tags": []
          },
          "execution_count": 70
        }
      ]
    },
    {
      "cell_type": "code",
      "metadata": {
        "id": "5Dp9M3U2oLqQ"
      },
      "source": [
        "train.to_csv(\"train_khan_acad.csv\",index=False)\n",
        "test.to_csv(\"test_khan_acad.csv\",index=False)\n",
        "val.to_csv(\"val_khan_acad.csv\",index=False)"
      ],
      "execution_count": null,
      "outputs": []
    },
    {
      "cell_type": "code",
      "metadata": {
        "id": "hYy-5y0WoW8l"
      },
      "source": [
        "!cp train_khan_acad.csv \"/content/drive/MyDrive/Information_retrieval_project/khan_acad/\"\n",
        "!cp test_khan_acad.csv \"/content/drive/MyDrive/Information_retrieval_project/khan_acad/\"\n",
        "!cp val_khan_acad.csv \"/content/drive/MyDrive/Information_retrieval_project/khan_acad/\""
      ],
      "execution_count": null,
      "outputs": []
    },
    {
      "cell_type": "code",
      "metadata": {
        "id": "uqzhuo9vbqmb"
      },
      "source": [
        "!cp \"/content/drive/MyDrive/Information_retrieval_project/QC_science/train_khan_acad.csv\" /content\n",
        "!cp \"/content/drive/MyDrive/Information_retrieval_project/QC_science/test_khan_acad.csv\" /content\n",
        "!cp \"/content/drive/MyDrive/Information_retrieval_project/QC_science/val_khan_acad.csv\" /content\n"
      ],
      "execution_count": null,
      "outputs": []
    },
    {
      "cell_type": "code",
      "metadata": {
        "id": "GsADhaO93kgD",
        "colab": {
          "base_uri": "https://localhost:8080/",
          "height": 402
        },
        "outputId": "cda0e44b-df76-4cc6-c95c-7bb7f8e34e46"
      },
      "source": [
        "import pandas as pd\n",
        "train_data = pd.read_csv(\"train_khan_acad.csv\")\n",
        "test_data = pd.read_csv(\"test_khan_acad.csv\")\n",
        "val_data = pd.read_csv(\"val_khan_acad.csv\")\n",
        "train_data\n"
      ],
      "execution_count": null,
      "outputs": [
        {
          "output_type": "execute_result",
          "data": {
            "text/html": [
              "<div>\n",
              "<style scoped>\n",
              "    .dataframe tbody tr th:only-of-type {\n",
              "        vertical-align: middle;\n",
              "    }\n",
              "\n",
              "    .dataframe tbody tr th {\n",
              "        vertical-align: top;\n",
              "    }\n",
              "\n",
              "    .dataframe thead th {\n",
              "        text-align: right;\n",
              "    }\n",
              "</style>\n",
              "<table border=\"1\" class=\"dataframe\">\n",
              "  <thead>\n",
              "    <tr style=\"text-align: right;\">\n",
              "      <th></th>\n",
              "      <th>video_transcripts</th>\n",
              "      <th>hierarchy</th>\n",
              "    </tr>\n",
              "  </thead>\n",
              "  <tbody>\n",
              "    <tr>\n",
              "      <th>0</th>\n",
              "      <td>In the last couple of videos we saw that we c...</td>\n",
              "      <td>math&gt;&gt;multivariable-calculus&gt;&gt;multivariable-de...</td>\n",
              "    </tr>\n",
              "    <tr>\n",
              "      <th>1</th>\n",
              "      <td>-  What we're going to do in this video is gi...</td>\n",
              "      <td>science&gt;&gt;ap-biology&gt;&gt;natural-selection</td>\n",
              "    </tr>\n",
              "    <tr>\n",
              "      <th>2</th>\n",
              "      <td>So once again, we have three equal, or we say...</td>\n",
              "      <td>math&gt;&gt;pre-algebra&gt;&gt;pre-algebra-equations-expre...</td>\n",
              "    </tr>\n",
              "    <tr>\n",
              "      <th>3</th>\n",
              "      <td>-  Liz's math test included a survey question...</td>\n",
              "      <td>math&gt;&gt;engageny-alg-1&gt;&gt;alg1-2</td>\n",
              "    </tr>\n",
              "    <tr>\n",
              "      <th>4</th>\n",
              "      <td>- The following two equations form a linear s...</td>\n",
              "      <td>math&gt;&gt;algebra-home&gt;&gt;alg-system-of-equations</td>\n",
              "    </tr>\n",
              "    <tr>\n",
              "      <th>...</th>\n",
              "      <td>...</td>\n",
              "      <td>...</td>\n",
              "    </tr>\n",
              "    <tr>\n",
              "      <th>4183</th>\n",
              "      <td>-  Hello everyone. So this is what I might ca...</td>\n",
              "      <td>math&gt;&gt;multivariable-calculus&gt;&gt;multivariable-de...</td>\n",
              "    </tr>\n",
              "    <tr>\n",
              "      <th>4184</th>\n",
              "      <td>-  Let's try now to subtract some two-digit n...</td>\n",
              "      <td>math&gt;&gt;early-math&gt;&gt;cc-early-math-add-sub-100</td>\n",
              "    </tr>\n",
              "    <tr>\n",
              "      <th>4185</th>\n",
              "      <td>- Let's say that I have a circle. My best att...</td>\n",
              "      <td>math&gt;&gt;engageny-geo&gt;&gt;geo-5</td>\n",
              "    </tr>\n",
              "    <tr>\n",
              "      <th>4186</th>\n",
              "      <td>- So let's look at the female reproductive cy...</td>\n",
              "      <td>science&gt;&gt;health-and-medicine&gt;&gt;human-anatomy-an...</td>\n",
              "    </tr>\n",
              "    <tr>\n",
              "      <th>4187</th>\n",
              "      <td>-  We're now in the home stretch. We just hav...</td>\n",
              "      <td>math&gt;&gt;multivariable-calculus&gt;&gt;greens-theorem-a...</td>\n",
              "    </tr>\n",
              "  </tbody>\n",
              "</table>\n",
              "<p>4188 rows × 2 columns</p>\n",
              "</div>"
            ],
            "text/plain": [
              "                                      video_transcripts                                          hierarchy\n",
              "0      In the last couple of videos we saw that we c...  math>>multivariable-calculus>>multivariable-de...\n",
              "1      -  What we're going to do in this video is gi...             science>>ap-biology>>natural-selection\n",
              "2      So once again, we have three equal, or we say...  math>>pre-algebra>>pre-algebra-equations-expre...\n",
              "3      -  Liz's math test included a survey question...                       math>>engageny-alg-1>>alg1-2\n",
              "4      - The following two equations form a linear s...        math>>algebra-home>>alg-system-of-equations\n",
              "...                                                 ...                                                ...\n",
              "4183   -  Hello everyone. So this is what I might ca...  math>>multivariable-calculus>>multivariable-de...\n",
              "4184   -  Let's try now to subtract some two-digit n...        math>>early-math>>cc-early-math-add-sub-100\n",
              "4185   - Let's say that I have a circle. My best att...                          math>>engageny-geo>>geo-5\n",
              "4186   - So let's look at the female reproductive cy...  science>>health-and-medicine>>human-anatomy-an...\n",
              "4187   -  We're now in the home stretch. We just hav...  math>>multivariable-calculus>>greens-theorem-a...\n",
              "\n",
              "[4188 rows x 2 columns]"
            ]
          },
          "metadata": {
            "tags": []
          },
          "execution_count": 73
        }
      ]
    },
    {
      "cell_type": "code",
      "metadata": {
        "id": "iQhO6qqt6lge"
      },
      "source": [
        "from google.colab import files"
      ],
      "execution_count": null,
      "outputs": []
    },
    {
      "cell_type": "code",
      "metadata": {
        "id": "gWOeBaD23kga",
        "colab": {
          "base_uri": "https://localhost:8080/"
        },
        "outputId": "622df3e8-f498-4a38-c78f-d180cc5d9d39"
      },
      "source": [
        "train_data[\"hierarchy\"].value_counts()"
      ],
      "execution_count": null,
      "outputs": [
        {
          "output_type": "execute_result",
          "data": {
            "text/plain": [
              "science>>health-and-medicine>>circulatory-system-diseases             99\n",
              "science>>health-and-medicine>>human-anatomy-and-physiology            65\n",
              "science>>health-and-medicine>>respiratory-system-diseases             55\n",
              "science>>health-and-medicine>>circulatory-system                      54\n",
              "science>>health-and-medicine>>infectious-diseases                     52\n",
              "                                                                      ..\n",
              "math>>algebra-basics>>alg-basics-expressions-with-exponents            1\n",
              "science>>ap-physics-1>>ap-one-dimensional-motion                       1\n",
              "math>>precalculus>>x9e81a4f98389efdf:vectors                           1\n",
              "math>>4th-grade-foundations-engageny>>4th-m5-engage-ny-foundations     1\n",
              "math>>old-ap-calculus-ab>>ab-derivatives-advanced                      1\n",
              "Name: hierarchy, Length: 569, dtype: int64"
            ]
          },
          "metadata": {
            "tags": []
          },
          "execution_count": 75
        }
      ]
    },
    {
      "cell_type": "code",
      "metadata": {
        "id": "kNrGNk8f3kgh"
      },
      "source": [
        "# final_data_1 = final_data.loc[0:71003,:]\n",
        "# final_data_1"
      ],
      "execution_count": null,
      "outputs": []
    },
    {
      "cell_type": "code",
      "metadata": {
        "id": "-gDXqGDyKQoy"
      },
      "source": [
        "!mv model_save_categorized_reduced_khan_acad \"/content/drive/MyDrive/Information_retrieval_project/khan_acad/\""
      ],
      "execution_count": null,
      "outputs": []
    },
    {
      "cell_type": "code",
      "metadata": {
        "id": "MoqsPzCDGj50"
      },
      "source": [
        "!cp -r \"/content/drive/My Drive/research_lo_content_taxonomy_classification/model_save_categorized_reduced_nov\" /content/"
      ],
      "execution_count": null,
      "outputs": []
    },
    {
      "cell_type": "code",
      "metadata": {
        "id": "FIrS5sxE3kgk",
        "colab": {
          "base_uri": "https://localhost:8080/",
          "height": 315,
          "referenced_widgets": [
            "b2b7f889d2c442e9bb9a6ff6918bf9ee",
            "d3dd53d8b41d46cda3fd0a7316c563a3",
            "93e82f983a4247758f4d5e61ead14fde",
            "b7aba79a7cfd4e16a51c20df4d32905d",
            "f9540bd040bf493fb19699d450ee2208",
            "6d728545a237418eaeeec91b2ee4d6f6",
            "d96a6725c2fe44e585a4e85e9c21e346",
            "a6d0b7d2bfcd43f3932f4ef60cb82b76"
          ]
        },
        "outputId": "18d2e744-7acb-4285-c8f6-9d1f555ed70e"
      },
      "source": [
        "from transformers import BertTokenizer\n",
        "\n",
        "# Load the BERT tokenizer.\n",
        "print('Loading BERT tokenizer...')\n",
        "tokenizer = BertTokenizer.from_pretrained('bert-base-uncased', do_lower_case=True)"
      ],
      "execution_count": null,
      "outputs": [
        {
          "output_type": "stream",
          "text": [
            "/usr/local/lib/python3.6/dist-packages/tensorflow/python/framework/dtypes.py:526: FutureWarning: Passing (type, 1) or '1type' as a synonym of type is deprecated; in a future version of numpy, it will be understood as (type, (1,)) / '(1,)type'.\n",
            "  _np_qint8 = np.dtype([(\"qint8\", np.int8, 1)])\n",
            "/usr/local/lib/python3.6/dist-packages/tensorflow/python/framework/dtypes.py:527: FutureWarning: Passing (type, 1) or '1type' as a synonym of type is deprecated; in a future version of numpy, it will be understood as (type, (1,)) / '(1,)type'.\n",
            "  _np_quint8 = np.dtype([(\"quint8\", np.uint8, 1)])\n",
            "/usr/local/lib/python3.6/dist-packages/tensorflow/python/framework/dtypes.py:528: FutureWarning: Passing (type, 1) or '1type' as a synonym of type is deprecated; in a future version of numpy, it will be understood as (type, (1,)) / '(1,)type'.\n",
            "  _np_qint16 = np.dtype([(\"qint16\", np.int16, 1)])\n",
            "/usr/local/lib/python3.6/dist-packages/tensorflow/python/framework/dtypes.py:529: FutureWarning: Passing (type, 1) or '1type' as a synonym of type is deprecated; in a future version of numpy, it will be understood as (type, (1,)) / '(1,)type'.\n",
            "  _np_quint16 = np.dtype([(\"quint16\", np.uint16, 1)])\n",
            "/usr/local/lib/python3.6/dist-packages/tensorflow/python/framework/dtypes.py:530: FutureWarning: Passing (type, 1) or '1type' as a synonym of type is deprecated; in a future version of numpy, it will be understood as (type, (1,)) / '(1,)type'.\n",
            "  _np_qint32 = np.dtype([(\"qint32\", np.int32, 1)])\n",
            "/usr/local/lib/python3.6/dist-packages/tensorflow/python/framework/dtypes.py:535: FutureWarning: Passing (type, 1) or '1type' as a synonym of type is deprecated; in a future version of numpy, it will be understood as (type, (1,)) / '(1,)type'.\n",
            "  np_resource = np.dtype([(\"resource\", np.ubyte, 1)])\n"
          ],
          "name": "stderr"
        },
        {
          "output_type": "stream",
          "text": [
            "Loading BERT tokenizer...\n"
          ],
          "name": "stdout"
        },
        {
          "output_type": "display_data",
          "data": {
            "application/vnd.jupyter.widget-view+json": {
              "model_id": "b2b7f889d2c442e9bb9a6ff6918bf9ee",
              "version_minor": 0,
              "version_major": 2
            },
            "text/plain": [
              "HBox(children=(FloatProgress(value=0.0, description='Downloading', max=231508.0, style=ProgressStyle(descripti…"
            ]
          },
          "metadata": {
            "tags": []
          }
        },
        {
          "output_type": "stream",
          "text": [
            "\n"
          ],
          "name": "stdout"
        }
      ]
    },
    {
      "cell_type": "code",
      "metadata": {
        "id": "-mgc72PQYV1Y",
        "colab": {
          "base_uri": "https://localhost:8080/"
        },
        "outputId": "72fbbc58-67c5-4b03-8abe-fbf4cdaff99f"
      },
      "source": [
        "test_data[\"hierarchy\"].value_counts()"
      ],
      "execution_count": null,
      "outputs": [
        {
          "output_type": "execute_result",
          "data": {
            "text/plain": [
              "science>>health-and-medicine>>human-anatomy-and-physiology    24\n",
              "science>>health-and-medicine>>circulatory-system-diseases     22\n",
              "science>>health-and-medicine>>circulatory-system              17\n",
              "math>>algebra-home>>alg-polynomials                           11\n",
              "science>>biology>>crash-course-bio-ecology                    11\n",
              "                                                              ..\n",
              "math>>ap-statistics>>inference-slope-linear-regression         1\n",
              "science>>physics>>thermodynamics                               1\n",
              "math>>old-integral-calculus>>indefinite-integrals              1\n",
              "math>>ap-calculus-ab>>ab-limits-new                            1\n",
              "science>>chemistry>>chemical-bonds                             1\n",
              "Name: hierarchy, Length: 416, dtype: int64"
            ]
          },
          "metadata": {
            "tags": []
          },
          "execution_count": 77
        }
      ]
    },
    {
      "cell_type": "code",
      "metadata": {
        "id": "j3lYOb2K3kgy",
        "colab": {
          "base_uri": "https://localhost:8080/",
          "height": 195
        },
        "outputId": "f3a780b4-b547-471f-b288-cbe51b1a14f4"
      },
      "source": [
        "\n",
        "from sklearn.preprocessing import LabelEncoder\n",
        "\n",
        "LE = LabelEncoder()\n",
        "LE.fit_transform(pd.concat([train_data['hierarchy'],test_data['hierarchy']]))\n",
        "train_data['label'] = LE.transform(train_data['hierarchy'])\n",
        "train_data.head()"
      ],
      "execution_count": null,
      "outputs": [
        {
          "output_type": "execute_result",
          "data": {
            "text/html": [
              "<div>\n",
              "<style scoped>\n",
              "    .dataframe tbody tr th:only-of-type {\n",
              "        vertical-align: middle;\n",
              "    }\n",
              "\n",
              "    .dataframe tbody tr th {\n",
              "        vertical-align: top;\n",
              "    }\n",
              "\n",
              "    .dataframe thead th {\n",
              "        text-align: right;\n",
              "    }\n",
              "</style>\n",
              "<table border=\"1\" class=\"dataframe\">\n",
              "  <thead>\n",
              "    <tr style=\"text-align: right;\">\n",
              "      <th></th>\n",
              "      <th>video_transcripts</th>\n",
              "      <th>hierarchy</th>\n",
              "      <th>label</th>\n",
              "    </tr>\n",
              "  </thead>\n",
              "  <tbody>\n",
              "    <tr>\n",
              "      <th>0</th>\n",
              "      <td>In the last couple of videos we saw that we c...</td>\n",
              "      <td>math&gt;&gt;multivariable-calculus&gt;&gt;multivariable-de...</td>\n",
              "      <td>354</td>\n",
              "    </tr>\n",
              "    <tr>\n",
              "      <th>1</th>\n",
              "      <td>-  What we're going to do in this video is gi...</td>\n",
              "      <td>science&gt;&gt;ap-biology&gt;&gt;natural-selection</td>\n",
              "      <td>422</td>\n",
              "    </tr>\n",
              "    <tr>\n",
              "      <th>2</th>\n",
              "      <td>So once again, we have three equal, or we say...</td>\n",
              "      <td>math&gt;&gt;pre-algebra&gt;&gt;pre-algebra-equations-expre...</td>\n",
              "      <td>384</td>\n",
              "    </tr>\n",
              "    <tr>\n",
              "      <th>3</th>\n",
              "      <td>-  Liz's math test included a survey question...</td>\n",
              "      <td>math&gt;&gt;engageny-alg-1&gt;&gt;alg1-2</td>\n",
              "      <td>231</td>\n",
              "    </tr>\n",
              "    <tr>\n",
              "      <th>4</th>\n",
              "      <td>- The following two equations form a linear s...</td>\n",
              "      <td>math&gt;&gt;algebra-home&gt;&gt;alg-system-of-equations</td>\n",
              "      <td>99</td>\n",
              "    </tr>\n",
              "  </tbody>\n",
              "</table>\n",
              "</div>"
            ],
            "text/plain": [
              "                                   video_transcripts  ... label\n",
              "0   In the last couple of videos we saw that we c...  ...   354\n",
              "1   -  What we're going to do in this video is gi...  ...   422\n",
              "2   So once again, we have three equal, or we say...  ...   384\n",
              "3   -  Liz's math test included a survey question...  ...   231\n",
              "4   - The following two equations form a linear s...  ...    99\n",
              "\n",
              "[5 rows x 3 columns]"
            ]
          },
          "metadata": {
            "tags": []
          },
          "execution_count": 78
        }
      ]
    },
    {
      "cell_type": "code",
      "metadata": {
        "id": "wp64MkNB3kg1"
      },
      "source": [
        "def get_labels(prediction):\n",
        "    predicted_label =  LE.inverse_transform([prediction])\n",
        "    return predicted_label[0]"
      ],
      "execution_count": null,
      "outputs": []
    },
    {
      "cell_type": "code",
      "metadata": {
        "id": "uPgTmJPS3kg4",
        "colab": {
          "base_uri": "https://localhost:8080/",
          "height": 35
        },
        "outputId": "8fe416a4-80bd-437d-81b6-20942119121a"
      },
      "source": [
        "get_labels(204)"
      ],
      "execution_count": null,
      "outputs": [
        {
          "output_type": "execute_result",
          "data": {
            "application/vnd.google.colaboratory.intrinsic+json": {
              "type": "string"
            },
            "text/plain": [
              "'math>>cc-seventh-grade-math>>cc-7th-fractions-decimals'"
            ]
          },
          "metadata": {
            "tags": []
          },
          "execution_count": 80
        }
      ]
    },
    {
      "cell_type": "code",
      "metadata": {
        "id": "I_UpqLMG3kg9",
        "colab": {
          "base_uri": "https://localhost:8080/",
          "height": 35
        },
        "outputId": "1947905d-c552-4ffc-8a3c-bce540cc6803"
      },
      "source": [
        "train_data.iloc[14,1]"
      ],
      "execution_count": null,
      "outputs": [
        {
          "output_type": "execute_result",
          "data": {
            "application/vnd.google.colaboratory.intrinsic+json": {
              "type": "string"
            },
            "text/plain": [
              "'economics-finance-domain>>macroeconomics>>monetary-system-topic'"
            ]
          },
          "metadata": {
            "tags": []
          },
          "execution_count": 81
        }
      ]
    },
    {
      "cell_type": "code",
      "metadata": {
        "id": "z5a3P7jSZZ6B",
        "colab": {
          "base_uri": "https://localhost:8080/",
          "height": 402
        },
        "outputId": "044a7c29-c006-44dc-c249-86147a41c162"
      },
      "source": [
        "train_data"
      ],
      "execution_count": null,
      "outputs": [
        {
          "output_type": "execute_result",
          "data": {
            "text/html": [
              "<div>\n",
              "<style scoped>\n",
              "    .dataframe tbody tr th:only-of-type {\n",
              "        vertical-align: middle;\n",
              "    }\n",
              "\n",
              "    .dataframe tbody tr th {\n",
              "        vertical-align: top;\n",
              "    }\n",
              "\n",
              "    .dataframe thead th {\n",
              "        text-align: right;\n",
              "    }\n",
              "</style>\n",
              "<table border=\"1\" class=\"dataframe\">\n",
              "  <thead>\n",
              "    <tr style=\"text-align: right;\">\n",
              "      <th></th>\n",
              "      <th>video_transcripts</th>\n",
              "      <th>hierarchy</th>\n",
              "      <th>label</th>\n",
              "    </tr>\n",
              "  </thead>\n",
              "  <tbody>\n",
              "    <tr>\n",
              "      <th>0</th>\n",
              "      <td>In the last couple of videos we saw that we c...</td>\n",
              "      <td>math&gt;&gt;multivariable-calculus&gt;&gt;multivariable-de...</td>\n",
              "      <td>354</td>\n",
              "    </tr>\n",
              "    <tr>\n",
              "      <th>1</th>\n",
              "      <td>-  What we're going to do in this video is gi...</td>\n",
              "      <td>science&gt;&gt;ap-biology&gt;&gt;natural-selection</td>\n",
              "      <td>422</td>\n",
              "    </tr>\n",
              "    <tr>\n",
              "      <th>2</th>\n",
              "      <td>So once again, we have three equal, or we say...</td>\n",
              "      <td>math&gt;&gt;pre-algebra&gt;&gt;pre-algebra-equations-expre...</td>\n",
              "      <td>384</td>\n",
              "    </tr>\n",
              "    <tr>\n",
              "      <th>3</th>\n",
              "      <td>-  Liz's math test included a survey question...</td>\n",
              "      <td>math&gt;&gt;engageny-alg-1&gt;&gt;alg1-2</td>\n",
              "      <td>231</td>\n",
              "    </tr>\n",
              "    <tr>\n",
              "      <th>4</th>\n",
              "      <td>- The following two equations form a linear s...</td>\n",
              "      <td>math&gt;&gt;algebra-home&gt;&gt;alg-system-of-equations</td>\n",
              "      <td>99</td>\n",
              "    </tr>\n",
              "    <tr>\n",
              "      <th>...</th>\n",
              "      <td>...</td>\n",
              "      <td>...</td>\n",
              "      <td>...</td>\n",
              "    </tr>\n",
              "    <tr>\n",
              "      <th>4183</th>\n",
              "      <td>-  Hello everyone. So this is what I might ca...</td>\n",
              "      <td>math&gt;&gt;multivariable-calculus&gt;&gt;multivariable-de...</td>\n",
              "      <td>354</td>\n",
              "    </tr>\n",
              "    <tr>\n",
              "      <th>4184</th>\n",
              "      <td>-  Let's try now to subtract some two-digit n...</td>\n",
              "      <td>math&gt;&gt;early-math&gt;&gt;cc-early-math-add-sub-100</td>\n",
              "      <td>226</td>\n",
              "    </tr>\n",
              "    <tr>\n",
              "      <th>4185</th>\n",
              "      <td>- Let's say that I have a circle. My best att...</td>\n",
              "      <td>math&gt;&gt;engageny-geo&gt;&gt;geo-5</td>\n",
              "      <td>240</td>\n",
              "    </tr>\n",
              "    <tr>\n",
              "      <th>4186</th>\n",
              "      <td>- So let's look at the female reproductive cy...</td>\n",
              "      <td>science&gt;&gt;health-and-medicine&gt;&gt;human-anatomy-an...</td>\n",
              "      <td>497</td>\n",
              "    </tr>\n",
              "    <tr>\n",
              "      <th>4187</th>\n",
              "      <td>-  We're now in the home stretch. We just hav...</td>\n",
              "      <td>math&gt;&gt;multivariable-calculus&gt;&gt;greens-theorem-a...</td>\n",
              "      <td>352</td>\n",
              "    </tr>\n",
              "  </tbody>\n",
              "</table>\n",
              "<p>4188 rows × 3 columns</p>\n",
              "</div>"
            ],
            "text/plain": [
              "                                      video_transcripts  ... label\n",
              "0      In the last couple of videos we saw that we c...  ...   354\n",
              "1      -  What we're going to do in this video is gi...  ...   422\n",
              "2      So once again, we have three equal, or we say...  ...   384\n",
              "3      -  Liz's math test included a survey question...  ...   231\n",
              "4      - The following two equations form a linear s...  ...    99\n",
              "...                                                 ...  ...   ...\n",
              "4183   -  Hello everyone. So this is what I might ca...  ...   354\n",
              "4184   -  Let's try now to subtract some two-digit n...  ...   226\n",
              "4185   - Let's say that I have a circle. My best att...  ...   240\n",
              "4186   - So let's look at the female reproductive cy...  ...   497\n",
              "4187   -  We're now in the home stretch. We just hav...  ...   352\n",
              "\n",
              "[4188 rows x 3 columns]"
            ]
          },
          "metadata": {
            "tags": []
          },
          "execution_count": 82
        }
      ]
    },
    {
      "cell_type": "code",
      "metadata": {
        "id": "tv66iiNHYcDP",
        "colab": {
          "base_uri": "https://localhost:8080/",
          "height": 195
        },
        "outputId": "b341b22c-1de1-4909-efa4-c495feb8e15d"
      },
      "source": [
        "# LE_test = LabelEncoder()\n",
        "\n",
        "test_data['label'] = LE.transform(test_data['hierarchy'])\n",
        "test_data.head()"
      ],
      "execution_count": null,
      "outputs": [
        {
          "output_type": "execute_result",
          "data": {
            "text/html": [
              "<div>\n",
              "<style scoped>\n",
              "    .dataframe tbody tr th:only-of-type {\n",
              "        vertical-align: middle;\n",
              "    }\n",
              "\n",
              "    .dataframe tbody tr th {\n",
              "        vertical-align: top;\n",
              "    }\n",
              "\n",
              "    .dataframe thead th {\n",
              "        text-align: right;\n",
              "    }\n",
              "</style>\n",
              "<table border=\"1\" class=\"dataframe\">\n",
              "  <thead>\n",
              "    <tr style=\"text-align: right;\">\n",
              "      <th></th>\n",
              "      <th>video_transcripts</th>\n",
              "      <th>hierarchy</th>\n",
              "      <th>label</th>\n",
              "    </tr>\n",
              "  </thead>\n",
              "  <tbody>\n",
              "    <tr>\n",
              "      <th>0</th>\n",
              "      <td>-  What I hope to do in this video is get fam...</td>\n",
              "      <td>math&gt;&gt;math1&gt;&gt;x89d82521517266d4:functions</td>\n",
              "      <td>335</td>\n",
              "    </tr>\n",
              "    <tr>\n",
              "      <th>1</th>\n",
              "      <td>In the last video we were able to set up this...</td>\n",
              "      <td>math&gt;&gt;old-ap-calculus-ab&gt;&gt;ab-applications-defi...</td>\n",
              "      <td>357</td>\n",
              "    </tr>\n",
              "    <tr>\n",
              "      <th>2</th>\n",
              "      <td>-  In previous videos we talk about GDP as th...</td>\n",
              "      <td>economics-finance-domain&gt;&gt;ap-macroeconomics&gt;&gt;e...</td>\n",
              "      <td>3</td>\n",
              "    </tr>\n",
              "    <tr>\n",
              "      <th>3</th>\n",
              "      <td>-  So what we're gonna do in this video is se...</td>\n",
              "      <td>math&gt;&gt;old-integral-calculus&gt;&gt;definite-integral...</td>\n",
              "      <td>378</td>\n",
              "    </tr>\n",
              "    <tr>\n",
              "      <th>4</th>\n",
              "      <td>-  So I've said that if you have a vector fie...</td>\n",
              "      <td>math&gt;&gt;multivariable-calculus&gt;&gt;multivariable-de...</td>\n",
              "      <td>354</td>\n",
              "    </tr>\n",
              "  </tbody>\n",
              "</table>\n",
              "</div>"
            ],
            "text/plain": [
              "                                   video_transcripts  ... label\n",
              "0   -  What I hope to do in this video is get fam...  ...   335\n",
              "1   In the last video we were able to set up this...  ...   357\n",
              "2   -  In previous videos we talk about GDP as th...  ...     3\n",
              "3   -  So what we're gonna do in this video is se...  ...   378\n",
              "4   -  So I've said that if you have a vector fie...  ...   354\n",
              "\n",
              "[5 rows x 3 columns]"
            ]
          },
          "metadata": {
            "tags": []
          },
          "execution_count": 84
        }
      ]
    },
    {
      "cell_type": "code",
      "metadata": {
        "id": "U7Cvydgc-oAe",
        "colab": {
          "base_uri": "https://localhost:8080/",
          "height": 195
        },
        "outputId": "30c63746-1d2f-4428-c5d8-de4a70d4d2b8"
      },
      "source": [
        "val_data['label'] = LE.transform(val_data['hierarchy'])\n",
        "val_data.head()"
      ],
      "execution_count": null,
      "outputs": [
        {
          "output_type": "execute_result",
          "data": {
            "text/html": [
              "<div>\n",
              "<style scoped>\n",
              "    .dataframe tbody tr th:only-of-type {\n",
              "        vertical-align: middle;\n",
              "    }\n",
              "\n",
              "    .dataframe tbody tr th {\n",
              "        vertical-align: top;\n",
              "    }\n",
              "\n",
              "    .dataframe thead th {\n",
              "        text-align: right;\n",
              "    }\n",
              "</style>\n",
              "<table border=\"1\" class=\"dataframe\">\n",
              "  <thead>\n",
              "    <tr style=\"text-align: right;\">\n",
              "      <th></th>\n",
              "      <th>video_transcripts</th>\n",
              "      <th>hierarchy</th>\n",
              "      <th>label</th>\n",
              "    </tr>\n",
              "  </thead>\n",
              "  <tbody>\n",
              "    <tr>\n",
              "      <th>0</th>\n",
              "      <td>Find the probability of rolling doubles on tw...</td>\n",
              "      <td>math&gt;&gt;precalculus&gt;&gt;x9e81a4f98389efdf:prob-comb</td>\n",
              "      <td>395</td>\n",
              "    </tr>\n",
              "    <tr>\n",
              "      <th>1</th>\n",
              "      <td>After the food is swallowed, it leaves the m...</td>\n",
              "      <td>science&gt;&gt;health-and-medicine&gt;&gt;human-anatomy-an...</td>\n",
              "      <td>497</td>\n",
              "    </tr>\n",
              "    <tr>\n",
              "      <th>2</th>\n",
              "      <td>Let's now talk about what is easily one of th...</td>\n",
              "      <td>math&gt;&gt;geometry&gt;&gt;hs-geo-trig</td>\n",
              "      <td>256</td>\n",
              "    </tr>\n",
              "    <tr>\n",
              "      <th>3</th>\n",
              "      <td>The goal in this video is to essentially prov...</td>\n",
              "      <td>science&gt;&gt;chemistry&gt;&gt;thermodynamics-chemistry</td>\n",
              "      <td>472</td>\n",
              "    </tr>\n",
              "    <tr>\n",
              "      <th>4</th>\n",
              "      <td>A line goes through the points (-1, 6) and (5...</td>\n",
              "      <td>math&gt;&gt;in-in-grade-11-ncert&gt;&gt;in-in-class11-stra...</td>\n",
              "      <td>304</td>\n",
              "    </tr>\n",
              "  </tbody>\n",
              "</table>\n",
              "</div>"
            ],
            "text/plain": [
              "                                   video_transcripts  ... label\n",
              "0   Find the probability of rolling doubles on tw...  ...   395\n",
              "1    After the food is swallowed, it leaves the m...  ...   497\n",
              "2   Let's now talk about what is easily one of th...  ...   256\n",
              "3   The goal in this video is to essentially prov...  ...   472\n",
              "4   A line goes through the points (-1, 6) and (5...  ...   304\n",
              "\n",
              "[5 rows x 3 columns]"
            ]
          },
          "metadata": {
            "tags": []
          },
          "execution_count": 85
        }
      ]
    },
    {
      "cell_type": "code",
      "metadata": {
        "id": "lqTUkuPo3khA"
      },
      "source": [
        "train_features, test_features, train_labels, test_labels = train_data[\"video_transcripts\"],test_data[\"video_transcripts\"],train_data[\"label\"],test_data[\"label\"]\n",
        "val_features,val_labels = val_data[\"video_transcripts\"], val_data[\"label\"]"
      ],
      "execution_count": null,
      "outputs": []
    },
    {
      "cell_type": "code",
      "metadata": {
        "id": "prM_km_83khD",
        "colab": {
          "base_uri": "https://localhost:8080/"
        },
        "outputId": "fe2ddbce-790d-47c9-ab8f-6cd3279331c1"
      },
      "source": [
        "train_labels.value_counts()"
      ],
      "execution_count": null,
      "outputs": [
        {
          "output_type": "execute_result",
          "data": {
            "text/plain": [
              "489    99\n",
              "497    65\n",
              "505    55\n",
              "488    54\n",
              "498    52\n",
              "       ..\n",
              "382     1\n",
              "359     1\n",
              "195     1\n",
              "471     1\n",
              "216     1\n",
              "Name: label, Length: 569, dtype: int64"
            ]
          },
          "metadata": {
            "tags": []
          },
          "execution_count": 87
        }
      ]
    },
    {
      "cell_type": "code",
      "metadata": {
        "id": "qfhPstXJ03oz",
        "colab": {
          "base_uri": "https://localhost:8080/"
        },
        "outputId": "5fa86095-67f8-46cc-8f63-c712751909bd"
      },
      "source": [
        "test_labels.value_counts()"
      ],
      "execution_count": null,
      "outputs": [
        {
          "output_type": "execute_result",
          "data": {
            "text/plain": [
              "497    24\n",
              "489    22\n",
              "488    17\n",
              "93     11\n",
              "485    11\n",
              "       ..\n",
              "192     1\n",
              "191     1\n",
              "398     1\n",
              "187     1\n",
              "291     1\n",
              "Name: label, Length: 416, dtype: int64"
            ]
          },
          "metadata": {
            "tags": []
          },
          "execution_count": 88
        }
      ]
    },
    {
      "cell_type": "code",
      "metadata": {
        "colab": {
          "base_uri": "https://localhost:8080/",
          "height": 35
        },
        "id": "teV3IYQbLIks",
        "outputId": "236b7c8b-31be-4300-aabc-111a819fb82c"
      },
      "source": [
        "get_labels(268)"
      ],
      "execution_count": null,
      "outputs": [
        {
          "output_type": "execute_result",
          "data": {
            "application/vnd.google.colaboratory.intrinsic+json": {
              "type": "string"
            },
            "text/plain": [
              "'math>>in-in-class-3rd-math-cbse>>x80b2f4aa70819288:represent-and-interpret-data'"
            ]
          },
          "metadata": {
            "tags": []
          },
          "execution_count": 89
        }
      ]
    },
    {
      "cell_type": "code",
      "metadata": {
        "id": "AkyM7gqv3khI"
      },
      "source": [
        "question_answer = train_features.values\n",
        "categories = train_labels.values"
      ],
      "execution_count": null,
      "outputs": []
    },
    {
      "cell_type": "code",
      "metadata": {
        "id": "tFkS_H_83khL",
        "colab": {
          "base_uri": "https://localhost:8080/"
        },
        "outputId": "7d9fc47b-f1fb-482c-b437-608e70b811de"
      },
      "source": [
        "question_answer"
      ],
      "execution_count": null,
      "outputs": [
        {
          "output_type": "execute_result",
          "data": {
            "text/plain": [
              "array([\" In the last couple of videos we saw that we can describe a curves by a position vector-valued function. And in very general terms, it would be the x position as a function of time times the unit vector in the horizontal direction. Plus the y position as a function of time times the unit victor in the vertical direction. And this will essentially describe this-- though, if you can imagine a particle and let's say the parameter t represents time. It'll describe where the particle is at any given time. And if we wanted a particular curve we can say, well, this only applies for some curve-- we're dealing, it's r of t. And it's only applicable between t being greater than a and less than b. And you know, that would describe some curve in two dimensions. Just me just draw it here. This is all a review of really, the last two videos. So this curve, it might look something like that where this is where t is equal to a. That's where t is equal to b. And so r of a will be this vector right here that ends at that point. And then as t or if you can imagine the parameter being time, it doesn't have to be time, but that's a convenient one to visualize. Each corresponding as t gets larger and larger, we're just going to different-- we're specifying different points on the path. We saw that two videos ago. And in the last video we thought about, well, what does it mean to take the derivative of a vector-valued function? And we came up with this idea that-- and it wasn't an idea, we actually showed it to be true. We came up with a definition really. That the derivative-- I could call it r prime of t-- and it's going to be a vector. The derivative of a vector-valued function is once again going to be a derivative. But it was equal to-- the way we defined it-- x prime of t times i plus y prime of t times j. Or another way to write that and I'll just write all the different ways just so you get familiar with-- dr/dt is equal to dx/dt. This is just a standard derivative. x of t is a scalar function. So this is a standard derivative times i plus dy/dt times j. And if we wanted to think about the differential, one thing that we can think about-- and whenever I do the math for the differential it's a little bit hand wavy. I'm not being very rigorous. But if you imagine multiplying both sides of the equation by a very small dt or this exact dt, you would get dr is equal to-- I'll just leave it like this. dx/dt times dt. I could make these cancel out, but I'll just write it like this first. Times the unit vector i plus dy/dt times dt. Times the unit vector j. Or we could rewrite this. And I'm just rewriting it in all of the different ways that one can rewrite it. You could also write this as dr is equal to x prime of t dt times the unit vector i. So this was x prime of t dt. This is x prime of t right there times the unit vector i. Plus y prime of t. That's just that right there. Times dt. Times the unit vector j. And just to, I guess, complete the trifecta, the other way that we could write this is that dr is equal to-- if we just allowed these to cancel out, then we get is equal to dx times i plus dy times dy y times j. And that actually makes a lot of intuitive sense. That if I look at any dr, so let's say I look at the change between this vector and this vector. Let's say the super small change right there, that is our dr, and it's made up of-- it's our dx, our change in x is that right there. You can imagine it's that right there times-- but we're vectorizing it by multiplying it by the unit vector in the horizontal direction. Plus dy times the unit vector in the vertical direction. So when you multiply this distance times the unit vector, you're essentially getting this vector. And when you multiply this guy-- and actually our change in y here is negative-- you're going to get this vector right here. So when you add those together you'll get your change in your actual position vector. So that was all a little bit of background. And this might be somewhat useful-- a future video from now. Actually, I'm going to leave it there because really I just wanted to introduce this notation and get you familiar with it. In the next video, what I'm going to do is give you a little bit more intuition for what exactly does this thing mean? And how does it change depending on different parameterizations. And I'll do it with two different parameterizations for the same curve.\",\n",
              "       \" -  What we're going to do in this video is give ourselves a little bit of a tour of eukaryotic cells. And the first place to start is just to remind ourselves what it means for a cell to be eukaryotic. It means that inside the cell, there are membrane-bound organelles. Now, what does that mean? Well, you could view it as sub-compartments within the cell. Membrane-bound organelles. And in this video in particular, we're going to highlight some of these membrane-bound organelles that make the cells eukaryotic. So let's just start with some of the ingredients that we know is true of all cells. So you'll have your cellular membrane here. I drew it big, so that we have a lot of space to draw things in. So this is our cellular membrane. I'll do some nice shading so you appreciate that it'll actually be three-dimensional. We see so many slices of cells that sometimes we forget that they are more spherical, or that they have three-dimensional shape to them. They're not all spherical. They can have different shapes. Now all cells, and there are some exceptions that we've talked about in previous videos. I should say, most cells will have some genetic information in them in the form of DNA. So that is our DNA, right over there. Now, one of the key characteristics of a eukaryotic cell is that the genetic information is going to be inside a membrane-bound organelle. And that membrane-bound organelle, or the membrane that surrounds the DNA here, that is the nuclear membrane. So let me draw the nuclear membrane right over here, and I'll put some shading in to appreciate that that also is going to be in three dimensions, around the DNA. So that is the first membrane-bound organelle that we're gonna discuss, the nucleus. Now the nucleus, it turns out, is connected to another membrane-bound organelle. And we're gonna study this in future videos, but right here I'm drawing holes or pores in the nuclear membrane. And those pores connect to something, it's a very fancy word called the endoplasmic reticulum. And the endoplasmic reticulum is essentially these layers of these membranes. So I'm gonna do my best job at trying to draw an endoplasmic reticulum. Imagine extending from these pores, going into a space that has really these layered membranes that have a lot of surface area. And I'm not gonna go all the way around this nucleus, but in many cells it will go around, all the way around the nucleus. And this right over here, and this is just a rough diagram. That is our endoplasmic, endoplasmic... Not blasmic, endoplasmic... Endoplasmic reticulum, which I've mentioned in previous videos would be an excellent name for a band. And what goes on in the endoplasmic reticulum is when you are in the process of taking that genetic information from DNA, and as we talk about in other videos it gets transcribed into mRNA. So that mRNA is now containing that information. That mRNA will make its way out of that nuclear membrane through one of these pores, and then make its way to a ribosome that is attached to the membrane of the endoplasmic reticulum. And so that's a ribosome there. I'm gonna do a bunch of ribosomes. And so as we've talked about in previous videos, ribosomes are really where you take that genetic information from that mRNA, and then you translate it into a protein. So the ribosomes are the protein synthesis, so let me label that. So this right over here is a ribosome. And some ribosomes might be attached to the endoplasmic reticulum. Some of them might just be floating out here in the cytoplasm, so that would be a free ribosome. Free ribosome. And even from the point of view of the endoplasmic reticulum, the parts of the endoplasmic reticulum where you have ribosomes attached, this is known as rough endoplasmic reticulum. It's the ribosomes that are making them rough. It looks that way in a microscope. So I'll just say rough ER, for endoplasmic reticulum for short. And then you also have parts of the endoplasmic reticulum where you do not have ribosomes attached. And because that looks smooth through our microscope, it has been called, you can imagine, smooth endoplasmic reticulum. There are things known as golgi bodies. Once again, another fascinating name. You gotta love these names in biology. That look kind of like an endoplasmic reticulum, but detached from the nuclear membrane. So let's say it's something like that. That's my best drawing there. That's a golgi body. And these are really good at packaging molecules, even proteins that might've just been produced, and packaging them so that they can be used outside of the cell, for example. And we'll go into detail in other videos, where a protein might go to the golgi body, get a little envelope around it, get some little processing going on, and then make its way outside of a cell. Now another, and this is maybe one of the most famous membrane-bound organelles outside of the nucleus, is what's known as the powerhouse of the cell, and that is the mitochondria. So I'll draw this mitochondria in magenta, because that's a nice powerful color. So mitochondria. And I love mitochondria because it's fascinating how they even came to be. Mitochondria actually have their own DNA, and all of your mitochondrial DNA comes from your mother. So that's actually very interesting for tracing maternal lineage. But mitochondria, this is where your, I'm gonna say let's see what we could see inside of this. This is where you ATP is produced. This is your mitochondria. It's really the powerhouse of the cell. What's interesting about mitochondria is evolutionary biologists believe that the ancestors of mitochondria, because mitochondria have their own DNA, they might've been independent organisms, independent cells. And at some point in our evolutionary past, they started living in symbiosis inside of what would be the ancestors of our cells. And over time, they became so codependent that they started to replicate together. And mitochondria, in fact, became part of these eukaryotic cells. Now if this eukaryotic cell was a plant cell or maybe an algae cell, you would have something called chloroplasts there. We don't have them because we don't have photosynthesis, but this is a chloroplast. And if you could see inside, you could see the little thylakoid stacks right over here. You could see the thylakoids if you could see inside. And so this right over here is a chloroplast. Chloroplast. And this would be plants and algae. Animals do not have these. And these are where you have your photosynthesis take place. Photosynthesis. Now there's also some membrane-bound organelles that are maybe less famous than the mitochondria or the chloroplast, or for sure the nucleus, and that might be something like a vacuole. And in plants, vacuoles tend to be very big. I could draw it, this is three-dimensional so I'll draw it on top of something that I've drawn before. So if a vacuole right over here, this is a... And in a plant it could be a fairly significant compartment inside. And in fact, it can even give structure to the plant itself because it is so big. And it contains water and enzymes. It's viewed as kind of a storage compartment. But it can also contain enzymes that help digest things, that help break things down so that they can be used in some way. So that is a vacuole. And they don't just exist in plants. They can also exist in animal cells. But in plant cells, they can be very, very, very visible. Now, something that is somewhat related to some of the function that a vacuole plays, that are most associated with animal cells but now there's evidence that they also exist in plant cells, is the idea of a lysosome. So a lysosome right over here, that also is a compartment. And it's going to contain a whole series of enzymes in it that is useful for lysing, you could say, that is useful for breaking down either waste products as the cell lives, or even foreign substances that might not be helpful for the cells. So it's gonna contain a bunch of enzymes, and it helps break down things. Now, I'll leave you there. These aren't all of the structures in eukaryotic cells, but these are enough of the structures so that you can appreciate that there are a lot of membrane-bound organelles in eukaryotic cells. And to be clear, even if I were to show all of the membrane-bound structures, that's not all the complexity of the cell. The big thing to appreciate is that cells are incredibly complex. There's all sorts of structures in here that help transport things and move things around. If you could shrink yourself down and look inside of a cell, it would look more complex than the most complex cities. There's all sorts of activities, things being moved around, shuttled around. The cell itself is replicating and copying things. And so this is just the beginning. We're just starting to scratch the surface of the complexity of the most basic unit of life.\",\n",
              "       \" So once again, we have three equal, or we say three identical objects. They all have the same mass, but we don't know what the mass is of each of them. But what we do know is that if you total up their mass, it's the same exact mass as these nine objects right over here. And each of these nine objects have a mass of 1 kilograms. So in total, you have 9 kilograms on this side. And over here, you have three objects. They all have the same mass. And we don't know what it is. We're just calling that mass x. And what I want to do here is try to tackle this a little bit more symbolically. In the last video, we said, hey, why don't we just multiply 1/3 of this and multiply 1/3 of this? And then, essentially, we're going to keep things balanced, because we're taking 1/3 of the same mass. This total is the same as this total. That's why the scale is balanced. Now, let's think about how we can represent this symbolically. So the first thing I want you to think about is, can we set up an equation that expresses that we have these three things of mass x, and that in total, their mass is equal to the total mass over here? Can we express that as an equation? And I'll give you a few seconds to do it. Well, let's think about it. Over here, we have three things with mass x. So their total mass, we could write as-- we could write their total mass as x plus x plus x. And over here, we have nine things with mass of 1 kilogram. I guess we could write 1 plus 1 plus 1. That's 3. Plus 1 plus 1 plus 1 plus 1. How many is that? 1, 2, 3, 4, 5, 6, 7, 8, 9. And actually, this is a mathematical representation. If we set it up as an equation, it's an algebraic representation. It's not the simplest possible way we can do it, but it is a reasonable way to do it. If we want, we can say, well, if I have an x plus another x plus another x, I have three x's. So I could rewrite this as 3x. And 3x will be equal to? Well, if I sum up all of these 1's right over here-- 1 plus 1 plus 1. We're doing that. We have 9 of them, so we get 3x is equal to 9. And let me make sure I did that. 1, 2, 3, 4, 5, 6, 7, 8, 9. So that's how we would set it up. And so the next question is, what would we do? What can we do mathematically? Actually, to either one of these equations, but we'll focus on this one right now. What can we do mathematically in order to essentially solve for the x? In order to figure out what that mystery mass actually is? And I'll give you another second or two to think about it. Well, when we did it the last time with just the scales we said, OK, we've got three of these x's here. We want to have just one x here. So we can say, whatever this x is, if the scale stays balanced, it's going to be the same as whatever we have there. There might be a temptation to subtract two of the x's maybe from this side, but that won't help us. And we can even see it mathematically over here. If we subtract two x's from both sides, on the left-hand side you're going to have 3x minus 2x. And on the right-hand side, you're going to have 9 minus 2x. And you're just going to be left with 3 of something minus 2 something is just 1 of something. So you will just have an x there if you get rid of two of them. But on the right-hand side, you're going to get 9 minus 2 x's. So the x's still didn't help you out. You still have a mystery mass on the right-hand side. So that doesn't help. So instead, what we say is-- and we did this the last time. We said, well, what if we took 1/3 of these things? If we take 1/3 of these things and take 1/3 of these things, we should still get the same mass on both sides because the original things had the same mass. And the equivalent of doing that mathematically is to say, why don't we multiply both sides by 1/3? Or another way to say it is we could divide both sides by 3. Multiplying by 1/3 is the same thing as dividing by 3. So we're going to multiply both sides by 1/3. When you multiply both sides by 1/3-- visually over here, if you had three x's, you multiply it by 1/3, you're only going to have one x left. If you have nine of these one-kilogram boxes, you multiply it by 1/3, you're only going to have three left. And over here, you can even visually-- if you divide by 3, which is the same thing as multiplying by 1/3, you divide by 3. So you divide by 3. You have an x is equal to a 1 plus 1 plus 1. An x is equal to 3. Or you see here, an x is equal to 3. Over here you do the math. 1/3 times 3 is 1. You're left with 1x. So you're left with x is equal to 9 times 1/3. Or you could even view it as 9 divided by 3, which is equal to 3.\",\n",
              "       ...,\n",
              "       ' - Let\\'s say that I have a circle. My best attempt to draw a reasonably perfect circle. So, there you go, not too bad, it\\'s a little bit of a hairy circle but you get the idea. So, this is a circle, this is the center of the circle, and let\\'s say that I have an arc along this circle. So, I\\'ll do the arc in green. So, I have an arc that is part of the circle, and it subtends an angle, so that\\'s my arc. Right over there, and it subtends an angle, and the angle that it subtends, so what I mean subtends, you take each of the endpoints of the arc, go to the center of the circle, go to the center of the circle just like this, and so it subtends angle theta, right over here, so it subtends angle theta, and let\\'s say that we know that angle theta is equal to two radians. So my question to you is what fraction of the entire circumference is this green arc? What fraction of the entire circumference is this green arc? And like always, pause the video, and give it a go. (laughs) All right, so let\\'s think through it a little bit. So, you might say well how do I know that, I don\\'t know what the radius of this thing is, I don\\'t, how do I think through this? And we just have to remind ourselves what radians mean, what radians mean. If an arc subtends the angle of two radians, that means that the arc itself is two \"radiuseseses\" long. (laughs) So, this right over here, let me make this a little clearer, so this, if the radius is r, if this radius is, I already used that color, if this radius... I have trouble switching colors (laughs) all right. If this radius is length r, then the length, if this angle is two radians, then the arc that subtends it is going to be two radiuses long, so this length right over here, is two radiuses. Now, what fraction of the entire circumference is that? Well, the entire circumference, we know, we know this from basic geometry, the entire circumference is two pi times the radius, or you can say it\\'s two pi radii, two pi \"radiuseses\", (laughs) two pi radii is the correct way to say it. So, what fraction is it? It\\'s two radii, it\\'s two radii, over two pi radii, over two pi radii, twos cancel out, rs cancel out, and so it is one \"pith\", (laughs) I guess you could say, it is one over pi of the total circumference.',\n",
              "       \" - So let's look at the female reproductive cycle. The female reproductive cycle refers to the maturation of eggs within the ovaries. The ovaries initially created these eggs during gestation. In other words, when a baby girl is in her mother's womb, the baby girl's entire egg supply will be created but will remain in an inactive state. This process of egg creation is called oogenesis. Then, once she grows up a bit and reaches puberty, her reproductive cycle will start, and one egg in that egg supply in her ovaries will mature or become activated each month, and that allows it to be fertilized by sperm. By the way, another word for egg is oocyte. After an egg matures, it's pushed out of the ovary in a process called ovulation. The other major function of the ovaries is to secrete the female sex hormones, estrogen, progesterone, and one called inhibin, and we'll talk about their functions a little bit later on. So let's first discuss how the eggs are made in the ovary in the first place. So early in uteral development, precursor germ cells, which are called oogonia, and those are homologous to spermatagonia in males, these oogonia undergo a ton of mitotic divisions to make more of themselves. And then, at about the 7th month of development, these divisions stop, and all of the ones that have been produced, which is actually about two to four million, are all she'll have for the rest of her life, and that turns out to be about one to two million per ovary. So while she's still in fetal development, all of these oogonia that have been produced, they all develop into the next stage, which is a primary oocyte. And just remember that the two oo's refers to egg, and the cyte, C-Y-T-E, refers to cell. So this just means egg cell, in case you were wondering. And let me also just mention, on a chromosomal level these oogonia, the germ cells, they're 2n, which means they have two copies of each chromosome, and the primary oocytes are the same. They're also 2n. And then these primary oocytes, they begin meiosis 1, and meiosis is what our germ cells use to reduce our chromosome copy number, and by that, I just mean the number of copies of DNA that we have. So they start this process of meiosis 1, but they don't actually finish it. They just kind of get about halfway through, and then they stop. So they're stuck as these big cells. So they're still primary oocytes, but they're said to be in meiotic arrest. So when the female who's been developing in her mom's womb, when she's born, her primary oocytes are in meiotic arrest. So the question is, do they stay like this? And the answer is, some do and some don't. Let's zoom in on this reproductive system to try to explain. So this is just a closeup of the major parts of the female reproductive system, and I've cut away parts of the uterus and the uterine tubes and the ovaries so you can see sort of the inside and the outsides of both structures. And this is our key organ here. This is the ovary. So the question was, do these primary oocytes that are stuck in meiotic arrest, do they stay like that? So the answer is that the ones that are sort of destined to be ovulated, that is, to be pushed out of the ovary right about here and then to be picked up by the fimbriae and then travel along the uterine tube here, those ones get past meiotic arrest. But most of them sort of die off while they're still stuck in that meiotic arrest phase as a primary oocyte. So I've mentioned the ones that sort of get out of the meiotic arrest phase and move on to develop into secondary oocytes that are able to then fuse with sperm, but when exactly does that happen? Well, it starts at puberty. So they actually stay in this phase as primary oocytes up here, in meiotic arrest for like 12 to 13 years, give or take, and only then do they start moving forward with development by finishing off that first part of meiosis that they started and splitting into two secondary oocytes. And actually, that's not exactly true, even though that's what we'd expect. What actually happens is one primary occyte it attempts to split into two secondary oocytes, but that's not exactly what happens. What does happen is that one of the developing daughter cells develops beautifully into a normal secondary oocyte from the primary oocyte, but it turns out that when they do complete the first part of meiosis, something really interesting happens. One of these cells receives basically all the cytoplasm. So the chromosome copy number is halved, but basically all the cytoplasm is kept in one cell. So this little guy over here that didn't get much cytoplasm, it still has a full complement of chromosomes, but it still ends up being pretty small and not really very functional. So it kind of withers away and dies, and it's called a polar body. So you end up with this really large secondary oocyte, and this is what ends up getting ovulated. And so now you might be thinking, well, meiosis is two steps, right? When does the second step happen? And that's a good question. So again, ovulation happens roughly here with the secondary oocyte coming out, and this secondary oocyte sort of just hangs out in the uterine tubes, and a sperm comes along and fertilizes the egg. So let's look at that down here. So you have your uterine tube here, and you have your egg. That's a secondary oocyte now. And then a sperm is coming along, and the sperm fuses with the egg after fertilizing it. And so the sperm fertilizes the egg and fuses with it. And so, let's just zoom in on what's happening there. So here you have your big secondary oocyte, and then you have your sperm that sort of, let's say that the nucleus of the sperm is right here. It's inside the egg already. This is the nucleus of the sperm. And here's the nucleus of the secondary oocyte. Well this is when meiosis 2 happens, so the second half of meiosis. So as this sperm nucleus is traveling toward the egg nucleus to create a joint nucleus, meiosis 2 occurs, and the oocyte reduces its chromosome copy number by creating another polar body, so a second polar body that kind of divides off the cell. So the oocyte cuts its chromosome copy number in half again, and so this little bit of DNA here that's just an extra copy of the DNA the egg already has, it divides off the cell in the form of another polar body that doesn't really have that much cytoplasm, just like the first one. So again, it leaves its nutrient-rich cytoplasm behind for the sperm and the egg. And by the way, the egg has changed its name now from a secondary oocyte to an ovum, but it won't be an ovum for long. Once the sperm nucleus fuses with the egg nucleus, then it becomes a zygote. So let me just clarify that if the egg doesn't get fertilized by a sperm that comes along, then it doesn't complete that second meiotic division that it did right here, and it just gets discharged from the body in menstruation as a secondary oocyte and not as an ovum, because the name ovum is reserved for the oocyte only once it's been fertilized. So those are the basic concepts behind what goes on with egg development.\",\n",
              "       \" -  We're now in the home stretch. We just have to evaluate the curl of f and then this dot product and then evaluate this double integral. So let's work on the curl of F. So the curl of f is going to be equal to, and I just remember it as the determit, so we have our i, j, k components, and it's really you could imagine it's the del operator crossed with the actual vector. So the del operator, I'll write this in a different color just to ease the monotony, so this is partial with respect to x, partial with respect to y, partial with respect to z, and then our vector field, I copied and pasted it right over here. It is just equal to negative y squared, is our i component, x is our j component, and Z squared is our k component. And so this is going to be equal to, this is going to be equal to i, is going to be equal to i times the partial of Z squared with respect to y. Well, there's the Z squared is just a constant with respect to y so the partial of Z squared with respect to y is just going to be zero, so this is going to be zero. Minus the partial of x with respect to z. Well, once again this is just a constant when you think in terms of z, so that's just going to be zero. So that's nice simplification, and then we're gonna have minus j, we need our little checkerboard patterns, we put a negative in front of the j, minus j and so we'll have the partial of x, the partial of z squared with respect to x, that's zero again, and then minus the partial of negative y squared with respect to z, well that's zero again, and then finally we have our k component, k, so plus, plus k, and k, we're gonna have the partial of x with respect to x, well that actually gives us a value that's just gonna be one minus the partial of negative y squared with respect to y. So the partial of negative y squared with respect to y is negative two y and we're subtracting that, so it's going to be plus, plus, two y. So curl of f simplifies to just, all of this is just zero up here, is just one plus two y times k or k times one plus two y. And so if we go back to this right up here, if we go back up to that, we're going to get let me re-write the integral so zero to one and that's our r, our r parameter is gonna go from zero to one, theta is gonna go from zero to two pi. And now curl of f has simplified to, and I won't skip any steps although it's tempting, it's one plus two y, and actually instead of writing two y, let me write it in terms of the parameters. We saw it up here, y was r sine theta, if I remember correctly, right, y was r sine theta. So let me write y that way. Two times r sine theta k. And we're gonna dot this, we're gonna take the dot product of that with this right over here, with r times j plus r times k, d theto d r. And so we take the dot product, this thing only has a k component, the j component is zero, so when you take the dot product with this j component you're gonna get zero. And neither of them you actually even have an i component. And so the inside is just going to simplify to this piece right over here is going to simplify to, we're just gonna have to think about the k components, cause everything else is zero, so it's gonna be r times this and we're done! So it's gonna be r plus two r squared sine theta, d theta d r, d theta d r and, once again, theta goes from zero to two pi and r goes from zero to one. And now this is just a straight-up double integral. We just have to evaluate this thing. And so, first we take the antiderivative with respect to theta, so the antiderivative with respect to theta is going to give us, so this is going to be giving, so we're going to focus on theta first, so the antiderivative of r with respect to theta is just r theta, you can just do r as a constant, and then the antiderivative of this, antiderivative of sine of theta is negative cosine of theta. So this is gonna be negative two r squared cosine of theta. And we're gonna evaluate it from zero to two pi. And then we have the outside integral, which I will, I'll re-color in yellow, re-color in yellow, so we'll still have to integrate with respect to r and r's gonna go from zero to one. But inside right over here, if we evaluate all of this business right over here at two pi, we get two pi r, two pi r, that's that right over there, minus... Cosine of two pi is just one. So it's minus two r squared and then from that, we're going to subtract from that, we're gonna subtract this evaluated zero. Well r times zero is just zero, and then cosine of zero is one. So it's just minus two r squared, or negative two r squared, negative two r squared. And at this negative and this negative, you get a positive, and but then you have a negative two r squared and then a plus two r squared it's just going to cancel out, that and that cancel out, and so this whole thing has simplified quite nicely to a simple definite integral, zero to one of two pi, two pi r dr, and the antiderivative of this is just going to be pi r squared, so we're just gonna evaluate pi r squared from zero to one, when you evaluate it at one, you get pi; when you evaluate it at zero, you just get zero, so you get pi minus zero, which is equal to, and now we deserve a drumroll 'cause we've been doing a lot of work over many videos, this is equal to pi. So just to remind ourselves what we've done over the last few videos, we had this line integral that we were trying to figure out, and instead of directly evaluating the line integral, which we could do and I encourage you to do so, and if I have time, I might do it in the next video, instead of directly evaluating that line integral, we used Stokes theorem to say, oh we could actually instead say that that's the same thing as a surface integral over a piecewise-smooth boundary over piecewise-smooth surface that this path is the boundary of, and so we evaluated this surface intergal and eventually, with a good bit of, little bit of calculation, we got to evaluating it to be equal to pi.\"],\n",
              "      dtype=object)"
            ]
          },
          "metadata": {
            "tags": []
          },
          "execution_count": 91
        }
      ]
    },
    {
      "cell_type": "code",
      "metadata": {
        "id": "ian7gSDE3khR",
        "colab": {
          "base_uri": "https://localhost:8080/"
        },
        "outputId": "1581a6a1-dcbd-4434-ef9d-dee4b57208a7"
      },
      "source": [
        "len(categories)"
      ],
      "execution_count": null,
      "outputs": [
        {
          "output_type": "execute_result",
          "data": {
            "text/plain": [
              "4188"
            ]
          },
          "metadata": {
            "tags": []
          },
          "execution_count": 92
        }
      ]
    },
    {
      "cell_type": "code",
      "metadata": {
        "id": "Y_ZeuHc63khU",
        "colab": {
          "base_uri": "https://localhost:8080/"
        },
        "outputId": "47a4582c-584c-4348-a149-11f65b5b3e9b"
      },
      "source": [
        "input_ids = []\n",
        "attention_masks = []\n",
        "\n",
        "for sent in question_answer:\n",
        "    # `encode_plus` will:\n",
        "    #   (1) Tokenize the sentence.\n",
        "    #   (2) Prepend the `[CLS]` token to the start.\n",
        "    #   (3) Append the `[SEP]` token to the end.\n",
        "    #   (4) Map tokens to their IDs.\n",
        "    #   (5) Pad or truncate the sentence to `max_length`\n",
        "    #   (6) Create attention masks for [PAD] tokens.\n",
        "    encoded_dict = tokenizer.encode_plus(\n",
        "                        sent,                      # Sentence to encode.\n",
        "                        add_special_tokens = True, # Add '[CLS]' and '[SEP]'\n",
        "                        max_length = 256,           # Pad & truncate all sentences.\n",
        "                        pad_to_max_length = True,\n",
        "                        truncation=True,\n",
        "                        return_attention_mask = True,   # Construct attn. masks.\n",
        "                        return_tensors = 'pt',     # Return pytorch tensors.\n",
        "                   )\n",
        "    \n",
        "    # Add the encoded sentence to the list.    \n",
        "    input_ids.append(encoded_dict['input_ids'])\n",
        "    \n",
        "    # And its attention mask (simply differentiates padding from non-padding).\n",
        "    attention_masks.append(encoded_dict['attention_mask'])\n",
        "\n",
        "# Convert the lists into tensors.\n",
        "input_ids = torch.cat(input_ids, dim=0)\n",
        "attention_masks = torch.cat(attention_masks, dim=0)\n",
        "\n",
        "\n",
        "# Print sentence 0, now as a list of IDs.\n",
        "print('Original: ', question_answer[0])\n",
        "print('Token IDs:', input_ids[0])"
      ],
      "execution_count": null,
      "outputs": [
        {
          "output_type": "stream",
          "text": [
            "Original:   In the last couple of videos we saw that we can describe a curves by a position vector-valued function. And in very general terms, it would be the x position as a function of time times the unit vector in the horizontal direction. Plus the y position as a function of time times the unit victor in the vertical direction. And this will essentially describe this-- though, if you can imagine a particle and let's say the parameter t represents time. It'll describe where the particle is at any given time. And if we wanted a particular curve we can say, well, this only applies for some curve-- we're dealing, it's r of t. And it's only applicable between t being greater than a and less than b. And you know, that would describe some curve in two dimensions. Just me just draw it here. This is all a review of really, the last two videos. So this curve, it might look something like that where this is where t is equal to a. That's where t is equal to b. And so r of a will be this vector right here that ends at that point. And then as t or if you can imagine the parameter being time, it doesn't have to be time, but that's a convenient one to visualize. Each corresponding as t gets larger and larger, we're just going to different-- we're specifying different points on the path. We saw that two videos ago. And in the last video we thought about, well, what does it mean to take the derivative of a vector-valued function? And we came up with this idea that-- and it wasn't an idea, we actually showed it to be true. We came up with a definition really. That the derivative-- I could call it r prime of t-- and it's going to be a vector. The derivative of a vector-valued function is once again going to be a derivative. But it was equal to-- the way we defined it-- x prime of t times i plus y prime of t times j. Or another way to write that and I'll just write all the different ways just so you get familiar with-- dr/dt is equal to dx/dt. This is just a standard derivative. x of t is a scalar function. So this is a standard derivative times i plus dy/dt times j. And if we wanted to think about the differential, one thing that we can think about-- and whenever I do the math for the differential it's a little bit hand wavy. I'm not being very rigorous. But if you imagine multiplying both sides of the equation by a very small dt or this exact dt, you would get dr is equal to-- I'll just leave it like this. dx/dt times dt. I could make these cancel out, but I'll just write it like this first. Times the unit vector i plus dy/dt times dt. Times the unit vector j. Or we could rewrite this. And I'm just rewriting it in all of the different ways that one can rewrite it. You could also write this as dr is equal to x prime of t dt times the unit vector i. So this was x prime of t dt. This is x prime of t right there times the unit vector i. Plus y prime of t. That's just that right there. Times dt. Times the unit vector j. And just to, I guess, complete the trifecta, the other way that we could write this is that dr is equal to-- if we just allowed these to cancel out, then we get is equal to dx times i plus dy times dy y times j. And that actually makes a lot of intuitive sense. That if I look at any dr, so let's say I look at the change between this vector and this vector. Let's say the super small change right there, that is our dr, and it's made up of-- it's our dx, our change in x is that right there. You can imagine it's that right there times-- but we're vectorizing it by multiplying it by the unit vector in the horizontal direction. Plus dy times the unit vector in the vertical direction. So when you multiply this distance times the unit vector, you're essentially getting this vector. And when you multiply this guy-- and actually our change in y here is negative-- you're going to get this vector right here. So when you add those together you'll get your change in your actual position vector. So that was all a little bit of background. And this might be somewhat useful-- a future video from now. Actually, I'm going to leave it there because really I just wanted to introduce this notation and get you familiar with it. In the next video, what I'm going to do is give you a little bit more intuition for what exactly does this thing mean? And how does it change depending on different parameterizations. And I'll do it with two different parameterizations for the same curve.\n",
            "Token IDs: tensor([  101,  1999,  1996,  2197,  3232,  1997,  6876,  2057,  2387,  2008,\n",
            "         2057,  2064,  6235,  1037, 10543,  2011,  1037,  2597,  9207,  1011,\n",
            "        11126,  3853,  1012,  1998,  1999,  2200,  2236,  3408,  1010,  2009,\n",
            "         2052,  2022,  1996,  1060,  2597,  2004,  1037,  3853,  1997,  2051,\n",
            "         2335,  1996,  3131,  9207,  1999,  1996,  9876,  3257,  1012,  4606,\n",
            "         1996,  1061,  2597,  2004,  1037,  3853,  1997,  2051,  2335,  1996,\n",
            "         3131,  5125,  1999,  1996,  7471,  3257,  1012,  1998,  2023,  2097,\n",
            "         7687,  6235,  2023,  1011,  1011,  2295,  1010,  2065,  2017,  2064,\n",
            "         5674,  1037, 10811,  1998,  2292,  1005,  1055,  2360,  1996, 16381,\n",
            "         1056,  5836,  2051,  1012,  2009,  1005,  2222,  6235,  2073,  1996,\n",
            "        10811,  2003,  2012,  2151,  2445,  2051,  1012,  1998,  2065,  2057,\n",
            "         2359,  1037,  3327,  7774,  2057,  2064,  2360,  1010,  2092,  1010,\n",
            "         2023,  2069, 12033,  2005,  2070,  7774,  1011,  1011,  2057,  1005,\n",
            "         2128,  7149,  1010,  2009,  1005,  1055,  1054,  1997,  1056,  1012,\n",
            "         1998,  2009,  1005,  1055,  2069, 12711,  2090,  1056,  2108,  3618,\n",
            "         2084,  1037,  1998,  2625,  2084,  1038,  1012,  1998,  2017,  2113,\n",
            "         1010,  2008,  2052,  6235,  2070,  7774,  1999,  2048,  9646,  1012,\n",
            "         2074,  2033,  2074,  4009,  2009,  2182,  1012,  2023,  2003,  2035,\n",
            "         1037,  3319,  1997,  2428,  1010,  1996,  2197,  2048,  6876,  1012,\n",
            "         2061,  2023,  7774,  1010,  2009,  2453,  2298,  2242,  2066,  2008,\n",
            "         2073,  2023,  2003,  2073,  1056,  2003,  5020,  2000,  1037,  1012,\n",
            "         2008,  1005,  1055,  2073,  1056,  2003,  5020,  2000,  1038,  1012,\n",
            "         1998,  2061,  1054,  1997,  1037,  2097,  2022,  2023,  9207,  2157,\n",
            "         2182,  2008,  4515,  2012,  2008,  2391,  1012,  1998,  2059,  2004,\n",
            "         1056,  2030,  2065,  2017,  2064,  5674,  1996, 16381,  2108,  2051,\n",
            "         1010,  2009,  2987,  1005,  1056,   102])\n"
          ],
          "name": "stdout"
        }
      ]
    },
    {
      "cell_type": "code",
      "metadata": {
        "id": "Y1mg7WyWKi6r",
        "colab": {
          "base_uri": "https://localhost:8080/"
        },
        "outputId": "0be12576-8c03-4af8-dc9f-10e0faba6299"
      },
      "source": [
        "input_ids_val = []\n",
        "attention_masks_val = []\n",
        "\n",
        "for sent in val_features:\n",
        "    # `encode_plus` will:\n",
        "    #   (1) Tokenize the sentence.\n",
        "    #   (2) Prepend the `[CLS]` token to the start.\n",
        "    #   (3) Append the `[SEP]` token to the end.\n",
        "    #   (4) Map tokens to their IDs.\n",
        "    #   (5) Pad or truncate the sentence to `max_length`\n",
        "    #   (6) Create attention masks for [PAD] tokens.\n",
        "    encoded_dict = tokenizer.encode_plus(\n",
        "                        sent,                      # Sentence to encode.\n",
        "                        add_special_tokens = True, # Add '[CLS]' and '[SEP]'\n",
        "                        max_length = 256,           # Pad & truncate all sentences.\n",
        "                        pad_to_max_length = True,\n",
        "                        truncation=True,\n",
        "                        return_attention_mask = True,   # Construct attn. masks.\n",
        "                        return_tensors = 'pt',     # Return pytorch tensors.\n",
        "                   )\n",
        "    \n",
        "    # Add the encoded sentence to the list.    \n",
        "    input_ids_val.append(encoded_dict['input_ids'])\n",
        "    \n",
        "    # And its attention mask (simply differentiates padding from non-padding).\n",
        "    attention_masks_val.append(encoded_dict['attention_mask'])\n",
        "\n",
        "# Convert the lists into tensors.\n",
        "input_ids_val = torch.cat(input_ids_val, dim=0)\n",
        "attention_masks_val = torch.cat(attention_masks_val, dim=0)\n",
        "\n",
        "\n",
        "# Print sentence 0, now as a list of IDs.\n",
        "print('Original: ', question_answer[0])\n",
        "print('Token IDs:', input_ids[0])"
      ],
      "execution_count": null,
      "outputs": [
        {
          "output_type": "stream",
          "text": [
            "Original:   In the last couple of videos we saw that we can describe a curves by a position vector-valued function. And in very general terms, it would be the x position as a function of time times the unit vector in the horizontal direction. Plus the y position as a function of time times the unit victor in the vertical direction. And this will essentially describe this-- though, if you can imagine a particle and let's say the parameter t represents time. It'll describe where the particle is at any given time. And if we wanted a particular curve we can say, well, this only applies for some curve-- we're dealing, it's r of t. And it's only applicable between t being greater than a and less than b. And you know, that would describe some curve in two dimensions. Just me just draw it here. This is all a review of really, the last two videos. So this curve, it might look something like that where this is where t is equal to a. That's where t is equal to b. And so r of a will be this vector right here that ends at that point. And then as t or if you can imagine the parameter being time, it doesn't have to be time, but that's a convenient one to visualize. Each corresponding as t gets larger and larger, we're just going to different-- we're specifying different points on the path. We saw that two videos ago. And in the last video we thought about, well, what does it mean to take the derivative of a vector-valued function? And we came up with this idea that-- and it wasn't an idea, we actually showed it to be true. We came up with a definition really. That the derivative-- I could call it r prime of t-- and it's going to be a vector. The derivative of a vector-valued function is once again going to be a derivative. But it was equal to-- the way we defined it-- x prime of t times i plus y prime of t times j. Or another way to write that and I'll just write all the different ways just so you get familiar with-- dr/dt is equal to dx/dt. This is just a standard derivative. x of t is a scalar function. So this is a standard derivative times i plus dy/dt times j. And if we wanted to think about the differential, one thing that we can think about-- and whenever I do the math for the differential it's a little bit hand wavy. I'm not being very rigorous. But if you imagine multiplying both sides of the equation by a very small dt or this exact dt, you would get dr is equal to-- I'll just leave it like this. dx/dt times dt. I could make these cancel out, but I'll just write it like this first. Times the unit vector i plus dy/dt times dt. Times the unit vector j. Or we could rewrite this. And I'm just rewriting it in all of the different ways that one can rewrite it. You could also write this as dr is equal to x prime of t dt times the unit vector i. So this was x prime of t dt. This is x prime of t right there times the unit vector i. Plus y prime of t. That's just that right there. Times dt. Times the unit vector j. And just to, I guess, complete the trifecta, the other way that we could write this is that dr is equal to-- if we just allowed these to cancel out, then we get is equal to dx times i plus dy times dy y times j. And that actually makes a lot of intuitive sense. That if I look at any dr, so let's say I look at the change between this vector and this vector. Let's say the super small change right there, that is our dr, and it's made up of-- it's our dx, our change in x is that right there. You can imagine it's that right there times-- but we're vectorizing it by multiplying it by the unit vector in the horizontal direction. Plus dy times the unit vector in the vertical direction. So when you multiply this distance times the unit vector, you're essentially getting this vector. And when you multiply this guy-- and actually our change in y here is negative-- you're going to get this vector right here. So when you add those together you'll get your change in your actual position vector. So that was all a little bit of background. And this might be somewhat useful-- a future video from now. Actually, I'm going to leave it there because really I just wanted to introduce this notation and get you familiar with it. In the next video, what I'm going to do is give you a little bit more intuition for what exactly does this thing mean? And how does it change depending on different parameterizations. And I'll do it with two different parameterizations for the same curve.\n",
            "Token IDs: tensor([  101,  1999,  1996,  2197,  3232,  1997,  6876,  2057,  2387,  2008,\n",
            "         2057,  2064,  6235,  1037, 10543,  2011,  1037,  2597,  9207,  1011,\n",
            "        11126,  3853,  1012,  1998,  1999,  2200,  2236,  3408,  1010,  2009,\n",
            "         2052,  2022,  1996,  1060,  2597,  2004,  1037,  3853,  1997,  2051,\n",
            "         2335,  1996,  3131,  9207,  1999,  1996,  9876,  3257,  1012,  4606,\n",
            "         1996,  1061,  2597,  2004,  1037,  3853,  1997,  2051,  2335,  1996,\n",
            "         3131,  5125,  1999,  1996,  7471,  3257,  1012,  1998,  2023,  2097,\n",
            "         7687,  6235,  2023,  1011,  1011,  2295,  1010,  2065,  2017,  2064,\n",
            "         5674,  1037, 10811,  1998,  2292,  1005,  1055,  2360,  1996, 16381,\n",
            "         1056,  5836,  2051,  1012,  2009,  1005,  2222,  6235,  2073,  1996,\n",
            "        10811,  2003,  2012,  2151,  2445,  2051,  1012,  1998,  2065,  2057,\n",
            "         2359,  1037,  3327,  7774,  2057,  2064,  2360,  1010,  2092,  1010,\n",
            "         2023,  2069, 12033,  2005,  2070,  7774,  1011,  1011,  2057,  1005,\n",
            "         2128,  7149,  1010,  2009,  1005,  1055,  1054,  1997,  1056,  1012,\n",
            "         1998,  2009,  1005,  1055,  2069, 12711,  2090,  1056,  2108,  3618,\n",
            "         2084,  1037,  1998,  2625,  2084,  1038,  1012,  1998,  2017,  2113,\n",
            "         1010,  2008,  2052,  6235,  2070,  7774,  1999,  2048,  9646,  1012,\n",
            "         2074,  2033,  2074,  4009,  2009,  2182,  1012,  2023,  2003,  2035,\n",
            "         1037,  3319,  1997,  2428,  1010,  1996,  2197,  2048,  6876,  1012,\n",
            "         2061,  2023,  7774,  1010,  2009,  2453,  2298,  2242,  2066,  2008,\n",
            "         2073,  2023,  2003,  2073,  1056,  2003,  5020,  2000,  1037,  1012,\n",
            "         2008,  1005,  1055,  2073,  1056,  2003,  5020,  2000,  1038,  1012,\n",
            "         1998,  2061,  1054,  1997,  1037,  2097,  2022,  2023,  9207,  2157,\n",
            "         2182,  2008,  4515,  2012,  2008,  2391,  1012,  1998,  2059,  2004,\n",
            "         1056,  2030,  2065,  2017,  2064,  5674,  1996, 16381,  2108,  2051,\n",
            "         1010,  2009,  2987,  1005,  1056,   102])\n"
          ],
          "name": "stdout"
        }
      ]
    },
    {
      "cell_type": "code",
      "metadata": {
        "id": "iVGvVZb13kha",
        "colab": {
          "base_uri": "https://localhost:8080/"
        },
        "outputId": "f9017d8c-de6f-4262-d200-d0b614c62984"
      },
      "source": [
        "print('Original: ', question_answer[1])\n",
        "print('Token IDs:', input_ids[1])"
      ],
      "execution_count": null,
      "outputs": [
        {
          "output_type": "stream",
          "text": [
            "Original:   -  What we're going to do in this video is give ourselves a little bit of a tour of eukaryotic cells. And the first place to start is just to remind ourselves what it means for a cell to be eukaryotic. It means that inside the cell, there are membrane-bound organelles. Now, what does that mean? Well, you could view it as sub-compartments within the cell. Membrane-bound organelles. And in this video in particular, we're going to highlight some of these membrane-bound organelles that make the cells eukaryotic. So let's just start with some of the ingredients that we know is true of all cells. So you'll have your cellular membrane here. I drew it big, so that we have a lot of space to draw things in. So this is our cellular membrane. I'll do some nice shading so you appreciate that it'll actually be three-dimensional. We see so many slices of cells that sometimes we forget that they are more spherical, or that they have three-dimensional shape to them. They're not all spherical. They can have different shapes. Now all cells, and there are some exceptions that we've talked about in previous videos. I should say, most cells will have some genetic information in them in the form of DNA. So that is our DNA, right over there. Now, one of the key characteristics of a eukaryotic cell is that the genetic information is going to be inside a membrane-bound organelle. And that membrane-bound organelle, or the membrane that surrounds the DNA here, that is the nuclear membrane. So let me draw the nuclear membrane right over here, and I'll put some shading in to appreciate that that also is going to be in three dimensions, around the DNA. So that is the first membrane-bound organelle that we're gonna discuss, the nucleus. Now the nucleus, it turns out, is connected to another membrane-bound organelle. And we're gonna study this in future videos, but right here I'm drawing holes or pores in the nuclear membrane. And those pores connect to something, it's a very fancy word called the endoplasmic reticulum. And the endoplasmic reticulum is essentially these layers of these membranes. So I'm gonna do my best job at trying to draw an endoplasmic reticulum. Imagine extending from these pores, going into a space that has really these layered membranes that have a lot of surface area. And I'm not gonna go all the way around this nucleus, but in many cells it will go around, all the way around the nucleus. And this right over here, and this is just a rough diagram. That is our endoplasmic, endoplasmic... Not blasmic, endoplasmic... Endoplasmic reticulum, which I've mentioned in previous videos would be an excellent name for a band. And what goes on in the endoplasmic reticulum is when you are in the process of taking that genetic information from DNA, and as we talk about in other videos it gets transcribed into mRNA. So that mRNA is now containing that information. That mRNA will make its way out of that nuclear membrane through one of these pores, and then make its way to a ribosome that is attached to the membrane of the endoplasmic reticulum. And so that's a ribosome there. I'm gonna do a bunch of ribosomes. And so as we've talked about in previous videos, ribosomes are really where you take that genetic information from that mRNA, and then you translate it into a protein. So the ribosomes are the protein synthesis, so let me label that. So this right over here is a ribosome. And some ribosomes might be attached to the endoplasmic reticulum. Some of them might just be floating out here in the cytoplasm, so that would be a free ribosome. Free ribosome. And even from the point of view of the endoplasmic reticulum, the parts of the endoplasmic reticulum where you have ribosomes attached, this is known as rough endoplasmic reticulum. It's the ribosomes that are making them rough. It looks that way in a microscope. So I'll just say rough ER, for endoplasmic reticulum for short. And then you also have parts of the endoplasmic reticulum where you do not have ribosomes attached. And because that looks smooth through our microscope, it has been called, you can imagine, smooth endoplasmic reticulum. There are things known as golgi bodies. Once again, another fascinating name. You gotta love these names in biology. That look kind of like an endoplasmic reticulum, but detached from the nuclear membrane. So let's say it's something like that. That's my best drawing there. That's a golgi body. And these are really good at packaging molecules, even proteins that might've just been produced, and packaging them so that they can be used outside of the cell, for example. And we'll go into detail in other videos, where a protein might go to the golgi body, get a little envelope around it, get some little processing going on, and then make its way outside of a cell. Now another, and this is maybe one of the most famous membrane-bound organelles outside of the nucleus, is what's known as the powerhouse of the cell, and that is the mitochondria. So I'll draw this mitochondria in magenta, because that's a nice powerful color. So mitochondria. And I love mitochondria because it's fascinating how they even came to be. Mitochondria actually have their own DNA, and all of your mitochondrial DNA comes from your mother. So that's actually very interesting for tracing maternal lineage. But mitochondria, this is where your, I'm gonna say let's see what we could see inside of this. This is where you ATP is produced. This is your mitochondria. It's really the powerhouse of the cell. What's interesting about mitochondria is evolutionary biologists believe that the ancestors of mitochondria, because mitochondria have their own DNA, they might've been independent organisms, independent cells. And at some point in our evolutionary past, they started living in symbiosis inside of what would be the ancestors of our cells. And over time, they became so codependent that they started to replicate together. And mitochondria, in fact, became part of these eukaryotic cells. Now if this eukaryotic cell was a plant cell or maybe an algae cell, you would have something called chloroplasts there. We don't have them because we don't have photosynthesis, but this is a chloroplast. And if you could see inside, you could see the little thylakoid stacks right over here. You could see the thylakoids if you could see inside. And so this right over here is a chloroplast. Chloroplast. And this would be plants and algae. Animals do not have these. And these are where you have your photosynthesis take place. Photosynthesis. Now there's also some membrane-bound organelles that are maybe less famous than the mitochondria or the chloroplast, or for sure the nucleus, and that might be something like a vacuole. And in plants, vacuoles tend to be very big. I could draw it, this is three-dimensional so I'll draw it on top of something that I've drawn before. So if a vacuole right over here, this is a... And in a plant it could be a fairly significant compartment inside. And in fact, it can even give structure to the plant itself because it is so big. And it contains water and enzymes. It's viewed as kind of a storage compartment. But it can also contain enzymes that help digest things, that help break things down so that they can be used in some way. So that is a vacuole. And they don't just exist in plants. They can also exist in animal cells. But in plant cells, they can be very, very, very visible. Now, something that is somewhat related to some of the function that a vacuole plays, that are most associated with animal cells but now there's evidence that they also exist in plant cells, is the idea of a lysosome. So a lysosome right over here, that also is a compartment. And it's going to contain a whole series of enzymes in it that is useful for lysing, you could say, that is useful for breaking down either waste products as the cell lives, or even foreign substances that might not be helpful for the cells. So it's gonna contain a bunch of enzymes, and it helps break down things. Now, I'll leave you there. These aren't all of the structures in eukaryotic cells, but these are enough of the structures so that you can appreciate that there are a lot of membrane-bound organelles in eukaryotic cells. And to be clear, even if I were to show all of the membrane-bound structures, that's not all the complexity of the cell. The big thing to appreciate is that cells are incredibly complex. There's all sorts of structures in here that help transport things and move things around. If you could shrink yourself down and look inside of a cell, it would look more complex than the most complex cities. There's all sorts of activities, things being moved around, shuttled around. The cell itself is replicating and copying things. And so this is just the beginning. We're just starting to scratch the surface of the complexity of the most basic unit of life.\n",
            "Token IDs: tensor([  101,  1011,  2054,  2057,  1005,  2128,  2183,  2000,  2079,  1999,\n",
            "         2023,  2678,  2003,  2507,  9731,  1037,  2210,  2978,  1997,  1037,\n",
            "         2778,  1997,  7327,  6673,  7677,  4588,  4442,  1012,  1998,  1996,\n",
            "         2034,  2173,  2000,  2707,  2003,  2074,  2000, 10825,  9731,  2054,\n",
            "         2009,  2965,  2005,  1037,  3526,  2000,  2022,  7327,  6673,  7677,\n",
            "         4588,  1012,  2009,  2965,  2008,  2503,  1996,  3526,  1010,  2045,\n",
            "         2024, 10804,  1011,  5391,  5812, 22869,  1012,  2085,  1010,  2054,\n",
            "         2515,  2008,  2812,  1029,  2092,  1010,  2017,  2071,  3193,  2009,\n",
            "         2004,  4942,  1011, 27998,  2306,  1996,  3526,  1012, 10804,  1011,\n",
            "         5391,  5812, 22869,  1012,  1998,  1999,  2023,  2678,  1999,  3327,\n",
            "         1010,  2057,  1005,  2128,  2183,  2000, 12944,  2070,  1997,  2122,\n",
            "        10804,  1011,  5391,  5812, 22869,  2008,  2191,  1996,  4442,  7327,\n",
            "         6673,  7677,  4588,  1012,  2061,  2292,  1005,  1055,  2074,  2707,\n",
            "         2007,  2070,  1997,  1996, 12760,  2008,  2057,  2113,  2003,  2995,\n",
            "         1997,  2035,  4442,  1012,  2061,  2017,  1005,  2222,  2031,  2115,\n",
            "        12562, 10804,  2182,  1012,  1045,  3881,  2009,  2502,  1010,  2061,\n",
            "         2008,  2057,  2031,  1037,  2843,  1997,  2686,  2000,  4009,  2477,\n",
            "         1999,  1012,  2061,  2023,  2003,  2256, 12562, 10804,  1012,  1045,\n",
            "         1005,  2222,  2079,  2070,  3835, 21146,  4667,  2061,  2017,  9120,\n",
            "         2008,  2009,  1005,  2222,  2941,  2022,  2093,  1011,  8789,  1012,\n",
            "         2057,  2156,  2061,  2116, 25609,  1997,  4442,  2008,  2823,  2057,\n",
            "         5293,  2008,  2027,  2024,  2062, 18970,  1010,  2030,  2008,  2027,\n",
            "         2031,  2093,  1011,  8789,  4338,  2000,  2068,  1012,  2027,  1005,\n",
            "         2128,  2025,  2035, 18970,  1012,  2027,  2064,  2031,  2367, 10466,\n",
            "         1012,  2085,  2035,  4442,  1010,  1998,  2045,  2024,  2070, 11790,\n",
            "         2008,  2057,  1005,  2310,  5720,   102])\n"
          ],
          "name": "stdout"
        }
      ]
    },
    {
      "cell_type": "code",
      "metadata": {
        "id": "irMTimjf3khd"
      },
      "source": [
        "labels = torch.tensor(categories)"
      ],
      "execution_count": null,
      "outputs": []
    },
    {
      "cell_type": "code",
      "metadata": {
        "colab": {
          "base_uri": "https://localhost:8080/",
          "height": 35
        },
        "id": "CICIofG9No7L",
        "outputId": "685e1294-908d-40b0-db1d-5e540a529673"
      },
      "source": [
        "get_labels(419)"
      ],
      "execution_count": null,
      "outputs": [
        {
          "output_type": "execute_result",
          "data": {
            "application/vnd.google.colaboratory.intrinsic+json": {
              "type": "string"
            },
            "text/plain": [
              "'science>>ap-biology>>ecology-ap'"
            ]
          },
          "metadata": {
            "tags": []
          },
          "execution_count": 97
        }
      ]
    },
    {
      "cell_type": "code",
      "metadata": {
        "id": "OJJ0I8Ud3khf",
        "colab": {
          "base_uri": "https://localhost:8080/",
          "height": 35
        },
        "outputId": "d3258460-4953-428e-9289-a95eefd88c68"
      },
      "source": [
        "get_labels(311)"
      ],
      "execution_count": null,
      "outputs": [
        {
          "output_type": "execute_result",
          "data": {
            "application/vnd.google.colaboratory.intrinsic+json": {
              "type": "string"
            },
            "text/plain": [
              "'math>>in-in-grade-12-ncert>>in-in-determinants'"
            ]
          },
          "metadata": {
            "tags": []
          },
          "execution_count": 98
        }
      ]
    },
    {
      "cell_type": "code",
      "metadata": {
        "id": "BNDW74Ny3khj",
        "colab": {
          "base_uri": "https://localhost:8080/"
        },
        "outputId": "c57e3037-5c00-48c7-ffbd-ec33e1073be3"
      },
      "source": [
        "num_classes = len(list(set(categories)))\n",
        "num_classes"
      ],
      "execution_count": null,
      "outputs": [
        {
          "output_type": "execute_result",
          "data": {
            "text/plain": [
              "569"
            ]
          },
          "metadata": {
            "tags": []
          },
          "execution_count": 99
        }
      ]
    },
    {
      "cell_type": "code",
      "metadata": {
        "id": "mA2zYBezKi60"
      },
      "source": [
        "from torch.utils.data import TensorDataset, random_split\n",
        "# train_poincare_tensor = torch.tensor(poincare_embeddings_final,dtype=torch.float)\n",
        "# train_poincare_tensor = torch.tensor(poincare_embeddings_final_train,dtype=torch.float)\n",
        "# val_poincare_tensor = torch.tensor(poincare_embeddings_final_val, dtype=torch.float)\n",
        "train_labels = torch.tensor(categories)\n",
        "val_labels = torch.tensor(val_labels.values)\n",
        "# Combine the training inputs into a TensorDataset.\n",
        "train_dataset = TensorDataset(input_ids, attention_masks, train_labels)\n",
        "val_dataset = TensorDataset(input_ids_val,attention_masks_val,val_labels)\n"
      ],
      "execution_count": null,
      "outputs": []
    },
    {
      "cell_type": "code",
      "metadata": {
        "id": "Fo2jJuP1INTf"
      },
      "source": [
        "from torch.utils.data import TensorDataset, random_split\n",
        "from torch.utils.data import DataLoader, RandomSampler, SequentialSampler\n"
      ],
      "execution_count": null,
      "outputs": []
    },
    {
      "cell_type": "code",
      "metadata": {
        "id": "D_lTinod3kho"
      },
      "source": [
        "from torch.utils.data import DataLoader, RandomSampler, SequentialSampler\n",
        "batch_size = 32\n",
        "train_dataloader = DataLoader(\n",
        "            train_dataset,  # The training samples.\n",
        "            sampler = RandomSampler(train_dataset), # Select batches randomly\n",
        "            batch_size = batch_size # Trains with this batch size.\n",
        "        )\n",
        "\n",
        "validation_dataloader = DataLoader(\n",
        "            val_dataset, # The validation samples.\n",
        "            sampler = SequentialSampler(val_dataset), \n",
        "            batch_size = batch_size \n",
        "        )"
      ],
      "execution_count": null,
      "outputs": []
    },
    {
      "cell_type": "code",
      "metadata": {
        "colab": {
          "base_uri": "https://localhost:8080/",
          "height": 35
        },
        "id": "SYosEkeZrpKF",
        "outputId": "10a9df97-d257-4aa3-fa28-23d41898e439"
      },
      "source": [
        "get_labels(571)"
      ],
      "execution_count": null,
      "outputs": [
        {
          "output_type": "execute_result",
          "data": {
            "application/vnd.google.colaboratory.intrinsic+json": {
              "type": "string"
            },
            "text/plain": [
              "'science>>physics>>work-and-energy'"
            ]
          },
          "metadata": {
            "tags": []
          },
          "execution_count": 107
        }
      ]
    },
    {
      "cell_type": "code",
      "metadata": {
        "id": "TS0czUKHTfQZ",
        "colab": {
          "base_uri": "https://localhost:8080/"
        },
        "outputId": "2434966c-e971-4e8e-d9ff-4d2fc568a27f"
      },
      "source": [
        "from transformers import BertForSequenceClassification, AdamW, BertConfig\n",
        "# run this cell when training model\n",
        "# Loads BertForSequenceClassification, the pretrained BERT model with a single \n",
        "model = BertForSequenceClassification.from_pretrained(\n",
        "    \"bert-base-uncased\", # Use the 12-layer BERT model, with an uncased vocab.\n",
        "    num_labels = 572,   \n",
        "    output_attentions = False, # Whether the model returns attentions weights.\n",
        "    output_hidden_states = False, # Whether the model returns all hidden-states.\n",
        ")\n",
        "\n",
        "# Tell pytorch to run this model on the GPU.\n",
        "model.cuda()"
      ],
      "execution_count": null,
      "outputs": [
        {
          "output_type": "execute_result",
          "data": {
            "text/plain": [
              "BertForSequenceClassification(\n",
              "  (bert): BertModel(\n",
              "    (embeddings): BertEmbeddings(\n",
              "      (word_embeddings): Embedding(30522, 768, padding_idx=0)\n",
              "      (position_embeddings): Embedding(512, 768)\n",
              "      (token_type_embeddings): Embedding(2, 768)\n",
              "      (LayerNorm): LayerNorm((768,), eps=1e-12, elementwise_affine=True)\n",
              "      (dropout): Dropout(p=0.1, inplace=False)\n",
              "    )\n",
              "    (encoder): BertEncoder(\n",
              "      (layer): ModuleList(\n",
              "        (0): BertLayer(\n",
              "          (attention): BertAttention(\n",
              "            (self): BertSelfAttention(\n",
              "              (query): Linear(in_features=768, out_features=768, bias=True)\n",
              "              (key): Linear(in_features=768, out_features=768, bias=True)\n",
              "              (value): Linear(in_features=768, out_features=768, bias=True)\n",
              "              (dropout): Dropout(p=0.1, inplace=False)\n",
              "            )\n",
              "            (output): BertSelfOutput(\n",
              "              (dense): Linear(in_features=768, out_features=768, bias=True)\n",
              "              (LayerNorm): LayerNorm((768,), eps=1e-12, elementwise_affine=True)\n",
              "              (dropout): Dropout(p=0.1, inplace=False)\n",
              "            )\n",
              "          )\n",
              "          (intermediate): BertIntermediate(\n",
              "            (dense): Linear(in_features=768, out_features=3072, bias=True)\n",
              "          )\n",
              "          (output): BertOutput(\n",
              "            (dense): Linear(in_features=3072, out_features=768, bias=True)\n",
              "            (LayerNorm): LayerNorm((768,), eps=1e-12, elementwise_affine=True)\n",
              "            (dropout): Dropout(p=0.1, inplace=False)\n",
              "          )\n",
              "        )\n",
              "        (1): BertLayer(\n",
              "          (attention): BertAttention(\n",
              "            (self): BertSelfAttention(\n",
              "              (query): Linear(in_features=768, out_features=768, bias=True)\n",
              "              (key): Linear(in_features=768, out_features=768, bias=True)\n",
              "              (value): Linear(in_features=768, out_features=768, bias=True)\n",
              "              (dropout): Dropout(p=0.1, inplace=False)\n",
              "            )\n",
              "            (output): BertSelfOutput(\n",
              "              (dense): Linear(in_features=768, out_features=768, bias=True)\n",
              "              (LayerNorm): LayerNorm((768,), eps=1e-12, elementwise_affine=True)\n",
              "              (dropout): Dropout(p=0.1, inplace=False)\n",
              "            )\n",
              "          )\n",
              "          (intermediate): BertIntermediate(\n",
              "            (dense): Linear(in_features=768, out_features=3072, bias=True)\n",
              "          )\n",
              "          (output): BertOutput(\n",
              "            (dense): Linear(in_features=3072, out_features=768, bias=True)\n",
              "            (LayerNorm): LayerNorm((768,), eps=1e-12, elementwise_affine=True)\n",
              "            (dropout): Dropout(p=0.1, inplace=False)\n",
              "          )\n",
              "        )\n",
              "        (2): BertLayer(\n",
              "          (attention): BertAttention(\n",
              "            (self): BertSelfAttention(\n",
              "              (query): Linear(in_features=768, out_features=768, bias=True)\n",
              "              (key): Linear(in_features=768, out_features=768, bias=True)\n",
              "              (value): Linear(in_features=768, out_features=768, bias=True)\n",
              "              (dropout): Dropout(p=0.1, inplace=False)\n",
              "            )\n",
              "            (output): BertSelfOutput(\n",
              "              (dense): Linear(in_features=768, out_features=768, bias=True)\n",
              "              (LayerNorm): LayerNorm((768,), eps=1e-12, elementwise_affine=True)\n",
              "              (dropout): Dropout(p=0.1, inplace=False)\n",
              "            )\n",
              "          )\n",
              "          (intermediate): BertIntermediate(\n",
              "            (dense): Linear(in_features=768, out_features=3072, bias=True)\n",
              "          )\n",
              "          (output): BertOutput(\n",
              "            (dense): Linear(in_features=3072, out_features=768, bias=True)\n",
              "            (LayerNorm): LayerNorm((768,), eps=1e-12, elementwise_affine=True)\n",
              "            (dropout): Dropout(p=0.1, inplace=False)\n",
              "          )\n",
              "        )\n",
              "        (3): BertLayer(\n",
              "          (attention): BertAttention(\n",
              "            (self): BertSelfAttention(\n",
              "              (query): Linear(in_features=768, out_features=768, bias=True)\n",
              "              (key): Linear(in_features=768, out_features=768, bias=True)\n",
              "              (value): Linear(in_features=768, out_features=768, bias=True)\n",
              "              (dropout): Dropout(p=0.1, inplace=False)\n",
              "            )\n",
              "            (output): BertSelfOutput(\n",
              "              (dense): Linear(in_features=768, out_features=768, bias=True)\n",
              "              (LayerNorm): LayerNorm((768,), eps=1e-12, elementwise_affine=True)\n",
              "              (dropout): Dropout(p=0.1, inplace=False)\n",
              "            )\n",
              "          )\n",
              "          (intermediate): BertIntermediate(\n",
              "            (dense): Linear(in_features=768, out_features=3072, bias=True)\n",
              "          )\n",
              "          (output): BertOutput(\n",
              "            (dense): Linear(in_features=3072, out_features=768, bias=True)\n",
              "            (LayerNorm): LayerNorm((768,), eps=1e-12, elementwise_affine=True)\n",
              "            (dropout): Dropout(p=0.1, inplace=False)\n",
              "          )\n",
              "        )\n",
              "        (4): BertLayer(\n",
              "          (attention): BertAttention(\n",
              "            (self): BertSelfAttention(\n",
              "              (query): Linear(in_features=768, out_features=768, bias=True)\n",
              "              (key): Linear(in_features=768, out_features=768, bias=True)\n",
              "              (value): Linear(in_features=768, out_features=768, bias=True)\n",
              "              (dropout): Dropout(p=0.1, inplace=False)\n",
              "            )\n",
              "            (output): BertSelfOutput(\n",
              "              (dense): Linear(in_features=768, out_features=768, bias=True)\n",
              "              (LayerNorm): LayerNorm((768,), eps=1e-12, elementwise_affine=True)\n",
              "              (dropout): Dropout(p=0.1, inplace=False)\n",
              "            )\n",
              "          )\n",
              "          (intermediate): BertIntermediate(\n",
              "            (dense): Linear(in_features=768, out_features=3072, bias=True)\n",
              "          )\n",
              "          (output): BertOutput(\n",
              "            (dense): Linear(in_features=3072, out_features=768, bias=True)\n",
              "            (LayerNorm): LayerNorm((768,), eps=1e-12, elementwise_affine=True)\n",
              "            (dropout): Dropout(p=0.1, inplace=False)\n",
              "          )\n",
              "        )\n",
              "        (5): BertLayer(\n",
              "          (attention): BertAttention(\n",
              "            (self): BertSelfAttention(\n",
              "              (query): Linear(in_features=768, out_features=768, bias=True)\n",
              "              (key): Linear(in_features=768, out_features=768, bias=True)\n",
              "              (value): Linear(in_features=768, out_features=768, bias=True)\n",
              "              (dropout): Dropout(p=0.1, inplace=False)\n",
              "            )\n",
              "            (output): BertSelfOutput(\n",
              "              (dense): Linear(in_features=768, out_features=768, bias=True)\n",
              "              (LayerNorm): LayerNorm((768,), eps=1e-12, elementwise_affine=True)\n",
              "              (dropout): Dropout(p=0.1, inplace=False)\n",
              "            )\n",
              "          )\n",
              "          (intermediate): BertIntermediate(\n",
              "            (dense): Linear(in_features=768, out_features=3072, bias=True)\n",
              "          )\n",
              "          (output): BertOutput(\n",
              "            (dense): Linear(in_features=3072, out_features=768, bias=True)\n",
              "            (LayerNorm): LayerNorm((768,), eps=1e-12, elementwise_affine=True)\n",
              "            (dropout): Dropout(p=0.1, inplace=False)\n",
              "          )\n",
              "        )\n",
              "        (6): BertLayer(\n",
              "          (attention): BertAttention(\n",
              "            (self): BertSelfAttention(\n",
              "              (query): Linear(in_features=768, out_features=768, bias=True)\n",
              "              (key): Linear(in_features=768, out_features=768, bias=True)\n",
              "              (value): Linear(in_features=768, out_features=768, bias=True)\n",
              "              (dropout): Dropout(p=0.1, inplace=False)\n",
              "            )\n",
              "            (output): BertSelfOutput(\n",
              "              (dense): Linear(in_features=768, out_features=768, bias=True)\n",
              "              (LayerNorm): LayerNorm((768,), eps=1e-12, elementwise_affine=True)\n",
              "              (dropout): Dropout(p=0.1, inplace=False)\n",
              "            )\n",
              "          )\n",
              "          (intermediate): BertIntermediate(\n",
              "            (dense): Linear(in_features=768, out_features=3072, bias=True)\n",
              "          )\n",
              "          (output): BertOutput(\n",
              "            (dense): Linear(in_features=3072, out_features=768, bias=True)\n",
              "            (LayerNorm): LayerNorm((768,), eps=1e-12, elementwise_affine=True)\n",
              "            (dropout): Dropout(p=0.1, inplace=False)\n",
              "          )\n",
              "        )\n",
              "        (7): BertLayer(\n",
              "          (attention): BertAttention(\n",
              "            (self): BertSelfAttention(\n",
              "              (query): Linear(in_features=768, out_features=768, bias=True)\n",
              "              (key): Linear(in_features=768, out_features=768, bias=True)\n",
              "              (value): Linear(in_features=768, out_features=768, bias=True)\n",
              "              (dropout): Dropout(p=0.1, inplace=False)\n",
              "            )\n",
              "            (output): BertSelfOutput(\n",
              "              (dense): Linear(in_features=768, out_features=768, bias=True)\n",
              "              (LayerNorm): LayerNorm((768,), eps=1e-12, elementwise_affine=True)\n",
              "              (dropout): Dropout(p=0.1, inplace=False)\n",
              "            )\n",
              "          )\n",
              "          (intermediate): BertIntermediate(\n",
              "            (dense): Linear(in_features=768, out_features=3072, bias=True)\n",
              "          )\n",
              "          (output): BertOutput(\n",
              "            (dense): Linear(in_features=3072, out_features=768, bias=True)\n",
              "            (LayerNorm): LayerNorm((768,), eps=1e-12, elementwise_affine=True)\n",
              "            (dropout): Dropout(p=0.1, inplace=False)\n",
              "          )\n",
              "        )\n",
              "        (8): BertLayer(\n",
              "          (attention): BertAttention(\n",
              "            (self): BertSelfAttention(\n",
              "              (query): Linear(in_features=768, out_features=768, bias=True)\n",
              "              (key): Linear(in_features=768, out_features=768, bias=True)\n",
              "              (value): Linear(in_features=768, out_features=768, bias=True)\n",
              "              (dropout): Dropout(p=0.1, inplace=False)\n",
              "            )\n",
              "            (output): BertSelfOutput(\n",
              "              (dense): Linear(in_features=768, out_features=768, bias=True)\n",
              "              (LayerNorm): LayerNorm((768,), eps=1e-12, elementwise_affine=True)\n",
              "              (dropout): Dropout(p=0.1, inplace=False)\n",
              "            )\n",
              "          )\n",
              "          (intermediate): BertIntermediate(\n",
              "            (dense): Linear(in_features=768, out_features=3072, bias=True)\n",
              "          )\n",
              "          (output): BertOutput(\n",
              "            (dense): Linear(in_features=3072, out_features=768, bias=True)\n",
              "            (LayerNorm): LayerNorm((768,), eps=1e-12, elementwise_affine=True)\n",
              "            (dropout): Dropout(p=0.1, inplace=False)\n",
              "          )\n",
              "        )\n",
              "        (9): BertLayer(\n",
              "          (attention): BertAttention(\n",
              "            (self): BertSelfAttention(\n",
              "              (query): Linear(in_features=768, out_features=768, bias=True)\n",
              "              (key): Linear(in_features=768, out_features=768, bias=True)\n",
              "              (value): Linear(in_features=768, out_features=768, bias=True)\n",
              "              (dropout): Dropout(p=0.1, inplace=False)\n",
              "            )\n",
              "            (output): BertSelfOutput(\n",
              "              (dense): Linear(in_features=768, out_features=768, bias=True)\n",
              "              (LayerNorm): LayerNorm((768,), eps=1e-12, elementwise_affine=True)\n",
              "              (dropout): Dropout(p=0.1, inplace=False)\n",
              "            )\n",
              "          )\n",
              "          (intermediate): BertIntermediate(\n",
              "            (dense): Linear(in_features=768, out_features=3072, bias=True)\n",
              "          )\n",
              "          (output): BertOutput(\n",
              "            (dense): Linear(in_features=3072, out_features=768, bias=True)\n",
              "            (LayerNorm): LayerNorm((768,), eps=1e-12, elementwise_affine=True)\n",
              "            (dropout): Dropout(p=0.1, inplace=False)\n",
              "          )\n",
              "        )\n",
              "        (10): BertLayer(\n",
              "          (attention): BertAttention(\n",
              "            (self): BertSelfAttention(\n",
              "              (query): Linear(in_features=768, out_features=768, bias=True)\n",
              "              (key): Linear(in_features=768, out_features=768, bias=True)\n",
              "              (value): Linear(in_features=768, out_features=768, bias=True)\n",
              "              (dropout): Dropout(p=0.1, inplace=False)\n",
              "            )\n",
              "            (output): BertSelfOutput(\n",
              "              (dense): Linear(in_features=768, out_features=768, bias=True)\n",
              "              (LayerNorm): LayerNorm((768,), eps=1e-12, elementwise_affine=True)\n",
              "              (dropout): Dropout(p=0.1, inplace=False)\n",
              "            )\n",
              "          )\n",
              "          (intermediate): BertIntermediate(\n",
              "            (dense): Linear(in_features=768, out_features=3072, bias=True)\n",
              "          )\n",
              "          (output): BertOutput(\n",
              "            (dense): Linear(in_features=3072, out_features=768, bias=True)\n",
              "            (LayerNorm): LayerNorm((768,), eps=1e-12, elementwise_affine=True)\n",
              "            (dropout): Dropout(p=0.1, inplace=False)\n",
              "          )\n",
              "        )\n",
              "        (11): BertLayer(\n",
              "          (attention): BertAttention(\n",
              "            (self): BertSelfAttention(\n",
              "              (query): Linear(in_features=768, out_features=768, bias=True)\n",
              "              (key): Linear(in_features=768, out_features=768, bias=True)\n",
              "              (value): Linear(in_features=768, out_features=768, bias=True)\n",
              "              (dropout): Dropout(p=0.1, inplace=False)\n",
              "            )\n",
              "            (output): BertSelfOutput(\n",
              "              (dense): Linear(in_features=768, out_features=768, bias=True)\n",
              "              (LayerNorm): LayerNorm((768,), eps=1e-12, elementwise_affine=True)\n",
              "              (dropout): Dropout(p=0.1, inplace=False)\n",
              "            )\n",
              "          )\n",
              "          (intermediate): BertIntermediate(\n",
              "            (dense): Linear(in_features=768, out_features=3072, bias=True)\n",
              "          )\n",
              "          (output): BertOutput(\n",
              "            (dense): Linear(in_features=3072, out_features=768, bias=True)\n",
              "            (LayerNorm): LayerNorm((768,), eps=1e-12, elementwise_affine=True)\n",
              "            (dropout): Dropout(p=0.1, inplace=False)\n",
              "          )\n",
              "        )\n",
              "      )\n",
              "    )\n",
              "    (pooler): BertPooler(\n",
              "      (dense): Linear(in_features=768, out_features=768, bias=True)\n",
              "      (activation): Tanh()\n",
              "    )\n",
              "  )\n",
              "  (dropout): Dropout(p=0.1, inplace=False)\n",
              "  (classifier): Linear(in_features=768, out_features=572, bias=True)\n",
              ")"
            ]
          },
          "metadata": {
            "tags": []
          },
          "execution_count": 109
        }
      ]
    },
    {
      "cell_type": "code",
      "metadata": {
        "id": "_2tmAMlw3khr",
        "colab": {
          "base_uri": "https://localhost:8080/"
        },
        "outputId": "2b7569f3-623e-4747-8cbe-4c889ba7e025"
      },
      "source": [
        "\n",
        "# run this cell to prepare model for inference\n",
        "from transformers import BertForSequenceClassification, AdamW, BertConfig\n",
        "\n",
        "# Loads BertForSequenceClassification, the pretrained BERT model with a single \n",
        "model = BertForSequenceClassification.from_pretrained(\n",
        "    \"model_save_categorized_reduced_QC\", # Use the 12-layer BERT model, with an uncased vocab.\n",
        "    num_labels = 420,   \n",
        "    output_attentions = False, # Whether the model returns attentions weights.\n",
        "    output_hidden_states = True, # Whether the model returns all hidden-states.\n",
        ")\n",
        "\n",
        "# Tell pytorch to run this model on the GPU.\n",
        "model.cuda()\n"
      ],
      "execution_count": null,
      "outputs": [
        {
          "output_type": "execute_result",
          "data": {
            "text/plain": [
              "BertForSequenceClassification(\n",
              "  (bert): BertModel(\n",
              "    (embeddings): BertEmbeddings(\n",
              "      (word_embeddings): Embedding(30522, 768, padding_idx=0)\n",
              "      (position_embeddings): Embedding(512, 768)\n",
              "      (token_type_embeddings): Embedding(2, 768)\n",
              "      (LayerNorm): LayerNorm((768,), eps=1e-12, elementwise_affine=True)\n",
              "      (dropout): Dropout(p=0.1, inplace=False)\n",
              "    )\n",
              "    (encoder): BertEncoder(\n",
              "      (layer): ModuleList(\n",
              "        (0): BertLayer(\n",
              "          (attention): BertAttention(\n",
              "            (self): BertSelfAttention(\n",
              "              (query): Linear(in_features=768, out_features=768, bias=True)\n",
              "              (key): Linear(in_features=768, out_features=768, bias=True)\n",
              "              (value): Linear(in_features=768, out_features=768, bias=True)\n",
              "              (dropout): Dropout(p=0.1, inplace=False)\n",
              "            )\n",
              "            (output): BertSelfOutput(\n",
              "              (dense): Linear(in_features=768, out_features=768, bias=True)\n",
              "              (LayerNorm): LayerNorm((768,), eps=1e-12, elementwise_affine=True)\n",
              "              (dropout): Dropout(p=0.1, inplace=False)\n",
              "            )\n",
              "          )\n",
              "          (intermediate): BertIntermediate(\n",
              "            (dense): Linear(in_features=768, out_features=3072, bias=True)\n",
              "          )\n",
              "          (output): BertOutput(\n",
              "            (dense): Linear(in_features=3072, out_features=768, bias=True)\n",
              "            (LayerNorm): LayerNorm((768,), eps=1e-12, elementwise_affine=True)\n",
              "            (dropout): Dropout(p=0.1, inplace=False)\n",
              "          )\n",
              "        )\n",
              "        (1): BertLayer(\n",
              "          (attention): BertAttention(\n",
              "            (self): BertSelfAttention(\n",
              "              (query): Linear(in_features=768, out_features=768, bias=True)\n",
              "              (key): Linear(in_features=768, out_features=768, bias=True)\n",
              "              (value): Linear(in_features=768, out_features=768, bias=True)\n",
              "              (dropout): Dropout(p=0.1, inplace=False)\n",
              "            )\n",
              "            (output): BertSelfOutput(\n",
              "              (dense): Linear(in_features=768, out_features=768, bias=True)\n",
              "              (LayerNorm): LayerNorm((768,), eps=1e-12, elementwise_affine=True)\n",
              "              (dropout): Dropout(p=0.1, inplace=False)\n",
              "            )\n",
              "          )\n",
              "          (intermediate): BertIntermediate(\n",
              "            (dense): Linear(in_features=768, out_features=3072, bias=True)\n",
              "          )\n",
              "          (output): BertOutput(\n",
              "            (dense): Linear(in_features=3072, out_features=768, bias=True)\n",
              "            (LayerNorm): LayerNorm((768,), eps=1e-12, elementwise_affine=True)\n",
              "            (dropout): Dropout(p=0.1, inplace=False)\n",
              "          )\n",
              "        )\n",
              "        (2): BertLayer(\n",
              "          (attention): BertAttention(\n",
              "            (self): BertSelfAttention(\n",
              "              (query): Linear(in_features=768, out_features=768, bias=True)\n",
              "              (key): Linear(in_features=768, out_features=768, bias=True)\n",
              "              (value): Linear(in_features=768, out_features=768, bias=True)\n",
              "              (dropout): Dropout(p=0.1, inplace=False)\n",
              "            )\n",
              "            (output): BertSelfOutput(\n",
              "              (dense): Linear(in_features=768, out_features=768, bias=True)\n",
              "              (LayerNorm): LayerNorm((768,), eps=1e-12, elementwise_affine=True)\n",
              "              (dropout): Dropout(p=0.1, inplace=False)\n",
              "            )\n",
              "          )\n",
              "          (intermediate): BertIntermediate(\n",
              "            (dense): Linear(in_features=768, out_features=3072, bias=True)\n",
              "          )\n",
              "          (output): BertOutput(\n",
              "            (dense): Linear(in_features=3072, out_features=768, bias=True)\n",
              "            (LayerNorm): LayerNorm((768,), eps=1e-12, elementwise_affine=True)\n",
              "            (dropout): Dropout(p=0.1, inplace=False)\n",
              "          )\n",
              "        )\n",
              "        (3): BertLayer(\n",
              "          (attention): BertAttention(\n",
              "            (self): BertSelfAttention(\n",
              "              (query): Linear(in_features=768, out_features=768, bias=True)\n",
              "              (key): Linear(in_features=768, out_features=768, bias=True)\n",
              "              (value): Linear(in_features=768, out_features=768, bias=True)\n",
              "              (dropout): Dropout(p=0.1, inplace=False)\n",
              "            )\n",
              "            (output): BertSelfOutput(\n",
              "              (dense): Linear(in_features=768, out_features=768, bias=True)\n",
              "              (LayerNorm): LayerNorm((768,), eps=1e-12, elementwise_affine=True)\n",
              "              (dropout): Dropout(p=0.1, inplace=False)\n",
              "            )\n",
              "          )\n",
              "          (intermediate): BertIntermediate(\n",
              "            (dense): Linear(in_features=768, out_features=3072, bias=True)\n",
              "          )\n",
              "          (output): BertOutput(\n",
              "            (dense): Linear(in_features=3072, out_features=768, bias=True)\n",
              "            (LayerNorm): LayerNorm((768,), eps=1e-12, elementwise_affine=True)\n",
              "            (dropout): Dropout(p=0.1, inplace=False)\n",
              "          )\n",
              "        )\n",
              "        (4): BertLayer(\n",
              "          (attention): BertAttention(\n",
              "            (self): BertSelfAttention(\n",
              "              (query): Linear(in_features=768, out_features=768, bias=True)\n",
              "              (key): Linear(in_features=768, out_features=768, bias=True)\n",
              "              (value): Linear(in_features=768, out_features=768, bias=True)\n",
              "              (dropout): Dropout(p=0.1, inplace=False)\n",
              "            )\n",
              "            (output): BertSelfOutput(\n",
              "              (dense): Linear(in_features=768, out_features=768, bias=True)\n",
              "              (LayerNorm): LayerNorm((768,), eps=1e-12, elementwise_affine=True)\n",
              "              (dropout): Dropout(p=0.1, inplace=False)\n",
              "            )\n",
              "          )\n",
              "          (intermediate): BertIntermediate(\n",
              "            (dense): Linear(in_features=768, out_features=3072, bias=True)\n",
              "          )\n",
              "          (output): BertOutput(\n",
              "            (dense): Linear(in_features=3072, out_features=768, bias=True)\n",
              "            (LayerNorm): LayerNorm((768,), eps=1e-12, elementwise_affine=True)\n",
              "            (dropout): Dropout(p=0.1, inplace=False)\n",
              "          )\n",
              "        )\n",
              "        (5): BertLayer(\n",
              "          (attention): BertAttention(\n",
              "            (self): BertSelfAttention(\n",
              "              (query): Linear(in_features=768, out_features=768, bias=True)\n",
              "              (key): Linear(in_features=768, out_features=768, bias=True)\n",
              "              (value): Linear(in_features=768, out_features=768, bias=True)\n",
              "              (dropout): Dropout(p=0.1, inplace=False)\n",
              "            )\n",
              "            (output): BertSelfOutput(\n",
              "              (dense): Linear(in_features=768, out_features=768, bias=True)\n",
              "              (LayerNorm): LayerNorm((768,), eps=1e-12, elementwise_affine=True)\n",
              "              (dropout): Dropout(p=0.1, inplace=False)\n",
              "            )\n",
              "          )\n",
              "          (intermediate): BertIntermediate(\n",
              "            (dense): Linear(in_features=768, out_features=3072, bias=True)\n",
              "          )\n",
              "          (output): BertOutput(\n",
              "            (dense): Linear(in_features=3072, out_features=768, bias=True)\n",
              "            (LayerNorm): LayerNorm((768,), eps=1e-12, elementwise_affine=True)\n",
              "            (dropout): Dropout(p=0.1, inplace=False)\n",
              "          )\n",
              "        )\n",
              "        (6): BertLayer(\n",
              "          (attention): BertAttention(\n",
              "            (self): BertSelfAttention(\n",
              "              (query): Linear(in_features=768, out_features=768, bias=True)\n",
              "              (key): Linear(in_features=768, out_features=768, bias=True)\n",
              "              (value): Linear(in_features=768, out_features=768, bias=True)\n",
              "              (dropout): Dropout(p=0.1, inplace=False)\n",
              "            )\n",
              "            (output): BertSelfOutput(\n",
              "              (dense): Linear(in_features=768, out_features=768, bias=True)\n",
              "              (LayerNorm): LayerNorm((768,), eps=1e-12, elementwise_affine=True)\n",
              "              (dropout): Dropout(p=0.1, inplace=False)\n",
              "            )\n",
              "          )\n",
              "          (intermediate): BertIntermediate(\n",
              "            (dense): Linear(in_features=768, out_features=3072, bias=True)\n",
              "          )\n",
              "          (output): BertOutput(\n",
              "            (dense): Linear(in_features=3072, out_features=768, bias=True)\n",
              "            (LayerNorm): LayerNorm((768,), eps=1e-12, elementwise_affine=True)\n",
              "            (dropout): Dropout(p=0.1, inplace=False)\n",
              "          )\n",
              "        )\n",
              "        (7): BertLayer(\n",
              "          (attention): BertAttention(\n",
              "            (self): BertSelfAttention(\n",
              "              (query): Linear(in_features=768, out_features=768, bias=True)\n",
              "              (key): Linear(in_features=768, out_features=768, bias=True)\n",
              "              (value): Linear(in_features=768, out_features=768, bias=True)\n",
              "              (dropout): Dropout(p=0.1, inplace=False)\n",
              "            )\n",
              "            (output): BertSelfOutput(\n",
              "              (dense): Linear(in_features=768, out_features=768, bias=True)\n",
              "              (LayerNorm): LayerNorm((768,), eps=1e-12, elementwise_affine=True)\n",
              "              (dropout): Dropout(p=0.1, inplace=False)\n",
              "            )\n",
              "          )\n",
              "          (intermediate): BertIntermediate(\n",
              "            (dense): Linear(in_features=768, out_features=3072, bias=True)\n",
              "          )\n",
              "          (output): BertOutput(\n",
              "            (dense): Linear(in_features=3072, out_features=768, bias=True)\n",
              "            (LayerNorm): LayerNorm((768,), eps=1e-12, elementwise_affine=True)\n",
              "            (dropout): Dropout(p=0.1, inplace=False)\n",
              "          )\n",
              "        )\n",
              "        (8): BertLayer(\n",
              "          (attention): BertAttention(\n",
              "            (self): BertSelfAttention(\n",
              "              (query): Linear(in_features=768, out_features=768, bias=True)\n",
              "              (key): Linear(in_features=768, out_features=768, bias=True)\n",
              "              (value): Linear(in_features=768, out_features=768, bias=True)\n",
              "              (dropout): Dropout(p=0.1, inplace=False)\n",
              "            )\n",
              "            (output): BertSelfOutput(\n",
              "              (dense): Linear(in_features=768, out_features=768, bias=True)\n",
              "              (LayerNorm): LayerNorm((768,), eps=1e-12, elementwise_affine=True)\n",
              "              (dropout): Dropout(p=0.1, inplace=False)\n",
              "            )\n",
              "          )\n",
              "          (intermediate): BertIntermediate(\n",
              "            (dense): Linear(in_features=768, out_features=3072, bias=True)\n",
              "          )\n",
              "          (output): BertOutput(\n",
              "            (dense): Linear(in_features=3072, out_features=768, bias=True)\n",
              "            (LayerNorm): LayerNorm((768,), eps=1e-12, elementwise_affine=True)\n",
              "            (dropout): Dropout(p=0.1, inplace=False)\n",
              "          )\n",
              "        )\n",
              "        (9): BertLayer(\n",
              "          (attention): BertAttention(\n",
              "            (self): BertSelfAttention(\n",
              "              (query): Linear(in_features=768, out_features=768, bias=True)\n",
              "              (key): Linear(in_features=768, out_features=768, bias=True)\n",
              "              (value): Linear(in_features=768, out_features=768, bias=True)\n",
              "              (dropout): Dropout(p=0.1, inplace=False)\n",
              "            )\n",
              "            (output): BertSelfOutput(\n",
              "              (dense): Linear(in_features=768, out_features=768, bias=True)\n",
              "              (LayerNorm): LayerNorm((768,), eps=1e-12, elementwise_affine=True)\n",
              "              (dropout): Dropout(p=0.1, inplace=False)\n",
              "            )\n",
              "          )\n",
              "          (intermediate): BertIntermediate(\n",
              "            (dense): Linear(in_features=768, out_features=3072, bias=True)\n",
              "          )\n",
              "          (output): BertOutput(\n",
              "            (dense): Linear(in_features=3072, out_features=768, bias=True)\n",
              "            (LayerNorm): LayerNorm((768,), eps=1e-12, elementwise_affine=True)\n",
              "            (dropout): Dropout(p=0.1, inplace=False)\n",
              "          )\n",
              "        )\n",
              "        (10): BertLayer(\n",
              "          (attention): BertAttention(\n",
              "            (self): BertSelfAttention(\n",
              "              (query): Linear(in_features=768, out_features=768, bias=True)\n",
              "              (key): Linear(in_features=768, out_features=768, bias=True)\n",
              "              (value): Linear(in_features=768, out_features=768, bias=True)\n",
              "              (dropout): Dropout(p=0.1, inplace=False)\n",
              "            )\n",
              "            (output): BertSelfOutput(\n",
              "              (dense): Linear(in_features=768, out_features=768, bias=True)\n",
              "              (LayerNorm): LayerNorm((768,), eps=1e-12, elementwise_affine=True)\n",
              "              (dropout): Dropout(p=0.1, inplace=False)\n",
              "            )\n",
              "          )\n",
              "          (intermediate): BertIntermediate(\n",
              "            (dense): Linear(in_features=768, out_features=3072, bias=True)\n",
              "          )\n",
              "          (output): BertOutput(\n",
              "            (dense): Linear(in_features=3072, out_features=768, bias=True)\n",
              "            (LayerNorm): LayerNorm((768,), eps=1e-12, elementwise_affine=True)\n",
              "            (dropout): Dropout(p=0.1, inplace=False)\n",
              "          )\n",
              "        )\n",
              "        (11): BertLayer(\n",
              "          (attention): BertAttention(\n",
              "            (self): BertSelfAttention(\n",
              "              (query): Linear(in_features=768, out_features=768, bias=True)\n",
              "              (key): Linear(in_features=768, out_features=768, bias=True)\n",
              "              (value): Linear(in_features=768, out_features=768, bias=True)\n",
              "              (dropout): Dropout(p=0.1, inplace=False)\n",
              "            )\n",
              "            (output): BertSelfOutput(\n",
              "              (dense): Linear(in_features=768, out_features=768, bias=True)\n",
              "              (LayerNorm): LayerNorm((768,), eps=1e-12, elementwise_affine=True)\n",
              "              (dropout): Dropout(p=0.1, inplace=False)\n",
              "            )\n",
              "          )\n",
              "          (intermediate): BertIntermediate(\n",
              "            (dense): Linear(in_features=768, out_features=3072, bias=True)\n",
              "          )\n",
              "          (output): BertOutput(\n",
              "            (dense): Linear(in_features=3072, out_features=768, bias=True)\n",
              "            (LayerNorm): LayerNorm((768,), eps=1e-12, elementwise_affine=True)\n",
              "            (dropout): Dropout(p=0.1, inplace=False)\n",
              "          )\n",
              "        )\n",
              "      )\n",
              "    )\n",
              "    (pooler): BertPooler(\n",
              "      (dense): Linear(in_features=768, out_features=768, bias=True)\n",
              "      (activation): Tanh()\n",
              "    )\n",
              "  )\n",
              "  (dropout): Dropout(p=0.1, inplace=False)\n",
              "  (classifier): Linear(in_features=768, out_features=420, bias=True)\n",
              ")"
            ]
          },
          "metadata": {
            "tags": []
          },
          "execution_count": 36
        }
      ]
    },
    {
      "cell_type": "code",
      "metadata": {
        "id": "k1E4ssLSpl4T"
      },
      "source": [
        "#freeze few layers for better training\n",
        "for param in model.bert.encoder.layer[0:6].parameters():\n",
        "    param.requires_grad=False\n",
        "for param in model.bert.embeddings.parameters():\n",
        "    param.requires_grad=False\n"
      ],
      "execution_count": null,
      "outputs": []
    },
    {
      "cell_type": "code",
      "metadata": {
        "id": "awQ2Y9Jb3kht"
      },
      "source": [
        "optimizer = AdamW(model.parameters(),\n",
        "                  lr = 2e-5, # args.learning_rate - default is 5e-5, our notebook had 2e-5\n",
        "                  eps = 1e-8 # args.adam_epsilon  - default is 1e-8.\n",
        "                )"
      ],
      "execution_count": null,
      "outputs": []
    },
    {
      "cell_type": "code",
      "metadata": {
        "id": "2Ys-M4-e3khv"
      },
      "source": [
        "from transformers import get_linear_schedule_with_warmup\n",
        "\n",
        "\n",
        "epochs = 30\n",
        "\n",
        "# Total number of training steps is [number of batches] x [number of epochs]. \n",
        "total_steps = len(train_dataloader) * epochs\n",
        "\n"
      ],
      "execution_count": null,
      "outputs": []
    },
    {
      "cell_type": "code",
      "metadata": {
        "id": "QrYqErOD3khx",
        "colab": {
          "base_uri": "https://localhost:8080/"
        },
        "outputId": "7c724489-284f-4353-ff02-e995b61a8b5c"
      },
      "source": [
        "len(train_dataloader) "
      ],
      "execution_count": null,
      "outputs": [
        {
          "output_type": "execute_result",
          "data": {
            "text/plain": [
              "131"
            ]
          },
          "metadata": {
            "tags": []
          },
          "execution_count": 113
        }
      ]
    },
    {
      "cell_type": "code",
      "metadata": {
        "id": "EWVSE9LM3kh0",
        "colab": {
          "base_uri": "https://localhost:8080/"
        },
        "outputId": "3e9c8d89-26b7-4647-9ba0-d88716a52628"
      },
      "source": [
        "1935 * 32"
      ],
      "execution_count": null,
      "outputs": [
        {
          "output_type": "execute_result",
          "data": {
            "text/plain": [
              "61920"
            ]
          },
          "metadata": {
            "tags": []
          },
          "execution_count": 114
        }
      ]
    },
    {
      "cell_type": "code",
      "metadata": {
        "id": "dT4e7q1bFC07"
      },
      "source": [
        ""
      ],
      "execution_count": null,
      "outputs": []
    },
    {
      "cell_type": "code",
      "metadata": {
        "id": "rcvxVVi63kh3"
      },
      "source": [
        "scheduler = get_linear_schedule_with_warmup(optimizer, \n",
        "                                            num_warmup_steps = 0, # Default value in run_glue.py\n",
        "                                            num_training_steps = total_steps)"
      ],
      "execution_count": null,
      "outputs": []
    },
    {
      "cell_type": "code",
      "metadata": {
        "id": "GUw3zm6g3kh5"
      },
      "source": [
        "import numpy as np\n",
        "\n",
        "# Function to calculate the accuracy of our predictions vs labels\n",
        "def flat_accuracy(preds, labels):\n",
        "    pred_flat = np.argmax(preds, axis=1).flatten()\n",
        "    labels_flat = labels.flatten()\n",
        "    return np.sum(pred_flat == labels_flat) / len(labels_flat)"
      ],
      "execution_count": null,
      "outputs": []
    },
    {
      "cell_type": "code",
      "metadata": {
        "id": "ta6zfUTa3kh7"
      },
      "source": [
        "import time\n",
        "import datetime\n",
        "\n",
        "def format_time(elapsed):\n",
        "    '''\n",
        "    Takes a time in seconds and returns a string hh:mm:ss\n",
        "    '''\n",
        "    # Round to the nearest second.\n",
        "    elapsed_rounded = int(round((elapsed)))\n",
        "    \n",
        "    # Format as hh:mm:ss\n",
        "    return str(datetime.timedelta(seconds=elapsed_rounded))"
      ],
      "execution_count": null,
      "outputs": []
    },
    {
      "cell_type": "code",
      "metadata": {
        "id": "GFq9gd5kQSHb"
      },
      "source": [
        "import os\n",
        "os.environ['CUDA_LAUNCH_BLOCKING'] = \"1\"\n"
      ],
      "execution_count": null,
      "outputs": []
    },
    {
      "cell_type": "code",
      "metadata": {
        "id": "KsInxVoqbsFW"
      },
      "source": [
        "class EarlyStopping:\n",
        "    \"\"\"Early stops the training if validation loss doesn't improve after a given patience.\"\"\"\n",
        "    def __init__(self, patience=7, verbose=False, delta=0, path='checkpoint.pt', trace_func=print):\n",
        "        \"\"\"\n",
        "        Args:\n",
        "            patience (int): How long to wait after last time validation loss improved.\n",
        "                            Default: 7\n",
        "            verbose (bool): If True, prints a message for each validation loss improvement. \n",
        "                            Default: False\n",
        "            delta (float): Minimum change in the monitored quantity to qualify as an improvement.\n",
        "                            Default: 0\n",
        "            path (str): Path for the checkpoint to be saved to.\n",
        "                            Default: 'checkpoint.pt'\n",
        "            trace_func (function): trace print function.\n",
        "                            Default: print            \n",
        "        \"\"\"\n",
        "        self.patience = patience\n",
        "        self.verbose = verbose\n",
        "        self.counter = 0\n",
        "        self.best_score = None\n",
        "        self.early_stop = False\n",
        "        self.val_loss_min = np.Inf\n",
        "        self.delta = delta\n",
        "        self.path = path\n",
        "        self.trace_func = trace_func\n",
        "    def __call__(self, val_loss, model):\n",
        "\n",
        "        score = -val_loss\n",
        "\n",
        "        if self.best_score is None:\n",
        "            self.best_score = score\n",
        "            self.save_checkpoint(val_loss, model)\n",
        "        elif score < self.best_score + self.delta:\n",
        "            self.counter += 1\n",
        "            self.trace_func(f'EarlyStopping counter: {self.counter} out of {self.patience}')\n",
        "            if self.counter >= self.patience:\n",
        "                self.early_stop = True\n",
        "        else:\n",
        "            self.best_score = score\n",
        "            self.save_checkpoint(val_loss, model)\n",
        "            self.counter = 0\n",
        "\n",
        "    def save_checkpoint(self, val_loss, model):\n",
        "        '''Saves model when validation loss decrease.'''\n",
        "        if self.verbose:\n",
        "            self.trace_func(f'Validation loss decreased ({self.val_loss_min:.6f} --> {val_loss:.6f}).  Saving model ...')\n",
        "        torch.save(model.state_dict(), self.path)\n",
        "        self.val_loss_min = val_loss"
      ],
      "execution_count": null,
      "outputs": []
    },
    {
      "cell_type": "code",
      "metadata": {
        "id": "6LhAy2hZ3kh9",
        "colab": {
          "base_uri": "https://localhost:8080/"
        },
        "outputId": "f0a33cd8-eb61-412b-ceac-f83a691d12c3"
      },
      "source": [
        "import random\n",
        "import numpy as np\n",
        "\n",
        "# This training code is based on the `run_glue.py` script here:\n",
        "# https://github.com/huggingface/transformers/blob/5bfcd0485ece086ebcbed2d008813037968a9e58/examples/run_glue.py#L128\n",
        "\n",
        "# Set the seed value all over the place to make this reproducible.\n",
        "seed_val = 42\n",
        "\n",
        "random.seed(seed_val)\n",
        "np.random.seed(seed_val)\n",
        "torch.manual_seed(seed_val)\n",
        "torch.cuda.manual_seed_all(seed_val)\n",
        "\n",
        "# We'll store a number of quantities such as training and validation loss, \n",
        "# validation accuracy, and timings.\n",
        "training_stats = []\n",
        "\n",
        "# Measure the total training time for the whole run.\n",
        "total_t0 = time.time()\n",
        "early_stopping = EarlyStopping(patience=2, verbose=True)\n",
        "\n",
        "# For each epoch...\n",
        "for epoch_i in range(0, epochs):\n",
        "    \n",
        "    # ========================================\n",
        "    #               Training\n",
        "    # ========================================\n",
        "    \n",
        "    # Perform one full pass over the training set.\n",
        "\n",
        "    print(\"\")\n",
        "    print('======== Epoch {:} / {:} ========'.format(epoch_i + 1, epochs))\n",
        "    print('Training...')\n",
        "\n",
        "    # Measure how long the training epoch takes.\n",
        "    t0 = time.time()\n",
        "\n",
        "    # Reset the total loss for this epoch.\n",
        "    total_train_loss = 0\n",
        "\n",
        "\n",
        "    model.train()\n",
        "\n",
        "    # For each batch of training data...\n",
        "    for step, batch in enumerate(train_dataloader):\n",
        "\n",
        "        # Progress update every 40 batches.\n",
        "        if step % 40 == 0 and not step == 0:\n",
        "            # Calculate elapsed time in minutes.\n",
        "            elapsed = format_time(time.time() - t0)\n",
        "            \n",
        "            # Report progress.\n",
        "            print('  Batch {:>5,}  of  {:>5,}.    Elapsed: {:}.'.format(step, len(train_dataloader), elapsed))\n",
        "\n",
        "\n",
        "        b_input_ids = batch[0].to(device)\n",
        "        b_input_mask = batch[1].to(device)\n",
        "        b_labels = batch[2].to(device)\n",
        "\n",
        "        model.zero_grad()        \n",
        "        # outputs prior to activation.\n",
        "        loss, logits = model(b_input_ids, \n",
        "                             token_type_ids=None, \n",
        "                             attention_mask=b_input_mask, \n",
        "                             labels=b_labels)\n",
        "\n",
        "\n",
        "        total_train_loss += loss.item()\n",
        "\n",
        "        # Perform a backward pass to calculate the gradients.\n",
        "        loss.backward()\n",
        "\n",
        "        # Clip the norm of the gradients to 1.0.\n",
        "        # This is to help prevent the \"exploding gradients\" problem.\n",
        "        torch.nn.utils.clip_grad_norm_(model.parameters(), 1.0)\n",
        "\n",
        "\n",
        "        optimizer.step()\n",
        "\n",
        "        # Update the learning rate.\n",
        "        scheduler.step()\n",
        "\n",
        "    # Calculate the average loss over all of the batches.\n",
        "    avg_train_loss = total_train_loss / len(train_dataloader)            \n",
        "    \n",
        "    # Measure how long this epoch took.\n",
        "    training_time = format_time(time.time() - t0)\n",
        "\n",
        "    print(\"\")\n",
        "    print(\"  Average training loss: {0:.2f}\".format(avg_train_loss))\n",
        "    print(\"  Training epcoh took: {:}\".format(training_time))\n",
        "\n",
        "\n",
        "    print(\"\")\n",
        "    print(\"Running Validation...\")\n",
        "\n",
        "    t0 = time.time()\n",
        "\n",
        "    # Put the model in evaluation mode--the dropout layers behave differently\n",
        "    # during evaluation.\n",
        "    model.eval()\n",
        "\n",
        "    # Tracking variables \n",
        "    total_eval_accuracy = 0\n",
        "    total_eval_loss = 0\n",
        "    nb_eval_steps = 0\n",
        "\n",
        "    # Evaluate data for one epoch\n",
        "    for batch in validation_dataloader:\n",
        "\n",
        "        b_input_ids = batch[0].to(device)\n",
        "        b_input_mask = batch[1].to(device)\n",
        "        b_labels = batch[2].to(device)\n",
        "        \n",
        "        # Tell pytorch not to bother with constructing the compute graph during\n",
        "        # the forward pass, since this is only needed for backprop (training).\n",
        "        with torch.no_grad():        \n",
        "\n",
        "            (loss, logits) = model(b_input_ids, \n",
        "                                   token_type_ids=None, \n",
        "                                   attention_mask=b_input_mask,\n",
        "                                   labels=b_labels)\n",
        "            \n",
        "        # Accumulate the validation loss.\n",
        "        total_eval_loss += loss.item()\n",
        "\n",
        "        # Move logits and labels to CPU\n",
        "        logits = logits.detach().cpu().numpy()\n",
        "        label_ids = b_labels.to('cpu').numpy()\n",
        "\n",
        "        # Calculate the accuracy for this batch of test sentences, and\n",
        "        # accumulate it over all batches.\n",
        "        total_eval_accuracy += flat_accuracy(logits, label_ids)\n",
        "        \n",
        "\n",
        "    # Report the final accuracy for this validation run.\n",
        "    avg_val_accuracy = total_eval_accuracy / len(validation_dataloader)\n",
        "    print(\"  Accuracy: {0:.2f}\".format(avg_val_accuracy))\n",
        "\n",
        "    # Calculate the average loss over all of the batches.\n",
        "    avg_val_loss = total_eval_loss / len(validation_dataloader)\n",
        "    early_stopping(avg_val_loss, model)\n",
        "    if early_stopping.early_stop:\n",
        "      print(\"Early stopping\")\n",
        "      break  \n",
        "    # Measure how long the validation run took.\n",
        "    validation_time = format_time(time.time() - t0)\n",
        "    \n",
        "    print(\"  Validation Loss: {0:.2f}\".format(avg_val_loss))\n",
        "    print(\"  Validation took: {:}\".format(validation_time))\n",
        "    output_dir = 'model_save_categorized_reduced_khan_acad/'\n",
        "    if not os.path.exists(output_dir):\n",
        "        os.makedirs(output_dir)\n",
        "\n",
        "    print(\"Saving model to %s\" % output_dir)\n",
        "    tokenizer.save_pretrained(output_dir)\n",
        "    torch.save(model.state_dict(), os.path.join(output_dir, 'model_weights'))\n",
        "\n",
        "    !rm -rf \"/content/drive/My Drive/research_lo_content_taxonomy_classification/model_save_categorized_reduced_khan_acad\"\n",
        "    !mv model_save_categorized_reduced_khan_acad \"/content/drive/My Drive/research_lo_content_taxonomy_classification/\"\n",
        "    # Record all statistics from this epoch.\n",
        "    training_stats.append(\n",
        "        {\n",
        "            'epoch': epoch_i + 1,\n",
        "            'Training Loss': avg_train_loss,\n",
        "            'Valid. Loss': avg_val_loss,\n",
        "            'Valid. Accur.': avg_val_accuracy,\n",
        "            'Training Time': training_time,\n",
        "            'Validation Time': validation_time\n",
        "        }\n",
        "    )\n",
        "\n",
        "print(\"\")\n",
        "print(\"Training complete!\")\n",
        "\n",
        "print(\"Total training took {:} (h:mm:ss)\".format(format_time(time.time()-total_t0)))"
      ],
      "execution_count": null,
      "outputs": [
        {
          "output_type": "stream",
          "text": [
            "\n",
            "======== Epoch 1 / 30 ========\n",
            "Training...\n"
          ],
          "name": "stdout"
        },
        {
          "output_type": "stream",
          "text": [
            "/usr/local/lib/python3.6/dist-packages/transformers/optimization.py:155: UserWarning: This overload of add_ is deprecated:\n",
            "\tadd_(Number alpha, Tensor other)\n",
            "Consider using one of the following signatures instead:\n",
            "\tadd_(Tensor other, *, Number alpha) (Triggered internally at  /pytorch/torch/csrc/utils/python_arg_parser.cpp:882.)\n",
            "  exp_avg.mul_(beta1).add_(1.0 - beta1, grad)\n"
          ],
          "name": "stderr"
        },
        {
          "output_type": "stream",
          "text": [
            "  Batch    40  of    131.    Elapsed: 0:00:46.\n",
            "  Batch    80  of    131.    Elapsed: 0:01:29.\n",
            "  Batch   120  of    131.    Elapsed: 0:02:14.\n",
            "\n",
            "  Average training loss: 6.25\n",
            "  Training epcoh took: 0:02:26\n",
            "\n",
            "Running Validation...\n",
            "  Accuracy: 0.02\n",
            "Validation loss decreased (inf --> 6.087848).  Saving model ...\n",
            "  Validation Loss: 6.09\n",
            "  Validation took: 0:00:18\n",
            "Saving model to model_save_categorized_reduced_khan_acad/\n",
            "\n",
            "======== Epoch 2 / 30 ========\n",
            "Training...\n",
            "  Batch    40  of    131.    Elapsed: 0:00:45.\n",
            "  Batch    80  of    131.    Elapsed: 0:01:29.\n",
            "  Batch   120  of    131.    Elapsed: 0:02:13.\n",
            "\n",
            "  Average training loss: 5.86\n",
            "  Training epcoh took: 0:02:25\n",
            "\n",
            "Running Validation...\n",
            "  Accuracy: 0.08\n",
            "Validation loss decreased (6.087848 --> 5.726779).  Saving model ...\n",
            "  Validation Loss: 5.73\n",
            "  Validation took: 0:00:18\n",
            "Saving model to model_save_categorized_reduced_khan_acad/\n",
            "\n",
            "======== Epoch 3 / 30 ========\n",
            "Training...\n",
            "  Batch    40  of    131.    Elapsed: 0:00:45.\n",
            "  Batch    80  of    131.    Elapsed: 0:01:29.\n",
            "  Batch   120  of    131.    Elapsed: 0:02:13.\n",
            "\n",
            "  Average training loss: 5.50\n",
            "  Training epcoh took: 0:02:25\n",
            "\n",
            "Running Validation...\n",
            "  Accuracy: 0.10\n",
            "Validation loss decreased (5.726779 --> 5.415551).  Saving model ...\n",
            "  Validation Loss: 5.42\n",
            "  Validation took: 0:00:18\n",
            "Saving model to model_save_categorized_reduced_khan_acad/\n",
            "\n",
            "======== Epoch 4 / 30 ========\n",
            "Training...\n",
            "  Batch    40  of    131.    Elapsed: 0:00:45.\n",
            "  Batch    80  of    131.    Elapsed: 0:01:29.\n",
            "  Batch   120  of    131.    Elapsed: 0:02:13.\n",
            "\n",
            "  Average training loss: 5.20\n",
            "  Training epcoh took: 0:02:25\n",
            "\n",
            "Running Validation...\n",
            "  Accuracy: 0.12\n",
            "Validation loss decreased (5.415551 --> 5.167103).  Saving model ...\n",
            "  Validation Loss: 5.17\n",
            "  Validation took: 0:00:18\n",
            "Saving model to model_save_categorized_reduced_khan_acad/\n",
            "\n",
            "======== Epoch 5 / 30 ========\n",
            "Training...\n",
            "  Batch    40  of    131.    Elapsed: 0:00:45.\n",
            "  Batch    80  of    131.    Elapsed: 0:01:29.\n",
            "  Batch   120  of    131.    Elapsed: 0:02:13.\n",
            "\n",
            "  Average training loss: 4.94\n",
            "  Training epcoh took: 0:02:25\n",
            "\n",
            "Running Validation...\n",
            "  Accuracy: 0.15\n",
            "Validation loss decreased (5.167103 --> 4.940587).  Saving model ...\n",
            "  Validation Loss: 4.94\n",
            "  Validation took: 0:00:18\n",
            "Saving model to model_save_categorized_reduced_khan_acad/\n",
            "\n",
            "======== Epoch 6 / 30 ========\n",
            "Training...\n",
            "  Batch    40  of    131.    Elapsed: 0:00:45.\n",
            "  Batch    80  of    131.    Elapsed: 0:01:29.\n",
            "  Batch   120  of    131.    Elapsed: 0:02:13.\n",
            "\n",
            "  Average training loss: 4.72\n",
            "  Training epcoh took: 0:02:25\n",
            "\n",
            "Running Validation...\n",
            "  Accuracy: 0.17\n",
            "Validation loss decreased (4.940587 --> 4.766076).  Saving model ...\n",
            "  Validation Loss: 4.77\n",
            "  Validation took: 0:00:18\n",
            "Saving model to model_save_categorized_reduced_khan_acad/\n",
            "\n",
            "======== Epoch 7 / 30 ========\n",
            "Training...\n",
            "  Batch    40  of    131.    Elapsed: 0:00:45.\n",
            "  Batch    80  of    131.    Elapsed: 0:01:29.\n",
            "  Batch   120  of    131.    Elapsed: 0:02:13.\n",
            "\n",
            "  Average training loss: 4.52\n",
            "  Training epcoh took: 0:02:25\n",
            "\n",
            "Running Validation...\n",
            "  Accuracy: 0.18\n",
            "Validation loss decreased (4.766076 --> 4.619394).  Saving model ...\n",
            "  Validation Loss: 4.62\n",
            "  Validation took: 0:00:18\n",
            "Saving model to model_save_categorized_reduced_khan_acad/\n",
            "\n",
            "======== Epoch 8 / 30 ========\n",
            "Training...\n",
            "  Batch    40  of    131.    Elapsed: 0:00:45.\n",
            "  Batch    80  of    131.    Elapsed: 0:01:29.\n",
            "  Batch   120  of    131.    Elapsed: 0:02:13.\n",
            "\n",
            "  Average training loss: 4.33\n",
            "  Training epcoh took: 0:02:25\n",
            "\n",
            "Running Validation...\n",
            "  Accuracy: 0.19\n",
            "Validation loss decreased (4.619394 --> 4.488397).  Saving model ...\n",
            "  Validation Loss: 4.49\n",
            "  Validation took: 0:00:18\n",
            "Saving model to model_save_categorized_reduced_khan_acad/\n",
            "\n",
            "======== Epoch 9 / 30 ========\n",
            "Training...\n",
            "  Batch    40  of    131.    Elapsed: 0:00:45.\n",
            "  Batch    80  of    131.    Elapsed: 0:01:29.\n",
            "  Batch   120  of    131.    Elapsed: 0:02:13.\n",
            "\n",
            "  Average training loss: 4.17\n",
            "  Training epcoh took: 0:02:25\n",
            "\n",
            "Running Validation...\n",
            "  Accuracy: 0.19\n",
            "Validation loss decreased (4.488397 --> 4.367824).  Saving model ...\n",
            "  Validation Loss: 4.37\n",
            "  Validation took: 0:00:18\n",
            "Saving model to model_save_categorized_reduced_khan_acad/\n",
            "\n",
            "======== Epoch 10 / 30 ========\n",
            "Training...\n",
            "  Batch    40  of    131.    Elapsed: 0:00:45.\n",
            "  Batch    80  of    131.    Elapsed: 0:01:29.\n",
            "  Batch   120  of    131.    Elapsed: 0:02:13.\n",
            "\n",
            "  Average training loss: 4.03\n",
            "  Training epcoh took: 0:02:25\n",
            "\n",
            "Running Validation...\n",
            "  Accuracy: 0.21\n",
            "Validation loss decreased (4.367824 --> 4.268995).  Saving model ...\n",
            "  Validation Loss: 4.27\n",
            "  Validation took: 0:00:18\n",
            "Saving model to model_save_categorized_reduced_khan_acad/\n",
            "\n",
            "======== Epoch 11 / 30 ========\n",
            "Training...\n",
            "  Batch    40  of    131.    Elapsed: 0:00:45.\n",
            "  Batch    80  of    131.    Elapsed: 0:01:29.\n",
            "  Batch   120  of    131.    Elapsed: 0:02:13.\n",
            "\n",
            "  Average training loss: 3.89\n",
            "  Training epcoh took: 0:02:25\n",
            "\n",
            "Running Validation...\n",
            "  Accuracy: 0.21\n",
            "Validation loss decreased (4.268995 --> 4.182886).  Saving model ...\n",
            "  Validation Loss: 4.18\n",
            "  Validation took: 0:00:18\n",
            "Saving model to model_save_categorized_reduced_khan_acad/\n",
            "\n",
            "======== Epoch 12 / 30 ========\n",
            "Training...\n",
            "  Batch    40  of    131.    Elapsed: 0:00:45.\n",
            "  Batch    80  of    131.    Elapsed: 0:01:29.\n",
            "  Batch   120  of    131.    Elapsed: 0:02:13.\n",
            "\n",
            "  Average training loss: 3.77\n",
            "  Training epcoh took: 0:02:25\n",
            "\n",
            "Running Validation...\n",
            "  Accuracy: 0.23\n",
            "Validation loss decreased (4.182886 --> 4.103265).  Saving model ...\n",
            "  Validation Loss: 4.10\n",
            "  Validation took: 0:00:18\n",
            "Saving model to model_save_categorized_reduced_khan_acad/\n",
            "\n",
            "======== Epoch 13 / 30 ========\n",
            "Training...\n",
            "  Batch    40  of    131.    Elapsed: 0:00:45.\n",
            "  Batch    80  of    131.    Elapsed: 0:01:29.\n",
            "  Batch   120  of    131.    Elapsed: 0:02:13.\n",
            "\n",
            "  Average training loss: 3.66\n",
            "  Training epcoh took: 0:02:25\n",
            "\n",
            "Running Validation...\n",
            "  Accuracy: 0.24\n",
            "Validation loss decreased (4.103265 --> 4.040951).  Saving model ...\n",
            "  Validation Loss: 4.04\n",
            "  Validation took: 0:00:18\n",
            "Saving model to model_save_categorized_reduced_khan_acad/\n",
            "\n",
            "======== Epoch 14 / 30 ========\n",
            "Training...\n",
            "  Batch    40  of    131.    Elapsed: 0:00:45.\n",
            "  Batch    80  of    131.    Elapsed: 0:01:29.\n",
            "  Batch   120  of    131.    Elapsed: 0:02:13.\n",
            "\n",
            "  Average training loss: 3.55\n",
            "  Training epcoh took: 0:02:25\n",
            "\n",
            "Running Validation...\n",
            "  Accuracy: 0.25\n",
            "Validation loss decreased (4.040951 --> 3.979984).  Saving model ...\n",
            "  Validation Loss: 3.98\n",
            "  Validation took: 0:00:18\n",
            "Saving model to model_save_categorized_reduced_khan_acad/\n",
            "\n",
            "======== Epoch 15 / 30 ========\n",
            "Training...\n",
            "  Batch    40  of    131.    Elapsed: 0:00:45.\n",
            "  Batch    80  of    131.    Elapsed: 0:01:29.\n",
            "  Batch   120  of    131.    Elapsed: 0:02:13.\n",
            "\n",
            "  Average training loss: 3.46\n",
            "  Training epcoh took: 0:02:25\n",
            "\n",
            "Running Validation...\n",
            "  Accuracy: 0.26\n",
            "Validation loss decreased (3.979984 --> 3.924088).  Saving model ...\n",
            "  Validation Loss: 3.92\n",
            "  Validation took: 0:00:18\n",
            "Saving model to model_save_categorized_reduced_khan_acad/\n",
            "\n",
            "======== Epoch 16 / 30 ========\n",
            "Training...\n",
            "  Batch    40  of    131.    Elapsed: 0:00:45.\n",
            "  Batch    80  of    131.    Elapsed: 0:01:29.\n",
            "  Batch   120  of    131.    Elapsed: 0:02:13.\n",
            "\n",
            "  Average training loss: 3.38\n",
            "  Training epcoh took: 0:02:25\n",
            "\n",
            "Running Validation...\n",
            "  Accuracy: 0.26\n",
            "Validation loss decreased (3.924088 --> 3.869368).  Saving model ...\n",
            "  Validation Loss: 3.87\n",
            "  Validation took: 0:00:18\n",
            "Saving model to model_save_categorized_reduced_khan_acad/\n",
            "\n",
            "======== Epoch 17 / 30 ========\n",
            "Training...\n",
            "  Batch    40  of    131.    Elapsed: 0:00:45.\n",
            "  Batch    80  of    131.    Elapsed: 0:01:29.\n",
            "  Batch   120  of    131.    Elapsed: 0:02:13.\n",
            "\n",
            "  Average training loss: 3.30\n",
            "  Training epcoh took: 0:02:25\n",
            "\n",
            "Running Validation...\n",
            "  Accuracy: 0.27\n",
            "Validation loss decreased (3.869368 --> 3.831113).  Saving model ...\n",
            "  Validation Loss: 3.83\n",
            "  Validation took: 0:00:18\n",
            "Saving model to model_save_categorized_reduced_khan_acad/\n",
            "\n",
            "======== Epoch 18 / 30 ========\n",
            "Training...\n",
            "  Batch    40  of    131.    Elapsed: 0:00:45.\n",
            "  Batch    80  of    131.    Elapsed: 0:01:29.\n",
            "  Batch   120  of    131.    Elapsed: 0:02:13.\n",
            "\n",
            "  Average training loss: 3.22\n",
            "  Training epcoh took: 0:02:25\n",
            "\n",
            "Running Validation...\n",
            "  Accuracy: 0.27\n",
            "Validation loss decreased (3.831113 --> 3.790466).  Saving model ...\n",
            "  Validation Loss: 3.79\n",
            "  Validation took: 0:00:18\n",
            "Saving model to model_save_categorized_reduced_khan_acad/\n",
            "\n",
            "======== Epoch 19 / 30 ========\n",
            "Training...\n",
            "  Batch    40  of    131.    Elapsed: 0:00:45.\n",
            "  Batch    80  of    131.    Elapsed: 0:01:29.\n",
            "  Batch   120  of    131.    Elapsed: 0:02:13.\n",
            "\n",
            "  Average training loss: 3.15\n",
            "  Training epcoh took: 0:02:25\n",
            "\n",
            "Running Validation...\n",
            "  Accuracy: 0.28\n",
            "Validation loss decreased (3.790466 --> 3.749205).  Saving model ...\n",
            "  Validation Loss: 3.75\n",
            "  Validation took: 0:00:18\n",
            "Saving model to model_save_categorized_reduced_khan_acad/\n",
            "\n",
            "======== Epoch 20 / 30 ========\n",
            "Training...\n",
            "  Batch    40  of    131.    Elapsed: 0:00:45.\n",
            "  Batch    80  of    131.    Elapsed: 0:01:29.\n",
            "  Batch   120  of    131.    Elapsed: 0:02:13.\n",
            "\n",
            "  Average training loss: 3.10\n",
            "  Training epcoh took: 0:02:25\n",
            "\n",
            "Running Validation...\n",
            "  Accuracy: 0.28\n",
            "Validation loss decreased (3.749205 --> 3.720948).  Saving model ...\n",
            "  Validation Loss: 3.72\n",
            "  Validation took: 0:00:18\n",
            "Saving model to model_save_categorized_reduced_khan_acad/\n",
            "\n",
            "======== Epoch 21 / 30 ========\n",
            "Training...\n",
            "  Batch    40  of    131.    Elapsed: 0:00:45.\n",
            "  Batch    80  of    131.    Elapsed: 0:01:29.\n",
            "  Batch   120  of    131.    Elapsed: 0:02:13.\n",
            "\n",
            "  Average training loss: 3.05\n",
            "  Training epcoh took: 0:02:25\n",
            "\n",
            "Running Validation...\n",
            "  Accuracy: 0.29\n",
            "Validation loss decreased (3.720948 --> 3.695385).  Saving model ...\n",
            "  Validation Loss: 3.70\n",
            "  Validation took: 0:00:18\n",
            "Saving model to model_save_categorized_reduced_khan_acad/\n",
            "\n",
            "======== Epoch 22 / 30 ========\n",
            "Training...\n",
            "  Batch    40  of    131.    Elapsed: 0:00:45.\n",
            "  Batch    80  of    131.    Elapsed: 0:01:29.\n",
            "  Batch   120  of    131.    Elapsed: 0:02:13.\n",
            "\n",
            "  Average training loss: 3.00\n",
            "  Training epcoh took: 0:02:25\n",
            "\n",
            "Running Validation...\n",
            "  Accuracy: 0.29\n",
            "Validation loss decreased (3.695385 --> 3.668060).  Saving model ...\n",
            "  Validation Loss: 3.67\n",
            "  Validation took: 0:00:18\n",
            "Saving model to model_save_categorized_reduced_khan_acad/\n",
            "\n",
            "======== Epoch 23 / 30 ========\n",
            "Training...\n",
            "  Batch    40  of    131.    Elapsed: 0:00:45.\n",
            "  Batch    80  of    131.    Elapsed: 0:01:29.\n",
            "  Batch   120  of    131.    Elapsed: 0:02:13.\n",
            "\n",
            "  Average training loss: 2.95\n",
            "  Training epcoh took: 0:02:25\n",
            "\n",
            "Running Validation...\n",
            "  Accuracy: 0.29\n",
            "Validation loss decreased (3.668060 --> 3.646502).  Saving model ...\n",
            "  Validation Loss: 3.65\n",
            "  Validation took: 0:00:18\n",
            "Saving model to model_save_categorized_reduced_khan_acad/\n",
            "\n",
            "======== Epoch 24 / 30 ========\n",
            "Training...\n",
            "  Batch    40  of    131.    Elapsed: 0:00:45.\n",
            "  Batch    80  of    131.    Elapsed: 0:01:29.\n",
            "  Batch   120  of    131.    Elapsed: 0:02:13.\n",
            "\n",
            "  Average training loss: 2.91\n",
            "  Training epcoh took: 0:02:25\n",
            "\n",
            "Running Validation...\n",
            "  Accuracy: 0.30\n",
            "Validation loss decreased (3.646502 --> 3.627740).  Saving model ...\n",
            "  Validation Loss: 3.63\n",
            "  Validation took: 0:00:18\n",
            "Saving model to model_save_categorized_reduced_khan_acad/\n",
            "\n",
            "======== Epoch 25 / 30 ========\n",
            "Training...\n",
            "  Batch    40  of    131.    Elapsed: 0:00:45.\n",
            "  Batch    80  of    131.    Elapsed: 0:01:29.\n",
            "  Batch   120  of    131.    Elapsed: 0:02:13.\n",
            "\n",
            "  Average training loss: 2.89\n",
            "  Training epcoh took: 0:02:25\n",
            "\n",
            "Running Validation...\n",
            "  Accuracy: 0.30\n",
            "Validation loss decreased (3.627740 --> 3.611735).  Saving model ...\n",
            "  Validation Loss: 3.61\n",
            "  Validation took: 0:00:18\n",
            "Saving model to model_save_categorized_reduced_khan_acad/\n",
            "\n",
            "======== Epoch 26 / 30 ========\n",
            "Training...\n",
            "  Batch    40  of    131.    Elapsed: 0:00:45.\n",
            "  Batch    80  of    131.    Elapsed: 0:01:29.\n",
            "  Batch   120  of    131.    Elapsed: 0:02:13.\n",
            "\n",
            "  Average training loss: 2.86\n",
            "  Training epcoh took: 0:02:25\n",
            "\n",
            "Running Validation...\n",
            "  Accuracy: 0.30\n",
            "Validation loss decreased (3.611735 --> 3.602254).  Saving model ...\n",
            "  Validation Loss: 3.60\n",
            "  Validation took: 0:00:18\n",
            "Saving model to model_save_categorized_reduced_khan_acad/\n",
            "\n",
            "======== Epoch 27 / 30 ========\n",
            "Training...\n",
            "  Batch    40  of    131.    Elapsed: 0:00:45.\n",
            "  Batch    80  of    131.    Elapsed: 0:01:29.\n",
            "  Batch   120  of    131.    Elapsed: 0:02:13.\n",
            "\n",
            "  Average training loss: 2.83\n",
            "  Training epcoh took: 0:02:25\n",
            "\n",
            "Running Validation...\n",
            "  Accuracy: 0.30\n",
            "Validation loss decreased (3.602254 --> 3.590796).  Saving model ...\n",
            "  Validation Loss: 3.59\n",
            "  Validation took: 0:00:18\n",
            "Saving model to model_save_categorized_reduced_khan_acad/\n",
            "\n",
            "======== Epoch 28 / 30 ========\n",
            "Training...\n",
            "  Batch    40  of    131.    Elapsed: 0:00:45.\n",
            "  Batch    80  of    131.    Elapsed: 0:01:29.\n",
            "  Batch   120  of    131.    Elapsed: 0:02:13.\n",
            "\n",
            "  Average training loss: 2.81\n",
            "  Training epcoh took: 0:02:25\n",
            "\n",
            "Running Validation...\n",
            "  Accuracy: 0.30\n",
            "Validation loss decreased (3.590796 --> 3.583625).  Saving model ...\n",
            "  Validation Loss: 3.58\n",
            "  Validation took: 0:00:18\n",
            "Saving model to model_save_categorized_reduced_khan_acad/\n",
            "\n",
            "======== Epoch 29 / 30 ========\n",
            "Training...\n",
            "  Batch    40  of    131.    Elapsed: 0:00:45.\n",
            "  Batch    80  of    131.    Elapsed: 0:01:29.\n",
            "  Batch   120  of    131.    Elapsed: 0:02:13.\n",
            "\n",
            "  Average training loss: 2.80\n",
            "  Training epcoh took: 0:02:25\n",
            "\n",
            "Running Validation...\n",
            "  Accuracy: 0.30\n",
            "Validation loss decreased (3.583625 --> 3.580743).  Saving model ...\n",
            "  Validation Loss: 3.58\n",
            "  Validation took: 0:00:18\n",
            "Saving model to model_save_categorized_reduced_khan_acad/\n",
            "\n",
            "======== Epoch 30 / 30 ========\n",
            "Training...\n",
            "  Batch    40  of    131.    Elapsed: 0:00:45.\n",
            "  Batch    80  of    131.    Elapsed: 0:01:29.\n",
            "  Batch   120  of    131.    Elapsed: 0:02:13.\n",
            "\n",
            "  Average training loss: 2.79\n",
            "  Training epcoh took: 0:02:25\n",
            "\n",
            "Running Validation...\n",
            "  Accuracy: 0.30\n",
            "Validation loss decreased (3.580743 --> 3.577659).  Saving model ...\n",
            "  Validation Loss: 3.58\n",
            "  Validation took: 0:00:18\n",
            "Saving model to model_save_categorized_reduced_khan_acad/\n",
            "\n",
            "Training complete!\n",
            "Total training took 1:23:18 (h:mm:ss)\n"
          ],
          "name": "stdout"
        }
      ]
    },
    {
      "cell_type": "code",
      "metadata": {
        "id": "ttvYWxutB7qM"
      },
      "source": [
        "# !mv model_save_categorized_reduced_freeze.zip \"/content/drive/My Drive/research_lo_content_taxonomy_classification/\""
      ],
      "execution_count": null,
      "outputs": []
    },
    {
      "cell_type": "code",
      "metadata": {
        "id": "6RACcsko3kh_",
        "colab": {
          "base_uri": "https://localhost:8080/",
          "height": 965
        },
        "outputId": "05f2c443-27fb-41d7-fa01-3a4abafcb56e"
      },
      "source": [
        "import pandas as pd\n",
        "\n",
        "# Display floats with two decimal places.\n",
        "pd.set_option('precision', 2)\n",
        "\n",
        "# Create a DataFrame from our training statistics.\n",
        "df_stats = pd.DataFrame(data=training_stats)\n",
        "\n",
        "# Use the 'epoch' as the row index.\n",
        "df_stats = df_stats.set_index('epoch')\n",
        "\n",
        "# A hack to force the column headers to wrap.\n",
        "#df = df.style.set_table_styles([dict(selector=\"th\",props=[('max-width', '70px')])])\n",
        "\n",
        "# Display the table.\n",
        "df_stats"
      ],
      "execution_count": null,
      "outputs": [
        {
          "output_type": "execute_result",
          "data": {
            "text/html": [
              "<div>\n",
              "<style scoped>\n",
              "    .dataframe tbody tr th:only-of-type {\n",
              "        vertical-align: middle;\n",
              "    }\n",
              "\n",
              "    .dataframe tbody tr th {\n",
              "        vertical-align: top;\n",
              "    }\n",
              "\n",
              "    .dataframe thead th {\n",
              "        text-align: right;\n",
              "    }\n",
              "</style>\n",
              "<table border=\"1\" class=\"dataframe\">\n",
              "  <thead>\n",
              "    <tr style=\"text-align: right;\">\n",
              "      <th></th>\n",
              "      <th>Training Loss</th>\n",
              "      <th>Valid. Loss</th>\n",
              "      <th>Valid. Accur.</th>\n",
              "      <th>Training Time</th>\n",
              "      <th>Validation Time</th>\n",
              "    </tr>\n",
              "    <tr>\n",
              "      <th>epoch</th>\n",
              "      <th></th>\n",
              "      <th></th>\n",
              "      <th></th>\n",
              "      <th></th>\n",
              "      <th></th>\n",
              "    </tr>\n",
              "  </thead>\n",
              "  <tbody>\n",
              "    <tr>\n",
              "      <th>1</th>\n",
              "      <td>6.25</td>\n",
              "      <td>6.09</td>\n",
              "      <td>0.02</td>\n",
              "      <td>0:02:26</td>\n",
              "      <td>0:00:18</td>\n",
              "    </tr>\n",
              "    <tr>\n",
              "      <th>2</th>\n",
              "      <td>5.86</td>\n",
              "      <td>5.73</td>\n",
              "      <td>0.08</td>\n",
              "      <td>0:02:25</td>\n",
              "      <td>0:00:18</td>\n",
              "    </tr>\n",
              "    <tr>\n",
              "      <th>3</th>\n",
              "      <td>5.50</td>\n",
              "      <td>5.42</td>\n",
              "      <td>0.10</td>\n",
              "      <td>0:02:25</td>\n",
              "      <td>0:00:18</td>\n",
              "    </tr>\n",
              "    <tr>\n",
              "      <th>4</th>\n",
              "      <td>5.20</td>\n",
              "      <td>5.17</td>\n",
              "      <td>0.12</td>\n",
              "      <td>0:02:25</td>\n",
              "      <td>0:00:18</td>\n",
              "    </tr>\n",
              "    <tr>\n",
              "      <th>5</th>\n",
              "      <td>4.94</td>\n",
              "      <td>4.94</td>\n",
              "      <td>0.15</td>\n",
              "      <td>0:02:25</td>\n",
              "      <td>0:00:18</td>\n",
              "    </tr>\n",
              "    <tr>\n",
              "      <th>6</th>\n",
              "      <td>4.72</td>\n",
              "      <td>4.77</td>\n",
              "      <td>0.17</td>\n",
              "      <td>0:02:25</td>\n",
              "      <td>0:00:18</td>\n",
              "    </tr>\n",
              "    <tr>\n",
              "      <th>7</th>\n",
              "      <td>4.52</td>\n",
              "      <td>4.62</td>\n",
              "      <td>0.18</td>\n",
              "      <td>0:02:25</td>\n",
              "      <td>0:00:18</td>\n",
              "    </tr>\n",
              "    <tr>\n",
              "      <th>8</th>\n",
              "      <td>4.33</td>\n",
              "      <td>4.49</td>\n",
              "      <td>0.19</td>\n",
              "      <td>0:02:25</td>\n",
              "      <td>0:00:18</td>\n",
              "    </tr>\n",
              "    <tr>\n",
              "      <th>9</th>\n",
              "      <td>4.17</td>\n",
              "      <td>4.37</td>\n",
              "      <td>0.19</td>\n",
              "      <td>0:02:25</td>\n",
              "      <td>0:00:18</td>\n",
              "    </tr>\n",
              "    <tr>\n",
              "      <th>10</th>\n",
              "      <td>4.03</td>\n",
              "      <td>4.27</td>\n",
              "      <td>0.21</td>\n",
              "      <td>0:02:25</td>\n",
              "      <td>0:00:18</td>\n",
              "    </tr>\n",
              "    <tr>\n",
              "      <th>11</th>\n",
              "      <td>3.89</td>\n",
              "      <td>4.18</td>\n",
              "      <td>0.21</td>\n",
              "      <td>0:02:25</td>\n",
              "      <td>0:00:18</td>\n",
              "    </tr>\n",
              "    <tr>\n",
              "      <th>12</th>\n",
              "      <td>3.77</td>\n",
              "      <td>4.10</td>\n",
              "      <td>0.23</td>\n",
              "      <td>0:02:25</td>\n",
              "      <td>0:00:18</td>\n",
              "    </tr>\n",
              "    <tr>\n",
              "      <th>13</th>\n",
              "      <td>3.66</td>\n",
              "      <td>4.04</td>\n",
              "      <td>0.24</td>\n",
              "      <td>0:02:25</td>\n",
              "      <td>0:00:18</td>\n",
              "    </tr>\n",
              "    <tr>\n",
              "      <th>14</th>\n",
              "      <td>3.55</td>\n",
              "      <td>3.98</td>\n",
              "      <td>0.25</td>\n",
              "      <td>0:02:25</td>\n",
              "      <td>0:00:18</td>\n",
              "    </tr>\n",
              "    <tr>\n",
              "      <th>15</th>\n",
              "      <td>3.46</td>\n",
              "      <td>3.92</td>\n",
              "      <td>0.26</td>\n",
              "      <td>0:02:25</td>\n",
              "      <td>0:00:18</td>\n",
              "    </tr>\n",
              "    <tr>\n",
              "      <th>16</th>\n",
              "      <td>3.38</td>\n",
              "      <td>3.87</td>\n",
              "      <td>0.26</td>\n",
              "      <td>0:02:25</td>\n",
              "      <td>0:00:18</td>\n",
              "    </tr>\n",
              "    <tr>\n",
              "      <th>17</th>\n",
              "      <td>3.30</td>\n",
              "      <td>3.83</td>\n",
              "      <td>0.27</td>\n",
              "      <td>0:02:25</td>\n",
              "      <td>0:00:18</td>\n",
              "    </tr>\n",
              "    <tr>\n",
              "      <th>18</th>\n",
              "      <td>3.22</td>\n",
              "      <td>3.79</td>\n",
              "      <td>0.27</td>\n",
              "      <td>0:02:25</td>\n",
              "      <td>0:00:18</td>\n",
              "    </tr>\n",
              "    <tr>\n",
              "      <th>19</th>\n",
              "      <td>3.15</td>\n",
              "      <td>3.75</td>\n",
              "      <td>0.28</td>\n",
              "      <td>0:02:25</td>\n",
              "      <td>0:00:18</td>\n",
              "    </tr>\n",
              "    <tr>\n",
              "      <th>20</th>\n",
              "      <td>3.10</td>\n",
              "      <td>3.72</td>\n",
              "      <td>0.28</td>\n",
              "      <td>0:02:25</td>\n",
              "      <td>0:00:18</td>\n",
              "    </tr>\n",
              "    <tr>\n",
              "      <th>21</th>\n",
              "      <td>3.05</td>\n",
              "      <td>3.70</td>\n",
              "      <td>0.29</td>\n",
              "      <td>0:02:25</td>\n",
              "      <td>0:00:18</td>\n",
              "    </tr>\n",
              "    <tr>\n",
              "      <th>22</th>\n",
              "      <td>3.00</td>\n",
              "      <td>3.67</td>\n",
              "      <td>0.29</td>\n",
              "      <td>0:02:25</td>\n",
              "      <td>0:00:18</td>\n",
              "    </tr>\n",
              "    <tr>\n",
              "      <th>23</th>\n",
              "      <td>2.95</td>\n",
              "      <td>3.65</td>\n",
              "      <td>0.29</td>\n",
              "      <td>0:02:25</td>\n",
              "      <td>0:00:18</td>\n",
              "    </tr>\n",
              "    <tr>\n",
              "      <th>24</th>\n",
              "      <td>2.91</td>\n",
              "      <td>3.63</td>\n",
              "      <td>0.30</td>\n",
              "      <td>0:02:25</td>\n",
              "      <td>0:00:18</td>\n",
              "    </tr>\n",
              "    <tr>\n",
              "      <th>25</th>\n",
              "      <td>2.89</td>\n",
              "      <td>3.61</td>\n",
              "      <td>0.30</td>\n",
              "      <td>0:02:25</td>\n",
              "      <td>0:00:18</td>\n",
              "    </tr>\n",
              "    <tr>\n",
              "      <th>26</th>\n",
              "      <td>2.86</td>\n",
              "      <td>3.60</td>\n",
              "      <td>0.30</td>\n",
              "      <td>0:02:25</td>\n",
              "      <td>0:00:18</td>\n",
              "    </tr>\n",
              "    <tr>\n",
              "      <th>27</th>\n",
              "      <td>2.83</td>\n",
              "      <td>3.59</td>\n",
              "      <td>0.30</td>\n",
              "      <td>0:02:25</td>\n",
              "      <td>0:00:18</td>\n",
              "    </tr>\n",
              "    <tr>\n",
              "      <th>28</th>\n",
              "      <td>2.81</td>\n",
              "      <td>3.58</td>\n",
              "      <td>0.30</td>\n",
              "      <td>0:02:25</td>\n",
              "      <td>0:00:18</td>\n",
              "    </tr>\n",
              "    <tr>\n",
              "      <th>29</th>\n",
              "      <td>2.80</td>\n",
              "      <td>3.58</td>\n",
              "      <td>0.30</td>\n",
              "      <td>0:02:25</td>\n",
              "      <td>0:00:18</td>\n",
              "    </tr>\n",
              "    <tr>\n",
              "      <th>30</th>\n",
              "      <td>2.79</td>\n",
              "      <td>3.58</td>\n",
              "      <td>0.30</td>\n",
              "      <td>0:02:25</td>\n",
              "      <td>0:00:18</td>\n",
              "    </tr>\n",
              "  </tbody>\n",
              "</table>\n",
              "</div>"
            ],
            "text/plain": [
              "       Training Loss  Valid. Loss  Valid. Accur. Training Time Validation Time\n",
              "epoch                                                                         \n",
              "1               6.25         6.09           0.02       0:02:26         0:00:18\n",
              "2               5.86         5.73           0.08       0:02:25         0:00:18\n",
              "3               5.50         5.42           0.10       0:02:25         0:00:18\n",
              "4               5.20         5.17           0.12       0:02:25         0:00:18\n",
              "5               4.94         4.94           0.15       0:02:25         0:00:18\n",
              "6               4.72         4.77           0.17       0:02:25         0:00:18\n",
              "7               4.52         4.62           0.18       0:02:25         0:00:18\n",
              "8               4.33         4.49           0.19       0:02:25         0:00:18\n",
              "9               4.17         4.37           0.19       0:02:25         0:00:18\n",
              "10              4.03         4.27           0.21       0:02:25         0:00:18\n",
              "11              3.89         4.18           0.21       0:02:25         0:00:18\n",
              "12              3.77         4.10           0.23       0:02:25         0:00:18\n",
              "13              3.66         4.04           0.24       0:02:25         0:00:18\n",
              "14              3.55         3.98           0.25       0:02:25         0:00:18\n",
              "15              3.46         3.92           0.26       0:02:25         0:00:18\n",
              "16              3.38         3.87           0.26       0:02:25         0:00:18\n",
              "17              3.30         3.83           0.27       0:02:25         0:00:18\n",
              "18              3.22         3.79           0.27       0:02:25         0:00:18\n",
              "19              3.15         3.75           0.28       0:02:25         0:00:18\n",
              "20              3.10         3.72           0.28       0:02:25         0:00:18\n",
              "21              3.05         3.70           0.29       0:02:25         0:00:18\n",
              "22              3.00         3.67           0.29       0:02:25         0:00:18\n",
              "23              2.95         3.65           0.29       0:02:25         0:00:18\n",
              "24              2.91         3.63           0.30       0:02:25         0:00:18\n",
              "25              2.89         3.61           0.30       0:02:25         0:00:18\n",
              "26              2.86         3.60           0.30       0:02:25         0:00:18\n",
              "27              2.83         3.59           0.30       0:02:25         0:00:18\n",
              "28              2.81         3.58           0.30       0:02:25         0:00:18\n",
              "29              2.80         3.58           0.30       0:02:25         0:00:18\n",
              "30              2.79         3.58           0.30       0:02:25         0:00:18"
            ]
          },
          "metadata": {
            "tags": []
          },
          "execution_count": 121
        }
      ]
    },
    {
      "cell_type": "code",
      "metadata": {
        "id": "o5TicdiP3kiC",
        "colab": {
          "base_uri": "https://localhost:8080/",
          "height": 427
        },
        "outputId": "00f146c0-8313-41da-b2d8-95f16c79f725"
      },
      "source": [
        "import matplotlib.pyplot as plt\n",
        "% matplotlib inline\n",
        "\n",
        "import seaborn as sns\n",
        "\n",
        "# Use plot styling from seaborn.\n",
        "sns.set(style='darkgrid')\n",
        "\n",
        "# Increase the plot size and font size.\n",
        "sns.set(font_scale=1.5)\n",
        "plt.rcParams[\"figure.figsize\"] = (12,6)\n",
        "\n",
        "# Plot the learning curve.\n",
        "plt.plot(df_stats['Training Loss'], 'b-o', label=\"Training\")\n",
        "plt.plot(df_stats['Valid. Loss'], 'g-o', label=\"Validation\")\n",
        "\n",
        "# Label the plot.\n",
        "plt.title(\"Training & Validation Loss\")\n",
        "plt.xlabel(\"Epoch\")\n",
        "plt.ylabel(\"Loss\")\n",
        "plt.legend()\n",
        "plt.xticks([1, 2, 3, 4,5,6,7,8,9,10,11,12,13,14,15,16,17,18,19,20])\n",
        "\n",
        "plt.show()"
      ],
      "execution_count": null,
      "outputs": [
        {
          "output_type": "display_data",
          "data": {
            "image/png": "[encoded data removed]",
            "text/plain": [
              "<Figure size 864x432 with 1 Axes>"
            ]
          },
          "metadata": {
            "tags": []
          }
        }
      ]
    },
    {
      "cell_type": "code",
      "metadata": {
        "id": "DbiTDpVv3kiF",
        "colab": {
          "base_uri": "https://localhost:8080/"
        },
        "outputId": "912d3597-6ef1-4506-8340-100d0b9cbd56"
      },
      "source": [
        "import os\n",
        "#no need to run during inference\n",
        "\n",
        "output_dir = 'model_save_categorized_reduced_khan_acad/'\n",
        "\n",
        "# Create output directory if needed\n",
        "if not os.path.exists(output_dir):\n",
        "    os.makedirs(output_dir)\n",
        "\n",
        "print(\"Saving model to %s\" % output_dir)\n",
        "\n",
        "\n",
        "model_to_save = model.module if hasattr(model, 'module') else model  # Take care of distributed/parallel training\n",
        "model_to_save.save_pretrained(output_dir)\n",
        "tokenizer.save_pretrained(output_dir)"
      ],
      "execution_count": null,
      "outputs": [
        {
          "output_type": "stream",
          "text": [
            "Saving model to model_save_categorized_reduced_khan_acad/\n"
          ],
          "name": "stdout"
        },
        {
          "output_type": "execute_result",
          "data": {
            "text/plain": [
              "('model_save_categorized_reduced_khan_acad/vocab.txt',\n",
              " 'model_save_categorized_reduced_khan_acad/special_tokens_map.json',\n",
              " 'model_save_categorized_reduced_khan_acad/added_tokens.json')"
            ]
          },
          "metadata": {
            "tags": []
          },
          "execution_count": 123
        }
      ]
    },
    {
      "cell_type": "code",
      "metadata": {
        "id": "1U2UQ29a3kiI",
        "colab": {
          "base_uri": "https://localhost:8080/"
        },
        "outputId": "75c587db-a020-4993-8626-849586586fd1"
      },
      "source": [
        "!pip install joblib\n",
        "import joblib\n",
        "joblib.dump(LE, \"label_encoder\")\n"
      ],
      "execution_count": null,
      "outputs": [
        {
          "output_type": "stream",
          "text": [
            "Requirement already satisfied: joblib in /usr/local/lib/python3.6/dist-packages (1.0.0)\n"
          ],
          "name": "stdout"
        },
        {
          "output_type": "execute_result",
          "data": {
            "text/plain": [
              "['label_encoder']"
            ]
          },
          "metadata": {
            "tags": []
          },
          "execution_count": 124
        }
      ]
    },
    {
      "cell_type": "markdown",
      "metadata": {
        "id": "hpBqtI0wVe0i"
      },
      "source": [
        ""
      ]
    },
    {
      "cell_type": "code",
      "metadata": {
        "id": "dpGY8vSDI6u4",
        "colab": {
          "base_uri": "https://localhost:8080/"
        },
        "outputId": "3c626ca2-5f1c-48c8-fbb7-47e000048fe5"
      },
      "source": [
        "!zip -r model_save_categorized_reduced_khan_acad.zip model_save_categorized_reduced_khan_acad\n",
        "# files.download('model_save_categorized_reduced_freeze.zip')"
      ],
      "execution_count": null,
      "outputs": [
        {
          "output_type": "stream",
          "text": [
            "  adding: model_save_categorized_reduced_khan_acad/ (stored 0%)\n",
            "  adding: model_save_categorized_reduced_khan_acad/tokenizer_config.json (stored 0%)\n",
            "  adding: model_save_categorized_reduced_khan_acad/pytorch_model.bin (deflated 7%)\n",
            "  adding: model_save_categorized_reduced_khan_acad/special_tokens_map.json (deflated 40%)\n",
            "  adding: model_save_categorized_reduced_khan_acad/config.json (deflated 78%)\n",
            "  adding: model_save_categorized_reduced_khan_acad/vocab.txt (deflated 53%)\n"
          ],
          "name": "stdout"
        }
      ]
    },
    {
      "cell_type": "code",
      "metadata": {
        "id": "HvFDCDIxKDOf",
        "colab": {
          "base_uri": "https://localhost:8080/"
        },
        "outputId": "020ce06a-3844-49ba-8baa-414c6e63d2fe"
      },
      "source": [
        "!zip -r label_encoder_categorized_reduced_QC.zip label_encoder\n",
        "# files.download('label_encoder_categorized_reduced_round_2.zip')"
      ],
      "execution_count": null,
      "outputs": [
        {
          "output_type": "stream",
          "text": [
            "updating: label_encoder (deflated 71%)\n"
          ],
          "name": "stdout"
        }
      ]
    },
    {
      "cell_type": "code",
      "metadata": {
        "id": "OXAqaCWDNxK6"
      },
      "source": [
        ""
      ],
      "execution_count": null,
      "outputs": []
    }
  ]
}