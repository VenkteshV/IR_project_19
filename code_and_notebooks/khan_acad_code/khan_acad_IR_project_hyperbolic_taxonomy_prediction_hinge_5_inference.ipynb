{
  "nbformat": 4,
  "nbformat_minor": 0,
  "metadata": {
    "accelerator": "GPU",
    "colab": {
      "name": "khan_acad_IR_project_hyperbolic_taxonomy_prediction_hinge_5_inference.ipynb",
      "provenance": [],
      "collapsed_sections": []
    },
    "kernelspec": {
      "display_name": "Python 3",
      "language": "python",
      "name": "python3"
    },
    "language_info": {
      "codemirror_mode": {
        "name": "ipython",
        "version": 3
      },
      "file_extension": ".py",
      "mimetype": "text/x-python",
      "name": "python",
      "nbconvert_exporter": "python",
      "pygments_lexer": "ipython3",
      "version": "3.7.7"
    }
  },
  "cells": [
    {
      "cell_type": "code",
      "metadata": {
        "id": "sR9av2JU3kf6",
        "colab": {
          "base_uri": "https://localhost:8080/"
        },
        "outputId": "04148c19-ff68-4694-a906-452215af4423"
      },
      "source": [
        "import os\n",
        "os.environ['CUDA_LAUNCH_BLOCKING'] = \"1\"\n",
        "import torch\n",
        "import logging\n",
        "logging.basicConfig(level=logging.ERROR)\n",
        "# If there's a GPU available...\n",
        "if torch.cuda.is_available():    \n",
        "\n",
        "    # Tell PyTorch to use the GPU.    \n",
        "    device = torch.device(\"cuda\")\n",
        "\n",
        "    print('There are %d GPU(s) available.' % torch.cuda.device_count())\n",
        "\n",
        "    print('We will use the GPU:', torch.cuda.get_device_name(0))\n",
        "\n",
        "# If not...\n",
        "else:\n",
        "    print('No GPU available, using the CPU instead.')\n",
        "    device = torch.device(\"cpu\")"
      ],
      "execution_count": 1,
      "outputs": [
        {
          "output_type": "stream",
          "text": [
            "There are 1 GPU(s) available.\n",
            "We will use the GPU: Tesla T4\n"
          ],
          "name": "stdout"
        }
      ]
    },
    {
      "cell_type": "code",
      "metadata": {
        "colab": {
          "base_uri": "https://localhost:8080/"
        },
        "id": "0QaapQsWlwZK",
        "outputId": "f35d7179-8fa5-4005-c728-b41a9a156cca"
      },
      "source": [
        "!pip install tensorflow==1.13.1"
      ],
      "execution_count": 2,
      "outputs": [
        {
          "output_type": "stream",
          "text": [
            "Requirement already satisfied: tensorflow==1.13.1 in /usr/local/lib/python3.7/dist-packages (1.13.1)\n",
            "Requirement already satisfied: keras-applications>=1.0.6 in /usr/local/lib/python3.7/dist-packages (from tensorflow==1.13.1) (1.0.8)\n",
            "Requirement already satisfied: absl-py>=0.1.6 in /usr/local/lib/python3.7/dist-packages (from tensorflow==1.13.1) (0.12.0)\n",
            "Requirement already satisfied: termcolor>=1.1.0 in /usr/local/lib/python3.7/dist-packages (from tensorflow==1.13.1) (1.1.0)\n",
            "Requirement already satisfied: astor>=0.6.0 in /usr/local/lib/python3.7/dist-packages (from tensorflow==1.13.1) (0.8.1)\n",
            "Requirement already satisfied: grpcio>=1.8.6 in /usr/local/lib/python3.7/dist-packages (from tensorflow==1.13.1) (1.32.0)\n",
            "Requirement already satisfied: gast>=0.2.0 in /usr/local/lib/python3.7/dist-packages (from tensorflow==1.13.1) (0.3.3)\n",
            "Requirement already satisfied: wheel>=0.26 in /usr/local/lib/python3.7/dist-packages (from tensorflow==1.13.1) (0.36.2)\n",
            "Requirement already satisfied: tensorboard<1.14.0,>=1.13.0 in /usr/local/lib/python3.7/dist-packages (from tensorflow==1.13.1) (1.13.1)\n",
            "Requirement already satisfied: protobuf>=3.6.1 in /usr/local/lib/python3.7/dist-packages (from tensorflow==1.13.1) (3.12.4)\n",
            "Requirement already satisfied: tensorflow-estimator<1.14.0rc0,>=1.13.0 in /usr/local/lib/python3.7/dist-packages (from tensorflow==1.13.1) (1.13.0)\n",
            "Requirement already satisfied: six>=1.10.0 in /usr/local/lib/python3.7/dist-packages (from tensorflow==1.13.1) (1.15.0)\n",
            "Requirement already satisfied: keras-preprocessing>=1.0.5 in /usr/local/lib/python3.7/dist-packages (from tensorflow==1.13.1) (1.1.2)\n",
            "Requirement already satisfied: numpy>=1.13.3 in /usr/local/lib/python3.7/dist-packages (from tensorflow==1.13.1) (1.19.5)\n",
            "Requirement already satisfied: h5py in /usr/local/lib/python3.7/dist-packages (from keras-applications>=1.0.6->tensorflow==1.13.1) (2.10.0)\n",
            "Requirement already satisfied: markdown>=2.6.8 in /usr/local/lib/python3.7/dist-packages (from tensorboard<1.14.0,>=1.13.0->tensorflow==1.13.1) (3.3.4)\n",
            "Requirement already satisfied: werkzeug>=0.11.15 in /usr/local/lib/python3.7/dist-packages (from tensorboard<1.14.0,>=1.13.0->tensorflow==1.13.1) (1.0.1)\n",
            "Requirement already satisfied: setuptools in /usr/local/lib/python3.7/dist-packages (from protobuf>=3.6.1->tensorflow==1.13.1) (56.1.0)\n",
            "Requirement already satisfied: mock>=2.0.0 in /usr/local/lib/python3.7/dist-packages (from tensorflow-estimator<1.14.0rc0,>=1.13.0->tensorflow==1.13.1) (4.0.3)\n",
            "Requirement already satisfied: importlib-metadata; python_version < \"3.8\" in /usr/local/lib/python3.7/dist-packages (from markdown>=2.6.8->tensorboard<1.14.0,>=1.13.0->tensorflow==1.13.1) (3.10.1)\n",
            "Requirement already satisfied: typing-extensions>=3.6.4; python_version < \"3.8\" in /usr/local/lib/python3.7/dist-packages (from importlib-metadata; python_version < \"3.8\"->markdown>=2.6.8->tensorboard<1.14.0,>=1.13.0->tensorflow==1.13.1) (3.7.4.3)\n",
            "Requirement already satisfied: zipp>=0.5 in /usr/local/lib/python3.7/dist-packages (from importlib-metadata; python_version < \"3.8\"->markdown>=2.6.8->tensorboard<1.14.0,>=1.13.0->tensorflow==1.13.1) (3.4.1)\n"
          ],
          "name": "stdout"
        }
      ]
    },
    {
      "cell_type": "code",
      "metadata": {
        "id": "da-zaZJUGMFU",
        "colab": {
          "base_uri": "https://localhost:8080/"
        },
        "outputId": "75b4cc9a-880d-4507-ac20-9ba826c50df1"
      },
      "source": [
        "from google.colab import drive\n",
        "drive.mount('/content/drive')"
      ],
      "execution_count": 3,
      "outputs": [
        {
          "output_type": "stream",
          "text": [
            "Drive already mounted at /content/drive; to attempt to forcibly remount, call drive.mount(\"/content/drive\", force_remount=True).\n"
          ],
          "name": "stdout"
        }
      ]
    },
    {
      "cell_type": "code",
      "metadata": {
        "id": "plVnrNiy2lme"
      },
      "source": [
        "!cp \"/content/drive/MyDrive/Information_retrieval_project/khan_acad/train_khan_acad.csv\" /content\n",
        "!cp \"/content/drive/MyDrive/Information_retrieval_project/khan_acad/test_khan_acad.csv\" /content\n",
        "!cp \"/content/drive/MyDrive/Information_retrieval_project/khan_acad/val_khan_acad.csv\" /content\n"
      ],
      "execution_count": 4,
      "outputs": []
    },
    {
      "cell_type": "code",
      "metadata": {
        "id": "PlE6vskY9VmG"
      },
      "source": [
        "!cp -r \"/content/drive/My Drive/Information_retrieval_project/khan_acad/IR_project_khan_acad_model_hyperbolic_hinge_5\" /content/"
      ],
      "execution_count": 5,
      "outputs": []
    },
    {
      "cell_type": "code",
      "metadata": {
        "id": "BzKeqoCs3kgA",
        "colab": {
          "base_uri": "https://localhost:8080/"
        },
        "outputId": "00f1b330-eef1-4184-d2e2-b070568493f4"
      },
      "source": [
        "!pip install transformers==3.2.0"
      ],
      "execution_count": null,
      "outputs": [
        {
          "output_type": "stream",
          "text": [
            "Requirement already satisfied: transformers==3.2.0 in /usr/local/lib/python3.7/dist-packages (3.2.0)\n",
            "Requirement already satisfied: filelock in /usr/local/lib/python3.7/dist-packages (from transformers==3.2.0) (3.0.12)\n",
            "Requirement already satisfied: sacremoses in /usr/local/lib/python3.7/dist-packages (from transformers==3.2.0) (0.0.45)\n",
            "Requirement already satisfied: requests in /usr/local/lib/python3.7/dist-packages (from transformers==3.2.0) (2.23.0)\n",
            "Requirement already satisfied: regex!=2019.12.17 in /usr/local/lib/python3.7/dist-packages (from transformers==3.2.0) (2019.12.20)\n",
            "Requirement already satisfied: sentencepiece!=0.1.92 in /usr/local/lib/python3.7/dist-packages (from transformers==3.2.0) (0.1.95)\n",
            "Requirement already satisfied: packaging in /usr/local/lib/python3.7/dist-packages (from transformers==3.2.0) (20.9)\n",
            "Requirement already satisfied: tqdm>=4.27 in /usr/local/lib/python3.7/dist-packages (from transformers==3.2.0) (4.41.1)\n",
            "Requirement already satisfied: tokenizers==0.8.1.rc2 in /usr/local/lib/python3.7/dist-packages (from transformers==3.2.0) (0.8.1rc2)\n",
            "Requirement already satisfied: numpy in /usr/local/lib/python3.7/dist-packages (from transformers==3.2.0) (1.19.5)\n",
            "Requirement already satisfied: six in /usr/local/lib/python3.7/dist-packages (from sacremoses->transformers==3.2.0) (1.15.0)\n",
            "Requirement already satisfied: click in /usr/local/lib/python3.7/dist-packages (from sacremoses->transformers==3.2.0) (7.1.2)\n",
            "Requirement already satisfied: joblib in /usr/local/lib/python3.7/dist-packages (from sacremoses->transformers==3.2.0) (1.0.1)\n",
            "Requirement already satisfied: certifi>=2017.4.17 in /usr/local/lib/python3.7/dist-packages (from requests->transformers==3.2.0) (2020.12.5)\n",
            "Requirement already satisfied: chardet<4,>=3.0.2 in /usr/local/lib/python3.7/dist-packages (from requests->transformers==3.2.0) (3.0.4)\n",
            "Requirement already satisfied: urllib3!=1.25.0,!=1.25.1,<1.26,>=1.21.1 in /usr/local/lib/python3.7/dist-packages (from requests->transformers==3.2.0) (1.24.3)\n",
            "Requirement already satisfied: idna<3,>=2.5 in /usr/local/lib/python3.7/dist-packages (from requests->transformers==3.2.0) (2.10)\n",
            "Requirement already satisfied: pyparsing>=2.0.2 in /usr/local/lib/python3.7/dist-packages (from packaging->transformers==3.2.0) (2.4.7)\n"
          ],
          "name": "stdout"
        }
      ]
    },
    {
      "cell_type": "code",
      "metadata": {
        "id": "gf-OXnTs-ZhS"
      },
      "source": [
        "\n"
      ],
      "execution_count": null,
      "outputs": []
    },
    {
      "cell_type": "code",
      "metadata": {
        "id": "HZFv4UU8sLTM",
        "colab": {
          "base_uri": "https://localhost:8080/"
        },
        "outputId": "f18e1266-ec6d-404c-c5b2-8760b6460de5"
      },
      "source": [
        "!pip install git+https://github.com/geoopt/geoopt.git\n",
        "! pip install git+https://github.com/ferrine/hyrnn.git"
      ],
      "execution_count": 7,
      "outputs": [
        {
          "output_type": "stream",
          "text": [
            "Collecting git+https://github.com/geoopt/geoopt.git\n",
            "  Cloning https://github.com/geoopt/geoopt.git to /tmp/pip-req-build-rt5ccgnq\n",
            "  Running command git clone -q https://github.com/geoopt/geoopt.git /tmp/pip-req-build-rt5ccgnq\n",
            "Requirement already satisfied (use --upgrade to upgrade): geoopt==0.3.1 from git+https://github.com/geoopt/geoopt.git in /usr/local/lib/python3.7/dist-packages\n",
            "Requirement already satisfied: torch>=1.4.0 in /usr/local/lib/python3.7/dist-packages (from geoopt==0.3.1) (1.8.1+cu101)\n",
            "Requirement already satisfied: numpy in /usr/local/lib/python3.7/dist-packages (from geoopt==0.3.1) (1.19.5)\n",
            "Requirement already satisfied: typing-extensions in /usr/local/lib/python3.7/dist-packages (from torch>=1.4.0->geoopt==0.3.1) (3.7.4.3)\n",
            "Building wheels for collected packages: geoopt\n",
            "  Building wheel for geoopt (setup.py) ... \u001b[?25l\u001b[?25hdone\n",
            "  Created wheel for geoopt: filename=geoopt-0.3.1-cp37-none-any.whl size=76194 sha256=fd06d50220a169af9a4d90ede43aec67f46028811f93dfaa38571c0f9d018cfa\n",
            "  Stored in directory: /tmp/pip-ephem-wheel-cache-dtniyks_/wheels/10/df/30/e0d857f034c142ca5f38af048b62aae3da773b272553e5dd21\n",
            "Successfully built geoopt\n",
            "Collecting git+https://github.com/ferrine/hyrnn.git\n",
            "  Cloning https://github.com/ferrine/hyrnn.git to /tmp/pip-req-build-boebzfe4\n",
            "  Running command git clone -q https://github.com/ferrine/hyrnn.git /tmp/pip-req-build-boebzfe4\n",
            "Requirement already satisfied (use --upgrade to upgrade): hyrnn==0.0.0 from git+https://github.com/ferrine/hyrnn.git in /usr/local/lib/python3.7/dist-packages\n",
            "Requirement already satisfied: torch>=1.0.0 in /usr/local/lib/python3.7/dist-packages (from hyrnn==0.0.0) (1.8.1+cu101)\n",
            "Requirement already satisfied: numpy in /usr/local/lib/python3.7/dist-packages (from hyrnn==0.0.0) (1.19.5)\n",
            "Requirement already satisfied: typing-extensions in /usr/local/lib/python3.7/dist-packages (from torch>=1.0.0->hyrnn==0.0.0) (3.7.4.3)\n",
            "Building wheels for collected packages: hyrnn\n",
            "  Building wheel for hyrnn (setup.py) ... \u001b[?25l\u001b[?25hdone\n",
            "  Created wheel for hyrnn: filename=hyrnn-0.0.0-cp37-none-any.whl size=13955 sha256=a2403d5d3990010fbcfd7603e3b9ed14708ff316af02ae2789eb4d1a30f8252c\n",
            "  Stored in directory: /tmp/pip-ephem-wheel-cache-nu_jnpx_/wheels/24/c3/64/cc0e9d25d466081dc154a2a8843157f54d845b916b4ba66418\n",
            "Successfully built hyrnn\n"
          ],
          "name": "stdout"
        }
      ]
    },
    {
      "cell_type": "code",
      "metadata": {
        "id": "GsADhaO93kgD",
        "colab": {
          "base_uri": "https://localhost:8080/",
          "height": 402
        },
        "outputId": "7c4dbfc1-6c78-4920-845f-938eeee09325"
      },
      "source": [
        "import pandas as pd\n",
        "train_data = pd.read_csv(\"train_khan_acad.csv\")\n",
        "val_data = pd.read_csv(\"val_khan_acad.csv\")\n",
        "test_data = pd.read_csv(\"test_khan_acad.csv\")\n",
        "\n",
        "train_data\n"
      ],
      "execution_count": 8,
      "outputs": [
        {
          "output_type": "execute_result",
          "data": {
            "text/html": [
              "<div>\n",
              "<style scoped>\n",
              "    .dataframe tbody tr th:only-of-type {\n",
              "        vertical-align: middle;\n",
              "    }\n",
              "\n",
              "    .dataframe tbody tr th {\n",
              "        vertical-align: top;\n",
              "    }\n",
              "\n",
              "    .dataframe thead th {\n",
              "        text-align: right;\n",
              "    }\n",
              "</style>\n",
              "<table border=\"1\" class=\"dataframe\">\n",
              "  <thead>\n",
              "    <tr style=\"text-align: right;\">\n",
              "      <th></th>\n",
              "      <th>video_transcripts</th>\n",
              "      <th>hierarchy</th>\n",
              "    </tr>\n",
              "  </thead>\n",
              "  <tbody>\n",
              "    <tr>\n",
              "      <th>0</th>\n",
              "      <td>In the last couple of videos we saw that we c...</td>\n",
              "      <td>math&gt;&gt;multivariable-calculus&gt;&gt;multivariable-de...</td>\n",
              "    </tr>\n",
              "    <tr>\n",
              "      <th>1</th>\n",
              "      <td>-  What we're going to do in this video is gi...</td>\n",
              "      <td>science&gt;&gt;ap-biology&gt;&gt;natural-selection</td>\n",
              "    </tr>\n",
              "    <tr>\n",
              "      <th>2</th>\n",
              "      <td>So once again, we have three equal, or we say...</td>\n",
              "      <td>math&gt;&gt;pre-algebra&gt;&gt;pre-algebra-equations-expre...</td>\n",
              "    </tr>\n",
              "    <tr>\n",
              "      <th>3</th>\n",
              "      <td>-  Liz's math test included a survey question...</td>\n",
              "      <td>math&gt;&gt;engageny-alg-1&gt;&gt;alg1-2</td>\n",
              "    </tr>\n",
              "    <tr>\n",
              "      <th>4</th>\n",
              "      <td>- The following two equations form a linear s...</td>\n",
              "      <td>math&gt;&gt;algebra-home&gt;&gt;alg-system-of-equations</td>\n",
              "    </tr>\n",
              "    <tr>\n",
              "      <th>...</th>\n",
              "      <td>...</td>\n",
              "      <td>...</td>\n",
              "    </tr>\n",
              "    <tr>\n",
              "      <th>4183</th>\n",
              "      <td>-  Hello everyone. So this is what I might ca...</td>\n",
              "      <td>math&gt;&gt;multivariable-calculus&gt;&gt;multivariable-de...</td>\n",
              "    </tr>\n",
              "    <tr>\n",
              "      <th>4184</th>\n",
              "      <td>-  Let's try now to subtract some two-digit n...</td>\n",
              "      <td>math&gt;&gt;early-math&gt;&gt;cc-early-math-add-sub-100</td>\n",
              "    </tr>\n",
              "    <tr>\n",
              "      <th>4185</th>\n",
              "      <td>- Let's say that I have a circle. My best att...</td>\n",
              "      <td>math&gt;&gt;engageny-geo&gt;&gt;geo-5</td>\n",
              "    </tr>\n",
              "    <tr>\n",
              "      <th>4186</th>\n",
              "      <td>- So let's look at the female reproductive cy...</td>\n",
              "      <td>science&gt;&gt;health-and-medicine&gt;&gt;human-anatomy-an...</td>\n",
              "    </tr>\n",
              "    <tr>\n",
              "      <th>4187</th>\n",
              "      <td>-  We're now in the home stretch. We just hav...</td>\n",
              "      <td>math&gt;&gt;multivariable-calculus&gt;&gt;greens-theorem-a...</td>\n",
              "    </tr>\n",
              "  </tbody>\n",
              "</table>\n",
              "<p>4188 rows × 2 columns</p>\n",
              "</div>"
            ],
            "text/plain": [
              "                                      video_transcripts                                          hierarchy\n",
              "0      In the last couple of videos we saw that we c...  math>>multivariable-calculus>>multivariable-de...\n",
              "1      -  What we're going to do in this video is gi...             science>>ap-biology>>natural-selection\n",
              "2      So once again, we have three equal, or we say...  math>>pre-algebra>>pre-algebra-equations-expre...\n",
              "3      -  Liz's math test included a survey question...                       math>>engageny-alg-1>>alg1-2\n",
              "4      - The following two equations form a linear s...        math>>algebra-home>>alg-system-of-equations\n",
              "...                                                 ...                                                ...\n",
              "4183   -  Hello everyone. So this is what I might ca...  math>>multivariable-calculus>>multivariable-de...\n",
              "4184   -  Let's try now to subtract some two-digit n...        math>>early-math>>cc-early-math-add-sub-100\n",
              "4185   - Let's say that I have a circle. My best att...                          math>>engageny-geo>>geo-5\n",
              "4186   - So let's look at the female reproductive cy...  science>>health-and-medicine>>human-anatomy-an...\n",
              "4187   -  We're now in the home stretch. We just hav...  math>>multivariable-calculus>>greens-theorem-a...\n",
              "\n",
              "[4188 rows x 2 columns]"
            ]
          },
          "metadata": {
            "tags": []
          },
          "execution_count": 8
        }
      ]
    },
    {
      "cell_type": "code",
      "metadata": {
        "id": "v2GT0Ti4-HLH",
        "colab": {
          "base_uri": "https://localhost:8080/"
        },
        "outputId": "97119581-5e39-435a-cb7e-7bcc0309600a"
      },
      "source": [
        "set(train_data[\"video_transcripts\"].values).intersection(set(test_data[\"video_transcripts\"].values))"
      ],
      "execution_count": 9,
      "outputs": [
        {
          "output_type": "execute_result",
          "data": {
            "text/plain": [
              "set()"
            ]
          },
          "metadata": {
            "tags": []
          },
          "execution_count": 9
        }
      ]
    },
    {
      "cell_type": "code",
      "metadata": {
        "id": "iQhO6qqt6lge"
      },
      "source": [
        "from google.colab import files"
      ],
      "execution_count": 10,
      "outputs": []
    },
    {
      "cell_type": "code",
      "metadata": {
        "id": "DD4IAgG1XQGp"
      },
      "source": [
        "import re\n",
        "def clean_sentence(question):\n",
        "  # print(question)\n",
        "  question = re.sub('<[^>]*>', ' ',question)\n",
        "  question = re.sub(' +', ' ', question)\n",
        "  question = re.sub('\\xa0','',question)\n",
        "  question = question.rstrip()\n",
        "  question = re.sub('nan','',question)\n",
        "  question = re.sub(u'\\u2004','',question)\n",
        "  question = re.sub(u'\\u2009','',question)\n",
        "\n",
        "  # question = question.decode(\"utf-8\")\n",
        "  # question = question.replace(u'\\u200\\d*','').encode(\"utf-8\")\n",
        "  question = re.sub('&nbsp','',question)\n",
        "  question = re.sub('&ndash','',question)\n",
        "  question = re.sub('\\r','',question)\n",
        "  question = re.sub('\\t','',question)\n",
        "  question = re.sub('\\n',' ',question)\n",
        "\n",
        "  question = re.sub('MathType@.*','',question)\n",
        "  question = re.sub('&thinsp','',question)\n",
        "  question = re.sub('&times','',question)\n",
        "  question = re.sub('\\u200b','',question)\n",
        "  question = re.sub('&rarr;;;','',question)\n",
        "\n",
        "  return question"
      ],
      "execution_count": 11,
      "outputs": []
    },
    {
      "cell_type": "code",
      "metadata": {
        "id": "kNrGNk8f3kgh"
      },
      "source": [
        "# final_data_1 = final_data.loc[0:71003,:]\n",
        "# final_data_1"
      ],
      "execution_count": 12,
      "outputs": []
    },
    {
      "cell_type": "code",
      "metadata": {
        "id": "FIrS5sxE3kgk",
        "colab": {
          "base_uri": "https://localhost:8080/"
        },
        "outputId": "728dc26a-0b7a-4235-bb75-679ef7fc980a"
      },
      "source": [
        "from transformers import BertTokenizer\n",
        "\n",
        "# Load the BERT tokenizer.\n",
        "print('Loading BERT tokenizer...')\n",
        "tokenizer = BertTokenizer.from_pretrained('bert-base-uncased', do_lower_case=True)"
      ],
      "execution_count": 13,
      "outputs": [
        {
          "output_type": "stream",
          "text": [
            "/usr/local/lib/python3.7/dist-packages/tensorflow/python/framework/dtypes.py:526: FutureWarning: Passing (type, 1) or '1type' as a synonym of type is deprecated; in a future version of numpy, it will be understood as (type, (1,)) / '(1,)type'.\n",
            "  _np_qint8 = np.dtype([(\"qint8\", np.int8, 1)])\n",
            "/usr/local/lib/python3.7/dist-packages/tensorflow/python/framework/dtypes.py:527: FutureWarning: Passing (type, 1) or '1type' as a synonym of type is deprecated; in a future version of numpy, it will be understood as (type, (1,)) / '(1,)type'.\n",
            "  _np_quint8 = np.dtype([(\"quint8\", np.uint8, 1)])\n",
            "/usr/local/lib/python3.7/dist-packages/tensorflow/python/framework/dtypes.py:528: FutureWarning: Passing (type, 1) or '1type' as a synonym of type is deprecated; in a future version of numpy, it will be understood as (type, (1,)) / '(1,)type'.\n",
            "  _np_qint16 = np.dtype([(\"qint16\", np.int16, 1)])\n",
            "/usr/local/lib/python3.7/dist-packages/tensorflow/python/framework/dtypes.py:529: FutureWarning: Passing (type, 1) or '1type' as a synonym of type is deprecated; in a future version of numpy, it will be understood as (type, (1,)) / '(1,)type'.\n",
            "  _np_quint16 = np.dtype([(\"quint16\", np.uint16, 1)])\n",
            "/usr/local/lib/python3.7/dist-packages/tensorflow/python/framework/dtypes.py:530: FutureWarning: Passing (type, 1) or '1type' as a synonym of type is deprecated; in a future version of numpy, it will be understood as (type, (1,)) / '(1,)type'.\n",
            "  _np_qint32 = np.dtype([(\"qint32\", np.int32, 1)])\n",
            "/usr/local/lib/python3.7/dist-packages/tensorflow/python/framework/dtypes.py:535: FutureWarning: Passing (type, 1) or '1type' as a synonym of type is deprecated; in a future version of numpy, it will be understood as (type, (1,)) / '(1,)type'.\n",
            "  np_resource = np.dtype([(\"resource\", np.ubyte, 1)])\n"
          ],
          "name": "stderr"
        },
        {
          "output_type": "stream",
          "text": [
            "Loading BERT tokenizer...\n"
          ],
          "name": "stdout"
        }
      ]
    },
    {
      "cell_type": "code",
      "metadata": {
        "id": "-mgc72PQYV1Y",
        "colab": {
          "base_uri": "https://localhost:8080/"
        },
        "outputId": "6ce9cf84-480a-4434-f0ed-05c9fbc5f964"
      },
      "source": [
        "train_data[\"video_transcripts\"].value_counts()"
      ],
      "execution_count": 14,
      "outputs": [
        {
          "output_type": "execute_result",
          "data": {
            "text/plain": [
              " [This video contains no audio narrations.]                                                                                                                                                                                                                                                                                                                                                                                                                                                                                                                                                                                                                                                                                                                                                                                                                                                                                                                                                                                                                                                                                                                                                                                                                                                                                                                                                                                                                                                                                                                                                                                                                                                                                                                                                                                                                                                                                                                                                                                                                                                                                                                                                                                                                                                                                                                                                                                                                                                                                                                                                                                                                                                                                                                                                                                                                                                                                                                                                                                                                                                                                                                                                                                                                                                                                                                                                                                                                                                                                                                                                                                                                                                                                                                                                                                                                                                                                                                                                                                                                                                                                                                                                                                                                                                                                                                                                                                                                                                                                                                                                                                                                                                                                                                                                                                                                                                                                                                                                                                                                                                                                                                                                                                                                                                                                                                                                                                                                                                                                                                                                                                                                                                                                                                                                                                                                                                                                                                                                                                                                                                                                                                                                                                                                                                                                                                                                                                                                                                                                                                                                                                                                                                                                                                                                                                                                                                                                                                                                                                                                                                                                                                                                                                                                                                                                                                                                                                                                                                                                                                                                                                                                                                                                                                                                                                                                                                                                                                                                                                                                                                                                                                                                                                                                                                                                                                                                                                                                                                                                                                                                                                                                                                                                                                                                                                                                                                                                                                                                                                                                                                                                                                                                                                                                                                                                                                                                                                                                                                                                                                                                                                                                                                                                         3\n",
              " Throughout your mathematical life, you will find situations where you will need to round numbers. And you might be saying, well why? What situations might that be? Well, these would be situations where you're trying to get an estimate on things. Where you're trying to-- maybe you have a measurement and you want it to be a little bit less exact to simplify things. Or you don't trust how exact the measurement is. So here we're going to actually think about what rounding is. And we're going to round each of these numbers, 36, 34, 35, 26, and 12. We're going to round each of them to the nearest 10. And I'll give you a hint of what that means. That essentially says take each of these numbers, and find the multiple of 10 that it is closest to. So what are multiples of 10? Well, 10 times 0 is 0, 10 times 1 is 10, 20, 30, 40, 50, 60, so on and so forth. So I encourage you to pause this video, and just based on what I just told you, what is the nearest multiple of 10 to each of these numbers? Try to think about that. Well, to think about it a little bit deeper, let's actually put a number line here. I'll put two number lines over here. So we've got some number lines here. And let's think about where these points would sit on this number line. So this first number, 36, where does it sit on this number line? Well, it's between 30 and 40. And this little blue mark is 35, it's halfway between. So 36 is going to be a little higher than that. So 36 is going to be right over here. And if we zoom in between 30 and 40. So if we say that this is 30, and this is 40, where is 36 going to be? So once again, this is 35. 36 is one notch above that. So 36 is going to be right over here. So if we want to round to the nearest 10, to the nearest multiple of 10, what are the two possibilities here? Well, I could take 36 and I could round up to the multiple of 10 above it, which is 40. So I could round up to 40, or I could round down to the multiple of 10 below it, which is 30. And so I need to figure out which of these numbers is it closer to. Well, when you just look at that, even just eyeballing it, you can see it. But you could also say 36 is only four away from 40, and it's six away from 30, it's closer to 40. So we are going to round up. We are going to round up to 40. This is literally called rounding up. Now let's try some of these other numbers. What about 34? And I encourage you to pause the video. Think about what number you would get if you were to try to round it up or round it down, and then which one it is actually closer to. Well, 34 is right over here on this number line, where we zoom in, 34 is right over here. And we have two options. The multiple of 10 above 34-- let me do those same colors-- the multiple of 10 above 34 is 40. Multiple of 10 below 34, again, is 30. Now, which one is it closer to? Well it's only four away from 30, and six away from 40, so it's closer to 30. So we are going to round down to 30. And notice we went to 30. You might say, hey, when we rounded it up the 10's place increased from 3 to 4, from 30 to 40. Maybe when we round down, the 10's place will decrease from 30 to 20, but no, 30 is the multiple of 10 below 34. So when you round down, you just go-- you keep the multiple of 10, but the ones place becomes a 0. Now let's try a really interesting one. Let's think about rounding the number 35 to the nearest 10. And first, before we even try to do it, let's think about the two options. Well, we've already seen it. 35 is sitting right over here. On this number line, that is 35, and once again we have two options. 35, we can round it up to 40, or we could round it down to 30. And I encourage you to pause the video and think about this. Well this one is a little bit of a conundrum because it's five away from both elements. It's five away from 40, and five away from 30. So the mathematical community has decided to define what to do in the case where you have a 5 in the ones place. If you have five or more in the ones place, you will round up. This is just a rule. Five or more in the ones place, you round up. So 35, you round up to 40. Notice, a 6 in the ones place was five or more. So if you're rounding to the nearest 10, you round up to 40. A 4 in the ones place is not 5 or greater, so we rounded down. And so this gives a pretty good clue for these other two numbers. Let's try-- let's see what happens with 26. 26, what are the two options? What is a multiple of 10 above 26, and what is a multiple of 10 below 26.? Well, the multiple of 10 above 26 is 30, and the multiple of 10 below 26 is 20. So if we round up, we go to 30. If we round down, we go to 20. Well, if we're rounding to the nearest 10, we look at the 10's place. That's what we're going to round-- we're going to round to the nearest 10-- but then we look at the ones place. The ones place is going to decide it. And we see here this is 5 or greater. Or you could say this is greater than or equal to 5. So we round up. 26 rounded to the nearest 10, we round up to 30. Now what about 12? And I think you're getting the hang of this. Well let's think about the multiple of 10 above 12. So we could either round up to 20. So 12 is sitting right around here. We either round up to 20 or we round down to 10. Well, if we're going to round to the nearest 10, we have to look at the ones place. We have to look at the ones place right over here. This is less than 5. Since it's less than five, we round down, which makes sense because it's also closer to 10 than it is to 20. So we round down, and rounding 12 to the nearest 10, you actually get 10.                                                                                                                                                                                                                                                                                                                                                                                                                                                                                                                                                                                                                                                                                                                                                                                                                                                                                                                                                                                                                                                                                                                                                                                                                                                                                                                                                                                                                                                                                                                                                                                                                                                                                                                                                                                                                                                                                                                                                                                                                                                                                                                                                                                                                                                                                                                                                                                                                                                                                                                                                                                                                                                                                                                                                                                                                                                                                                                                                                                                                                                                                                                                                                                                                                                                                                                                                                                                                                                                                                                                                                                                                                                                                                                                                                                                                                                                                                    1\n",
              " -  Let's see if we can find the limit as x approaches negative infinity of the square root of 4x to the fourth minus x over 2x squared plus three. And like always, pause this video and see if you can figure it out. Well, whenever we're trying to find limits at either positive or negative infinity of rational expressions like this, it's useful to look at what is the highest degree term in the numerator or in the denominator, or, actually in the numerator and the denominator, and then divide the numerator and the denominator by that highest degree, by x to that degree. Because if we do that, then we're going to end up with some constants and some other things that will go to zero as we approach positive or negative infinity, and we should be able to find this limit. So what I'm talking about, let's divide the numerator by one over x squared and let's divide the denominator by one over x squared. Now, you might be saying, \"Wait, wait, \"I see an x to the fourth here. \"That's a higher degree.\" But remember, it's under the radical here. So if you wanna look at it at a very high level, you're saying, okay, well x to the fourth, but it's under, you're gonna take the square root of this entire expression, so you can really view this as a second degree term. So the highest degree is really second degree, so let's divide the numerator and the denominator by x squared. And if we do that, dividing, so this is going to be the same thing as, so this is going to be the limit, the limit as x approaches negative infinity of, so let me just do a little bit of a side here. So if I have, if I have one over x squared, all right, let me write it. Let me just, one over x squared times the square root of 4x to the fourth minus x, like we have in the numerator here. This is equal to, this is the same thing as one over the square root of x to the fourth times the square root of 4x to the fourth minus x. And so this is equal to the square root of 4x to the fourth minus x over x to the fourth, which is equal to the square root of, and all I did is I brought the radical in here. You could view this as the square root of all this divided by the square root of this, which is equal to, just using our exponent rules, the square root of 4x to the fourth minus x over x to the fourth. And then this is the same thing as four minus, x over x to the fourth is one over x to the third. So this numerator is going to be, the numerator's going to be the square root of four minus one, x to the third power. And then the denominator is going to be equal to, well, you divide 2x squared by x squared. You're just going to be left with two. And then three divided by x squared is gonna be three over x squared. Now, let's think about the limit as we approach negative infinity. As we approach negative infinity, this is going to approach zero. One divided by things that are becoming more and more and more and more and more negative, their magnitude is getting larger, so this is going to approach zero. This over here is also going to be, this thing is also going to be approaching zero. We're dividing by larger and larger and larger values. And so what this is going to result in is the square root of four, the principal root of four, over two, which is the same thing as two over two, which is equal to one. And we are done.                                                                                                                                                                                                                                                                                                                                                                                                                                                                                                                                                                                                                                                                                                                                                                                                                                                                                                                                                                                                                                                                                                                                                                                                                                                                                                                                                                                                                                                                                                                                                                                                                                                                                                                                                                                                                                                                                                                                                                                                                                                                                                                                                                                                                                                                                                                                                                                                                                                                                                                                                                                                                                                                                                                                                                                                                                                                                                                                                                                                                                                                                                                                                                                                                                                                                                                                                                                                                                                                                                                                                                                                                                                                                                                                                                                                                                                                                                                                                                                                                                                                                                                                                                                                                                                                                                                                                                                                                                                                                                                                                                                                                                                                                                                                                                                                                                                                                                                                                                                                                                                                                                                                                                                                                                                                                                                                                                                                                                                                                                                                                                                                                                                                                                                                                                                                                                                                                                                                                                                                                                                                                                                                                                                                                                                                     1\n",
              " Simplify the cube root of 125 x to the sixth y to the third power. So taking the cube root of something is the same thing as raising that something to the 1/3 power. So this is equal to 125 x to the sixth y to the third power raised to the 1/3 power. And if we take a product of a bunch of stuff and raise that to the 1/3 power, that's the same thing as individually raising each of the things to the 1/3 power and then taking the product. So this is going to be equal to 125 to the 1/3 power times x to the sixth to the 1/3 power times y to the third to the 1/3 power. And then we can think about how we can simplify each of these. What's 125 to the 1/3? Well, let's just factor and see if we can have at least three prime factors of something and maybe more than one prime factor that shows up three times. So 125 is 5 times 25. 25 is 5 times 5. So 125 really is 5 times 5 times 5. So if you multiply 5 times itself three times you get 125. 125 to the 1/3 power is going to be 5. So this is going to simplify to 5 times. And then x to the sixth to the 1/3 power-- we saw this in a previous example-- if you raise a base to an exponent and then raise that whole thing to another exponent, you can take the product of the two exponents. So 6 times 1/3 is 6/3 or 2. So this part right over here simplifies to x to the sixth divided by 3 power or x squared. And then finally over here, same principle. Raising y to the third power, and then that to the 1/3 power. So that's going to be y to the 3 times 1/3 power, or y to the first power. And then times y. And we are done. And if you don't want to write this little multiplication here, you could just write this as 5x squared y. And we have simplified.                                                                                                                                                                                                                                                                                                                                                                                                                                                                                                                                                                                                                                                                                                                                                                                                                                                                                                                                                                                                                                                                                                                                                                                                                                                                                                                                                                                                                                                                                                                                                                                                                                                                                                                                                                                                                                                                                                                                                                                                                                                                                                                                                                                                                                                                                                                                                                                                                                                                                                                                                                                                                                                                                                                                                                                                                                                                                                                                                                                                                                                                                                                                                                                                                                                                                                                                                                                                                                                                                                                                                                                                                                                                                                                                                                                                                                                                                                                                                                                                                                                                                                                                                                                                                                                                                                                                                                                                                                                                                                                                                                                                                                                                                                                                                                                                                                                                                                                                                                                                                                                                                                                                                                                                                                                                                                                                                                                                                                                                                                                                                                                                                                                                                                                                                                                                                                                                                                                                                                                                                                                                                                                                                                                                                                                                                                                                                                                                                                                                                                                                                                                                                                                                                                                                                                                                                                                                                                                                                                                                                                                                                                                                                                                                                                                                                                                                                                                                                                                                                                                                                                                                                                                                                                                                                                                                                                                                                                                                                             1\n",
              "  Let's now use our understanding of some of the operations on sets to get some blood flowing to our brains. So I've defined some sets here. And just to make things interesting, I haven't only put numbers in these sets. I've even put some colors and some little yellow stars here. And what I want you to figure out is what would this set be, this crazy thing that involves relative complements, intersections, unions, absolute complements. So I encourage you to pause it and try to figure out what this set would be. Well, let's give it a shot. And the key here is to really break it down, work on the stuff in the parentheses first, just as you would do if you were trying to parse a traditional mathematical statement. And then it should hopefully make a little bit of sense. So a good place to start might be to try to figure out what is the relative complement of C in B. Or another way of thinking about it is what is B minus C? What is B if you take out all the stuff with C in it? So let me write this down. The relative complement of C and B or you could call this B minus C. This is all the stuff in B with all the stuff in C taken out of it. So let's think about what this would be. B has a 0. Does C have a 0? No, so we don't have to take out the 0. B has a 17. Does C have a 17? Yes, it does. So we take out the 17. B has a 3, but c has a 3. So we take that out. B has a Blue. C does not have a blue. So we leave the Blue in. So let me write down-- we leave the blue in. And then B has a gold star. C also has a gold star. So we take the gold star out. So the relative complement of C in B is just the set of 0 and this Blue written in blue. So let me write this down. Let me write that down. Now, it gets interesting. We're going to take the absolute complement, the absolute complement of that. So let me write this down. So B-- the absolute complement of this business is going to be-- let me write it this-- the set of all things in our universe that are neither a 0 or a-- and I'll write it in blue-- or a Blue. That's the only way I could describe it right now. I haven't really defined the universe well. We already see that our universe definitely contains some integers, it contains colors, it contains some stars. So this is all I can really say. This is the set of all things in the universe that are neither a 0 or a Blue. So fair enough. So we so far we figured out all of this stuff. Let me box this off. So that is that right over there. And now we want to find the intersection. We need to find the intersection of A and this business.  Let me write that down. So it's going to be A intersected with the relative complement of C and B and the absolute complement of that. So this is going to be the intersection of the set A and the set of all things in the universe that are neither a 0 or a Blue. So it's essentially the things that satisfy both of these that has to be in set A and it has to be in the set of all things in the universe that are neither a 0 or a blue. So let's think about what this is. So the number 3 is in set A and it's in the set of all things in the universe that are neither a 0 or Blue. So let's throw a 3 in there. The number 7, it's in A and it's in the set of all things in the universe that are neither a 0 or a Blue. So let's put a 7 there. Negative 5 also meets that constraint. A 0 does not meet that constraint. A 0 is in A but it's not in the set of all things in the universe that are neither a 0 or blue because it is a 0. So we're not going to throw 0 in there. And then a 13 is in A and it's in the set of all things in the universe that are neither a 0 or a Blue. So we could throw a 13 in there. So we've simplified things a good bit. This whole crazy business, all of this crazy business, has simplified to this set right over here. Now we want to find the relative complement of this business in A. So let me pick another color here. So we want to find the relative complement of this business in A. And I'll just write out the set-- 3, 7, negative 5, 13. Actually, let me write out both of them just so that we can really visualize them both right over here. So A is this. It is 3, 7, negative 5, 0, and 13. And I could write the relative complement sign. Or actually, let me just write m-- well let me write relative complement. I was going to write minus. And so in all of this business, we already figured out, is a 3, a 7, a negative 5, and a 13. So it's essentially, start with this set and take out all the stuff that are in this set. So this is going to be equal to-- so you see we're going to have to take out a 3 out of this set. We're going to take out a 7. We're going to get a negative 5. And we're going to take out a 13. So we're just left with the set that contains a 0. So all of this business right over here has simplified to a set that only contains a 0. Now let's think about what B intersect C is. These are all the things that are in both B and C. So this is going to be B intersect C. Let's see, 0 is not in both of them. 17 is in both of them. So we'll throw 17 in there. The number 3 is in both of them, the number 3 is in both of them. Blue is not in both of them. The star is in both of them. So I'll put the little gold star right over there. And so that's B intersect C. And so we're essentially going to take the union of this crazy thing-- which ended up just being a set with a 0 in it-- we're taking the union of that and B intersect C. We deserve a drum roll now. This is all going to be equal to-- we're just going to combine these two sets. It's going to be the set with a 0, a 17, a three, and our gold star.  And we are-- I should make the brackets in a different color-- and we are done.                                                                                                                                                                                                                                                                                                                                                                                                                                                                                                                                                                                                                                                                                                                                                                                                                                                                                                                                                                                                                                                                                                                                                                                                                                                                                                                                                                                                                                                                                                                                                                                                                                                                                                                                                                                                                                                                                                                                                                                                                                                                                                                                                                                                                                                                                                                                                                                                                                                                                                                                                                                                                                                                                                                                                                                                                                                                                                                                                                                                                                                                                                                                                                                                                                                                                                                                                                                                                                                                                                                                                                                                                                                                                                                                                                                                 1\n",
              "                                                                                                                                                                                                                                                                                                                                                                                                                                                                                                                                                                                                                                                                                                                                                                                                                                                                                                                                                                                                                                                                                                                                                                                                                                                                                                                                                                                                                                                                                                                                                                                                                                                                                                                                                                                                                                                                                                                                                                                                                                                                                                                                                                                                                                                                                                                                                                                                                                                                                                                                                                                                                                                                                                                                                                                                                                                                                                                                                                                                                                                                                                                                                                                                                                                                                                                                                                                                                                                                                                                                                                                                                                                                                                                                                                                                                                                                                                                                                                                                                                                                                                                                                                                                                                                                                                                                                                                                                                                                                                                                                                                                                                                                                                                                                                                                                                                                                                                                                                                                                                                                                                                                                                                                                                                                                                                                                                                                                                                                                                                                                                                                                                                                                                                                                                                                                                                                                                                                                                                                                                                                                                                                                                                                                                                                                                                                                                                                                                                                                                                                                                                                                                                                                                                                                                                                                                                                                                                                                                                                                                                                                                                                                                                                                                                                                                                                                                                                                                                                                                                                                                                                                                                                                                                                                                                                                                                                                                                                                                                                                                                                                                                                                                                                                                                                                                                                                                                                                                                                                                                                                                                                                                                                                                                                                                                                                                                                                                                                                                                                                                                                                                                                                                                                                                                                                                                                                                                                                                                                                                                                                                                                                                                                                                                                   ..\n",
              " -  Let's figure out what 6.3 divided by 0.25 is. And when I look at something like this, the first thing that I think about is well, is there a way that I can rewrite this? Instead of dividing it by 25 hundredths, instead of dividing it by 0.25, I could divide it by a whole number, maybe 25. And so how do I turn 25 hundredths into 25? Well, if I multiply it by, if I multiply it by 10 once, then. the decimal's one spot to the right. And if I multiply it by 10 twice, then I'm gonna move two spots to the right. And 25 hundredths is going to become 25. I multiplied by 10 twice, which is the same thing as multiplying by a hundred. Now of course, I can't only do it to 0.25, that would change the value of this entire expression. I also have to do it to 6.3. If I move the decimal to the right twice over here, to get a whole number, I gotta move the decimal twice to the right over here. So let's see, if I move it to the right once, I get 63, so that's one multiplication by 10. And now I wanna move it to the right again, and you might say, \"Wait, wait, there doesn't look like \"there's any other digits here \"that I can move to the right of.\" And we just have to remind ourselves, that 6.3, well that's going to be the same thing as 6.30, or we could actually as many zeroes as we want to the end of this, and not change the value, it's still 6.3. Six and three tenths is the same thing as six and 30 hundredths. So now, I can move the decimal one more spot to the right. And, so I'm multiplying by 10 again. And it becomes 630. So 6.3 divided by 0.25 is the same thing as 630 divided by 25. And let me do that again, because this is really, the tricky part, or the artful part, when you're dividing decimals. If I were to write, 0.25, being divided into, being divided into, 6.3. Six, let me do it. Six, 6.3. Now, what I care about is moving this decimal to the right, far enough so that this becomes a whole number. I don't have to move it any further, just far enough so that this becomes a whole number. And then I have to move this, the same number of times to the right. But the goal is to make this a whole number, not to make the 6.3 a whole number, although that is going to happen for this particular case. So if I move it two spaces to the right, so, one, two. 0.25 becomes 25, and then 6.3 becomes, move it one space, two spaces to the right, it becomes 630. And so let me, let me clarify that, let me just clear all of this stuff away out of the way, to just make that clear what I just did. So we don't have to deal with all of this messiness when we're actually doing our long division now. And so this one over here, let me erase all of this business. And we are ready to do some, we're ready to do some, some long division, alright. So now this is just straightforward, dividing a two digit number into a three digit number. And so we could say, well, 25 goes into six zero times, so let's keep going. 25 goes into 63, let's see, two times 25 is 50, three times 25 is 75, so that's too much, so we wanna go two times. Two times 25 is going to be 50, and we can subtract. Or, if you didn't know two times 25 is going to 50, you could have said two times five is 10, carry the one or regroup the one. Two times two is four, plus one is five. So we got 50. And now we subtract, and we get three minus zero is three, six minus five is one. And now we bring down the next digit. We can bring down this zero. And we could say, 25, and let me scratch this out, so I don't confuse myself later. 25 goes into 130 how many times? Let's see, 25 times four is 100, 25 times five is 125, 25 times six would be 150, so that's too big. So I'm gonna go five times. So five times, And I write, it's very important to keep track of my places right here, I brought down the zero to make the 13 into 130, so I say 25 goes into 130 five times, I write it above the zero, I write it right above the zero right over there. And then five times 25, five times five, we already know what it is, but I'll just figure it out. Five times five is 25, regroup the two, five times two is 10, plus two is 12. And now we can, now we can subtract. And you might know offhand, well (mumbles), 130 minus 125 is going to be five, or if you like, you could do a little regrouping, can make this, you could take a 10 from there, and then put the 10 in the ones place, and this becomes 10, 10 minus five is five. Now, we aren't done yet. We wanna divide this completely, so we can bring down another zero. We can bring down another zero, and I'm picking an appropriate color, to, for the next, so I'll use, well I already used the green once, we'll use yellow. So once again, I can bring down another zero, but I have to be very careful here, I can't just, I can't just throw a zero right over there. That's gonna turn 630 into 6300. I have to be very particular, say no, look, look. This next zero I'm gonna put, that's gonna be after the decimal. Now 630 is the same thing as 630.0, and if I'm gonna add a decimal there, I wanna throw the decimal right above it. Need to be very careful with that. But now we're ready to start bringing down the zero. So let's bring down this zero. And we have 50, how many times does 25 go into 50? Let me scratch this out, so we don't confuse ourselves later. 25 goes two times into 50, two times 25 is in fact 50, is in fact 50. And so now we can subtract. And we now have a remainder of zero, and there's nothing left to bring down other than zeros, and we have a remainder of zero, so we are done dividing completely. You take 630, divided by 25, it's 25.2. Or if you look at our original problem, if you look at our original problem, which was 6.30 divided by 0.25, that also is 25.2. So this is also going to be 25.2. Let me rewrite it, let me rewrite it. So our original problem was 6.3 divided by 0.25, which we just figured out, what we just figured out is 25.2. And we're done.                                                                                                                                                                                                                                                                                                                                                                                                                                                                                                                                                                                                                                                                                                                                                                                                                                                                                                                                                                                                                                                                                                                                                                                                                                                                                                                                                                                                                                                                                                                                                                                                                                                                                                                                                                                                                                                                                                                                                                                                                                                                                                                                                                                                                                                                                                                                                                                                                                                                                                                                                                                                                                                                                                                                                                                                                                                                                                                                                                                                                                                                                                                                                                                                                                                                                                                                                                                                                                                                                                                                                                                  1\n",
              " -  We are now going to introduce ourselves to the idea of Utility in Economics. Now in everyday language, if someone says what's the Utility of that? They're usually saying what's the usefulness of doing that. And Utility in Economics takes that view of Utility and extends that a little bit. You could view Utility in Economics as a measure of usefulness, usefulness, worth, value. Some economists will even say it's a measure of happiness 'cause things that might not have a practical use can still have Utility to them in Economics because they're giving you some satisfaction or some happiness, or I'll even write that over here. And as we'll see, it is something that economists try to measure or try to quantify, and they do it with just Utility units. So let's see a tangible example of that. So let's say you wanted to think about your Utility from scoops of ice cream. So if we say, let's make a col, let's make a table here. So number of scoops, that'll be in my left column, and then on my right column, let's think about Total Utility, and I will do it in utils. You could view that as your unit of Utility. And let me put my columns in here. So, there we go. And so let's say if I have zero scoops of ice cream, well you might guess what my Utility is going to be, it is going to be zero. Now what if I have one scoop of ice cream? Well let's just say that that is 80 Utility units. And I know what you're thinking, Sal, where did you come with 80 Utility units? And this is really just an arbitrary number that I'm throwing down here. What's more important is what this is relative to my Utility for other things. So, for example, using this scale, if I said two scoops of ice cream, my Total Utility is 140. 80 and 140 aren't what matter. What matters is the ratio between the two. So if I said my Utility for one scoop of ice cream was 800, then, if this ratio is true, then for two scoops of ice cream, my Total Utility would be 1,400. It could be eight million and 14 million. What matters is the relative Utility. I just happened to anchor on one scoop gives me eight units, Total Utility units. But let's keep going. If we go with this scale, then three scoops of ice cream, let's say that this gives me 180 units of Utility. And I know what you're saying. Even if you get the ratio right, how do you even know that this is the right ratio? Well, economists will debate how to measure this, but there might be ways that you could measure it maybe with dollars, with what people are willing to pay, and then you can get the ratios. You could survey people. You could say on a scale of 10, one to 10, how happy will it make you if you got one scoop of ice cream? What if you got two scoops of ice cream? What if you got three? And then you would wanna get these ratios right. But, of course, it isn't an exact science, but people are trying to quantity this. Now let's just go to four. Four scoops of ice cream would give you a Total Utility, let's say we knew it would give you a Total Utility of 170. Now something interesting is happening. As you got more scoops of ice cream, from zero to one, from one to two, from two to three, it looks like you're getting more Utility, but then all of a sudden, when you have four scoops of ice cream, your Total Utility goes down a little bit. Maybe it's because people can't eat four scoops of ice cream and they say what do I do with that? And they just have all, they're left with a bowl of melted ice cream. And so it doesn't give them as much Utility, it makes them feel bad somehow as having three bowls of ice cream or three scoops of ice cream. Another thing to think about is how much does the Total Utility increase every time you get an incremental unit of that thing? And we'll talk about it in more depth in future videos, but that general idea of how much more Utility you get for that incremental unit. In Economics when we're talking about what happens on the increment, we use the word marginal a lot. Marginal Utility, sometimes abbreviated mu. And this would still be in Utility units. And so we could start with that first going from zero to one. I'll start with that first scoop of ice cream. What's the marginal utility? Well it gave you an incremental 80 units of Utility, so the marginal utility is 80. Now what about that second scoop of ice cream? Well we know when you had one, you had 80 Total Utility units, and now when you have two, you have 140, so that incremental second scoop gave you to go from 80 to 140, it gave you 60 extra units of Utility. So notice, you are really, it really increased your happiness or, you got a lot of value out of that first scoop and you still got value outta that second scoop, but it's a little bit less because you're not maybe just as not as hungry, you're getting a little bit tired of the ice cream. And then that continues to happen on that third scoop, to go from 140 to 180, that third scoop gave you 40 units of Utility. And then as we talked about, when you add on that fourth scoop, it didn't even add to your Total Utility, it took away from your Total Utility. So it actually had a negative marginal utility. It is negative 10. That fourth scoop actually took away from your happiness. So I will leave you there. You have this idea of Utility, Total Utility, and we also looked at Marginal Utility. And you see in this example, and this is typical, that Marginal Utility typically decreases as you get more and more units of that thing. And in future videos, we're going to use this framework of Utility, Total Utility, Marginal Utility, to think about how folks might make rational decisions to optimize their Total Utility.                                                                                                                                                                                                                                                                                                                                                                                                                                                                                                                                                                                                                                                                                                                                                                                                                                                                                                                                                                                                                                                                                                                                                                                                                                                                                                                                                                                                                                                                                                                                                                                                                                                                                                                                                                                                                                                                                                                                                                                                                                                                                                                                                                                                                                                                                                                                                                                                                                                                                                                                                                                                                                                                                                                                                                                                                                                                                                                                                                                                                                                                                                                                                                                                                                                                                                                                                                                                                                                                                                                                                                                                                                                                                                                                                                                                                                    1\n",
              "  Right now, based on what we know so far, if we wanted to name this molecule, we would say, well, what's the longest carbon chain here? Well, we have a two-carbon chain, and there's all single bonds, so we're dealing with an ethane. Actually, I'll write it all at once. And then we have on the one carbon, we can call this the one carbon, and call this the two carbon, we have a bromine and a fluorine. So we could call this 1-bromo, and we're putting the bromo instead of the fluoro because B comes before F alphabetically. 1-bromo-1-fluoro, and then we're dealing with an ethane. We have a two-carbon chain, all single bonds, fluoroethane. That's the name of that molecule there, just a review of some of the earlier organic nomenclature videos we had done. Now, we know immediately, based on the last few videos, that this is also a chiral carbon, and if we were to take its mirror image, we would get another etiomer of this same molecule, or that they are etiomers of each other. So what is the mirror image of this 1-bromo-1-fluoroethane look like? Well, you'd have the carbon right here. I want to get all the colors right. You would still have the bromine up above. You would have this methyl group that's attached to the carbon now pointing in the left direction, CH3. The fluorine would now still be behind the carbon, and now the hydrogen would still pop out of the page, but it would now pop out and to the right.  That is the hydrogen. Now, based on our naming so far, we would name this 1-bromo-1-fluoroethane, and we would also name this 1-bromo-1-fluoroethane, but these are fundamentally two different molecules. Even though they have the same molecules in them; they have the same molecular formula; they have the same constitution in that this carbon is connected to a hydrogen, a fluorine, and a bromine; this carbon is connected to the same things; this carbon is connected to a carbon, three hydrogens; so is this one; these are stereoisomers. These are stereoisomers, and they're mirror images of each other, so they're etiomers.  And actually, they will, one, polarize light differently, and they actually can often have very different chemical properties, either in a chemical or biological system. So it seems not good that we have the same names for both of these. So what we're going to focus on in this video is how do you differentiate between the two?  So how do we differentiate between the two? So the naming system we're going to use right here is called the Cahn-Ingold-Prelog system, but it's a different Cahn, it's not me. It's C-A-H-N instead of K-H-A-N. Cahn-Ingold-Prelog system, and it's a way of differentiating between this etiomer, which right now we would call 1-bromo-1-fluoroethane, and this etiomer, 1-bromo-1-fluoroethane. It's a pretty straightforward thing. Really, the hardest part is to just visualize rotating the molecules in the right way and figuring out in which direction it's kind of-- whether it's kind of a left-handed or right-handed molecule. We're going to take it step by step. So the first thing you do in the Cahn-Ingold-Prelog system is to, one, identify your chiral molecule. Here, it's pretty obvious. It's this carbon right here. We'll just focus on this left one, the one we started with first. It's bonded to three different groups. And then what you want to do is you want to rank the groups by atomic number. So if you go up here, out of bromine, hydrogen, fluorine, and a carbon, this is what is bonded directly to this carbon, which has the highest atomic number? Bromine is over here-- let me do this in a darker color. We have bromine at 35, we have fluorine at 9, we have carbon at 6, and then we have hydrogen at 1. So of all these, bromine is the largest. We'll just call this number one. Then after that, we have fluorine. That is the number two. Number three is the carbon. And then hydrogen is the smallest, so that is number four. So now that we've numbered them, the next step is to orient this molecule so that the smallest atomic number group is sitting into the page. It's sitting behind the molecule. Right now, this hydrogen is the smallest of all of them. Bromine's the largest, hydrogen is the smallest, so we want to orient it behind the molecule. The way it's drawn right now, it's oriented in front of the molecule. So to orient it behind the molecule, and this really is the hardest part is just to visualize it properly. Remember, this fluorine is behind; this is right in the plane of the paper; this is popping out of the paper.  We would want to rotate. You could imagine we'd be rotating the molecule in this direction so that-- let me redraw it.  We have the carbon here. And now since we've rotated it like this, we've rotated it roughly 1/3 around the circle, so it's about 120 degrees. Now, this hydrogen is where the fluorine was.  So that's where the hydrogen is. The fluorine is now where this methyl group is.  These dotted lines show that we're behind now. This shows that we're in the plane. And the methyl group is now where the hydrogen is. It's now popping out of the page. It's going to the left and out. So this methyl group is now popping out of the page, out and to the left. That's where our methyl group is. So all we've done is we've just rotated this around about 120 degrees. We've just gotten this to go behind, and that's kind of the first step after we've identified the chiral carbon and ranked them by atomic number. And. Of course. The bromine is still going to be on top.  Now, once you put the smallest atomic number molecule in the back, then you want to look at the rankings of one through three. And we have four molecules here. We look at the largest, which is bromine, number one. Then number two is fluorine, number two, and then number three is this methyl group. That's the carbon that's bonded to this carbon, so it's number three right there. And in the Cahn-Ingold-Prelog system, we literally just think about what would it take to go from number one to number two to number three? And in this case, we would go in this direction. To go from number one to number two to number three, we would go in the clockwise direction. We're just ignoring the hydrogen right now. That's just sitting behind it. That was the first step, to orient it so it's sitting in the back, the smallest molecule. And then the three largest ones, you just say what direction do we have to go to go from number one to number two to number three? In this case, we have to go clockwise. And if we go clockwise now, then we call this a right-handed molecule, or we use the Latin word for right, which is rectus. And so we would call this molecule right here not just 1-bromo-1-fluoroethane, this is R, R for rectus. Or you could even think right, although we'll see left is used as S, which is sinister, so the Latin is really where the R comes from. But this is (R)-1-bromo-1-fluoroethane That's this one right here. So you might guess, well, this must be the opposite, this must be the counterclockwise version. We can do it really fast. So same idea. We know the largest one. Bromine is number one. That's the largest in terms of atomic number. Fluorine is number two. Carbon is number three. Hydrogen is number four. What we want to do is put hydrogen in the back, so what we're going to have to do is rotate it to the back to where fluorine is right now. So if we had to redraw this molecule right here, you'd have your carbon still. You still have your bromine sitting on top. But we're going to put the hydrogen now to the back, so the hydrogen is now where the fluorine used to be. The hydrogen's there.  This methyl group, this carbon with the three hydrogens, is going to be rotated to where the hydrogen used to be. It's now going to pop out of the page, because we're rotating it in that direction, so this is our methyl group right there. And then this fluorine is going to be moved where the methyl group was, so this fluorine will go right here. And now, using the Cahn-Ingold-Prelog system, this is our number one, this is our number two, just by atomic number, this is number three. You go from number one through number two to number three. You go in this direction. You're going counterclockwise.  Or we are going to the left, or we use the Latin word for it, which is sinister. And the word sinister comes from the Latin word for left, so I guess right is good, and people thought either left-handed people were bad, or if you're not going to the right, it's bad. I don't know why sinister took on its sinister meaning now in 1common language. 1But it's now the sinister version of the molecule. 1So we would call this version, this etiomer of 11-bromo-1-fluoroethane, we would call this S, S for 1sinister, or for left, or for counterclockwise: 1(S)-1-bromo-1-fluoroethane. 1 1So now we can differentiate the names. 1We know that these are two different configurations. 1And that's what the S and the R tell us, that if you have to 1go from this to this, you would literally have to detach 1and reattach different groups. 1You'd actually have to break bonds. 1You actually have to swap two of these groups in some way in 1order to get from this etiomer to this etiomer. 1They're different configurations, really 1fundamentally different molecules, stereoisomers, 1etiomers, however you want to call them. 1    1\n",
              " -  Voltage is one of the most important quantities and ideas in electricity, and in this video we're gonna develop an intuitive feeling for what voltage means. But it has to do with potential energy of electrical charges and that's what we're going to cover here, we're not gonna do a derivation, but we are going to do an intuitive description of what voltage means. We're gonna start with an analogy to gravity. Gravity and voltage are really similar ideas. I'm going to draw a mountain here. Here's some mountain-side with snow on it. And I'm going to put a mass here, here's a mass of some mass M. And it was lifted up to the top of the hill somehow, by a ski lift, by a mountain climber, something like that. And if I put it on top of the mountain and I let it go, the potential energy that it has is going to be dissipated as kinetic energy and that mass is going to roll down the hill to here. And as it does, it could do some work. It could hit some trees, let's draw a tree. And it could run into a tree and knock that tree around. It could hit a bear, it could bounce off rocks, all kinds of things, so that's a mass rolling down a hill. Now if I draw, this is a way to think about voltage, think about voltage as being another mountaintop, and this time we'll put a battery in here. This is our battery, this is what a battery does for us, it actually builds our mountain. The battery actually delivers electrons to the top of the hill, so here's an electron coming out of the battery terminal, the negative battery terminal. And if I release this, it is going to roll down the hill. And eventually it's going to return to the bottom side of the battery. But the same thing, this is the image you have in your head when we hook up a circuit. Along the way I could put in different circuit components like resistors or capacitors or anything like that, and I could make this electron do work and bump into things as it goes down. So, the amount of voltage here is proportional to the height of this mountain. A high voltage is a high mountain and a low voltage is a low mountain. The electrons are pushed out the top by the battery and roll down to the bottom doing work along the way, and this is where we do our circuit design. That's what we're doing over here, we buy batteries and we do our circuit design and study over here. So this is a pretty good analogy for thinking about voltage as you begin to build your circuits. See you next time.                                                                                                                                                                                                                                                                                                                                                                                                                                                                                                                                                                                                                                                                                                                                                                                                                                                                                                                                                                                                                                                                                                                                                                                                                                                                                                                                                                                                                                                                                                                                                                                                                                                                                                                                                                                                                                                                                                                                                                                                                                                                                                                                                                                                                                                                                                                                                                                                                                                                                                                                                                                                                                                                                                                                                                                                                                                                                                                                                                                                                                                                                                                                                                                                                                                                                                                                                                                                                                                                                                                                                                                                                                                                                                                                                                                                                                                                                                                                                                                                                                                                                                                                                                                                                                                                                                                                                                                                                                                                                                                                                                                                                                                                                                                                                                                                                                                                                                                                                                                                                                                                                                                                                                                                                                                                                                                                                                                                                                                                                                                                                                                                                                                                                                                                                                                                                                                                                                                                                                                                                                                                                                                                                                                                                                                                                                                                                                                                                                                                                                                                                                                                                                                                                                                                                                                                                                                                                                                                                                                                                                                                                                                                                                          1\n",
              " -  We're asked to plot the image of point A under a dilation about point P with a scale factor of three. So what they're saying when they say under a dilation, they're saying stretching it or scaling it up or down around the point P. Now so what we're going to do is just think about, well how far is point A and then we want to dilate it with a scale factor of three. So however far A is from point P, it's going to be three times further under the dilation. Three times further in the same direction. So how do we think about that? Well, one way to think about it is to go from P to A you have to go one down and two to the left, so minus one and minus two. And so if you dilate it with a factor of three, then you're going to want to go three times as far down. So minus three, and three times as far to the left, so you'll go minus six. So one, let me do this, so negative one, negative two, negative three, negative four, negative five, negative six. So you will end up right over there. And you can even see it, that this is indeed three times as far from P in the same direction. So we could call the image of point A, maybe we call that A prime, and so there you have it. It has been dilated with a scale factor of three. And so you might be saying, wait, I'm used to dilating being stretching or scaling. How have I stretched or scaled something? Well imagine a bunch of points here that represents some type of picture and if you push them all three times further from point P, which you could do as your center of dilation, then you would expand the size of your picture by a scale factor of three. Let's do another example with a point. So, here we're told, plot the image of point A under a dilation about the origin with a scale factor of 1/3 so first of all we don't even see the point A here, so it's actually below the fold. So let's see, there we go, that's our point A. We want it to be about the origin, so about the point zero zero. This is what we want to, the dilation about the origin with a scale factor of 1/3, scale is 1/3. Scale factor, I should say. So how do we do this? Well here, however far A is from the origin we now want to be in the same direction, but 1/3 as far. So one way to think about it, to go from the origin to A you have to go six down and three to the right. So 1/3 of that would be two down and one to the right. Two is 1/3 of six and one is 1/3 of three, so you will end up right over here. That would be our A prime. So notice, you are 1/3 away from the origin as we were before because once again, this is point A under a dilation about the origin with a scale factor of 1/3.                                                                                                                                                                                                                                                                                                                                                                                                                                                                                                                                                                                                                                                                                                                                                                                                                                                                                                                                                                                                                                                                                                                                                                                                                                                                                                                                                                                                                                                                                                                                                                                                                                                                                                                                                                                                                                                                                                                                                                                                                                                                                                                                                                                                                                                                                                                                                                                                                                                                                                                                                                                                                                                                                                                                                                                                                                                                                                                                                                                                                                                                                                                                                                                                                                                                                                                                                                                                                                                                                                                                                                                                                                                                                                                                                                                                                                                                                                                                                                                                                                                                                                                                                                                                                                                                                                                                                                                                                                                                                                                                                                                                                                                                                                                                                                                                                                                                                                                                                                                                                                                                                                                                                                                                                                                                                                                                                                                                                                                                                                                                                                                                                                                                                                                                                                                                                                                                                                                                                                                                                                                                                                                                                                                                                                                                                                                                                                                                                                                                                                                                                                                                                                                                                                                                                                                                                                                                                                                                                                                                1\n",
              "Name: video_transcripts, Length: 4186, dtype: int64"
            ]
          },
          "metadata": {
            "tags": []
          },
          "execution_count": 14
        }
      ]
    },
    {
      "cell_type": "code",
      "metadata": {
        "id": "j3lYOb2K3kgy"
      },
      "source": [
        "\n",
        "# from sklearn.preprocessing import LabelEncoder\n",
        "\n",
        "# LE = LabelEncoder()\n",
        "# final_data['label'] = LE.fit_transform(final_data['board_syllabus'])\n",
        "# final_data.head()"
      ],
      "execution_count": 15,
      "outputs": []
    },
    {
      "cell_type": "code",
      "metadata": {
        "id": "wp64MkNB3kg1"
      },
      "source": [
        "# def get_labels(prediction):\n",
        "#     predicted_label =  LE.inverse_transform([prediction])\n",
        "#     return predicted_label[0]"
      ],
      "execution_count": 16,
      "outputs": []
    },
    {
      "cell_type": "code",
      "metadata": {
        "id": "uPgTmJPS3kg4"
      },
      "source": [
        "# get_labels(330)"
      ],
      "execution_count": 17,
      "outputs": []
    },
    {
      "cell_type": "code",
      "metadata": {
        "id": "HrQ1BBx0vWUQ"
      },
      "source": [
        "\n",
        "\n",
        "\n",
        "\n",
        "# train_data = pd.concat([train_data,val_data])\n",
        "# train_data"
      ],
      "execution_count": 18,
      "outputs": []
    },
    {
      "cell_type": "code",
      "metadata": {
        "id": "ijn1nIpByb3e"
      },
      "source": [
        "train_features = train_data[\"video_transcripts\"]\n",
        "test_features = test_data[\"video_transcripts\"]\n",
        "train_labels = train_data[\"hierarchy\"]\n",
        "test_labels = test_data[\"hierarchy\"]\n",
        "val_features = val_data[\"video_transcripts\"]\n",
        "val_labels = val_data[\"hierarchy\"]"
      ],
      "execution_count": 19,
      "outputs": []
    },
    {
      "cell_type": "code",
      "metadata": {
        "id": "prM_km_83khD",
        "colab": {
          "base_uri": "https://localhost:8080/"
        },
        "outputId": "8b522901-8223-4850-c4b3-1132f93eb47c"
      },
      "source": [
        "train_labels.value_counts()"
      ],
      "execution_count": 20,
      "outputs": [
        {
          "output_type": "execute_result",
          "data": {
            "text/plain": [
              "science>>health-and-medicine>>circulatory-system-diseases                           99\n",
              "science>>health-and-medicine>>human-anatomy-and-physiology                          65\n",
              "science>>health-and-medicine>>respiratory-system-diseases                           55\n",
              "science>>health-and-medicine>>circulatory-system                                    54\n",
              "science>>health-and-medicine>>infectious-diseases                                   52\n",
              "                                                                                    ..\n",
              "math>>algebra-basics>>alg-basics-expressions-with-exponents                          1\n",
              "math>>old-integral-calculus>>riemann-sums-ic                                         1\n",
              "math>>cc-third-grade-math>>imp-addition-and-subtraction                              1\n",
              "math>>7th-grade-illustrative-math>>unit-2-introducing-proportional-relationships     1\n",
              "science>>chemistry>>states-of-matter-and-intermolecular-forces                       1\n",
              "Name: hierarchy, Length: 569, dtype: int64"
            ]
          },
          "metadata": {
            "tags": []
          },
          "execution_count": 20
        }
      ]
    },
    {
      "cell_type": "code",
      "metadata": {
        "id": "qfhPstXJ03oz",
        "colab": {
          "base_uri": "https://localhost:8080/"
        },
        "outputId": "24ccbab0-156c-45a3-dbeb-659fde11e9e7"
      },
      "source": [
        "test_labels.value_counts()"
      ],
      "execution_count": 21,
      "outputs": [
        {
          "output_type": "execute_result",
          "data": {
            "text/plain": [
              "science>>health-and-medicine>>human-anatomy-and-physiology                24\n",
              "science>>health-and-medicine>>circulatory-system-diseases                 22\n",
              "science>>health-and-medicine>>circulatory-system                          17\n",
              "science>>biology>>crash-course-bio-ecology                                11\n",
              "science>>electrical-engineering>>robots                                   11\n",
              "                                                                          ..\n",
              "math>>early-math>>cc-early-math-add-sub-basics                             1\n",
              "math>>in-in-class-7-math-india-icse>>in-in-7-exponents-and-powers-icse     1\n",
              "science>>physics>>light-waves                                              1\n",
              "science>>health-and-medicine>>health-care-system                           1\n",
              "math>>algebra-home>>alg-conic-sections                                     1\n",
              "Name: hierarchy, Length: 416, dtype: int64"
            ]
          },
          "metadata": {
            "tags": []
          },
          "execution_count": 21
        }
      ]
    },
    {
      "cell_type": "code",
      "metadata": {
        "id": "AkyM7gqv3khI"
      },
      "source": [
        "question_answer = train_features.values\n",
        "categories = train_labels.values"
      ],
      "execution_count": 22,
      "outputs": []
    },
    {
      "cell_type": "code",
      "metadata": {
        "id": "tFkS_H_83khL",
        "colab": {
          "base_uri": "https://localhost:8080/"
        },
        "outputId": "da63579e-67d1-485e-ee12-426e52273e5a"
      },
      "source": [
        "question_answer"
      ],
      "execution_count": 23,
      "outputs": [
        {
          "output_type": "execute_result",
          "data": {
            "text/plain": [
              "array([\" In the last couple of videos we saw that we can describe a curves by a position vector-valued function. And in very general terms, it would be the x position as a function of time times the unit vector in the horizontal direction. Plus the y position as a function of time times the unit victor in the vertical direction. And this will essentially describe this-- though, if you can imagine a particle and let's say the parameter t represents time. It'll describe where the particle is at any given time. And if we wanted a particular curve we can say, well, this only applies for some curve-- we're dealing, it's r of t. And it's only applicable between t being greater than a and less than b. And you know, that would describe some curve in two dimensions. Just me just draw it here. This is all a review of really, the last two videos. So this curve, it might look something like that where this is where t is equal to a. That's where t is equal to b. And so r of a will be this vector right here that ends at that point. And then as t or if you can imagine the parameter being time, it doesn't have to be time, but that's a convenient one to visualize. Each corresponding as t gets larger and larger, we're just going to different-- we're specifying different points on the path. We saw that two videos ago. And in the last video we thought about, well, what does it mean to take the derivative of a vector-valued function? And we came up with this idea that-- and it wasn't an idea, we actually showed it to be true. We came up with a definition really. That the derivative-- I could call it r prime of t-- and it's going to be a vector. The derivative of a vector-valued function is once again going to be a derivative. But it was equal to-- the way we defined it-- x prime of t times i plus y prime of t times j. Or another way to write that and I'll just write all the different ways just so you get familiar with-- dr/dt is equal to dx/dt. This is just a standard derivative. x of t is a scalar function. So this is a standard derivative times i plus dy/dt times j. And if we wanted to think about the differential, one thing that we can think about-- and whenever I do the math for the differential it's a little bit hand wavy. I'm not being very rigorous. But if you imagine multiplying both sides of the equation by a very small dt or this exact dt, you would get dr is equal to-- I'll just leave it like this. dx/dt times dt. I could make these cancel out, but I'll just write it like this first. Times the unit vector i plus dy/dt times dt. Times the unit vector j. Or we could rewrite this. And I'm just rewriting it in all of the different ways that one can rewrite it. You could also write this as dr is equal to x prime of t dt times the unit vector i. So this was x prime of t dt. This is x prime of t right there times the unit vector i. Plus y prime of t. That's just that right there. Times dt. Times the unit vector j. And just to, I guess, complete the trifecta, the other way that we could write this is that dr is equal to-- if we just allowed these to cancel out, then we get is equal to dx times i plus dy times dy y times j. And that actually makes a lot of intuitive sense. That if I look at any dr, so let's say I look at the change between this vector and this vector. Let's say the super small change right there, that is our dr, and it's made up of-- it's our dx, our change in x is that right there. You can imagine it's that right there times-- but we're vectorizing it by multiplying it by the unit vector in the horizontal direction. Plus dy times the unit vector in the vertical direction. So when you multiply this distance times the unit vector, you're essentially getting this vector. And when you multiply this guy-- and actually our change in y here is negative-- you're going to get this vector right here. So when you add those together you'll get your change in your actual position vector. So that was all a little bit of background. And this might be somewhat useful-- a future video from now. Actually, I'm going to leave it there because really I just wanted to introduce this notation and get you familiar with it. In the next video, what I'm going to do is give you a little bit more intuition for what exactly does this thing mean? And how does it change depending on different parameterizations. And I'll do it with two different parameterizations for the same curve.\",\n",
              "       \" -  What we're going to do in this video is give ourselves a little bit of a tour of eukaryotic cells. And the first place to start is just to remind ourselves what it means for a cell to be eukaryotic. It means that inside the cell, there are membrane-bound organelles. Now, what does that mean? Well, you could view it as sub-compartments within the cell. Membrane-bound organelles. And in this video in particular, we're going to highlight some of these membrane-bound organelles that make the cells eukaryotic. So let's just start with some of the ingredients that we know is true of all cells. So you'll have your cellular membrane here. I drew it big, so that we have a lot of space to draw things in. So this is our cellular membrane. I'll do some nice shading so you appreciate that it'll actually be three-dimensional. We see so many slices of cells that sometimes we forget that they are more spherical, or that they have three-dimensional shape to them. They're not all spherical. They can have different shapes. Now all cells, and there are some exceptions that we've talked about in previous videos. I should say, most cells will have some genetic information in them in the form of DNA. So that is our DNA, right over there. Now, one of the key characteristics of a eukaryotic cell is that the genetic information is going to be inside a membrane-bound organelle. And that membrane-bound organelle, or the membrane that surrounds the DNA here, that is the nuclear membrane. So let me draw the nuclear membrane right over here, and I'll put some shading in to appreciate that that also is going to be in three dimensions, around the DNA. So that is the first membrane-bound organelle that we're gonna discuss, the nucleus. Now the nucleus, it turns out, is connected to another membrane-bound organelle. And we're gonna study this in future videos, but right here I'm drawing holes or pores in the nuclear membrane. And those pores connect to something, it's a very fancy word called the endoplasmic reticulum. And the endoplasmic reticulum is essentially these layers of these membranes. So I'm gonna do my best job at trying to draw an endoplasmic reticulum. Imagine extending from these pores, going into a space that has really these layered membranes that have a lot of surface area. And I'm not gonna go all the way around this nucleus, but in many cells it will go around, all the way around the nucleus. And this right over here, and this is just a rough diagram. That is our endoplasmic, endoplasmic... Not blasmic, endoplasmic... Endoplasmic reticulum, which I've mentioned in previous videos would be an excellent name for a band. And what goes on in the endoplasmic reticulum is when you are in the process of taking that genetic information from DNA, and as we talk about in other videos it gets transcribed into mRNA. So that mRNA is now containing that information. That mRNA will make its way out of that nuclear membrane through one of these pores, and then make its way to a ribosome that is attached to the membrane of the endoplasmic reticulum. And so that's a ribosome there. I'm gonna do a bunch of ribosomes. And so as we've talked about in previous videos, ribosomes are really where you take that genetic information from that mRNA, and then you translate it into a protein. So the ribosomes are the protein synthesis, so let me label that. So this right over here is a ribosome. And some ribosomes might be attached to the endoplasmic reticulum. Some of them might just be floating out here in the cytoplasm, so that would be a free ribosome. Free ribosome. And even from the point of view of the endoplasmic reticulum, the parts of the endoplasmic reticulum where you have ribosomes attached, this is known as rough endoplasmic reticulum. It's the ribosomes that are making them rough. It looks that way in a microscope. So I'll just say rough ER, for endoplasmic reticulum for short. And then you also have parts of the endoplasmic reticulum where you do not have ribosomes attached. And because that looks smooth through our microscope, it has been called, you can imagine, smooth endoplasmic reticulum. There are things known as golgi bodies. Once again, another fascinating name. You gotta love these names in biology. That look kind of like an endoplasmic reticulum, but detached from the nuclear membrane. So let's say it's something like that. That's my best drawing there. That's a golgi body. And these are really good at packaging molecules, even proteins that might've just been produced, and packaging them so that they can be used outside of the cell, for example. And we'll go into detail in other videos, where a protein might go to the golgi body, get a little envelope around it, get some little processing going on, and then make its way outside of a cell. Now another, and this is maybe one of the most famous membrane-bound organelles outside of the nucleus, is what's known as the powerhouse of the cell, and that is the mitochondria. So I'll draw this mitochondria in magenta, because that's a nice powerful color. So mitochondria. And I love mitochondria because it's fascinating how they even came to be. Mitochondria actually have their own DNA, and all of your mitochondrial DNA comes from your mother. So that's actually very interesting for tracing maternal lineage. But mitochondria, this is where your, I'm gonna say let's see what we could see inside of this. This is where you ATP is produced. This is your mitochondria. It's really the powerhouse of the cell. What's interesting about mitochondria is evolutionary biologists believe that the ancestors of mitochondria, because mitochondria have their own DNA, they might've been independent organisms, independent cells. And at some point in our evolutionary past, they started living in symbiosis inside of what would be the ancestors of our cells. And over time, they became so codependent that they started to replicate together. And mitochondria, in fact, became part of these eukaryotic cells. Now if this eukaryotic cell was a plant cell or maybe an algae cell, you would have something called chloroplasts there. We don't have them because we don't have photosynthesis, but this is a chloroplast. And if you could see inside, you could see the little thylakoid stacks right over here. You could see the thylakoids if you could see inside. And so this right over here is a chloroplast. Chloroplast. And this would be plants and algae. Animals do not have these. And these are where you have your photosynthesis take place. Photosynthesis. Now there's also some membrane-bound organelles that are maybe less famous than the mitochondria or the chloroplast, or for sure the nucleus, and that might be something like a vacuole. And in plants, vacuoles tend to be very big. I could draw it, this is three-dimensional so I'll draw it on top of something that I've drawn before. So if a vacuole right over here, this is a... And in a plant it could be a fairly significant compartment inside. And in fact, it can even give structure to the plant itself because it is so big. And it contains water and enzymes. It's viewed as kind of a storage compartment. But it can also contain enzymes that help digest things, that help break things down so that they can be used in some way. So that is a vacuole. And they don't just exist in plants. They can also exist in animal cells. But in plant cells, they can be very, very, very visible. Now, something that is somewhat related to some of the function that a vacuole plays, that are most associated with animal cells but now there's evidence that they also exist in plant cells, is the idea of a lysosome. So a lysosome right over here, that also is a compartment. And it's going to contain a whole series of enzymes in it that is useful for lysing, you could say, that is useful for breaking down either waste products as the cell lives, or even foreign substances that might not be helpful for the cells. So it's gonna contain a bunch of enzymes, and it helps break down things. Now, I'll leave you there. These aren't all of the structures in eukaryotic cells, but these are enough of the structures so that you can appreciate that there are a lot of membrane-bound organelles in eukaryotic cells. And to be clear, even if I were to show all of the membrane-bound structures, that's not all the complexity of the cell. The big thing to appreciate is that cells are incredibly complex. There's all sorts of structures in here that help transport things and move things around. If you could shrink yourself down and look inside of a cell, it would look more complex than the most complex cities. There's all sorts of activities, things being moved around, shuttled around. The cell itself is replicating and copying things. And so this is just the beginning. We're just starting to scratch the surface of the complexity of the most basic unit of life.\",\n",
              "       \" So once again, we have three equal, or we say three identical objects. They all have the same mass, but we don't know what the mass is of each of them. But what we do know is that if you total up their mass, it's the same exact mass as these nine objects right over here. And each of these nine objects have a mass of 1 kilograms. So in total, you have 9 kilograms on this side. And over here, you have three objects. They all have the same mass. And we don't know what it is. We're just calling that mass x. And what I want to do here is try to tackle this a little bit more symbolically. In the last video, we said, hey, why don't we just multiply 1/3 of this and multiply 1/3 of this? And then, essentially, we're going to keep things balanced, because we're taking 1/3 of the same mass. This total is the same as this total. That's why the scale is balanced. Now, let's think about how we can represent this symbolically. So the first thing I want you to think about is, can we set up an equation that expresses that we have these three things of mass x, and that in total, their mass is equal to the total mass over here? Can we express that as an equation? And I'll give you a few seconds to do it. Well, let's think about it. Over here, we have three things with mass x. So their total mass, we could write as-- we could write their total mass as x plus x plus x. And over here, we have nine things with mass of 1 kilogram. I guess we could write 1 plus 1 plus 1. That's 3. Plus 1 plus 1 plus 1 plus 1. How many is that? 1, 2, 3, 4, 5, 6, 7, 8, 9. And actually, this is a mathematical representation. If we set it up as an equation, it's an algebraic representation. It's not the simplest possible way we can do it, but it is a reasonable way to do it. If we want, we can say, well, if I have an x plus another x plus another x, I have three x's. So I could rewrite this as 3x. And 3x will be equal to? Well, if I sum up all of these 1's right over here-- 1 plus 1 plus 1. We're doing that. We have 9 of them, so we get 3x is equal to 9. And let me make sure I did that. 1, 2, 3, 4, 5, 6, 7, 8, 9. So that's how we would set it up. And so the next question is, what would we do? What can we do mathematically? Actually, to either one of these equations, but we'll focus on this one right now. What can we do mathematically in order to essentially solve for the x? In order to figure out what that mystery mass actually is? And I'll give you another second or two to think about it. Well, when we did it the last time with just the scales we said, OK, we've got three of these x's here. We want to have just one x here. So we can say, whatever this x is, if the scale stays balanced, it's going to be the same as whatever we have there. There might be a temptation to subtract two of the x's maybe from this side, but that won't help us. And we can even see it mathematically over here. If we subtract two x's from both sides, on the left-hand side you're going to have 3x minus 2x. And on the right-hand side, you're going to have 9 minus 2x. And you're just going to be left with 3 of something minus 2 something is just 1 of something. So you will just have an x there if you get rid of two of them. But on the right-hand side, you're going to get 9 minus 2 x's. So the x's still didn't help you out. You still have a mystery mass on the right-hand side. So that doesn't help. So instead, what we say is-- and we did this the last time. We said, well, what if we took 1/3 of these things? If we take 1/3 of these things and take 1/3 of these things, we should still get the same mass on both sides because the original things had the same mass. And the equivalent of doing that mathematically is to say, why don't we multiply both sides by 1/3? Or another way to say it is we could divide both sides by 3. Multiplying by 1/3 is the same thing as dividing by 3. So we're going to multiply both sides by 1/3. When you multiply both sides by 1/3-- visually over here, if you had three x's, you multiply it by 1/3, you're only going to have one x left. If you have nine of these one-kilogram boxes, you multiply it by 1/3, you're only going to have three left. And over here, you can even visually-- if you divide by 3, which is the same thing as multiplying by 1/3, you divide by 3. So you divide by 3. You have an x is equal to a 1 plus 1 plus 1. An x is equal to 3. Or you see here, an x is equal to 3. Over here you do the math. 1/3 times 3 is 1. You're left with 1x. So you're left with x is equal to 9 times 1/3. Or you could even view it as 9 divided by 3, which is equal to 3.\",\n",
              "       ...,\n",
              "       ' - Let\\'s say that I have a circle. My best attempt to draw a reasonably perfect circle. So, there you go, not too bad, it\\'s a little bit of a hairy circle but you get the idea. So, this is a circle, this is the center of the circle, and let\\'s say that I have an arc along this circle. So, I\\'ll do the arc in green. So, I have an arc that is part of the circle, and it subtends an angle, so that\\'s my arc. Right over there, and it subtends an angle, and the angle that it subtends, so what I mean subtends, you take each of the endpoints of the arc, go to the center of the circle, go to the center of the circle just like this, and so it subtends angle theta, right over here, so it subtends angle theta, and let\\'s say that we know that angle theta is equal to two radians. So my question to you is what fraction of the entire circumference is this green arc? What fraction of the entire circumference is this green arc? And like always, pause the video, and give it a go. (laughs) All right, so let\\'s think through it a little bit. So, you might say well how do I know that, I don\\'t know what the radius of this thing is, I don\\'t, how do I think through this? And we just have to remind ourselves what radians mean, what radians mean. If an arc subtends the angle of two radians, that means that the arc itself is two \"radiuseseses\" long. (laughs) So, this right over here, let me make this a little clearer, so this, if the radius is r, if this radius is, I already used that color, if this radius... I have trouble switching colors (laughs) all right. If this radius is length r, then the length, if this angle is two radians, then the arc that subtends it is going to be two radiuses long, so this length right over here, is two radiuses. Now, what fraction of the entire circumference is that? Well, the entire circumference, we know, we know this from basic geometry, the entire circumference is two pi times the radius, or you can say it\\'s two pi radii, two pi \"radiuseses\", (laughs) two pi radii is the correct way to say it. So, what fraction is it? It\\'s two radii, it\\'s two radii, over two pi radii, over two pi radii, twos cancel out, rs cancel out, and so it is one \"pith\", (laughs) I guess you could say, it is one over pi of the total circumference.',\n",
              "       \" - So let's look at the female reproductive cycle. The female reproductive cycle refers to the maturation of eggs within the ovaries. The ovaries initially created these eggs during gestation. In other words, when a baby girl is in her mother's womb, the baby girl's entire egg supply will be created but will remain in an inactive state. This process of egg creation is called oogenesis. Then, once she grows up a bit and reaches puberty, her reproductive cycle will start, and one egg in that egg supply in her ovaries will mature or become activated each month, and that allows it to be fertilized by sperm. By the way, another word for egg is oocyte. After an egg matures, it's pushed out of the ovary in a process called ovulation. The other major function of the ovaries is to secrete the female sex hormones, estrogen, progesterone, and one called inhibin, and we'll talk about their functions a little bit later on. So let's first discuss how the eggs are made in the ovary in the first place. So early in uteral development, precursor germ cells, which are called oogonia, and those are homologous to spermatagonia in males, these oogonia undergo a ton of mitotic divisions to make more of themselves. And then, at about the 7th month of development, these divisions stop, and all of the ones that have been produced, which is actually about two to four million, are all she'll have for the rest of her life, and that turns out to be about one to two million per ovary. So while she's still in fetal development, all of these oogonia that have been produced, they all develop into the next stage, which is a primary oocyte. And just remember that the two oo's refers to egg, and the cyte, C-Y-T-E, refers to cell. So this just means egg cell, in case you were wondering. And let me also just mention, on a chromosomal level these oogonia, the germ cells, they're 2n, which means they have two copies of each chromosome, and the primary oocytes are the same. They're also 2n. And then these primary oocytes, they begin meiosis 1, and meiosis is what our germ cells use to reduce our chromosome copy number, and by that, I just mean the number of copies of DNA that we have. So they start this process of meiosis 1, but they don't actually finish it. They just kind of get about halfway through, and then they stop. So they're stuck as these big cells. So they're still primary oocytes, but they're said to be in meiotic arrest. So when the female who's been developing in her mom's womb, when she's born, her primary oocytes are in meiotic arrest. So the question is, do they stay like this? And the answer is, some do and some don't. Let's zoom in on this reproductive system to try to explain. So this is just a closeup of the major parts of the female reproductive system, and I've cut away parts of the uterus and the uterine tubes and the ovaries so you can see sort of the inside and the outsides of both structures. And this is our key organ here. This is the ovary. So the question was, do these primary oocytes that are stuck in meiotic arrest, do they stay like that? So the answer is that the ones that are sort of destined to be ovulated, that is, to be pushed out of the ovary right about here and then to be picked up by the fimbriae and then travel along the uterine tube here, those ones get past meiotic arrest. But most of them sort of die off while they're still stuck in that meiotic arrest phase as a primary oocyte. So I've mentioned the ones that sort of get out of the meiotic arrest phase and move on to develop into secondary oocytes that are able to then fuse with sperm, but when exactly does that happen? Well, it starts at puberty. So they actually stay in this phase as primary oocytes up here, in meiotic arrest for like 12 to 13 years, give or take, and only then do they start moving forward with development by finishing off that first part of meiosis that they started and splitting into two secondary oocytes. And actually, that's not exactly true, even though that's what we'd expect. What actually happens is one primary occyte it attempts to split into two secondary oocytes, but that's not exactly what happens. What does happen is that one of the developing daughter cells develops beautifully into a normal secondary oocyte from the primary oocyte, but it turns out that when they do complete the first part of meiosis, something really interesting happens. One of these cells receives basically all the cytoplasm. So the chromosome copy number is halved, but basically all the cytoplasm is kept in one cell. So this little guy over here that didn't get much cytoplasm, it still has a full complement of chromosomes, but it still ends up being pretty small and not really very functional. So it kind of withers away and dies, and it's called a polar body. So you end up with this really large secondary oocyte, and this is what ends up getting ovulated. And so now you might be thinking, well, meiosis is two steps, right? When does the second step happen? And that's a good question. So again, ovulation happens roughly here with the secondary oocyte coming out, and this secondary oocyte sort of just hangs out in the uterine tubes, and a sperm comes along and fertilizes the egg. So let's look at that down here. So you have your uterine tube here, and you have your egg. That's a secondary oocyte now. And then a sperm is coming along, and the sperm fuses with the egg after fertilizing it. And so the sperm fertilizes the egg and fuses with it. And so, let's just zoom in on what's happening there. So here you have your big secondary oocyte, and then you have your sperm that sort of, let's say that the nucleus of the sperm is right here. It's inside the egg already. This is the nucleus of the sperm. And here's the nucleus of the secondary oocyte. Well this is when meiosis 2 happens, so the second half of meiosis. So as this sperm nucleus is traveling toward the egg nucleus to create a joint nucleus, meiosis 2 occurs, and the oocyte reduces its chromosome copy number by creating another polar body, so a second polar body that kind of divides off the cell. So the oocyte cuts its chromosome copy number in half again, and so this little bit of DNA here that's just an extra copy of the DNA the egg already has, it divides off the cell in the form of another polar body that doesn't really have that much cytoplasm, just like the first one. So again, it leaves its nutrient-rich cytoplasm behind for the sperm and the egg. And by the way, the egg has changed its name now from a secondary oocyte to an ovum, but it won't be an ovum for long. Once the sperm nucleus fuses with the egg nucleus, then it becomes a zygote. So let me just clarify that if the egg doesn't get fertilized by a sperm that comes along, then it doesn't complete that second meiotic division that it did right here, and it just gets discharged from the body in menstruation as a secondary oocyte and not as an ovum, because the name ovum is reserved for the oocyte only once it's been fertilized. So those are the basic concepts behind what goes on with egg development.\",\n",
              "       \" -  We're now in the home stretch. We just have to evaluate the curl of f and then this dot product and then evaluate this double integral. So let's work on the curl of F. So the curl of f is going to be equal to, and I just remember it as the determit, so we have our i, j, k components, and it's really you could imagine it's the del operator crossed with the actual vector. So the del operator, I'll write this in a different color just to ease the monotony, so this is partial with respect to x, partial with respect to y, partial with respect to z, and then our vector field, I copied and pasted it right over here. It is just equal to negative y squared, is our i component, x is our j component, and Z squared is our k component. And so this is going to be equal to, this is going to be equal to i, is going to be equal to i times the partial of Z squared with respect to y. Well, there's the Z squared is just a constant with respect to y so the partial of Z squared with respect to y is just going to be zero, so this is going to be zero. Minus the partial of x with respect to z. Well, once again this is just a constant when you think in terms of z, so that's just going to be zero. So that's nice simplification, and then we're gonna have minus j, we need our little checkerboard patterns, we put a negative in front of the j, minus j and so we'll have the partial of x, the partial of z squared with respect to x, that's zero again, and then minus the partial of negative y squared with respect to z, well that's zero again, and then finally we have our k component, k, so plus, plus k, and k, we're gonna have the partial of x with respect to x, well that actually gives us a value that's just gonna be one minus the partial of negative y squared with respect to y. So the partial of negative y squared with respect to y is negative two y and we're subtracting that, so it's going to be plus, plus, two y. So curl of f simplifies to just, all of this is just zero up here, is just one plus two y times k or k times one plus two y. And so if we go back to this right up here, if we go back up to that, we're going to get let me re-write the integral so zero to one and that's our r, our r parameter is gonna go from zero to one, theta is gonna go from zero to two pi. And now curl of f has simplified to, and I won't skip any steps although it's tempting, it's one plus two y, and actually instead of writing two y, let me write it in terms of the parameters. We saw it up here, y was r sine theta, if I remember correctly, right, y was r sine theta. So let me write y that way. Two times r sine theta k. And we're gonna dot this, we're gonna take the dot product of that with this right over here, with r times j plus r times k, d theto d r. And so we take the dot product, this thing only has a k component, the j component is zero, so when you take the dot product with this j component you're gonna get zero. And neither of them you actually even have an i component. And so the inside is just going to simplify to this piece right over here is going to simplify to, we're just gonna have to think about the k components, cause everything else is zero, so it's gonna be r times this and we're done! So it's gonna be r plus two r squared sine theta, d theta d r, d theta d r and, once again, theta goes from zero to two pi and r goes from zero to one. And now this is just a straight-up double integral. We just have to evaluate this thing. And so, first we take the antiderivative with respect to theta, so the antiderivative with respect to theta is going to give us, so this is going to be giving, so we're going to focus on theta first, so the antiderivative of r with respect to theta is just r theta, you can just do r as a constant, and then the antiderivative of this, antiderivative of sine of theta is negative cosine of theta. So this is gonna be negative two r squared cosine of theta. And we're gonna evaluate it from zero to two pi. And then we have the outside integral, which I will, I'll re-color in yellow, re-color in yellow, so we'll still have to integrate with respect to r and r's gonna go from zero to one. But inside right over here, if we evaluate all of this business right over here at two pi, we get two pi r, two pi r, that's that right over there, minus... Cosine of two pi is just one. So it's minus two r squared and then from that, we're going to subtract from that, we're gonna subtract this evaluated zero. Well r times zero is just zero, and then cosine of zero is one. So it's just minus two r squared, or negative two r squared, negative two r squared. And at this negative and this negative, you get a positive, and but then you have a negative two r squared and then a plus two r squared it's just going to cancel out, that and that cancel out, and so this whole thing has simplified quite nicely to a simple definite integral, zero to one of two pi, two pi r dr, and the antiderivative of this is just going to be pi r squared, so we're just gonna evaluate pi r squared from zero to one, when you evaluate it at one, you get pi; when you evaluate it at zero, you just get zero, so you get pi minus zero, which is equal to, and now we deserve a drumroll 'cause we've been doing a lot of work over many videos, this is equal to pi. So just to remind ourselves what we've done over the last few videos, we had this line integral that we were trying to figure out, and instead of directly evaluating the line integral, which we could do and I encourage you to do so, and if I have time, I might do it in the next video, instead of directly evaluating that line integral, we used Stokes theorem to say, oh we could actually instead say that that's the same thing as a surface integral over a piecewise-smooth boundary over piecewise-smooth surface that this path is the boundary of, and so we evaluated this surface intergal and eventually, with a good bit of, little bit of calculation, we got to evaluating it to be equal to pi.\"],\n",
              "      dtype=object)"
            ]
          },
          "metadata": {
            "tags": []
          },
          "execution_count": 23
        }
      ]
    },
    {
      "cell_type": "code",
      "metadata": {
        "id": "ian7gSDE3khR",
        "colab": {
          "base_uri": "https://localhost:8080/"
        },
        "outputId": "96261e4b-fca1-4050-99c6-0907a9b7b952"
      },
      "source": [
        "categories"
      ],
      "execution_count": 24,
      "outputs": [
        {
          "output_type": "execute_result",
          "data": {
            "text/plain": [
              "array(['math>>multivariable-calculus>>multivariable-derivatives',\n",
              "       'science>>ap-biology>>natural-selection',\n",
              "       'math>>pre-algebra>>pre-algebra-equations-expressions', ...,\n",
              "       'math>>engageny-geo>>geo-5',\n",
              "       'science>>health-and-medicine>>human-anatomy-and-physiology',\n",
              "       'math>>multivariable-calculus>>greens-theorem-and-stokes-theorem'],\n",
              "      dtype=object)"
            ]
          },
          "metadata": {
            "tags": []
          },
          "execution_count": 24
        }
      ]
    },
    {
      "cell_type": "code",
      "metadata": {
        "id": "fepGiggpqOQx"
      },
      "source": [
        "# val_features = test_features.values\n",
        "# val_labels = test_labels.values"
      ],
      "execution_count": 25,
      "outputs": []
    },
    {
      "cell_type": "code",
      "metadata": {
        "id": "5gNnga-onGn9"
      },
      "source": [
        "# this method can be used to project from euclidean space to hyperbolic space\n",
        "def exponential_map(vector):\n",
        "        norm_v = np.linalg.norm(vector, axis=1)\n",
        "        coef = np.tanh(norm_v) / norm_v\n",
        "        second_term = vector * coef[:, None]\n",
        "        return second_term"
      ],
      "execution_count": 26,
      "outputs": []
    },
    {
      "cell_type": "code",
      "metadata": {
        "id": "KwNdG6eFaEMB"
      },
      "source": [
        "# this method can be used to project from euclidean space to hyperbolic space\n",
        "def tensor_exponential_map(vector):\n",
        "      vector_norm = vector.norm(dim=-1, p=2, keepdim=True).clamp_min(1e-15)\n",
        "      gamma_1 = torch.nn.functional.tanh(vector_norm) * (vector / vector_norm)\n",
        "      return gamma_1"
      ],
      "execution_count": 27,
      "outputs": []
    },
    {
      "cell_type": "code",
      "metadata": {
        "id": "FN1zRXMOXwLK"
      },
      "source": [
        "\n",
        "import numpy as np\n",
        "\n",
        "from bokeh.io import output_file, output_notebook, show\n",
        "from bokeh.plotting import figure\n",
        "from bokeh.transform import linear_cmap\n",
        "from bokeh.util.hex import hexbin\n",
        "from bokeh.models import HoverTool\n",
        "from bokeh import colors\n",
        "\n",
        "from gzip import open as gopen\n",
        "\n",
        "import gensim.models.poincare as poincare\n",
        "poincare_model = poincare.PoincareModel.load(\"taxonomy_khan_acad_embedding_20.pkl\")\n",
        "def get_poincare_embeddings_data(taxonomy):\n",
        "  cleaned_taxonomy = []\n",
        "  for value in taxonomy:\n",
        "      value = value.split(\">>\")\n",
        "      cleaned_taxonomy.append( list(tok.lower() for tok in value) )\n",
        "  return cleaned_taxonomy"
      ],
      "execution_count": 28,
      "outputs": []
    },
    {
      "cell_type": "code",
      "metadata": {
        "id": "wPAl0TNuX6mx"
      },
      "source": [
        "\n",
        "# course_taxonomy\n",
        "\n",
        "poincare_emb_data = get_poincare_embeddings_data(categories)\n",
        "poincare_val = get_poincare_embeddings_data(val_labels)"
      ],
      "execution_count": 29,
      "outputs": []
    },
    {
      "cell_type": "code",
      "metadata": {
        "id": "LdBbsrO9zp2p"
      },
      "source": [
        "# poincare_embedding =  [[ poincare_model.kv.get_vector(str(x)) for x in taxonomy ] for taxonomy in poincare_emb_data ]\n",
        "# np.linalg.norm(poincare_embedding[1000])"
      ],
      "execution_count": 30,
      "outputs": []
    },
    {
      "cell_type": "code",
      "metadata": {
        "id": "FAWBKw-U3azu"
      },
      "source": [
        "# for index,embedding in enumerate(poincare_embedding):\n",
        "#   poincare_embedding[index] = np.stack(embedding,axis=0)\n"
      ],
      "execution_count": 31,
      "outputs": []
    },
    {
      "cell_type": "code",
      "metadata": {
        "id": "oTlCYX9Q34JG"
      },
      "source": [
        ""
      ],
      "execution_count": 31,
      "outputs": []
    },
    {
      "cell_type": "code",
      "metadata": {
        "id": "p834oM1Pzzu8"
      },
      "source": [
        "# np.array(poincare_embedding).shape"
      ],
      "execution_count": 32,
      "outputs": []
    },
    {
      "cell_type": "code",
      "metadata": {
        "id": "Nq2G2XIrYjy2",
        "colab": {
          "base_uri": "https://localhost:8080/"
        },
        "outputId": "a4aec7cc-da80-4765-c68a-b8538efe30e6"
      },
      "source": [
        "poincare_embedding =  [exponential_map(np.expand_dims( np.hstack(  [ poincare_model.kv.get_vector(str(x)) for x in taxonomy ] ),axis=0)) for taxonomy in poincare_emb_data ]\n",
        "np.linalg.norm(poincare_embedding[1000])"
      ],
      "execution_count": 33,
      "outputs": [
        {
          "output_type": "execute_result",
          "data": {
            "text/plain": [
              "0.899765215781272"
            ]
          },
          "metadata": {
            "tags": []
          },
          "execution_count": 33
        }
      ]
    },
    {
      "cell_type": "code",
      "metadata": {
        "id": "tWL3XpuJq5iW",
        "colab": {
          "base_uri": "https://localhost:8080/"
        },
        "outputId": "f0db0e5a-1755-4490-e565-8c89f2ca76e9"
      },
      "source": [
        "poincare_embedding_val = [exponential_map(np.expand_dims( np.hstack(  [ poincare_model.kv.get_vector(str(x)) for x in taxonomy ] ),axis=0)) for taxonomy in poincare_val ]\n",
        "np.linalg.norm(poincare_embedding_val[100])"
      ],
      "execution_count": 34,
      "outputs": [
        {
          "output_type": "execute_result",
          "data": {
            "text/plain": [
              "0.8857759138716806"
            ]
          },
          "metadata": {
            "tags": []
          },
          "execution_count": 34
        }
      ]
    },
    {
      "cell_type": "code",
      "metadata": {
        "id": "wQ5VB0_frWRu",
        "colab": {
          "base_uri": "https://localhost:8080/"
        },
        "outputId": "e1a7af78-bc5f-4b43-deb8-d3ae9f5f8c82"
      },
      "source": [
        "poincare_val[100]"
      ],
      "execution_count": 35,
      "outputs": [
        {
          "output_type": "execute_result",
          "data": {
            "text/plain": [
              "['math', 'cc-seventh-grade-math', 'cc-7th-ratio-proportion']"
            ]
          },
          "metadata": {
            "tags": []
          },
          "execution_count": 35
        }
      ]
    },
    {
      "cell_type": "code",
      "metadata": {
        "id": "cli5GQTE6yl5",
        "colab": {
          "base_uri": "https://localhost:8080/"
        },
        "outputId": "1b21a404-ebb3-490d-ae8b-07cff9ab8daf"
      },
      "source": [
        "poincare_embedding_val[100].shape"
      ],
      "execution_count": 36,
      "outputs": [
        {
          "output_type": "execute_result",
          "data": {
            "text/plain": [
              "(1, 60)"
            ]
          },
          "metadata": {
            "tags": []
          },
          "execution_count": 36
        }
      ]
    },
    {
      "cell_type": "code",
      "metadata": {
        "id": "II_vjGgRLqeE",
        "colab": {
          "base_uri": "https://localhost:8080/"
        },
        "outputId": "551ab8c5-4050-4593-8f3d-bd0b8a79ebc7"
      },
      "source": [
        "poincare_embedding[0].shape"
      ],
      "execution_count": 37,
      "outputs": [
        {
          "output_type": "execute_result",
          "data": {
            "text/plain": [
              "(1, 60)"
            ]
          },
          "metadata": {
            "tags": []
          },
          "execution_count": 37
        }
      ]
    },
    {
      "cell_type": "code",
      "metadata": {
        "id": "Wbl7uFDmEdHD",
        "colab": {
          "base_uri": "https://localhost:8080/"
        },
        "outputId": "ceb07c55-d287-447a-970c-7990393de933"
      },
      "source": [
        "max_val_train = 0\n",
        "max_emb =None\n",
        "for embedding in poincare_embedding:\n",
        "  val = embedding.shape[1]\n",
        "  if val >max_val_train:\n",
        "    max_val_train=val\n",
        "    max_emb =embedding\n",
        "max_val_train\n"
      ],
      "execution_count": 38,
      "outputs": [
        {
          "output_type": "execute_result",
          "data": {
            "text/plain": [
              "60"
            ]
          },
          "metadata": {
            "tags": []
          },
          "execution_count": 38
        }
      ]
    },
    {
      "cell_type": "code",
      "metadata": {
        "id": "5nrk2qTerql2",
        "colab": {
          "base_uri": "https://localhost:8080/"
        },
        "outputId": "243e5562-b357-4435-e614-455465248c1f"
      },
      "source": [
        "max_val_val = 0\n",
        "max_emb =None\n",
        "for embedding in poincare_embedding_val:\n",
        "  val = embedding.shape[1]\n",
        "  if val >max_val_val:\n",
        "    max_val_val=val\n",
        "    max_emb =embedding\n",
        "max_val_val\n"
      ],
      "execution_count": 39,
      "outputs": [
        {
          "output_type": "execute_result",
          "data": {
            "text/plain": [
              "60"
            ]
          },
          "metadata": {
            "tags": []
          },
          "execution_count": 39
        }
      ]
    },
    {
      "cell_type": "code",
      "metadata": {
        "id": "h0RXfn5xEf5t"
      },
      "source": [
        "def get_concat_embedding(poincare_embedding,max_val):\n",
        "  concatenated_embedding = []\n",
        "  for embedding in poincare_embedding:\n",
        "    if embedding.shape[1] < max_val:\n",
        "      new_embedding = np.append(embedding, np.expand_dims(np.zeros(max_val-embedding.shape[1]),axis=0),axis=1)\n",
        "    else:\n",
        "      new_embedding = embedding\n",
        "    concatenated_embedding.append(np.squeeze(new_embedding,axis=0))\n",
        "  return concatenated_embedding\n",
        "\n"
      ],
      "execution_count": 40,
      "outputs": []
    },
    {
      "cell_type": "code",
      "metadata": {
        "id": "B3CBrpnmpYU-"
      },
      "source": [
        "concat_embedding_train = get_concat_embedding(poincare_embedding,max_val_train)\n",
        "concat_embedding_val = get_concat_embedding(poincare_embedding_val,max_val_train)"
      ],
      "execution_count": 41,
      "outputs": []
    },
    {
      "cell_type": "code",
      "metadata": {
        "id": "svuJZqfpLu_6",
        "colab": {
          "base_uri": "https://localhost:8080/"
        },
        "outputId": "c242ed7b-ecb6-4b93-882c-b563401ab759"
      },
      "source": [
        "concat_embedding_train[0].shape"
      ],
      "execution_count": 42,
      "outputs": [
        {
          "output_type": "execute_result",
          "data": {
            "text/plain": [
              "(60,)"
            ]
          },
          "metadata": {
            "tags": []
          },
          "execution_count": 42
        }
      ]
    },
    {
      "cell_type": "code",
      "metadata": {
        "id": "XCQswt5pMBRO",
        "colab": {
          "base_uri": "https://localhost:8080/"
        },
        "outputId": "985a1e7c-ac85-44f1-cdf0-8c780ee8f92a"
      },
      "source": [
        "poincare_embeddings_train = np.stack(concat_embedding_train, axis=0)\n",
        "poincare_embeddings_train.shape"
      ],
      "execution_count": 43,
      "outputs": [
        {
          "output_type": "execute_result",
          "data": {
            "text/plain": [
              "(4188, 60)"
            ]
          },
          "metadata": {
            "tags": []
          },
          "execution_count": 43
        }
      ]
    },
    {
      "cell_type": "code",
      "metadata": {
        "id": "5Qy10KlXpxp_",
        "colab": {
          "base_uri": "https://localhost:8080/"
        },
        "outputId": "ebbb8c3c-6960-48bf-a08a-f4f6a4df336d"
      },
      "source": [
        "poincare_embeddings_val = np.stack(concat_embedding_val, axis=0).squeeze()\n",
        "poincare_embeddings_val.shape"
      ],
      "execution_count": 44,
      "outputs": [
        {
          "output_type": "execute_result",
          "data": {
            "text/plain": [
              "(924, 60)"
            ]
          },
          "metadata": {
            "tags": []
          },
          "execution_count": 44
        }
      ]
    },
    {
      "cell_type": "code",
      "metadata": {
        "id": "Y_ZeuHc63khU",
        "colab": {
          "base_uri": "https://localhost:8080/"
        },
        "outputId": "d8c955be-d1b7-417a-eabb-e6e2653af5f5"
      },
      "source": [
        "input_ids = []\n",
        "attention_masks = []\n",
        "\n",
        "for sent in question_answer:\n",
        "    # `encode_plus` will:\n",
        "    #   (1) Tokenize the sentence.\n",
        "    #   (2) Prepend the `[CLS]` token to the start.\n",
        "    #   (3) Append the `[SEP]` token to the end.\n",
        "    #   (4) Map tokens to their IDs.\n",
        "    #   (5) Pad or truncate the sentence to `max_length`\n",
        "    #   (6) Create attention masks for [PAD] tokens.\n",
        "    encoded_dict = tokenizer.encode_plus(\n",
        "                        sent,                      # Sentence to encode.\n",
        "                        add_special_tokens = True, # Add '[CLS]' and '[SEP]'\n",
        "                        max_length = 256,           # Pad & truncate all sentences.\n",
        "                        pad_to_max_length = True,\n",
        "                        truncation=True,\n",
        "                        return_attention_mask = True,   # Construct attn. masks.\n",
        "                        return_tensors = 'pt',     # Return pytorch tensors.\n",
        "                   )\n",
        "    \n",
        "    # Add the encoded sentence to the list.    \n",
        "    input_ids.append(encoded_dict['input_ids'])\n",
        "    \n",
        "    # And its attention mask (simply differentiates padding from non-padding).\n",
        "    attention_masks.append(encoded_dict['attention_mask'])\n",
        "\n",
        "# Convert the lists into tensors.\n",
        "input_ids = torch.cat(input_ids, dim=0)\n",
        "attention_masks = torch.cat(attention_masks, dim=0)\n",
        "\n",
        "\n",
        "# Print sentence 0, now as a list of IDs.\n",
        "print('Original: ', question_answer[0])\n",
        "print('Token IDs:', input_ids[0])"
      ],
      "execution_count": 45,
      "outputs": [
        {
          "output_type": "stream",
          "text": [
            "/usr/local/lib/python3.7/dist-packages/transformers/tokenization_utils_base.py:1770: FutureWarning: The `pad_to_max_length` argument is deprecated and will be removed in a future version, use `padding=True` or `padding='longest'` to pad to the longest sequence in the batch, or use `padding='max_length'` to pad to a max length. In this case, you can give a specific length with `max_length` (e.g. `max_length=45`) or leave max_length to None to pad to the maximal input size of the model (e.g. 512 for Bert).\n",
            "  FutureWarning,\n"
          ],
          "name": "stderr"
        },
        {
          "output_type": "stream",
          "text": [
            "Original:   In the last couple of videos we saw that we can describe a curves by a position vector-valued function. And in very general terms, it would be the x position as a function of time times the unit vector in the horizontal direction. Plus the y position as a function of time times the unit victor in the vertical direction. And this will essentially describe this-- though, if you can imagine a particle and let's say the parameter t represents time. It'll describe where the particle is at any given time. And if we wanted a particular curve we can say, well, this only applies for some curve-- we're dealing, it's r of t. And it's only applicable between t being greater than a and less than b. And you know, that would describe some curve in two dimensions. Just me just draw it here. This is all a review of really, the last two videos. So this curve, it might look something like that where this is where t is equal to a. That's where t is equal to b. And so r of a will be this vector right here that ends at that point. And then as t or if you can imagine the parameter being time, it doesn't have to be time, but that's a convenient one to visualize. Each corresponding as t gets larger and larger, we're just going to different-- we're specifying different points on the path. We saw that two videos ago. And in the last video we thought about, well, what does it mean to take the derivative of a vector-valued function? And we came up with this idea that-- and it wasn't an idea, we actually showed it to be true. We came up with a definition really. That the derivative-- I could call it r prime of t-- and it's going to be a vector. The derivative of a vector-valued function is once again going to be a derivative. But it was equal to-- the way we defined it-- x prime of t times i plus y prime of t times j. Or another way to write that and I'll just write all the different ways just so you get familiar with-- dr/dt is equal to dx/dt. This is just a standard derivative. x of t is a scalar function. So this is a standard derivative times i plus dy/dt times j. And if we wanted to think about the differential, one thing that we can think about-- and whenever I do the math for the differential it's a little bit hand wavy. I'm not being very rigorous. But if you imagine multiplying both sides of the equation by a very small dt or this exact dt, you would get dr is equal to-- I'll just leave it like this. dx/dt times dt. I could make these cancel out, but I'll just write it like this first. Times the unit vector i plus dy/dt times dt. Times the unit vector j. Or we could rewrite this. And I'm just rewriting it in all of the different ways that one can rewrite it. You could also write this as dr is equal to x prime of t dt times the unit vector i. So this was x prime of t dt. This is x prime of t right there times the unit vector i. Plus y prime of t. That's just that right there. Times dt. Times the unit vector j. And just to, I guess, complete the trifecta, the other way that we could write this is that dr is equal to-- if we just allowed these to cancel out, then we get is equal to dx times i plus dy times dy y times j. And that actually makes a lot of intuitive sense. That if I look at any dr, so let's say I look at the change between this vector and this vector. Let's say the super small change right there, that is our dr, and it's made up of-- it's our dx, our change in x is that right there. You can imagine it's that right there times-- but we're vectorizing it by multiplying it by the unit vector in the horizontal direction. Plus dy times the unit vector in the vertical direction. So when you multiply this distance times the unit vector, you're essentially getting this vector. And when you multiply this guy-- and actually our change in y here is negative-- you're going to get this vector right here. So when you add those together you'll get your change in your actual position vector. So that was all a little bit of background. And this might be somewhat useful-- a future video from now. Actually, I'm going to leave it there because really I just wanted to introduce this notation and get you familiar with it. In the next video, what I'm going to do is give you a little bit more intuition for what exactly does this thing mean? And how does it change depending on different parameterizations. And I'll do it with two different parameterizations for the same curve.\n",
            "Token IDs: tensor([  101,  1999,  1996,  2197,  3232,  1997,  6876,  2057,  2387,  2008,\n",
            "         2057,  2064,  6235,  1037, 10543,  2011,  1037,  2597,  9207,  1011,\n",
            "        11126,  3853,  1012,  1998,  1999,  2200,  2236,  3408,  1010,  2009,\n",
            "         2052,  2022,  1996,  1060,  2597,  2004,  1037,  3853,  1997,  2051,\n",
            "         2335,  1996,  3131,  9207,  1999,  1996,  9876,  3257,  1012,  4606,\n",
            "         1996,  1061,  2597,  2004,  1037,  3853,  1997,  2051,  2335,  1996,\n",
            "         3131,  5125,  1999,  1996,  7471,  3257,  1012,  1998,  2023,  2097,\n",
            "         7687,  6235,  2023,  1011,  1011,  2295,  1010,  2065,  2017,  2064,\n",
            "         5674,  1037, 10811,  1998,  2292,  1005,  1055,  2360,  1996, 16381,\n",
            "         1056,  5836,  2051,  1012,  2009,  1005,  2222,  6235,  2073,  1996,\n",
            "        10811,  2003,  2012,  2151,  2445,  2051,  1012,  1998,  2065,  2057,\n",
            "         2359,  1037,  3327,  7774,  2057,  2064,  2360,  1010,  2092,  1010,\n",
            "         2023,  2069, 12033,  2005,  2070,  7774,  1011,  1011,  2057,  1005,\n",
            "         2128,  7149,  1010,  2009,  1005,  1055,  1054,  1997,  1056,  1012,\n",
            "         1998,  2009,  1005,  1055,  2069, 12711,  2090,  1056,  2108,  3618,\n",
            "         2084,  1037,  1998,  2625,  2084,  1038,  1012,  1998,  2017,  2113,\n",
            "         1010,  2008,  2052,  6235,  2070,  7774,  1999,  2048,  9646,  1012,\n",
            "         2074,  2033,  2074,  4009,  2009,  2182,  1012,  2023,  2003,  2035,\n",
            "         1037,  3319,  1997,  2428,  1010,  1996,  2197,  2048,  6876,  1012,\n",
            "         2061,  2023,  7774,  1010,  2009,  2453,  2298,  2242,  2066,  2008,\n",
            "         2073,  2023,  2003,  2073,  1056,  2003,  5020,  2000,  1037,  1012,\n",
            "         2008,  1005,  1055,  2073,  1056,  2003,  5020,  2000,  1038,  1012,\n",
            "         1998,  2061,  1054,  1997,  1037,  2097,  2022,  2023,  9207,  2157,\n",
            "         2182,  2008,  4515,  2012,  2008,  2391,  1012,  1998,  2059,  2004,\n",
            "         1056,  2030,  2065,  2017,  2064,  5674,  1996, 16381,  2108,  2051,\n",
            "         1010,  2009,  2987,  1005,  1056,   102])\n"
          ],
          "name": "stdout"
        }
      ]
    },
    {
      "cell_type": "code",
      "metadata": {
        "id": "BNDW74Ny3khj",
        "colab": {
          "base_uri": "https://localhost:8080/"
        },
        "outputId": "d49346ad-652f-4420-acff-40797b04b04e"
      },
      "source": [
        "num_classes = len(list(set(categories)))\n",
        "num_classes"
      ],
      "execution_count": 46,
      "outputs": [
        {
          "output_type": "execute_result",
          "data": {
            "text/plain": [
              "569"
            ]
          },
          "metadata": {
            "tags": []
          },
          "execution_count": 46
        }
      ]
    },
    {
      "cell_type": "code",
      "metadata": {
        "id": "D_lTinod3kho"
      },
      "source": [
        "from torch.utils.data import DataLoader, RandomSampler, SequentialSampler\n",
        "from torch.utils.data import TensorDataset, random_split\n",
        "\n",
        "batch_size = 32\n"
      ],
      "execution_count": 47,
      "outputs": []
    },
    {
      "cell_type": "code",
      "metadata": {
        "id": "7Vduf9fOMviK"
      },
      "source": [
        "import numpy as np\n",
        "from torch.autograd import Function\n",
        "class Distance(Function):\n",
        "    @staticmethod\n",
        "    def grad(x, v, sqnormx, sqnormv, sqdist, eps):\n",
        "        alpha = (1 - sqnormx)\n",
        "        beta = (1 - sqnormv)\n",
        "        z = 1 + 2 * sqdist / (alpha * beta)\n",
        "        a = ((sqnormv - 2 * torch.sum(x * v, dim=-1) + 1) / torch.pow(alpha, 2))\\\n",
        "            .unsqueeze(-1).expand_as(x)\n",
        "        a = a * x - v / alpha.unsqueeze(-1).expand_as(v)\n",
        "        z = torch.sqrt(torch.pow(z, 2) - 1)\n",
        "        z = torch.clamp(z * beta, min=eps).unsqueeze(-1)\n",
        "        return 4 * a / z.expand_as(x)\n",
        "\n",
        "    @staticmethod\n",
        "    def forward(ctx, u, v, eps):\n",
        "        squnorm = torch.clamp(torch.sum(u * u, dim=-1), 0, 1 - eps)\n",
        "        sqvnorm = torch.clamp(torch.sum(v * v, dim=-1), 0, 1 - eps)\n",
        "        sqdist = torch.sum(torch.pow(u - v, 2), dim=-1)\n",
        "        ctx.eps = eps\n",
        "        ctx.save_for_backward(u, v, squnorm, sqvnorm, sqdist)\n",
        "        x = sqdist / ((1 - squnorm) * (1 - sqvnorm)) * 2 + 1\n",
        "        # arcosh\n",
        "        z = torch.sqrt(torch.pow(x, 2) - 1)\n",
        "        return torch.log(x + z)\n",
        "\n",
        "    @staticmethod\n",
        "    def backward(ctx, g):\n",
        "        u, v, squnorm, sqvnorm, sqdist = ctx.saved_tensors\n",
        "        g = g.unsqueeze(-1)\n",
        "        gu = Distance.grad(u, v, squnorm, sqvnorm, sqdist, ctx.eps)\n",
        "        gv = Distance.grad(v, u, sqvnorm, squnorm, sqdist, ctx.eps)\n",
        "        return g.expand_as(gu) * gu, g.expand_as(gv) * gv, None\n",
        "def distanceTo(vector1,vector2):\n",
        "        return Distance.apply(vector1,vector2,1e-5)\n",
        "        # vector1 = vector1.detach().cpu().numpy()\n",
        "        # vector2 = vector2.detach().cpu().numpy()\n",
        "        # euclidean_dists = np.linalg.norm(vector1 - vector2)  \n",
        "        # gamma = 1 + 2 * ((euclidean_dists ** 2) / ((1-(np.linalg.norm(vector1))) * (1-np.linalg.norm(vector2))))  # (1 + neg_size, batch_size)\n",
        "        # poincare_dists = np.arccosh(gamma) \n",
        "        # return torch.tensor(poincare_dists,dtype=torch.float)"
      ],
      "execution_count": 48,
      "outputs": []
    },
    {
      "cell_type": "code",
      "metadata": {
        "id": "ZN6jdKp0uhO3"
      },
      "source": [
        "\n",
        "import sys\n",
        "import json\n",
        "import numpy as np\n",
        "import torch\n",
        "import torch.nn as nn\n",
        "import torch.nn.functional as F\n",
        "from torchvision import models\n",
        "from sklearn.utils import shuffle\n",
        "from sklearn.model_selection import train_test_split\n",
        "from sklearn.metrics import f1_score\n",
        "from sklearn.metrics import precision_recall_fscore_support\n",
        "from matplotlib import pyplot as plt\n",
        "from torch.nn.modules.loss import HingeEmbeddingLoss\n",
        "from random import randint\n",
        "import geoopt.manifolds.stereographic.math as pm\n",
        "import geoopt.optim.rsgd as rsgd_\n",
        "import geoopt.optim.radam as radam_\n",
        "# from hyrnn.nets import MobiusLinear\n",
        "from geoopt.tensor import ManifoldParameter\n",
        "from geoopt.manifolds.stereographic import PoincareBall\n",
        "from tqdm import tqdm\n",
        "import geoopt\n",
        "import time\n",
        "from sklearn.utils import shuffle\n",
        "from sklearn.model_selection import train_test_split\n",
        "from sklearn.metrics import f1_score\n",
        "from sklearn.metrics import precision_recall_fscore_support\n",
        "from matplotlib import pyplot as plt\n",
        "from torch.nn.modules.loss import HingeEmbeddingLoss\n",
        "from random import randint\n",
        "import geoopt.optim.rsgd as rsgd_\n",
        "import geoopt.optim.radam as radam_\n",
        "# from hyrnn.nets import MobiusLinear\n",
        "from geoopt.tensor import ManifoldParameter\n",
        "import time\n",
        "import argparse\n",
        "cos = nn.CosineSimilarity(dim=0, eps=1e-6)\n",
        "\n",
        "def create_ball(ball=None, c=None):\n",
        "    \"\"\"\n",
        "    Helper to create a PoincareBall.\n",
        "    Sometimes you may want to share a manifold across layers, e.g. you are using scaled PoincareBall.\n",
        "    In this case you will require same curvature parameters for different layers or end up with nans.\n",
        "    Parameters\n",
        "    ----------\n",
        "    ball : geoopt.PoincareBall\n",
        "    c : float\n",
        "    Returns\n",
        "    -------\n",
        "    geoopt.PoincareBall\n",
        "    \"\"\"\n",
        "    if ball is None:\n",
        "        assert c is not None, \"curvature of the ball should be explicitly specified\"\n",
        "        ball = geoopt.PoincareBall(c)\n",
        "    # else trust input\n",
        "    return ball\n",
        "\n",
        "\n",
        "class MobiusLinear(torch.nn.Linear):\n",
        "    def __init__(self, *args, nonlin=None, ball=None, c=1.0, **kwargs):\n",
        "        super().__init__(*args, **kwargs)\n",
        "        # for manifolds that have parameters like Poincare Ball\n",
        "        # we have to attach them to the closure Module.\n",
        "        # It is hard to implement device allocation for manifolds in other case.\n",
        "        self.ball = create_ball(ball, c)\n",
        "        if self.bias is not None:\n",
        "            self.bias = geoopt.ManifoldParameter(self.bias, manifold=self.ball)\n",
        "        self.nonlin = nonlin\n",
        "        self.reset_parameters()\n",
        "\n",
        "    def forward(self, input):\n",
        "        return mobius_linear(\n",
        "            input,\n",
        "            weight=self.weight,\n",
        "            bias=self.bias,\n",
        "            nonlin=self.nonlin,\n",
        "            ball=self.ball,\n",
        "        )\n",
        "\n",
        "    @torch.no_grad()\n",
        "    def reset_parameters(self):\n",
        "        torch.nn.init.eye_(self.weight)\n",
        "        self.weight.add_(torch.rand_like(self.weight).mul_(1e-3))\n",
        "        if self.bias is not None:\n",
        "            self.bias.zero_()\n",
        "\n",
        "\n",
        "# package.nn.functional.py\n",
        "def mobius_linear(input, weight, bias=None, nonlin=None, *, ball: geoopt.PoincareBall):\n",
        "    output = ball.mobius_matvec(weight, input)\n",
        "    if bias is not None:\n",
        "        output = ball.mobius_add(output, bias)\n",
        "    if nonlin is not None:\n",
        "        output = ball.logmap0(output)\n",
        "        output = nonlin(output)\n",
        "        output = ball.expmap0(output)\n",
        "    return output\n",
        "# Neural Classifierwork\n",
        "class MulticlassClassifier(nn.Module):\n",
        "    def __init__(self,bert_model_path):\n",
        "        super(MulticlassClassifier,self).__init__()\n",
        "        self.bert = BertModel.from_pretrained(bert_model_path,output_hidden_states=False,output_attentions=False)\n",
        "        for param in self.bert.parameters():\n",
        "          param.requires_grad=True\n",
        "        self.dropout = nn.Dropout(0.1)\n",
        "        self.fc1 = MobiusLinear(768, 384)\n",
        "        self.fc2 = MobiusLinear(384, 60)\n",
        "\n",
        "    def forward(self,tokens,masks):\n",
        "        _, pooled_output = self.bert(tokens, attention_mask=masks)\n",
        "        hyerbolic_transform = tensor_exponential_map(pooled_output)\n",
        "        x = self.fc1(hyerbolic_transform)\n",
        "        x = self.fc2(x)\n",
        "        return x\n",
        "\n",
        "class MyHingeLoss(torch.nn.Module):\n",
        "    def __init__(self, margin):\n",
        "        super(MyHingeLoss, self).__init__()\n",
        "        self.margin = margin\n",
        "\n",
        "\n",
        "    def forward(self, output, target):\n",
        "        loss = 0\n",
        "        for i in range(len(output)):\n",
        "            text_emb = output[i]\n",
        "            t_label = target[i]\n",
        "            j = randint(0, len(output)-1)\n",
        "            while j == i:\n",
        "                j = randint(0, len(output)-1)\n",
        "            t_j = target[j]\n",
        "            loss += torch.relu( self.margin + \\\n",
        "                            distanceTo(t_label, text_emb) - distanceTo(t_j, text_emb) )\n",
        "        return loss / len(output)\n",
        "\n",
        "class MyHingeLoss_cos(torch.nn.Module):\n",
        "\n",
        "    def __init__(self, margin):\n",
        "        super(MyHingeLoss_cos, self).__init__()\n",
        "        self.margin = margin\n",
        "\n",
        "    def forward(self, output, target):\n",
        "        loss = 0\n",
        "        for i in range(len(output)):\n",
        "            text_emb = output[i]\n",
        "            t_label = target[i]\n",
        "            j = randint(0, len(output)-1)\n",
        "            while j == i:\n",
        "                j = randint(0, len(output)-1)\n",
        "            t_j = target[j]\n",
        "            loss += torch.relu( self.margin - cos(t_label, text_emb) + cos(t_j, text_emb) )\n",
        "        return loss / len(output)"
      ],
      "execution_count": 49,
      "outputs": []
    },
    {
      "cell_type": "code",
      "metadata": {
        "id": "yHYyjxMDIx2U"
      },
      "source": [
        "from transformers import BertModel, AdamW, BertConfig\n",
        "from torch.utils.data import DataLoader, RandomSampler, SequentialSampler\n"
      ],
      "execution_count": 50,
      "outputs": []
    },
    {
      "cell_type": "code",
      "metadata": {
        "id": "_2tmAMlw3khr",
        "colab": {
          "base_uri": "https://localhost:8080/"
        },
        "outputId": "f2463c67-3623-4136-d846-c1914ec6ad72"
      },
      "source": [
        "from transformers import BertModel, AdamW, BertConfig\n",
        "\n",
        "# Loads BertModel, the pretrained BERT model with a single \n",
        "model = MulticlassClassifier('bert-base-uncased')\n",
        "model.load_state_dict(torch.load(\"IR_project_khan_acad_model_hyperbolic_hinge_5/model_weights\"))\n",
        "# Tell pytorch to run this model on the GPU.\n",
        "model.cuda()\n"
      ],
      "execution_count": 51,
      "outputs": [
        {
          "output_type": "execute_result",
          "data": {
            "text/plain": [
              "MulticlassClassifier(\n",
              "  (bert): BertModel(\n",
              "    (embeddings): BertEmbeddings(\n",
              "      (word_embeddings): Embedding(30522, 768, padding_idx=0)\n",
              "      (position_embeddings): Embedding(512, 768)\n",
              "      (token_type_embeddings): Embedding(2, 768)\n",
              "      (LayerNorm): LayerNorm((768,), eps=1e-12, elementwise_affine=True)\n",
              "      (dropout): Dropout(p=0.1, inplace=False)\n",
              "    )\n",
              "    (encoder): BertEncoder(\n",
              "      (layer): ModuleList(\n",
              "        (0): BertLayer(\n",
              "          (attention): BertAttention(\n",
              "            (self): BertSelfAttention(\n",
              "              (query): Linear(in_features=768, out_features=768, bias=True)\n",
              "              (key): Linear(in_features=768, out_features=768, bias=True)\n",
              "              (value): Linear(in_features=768, out_features=768, bias=True)\n",
              "              (dropout): Dropout(p=0.1, inplace=False)\n",
              "            )\n",
              "            (output): BertSelfOutput(\n",
              "              (dense): Linear(in_features=768, out_features=768, bias=True)\n",
              "              (LayerNorm): LayerNorm((768,), eps=1e-12, elementwise_affine=True)\n",
              "              (dropout): Dropout(p=0.1, inplace=False)\n",
              "            )\n",
              "          )\n",
              "          (intermediate): BertIntermediate(\n",
              "            (dense): Linear(in_features=768, out_features=3072, bias=True)\n",
              "          )\n",
              "          (output): BertOutput(\n",
              "            (dense): Linear(in_features=3072, out_features=768, bias=True)\n",
              "            (LayerNorm): LayerNorm((768,), eps=1e-12, elementwise_affine=True)\n",
              "            (dropout): Dropout(p=0.1, inplace=False)\n",
              "          )\n",
              "        )\n",
              "        (1): BertLayer(\n",
              "          (attention): BertAttention(\n",
              "            (self): BertSelfAttention(\n",
              "              (query): Linear(in_features=768, out_features=768, bias=True)\n",
              "              (key): Linear(in_features=768, out_features=768, bias=True)\n",
              "              (value): Linear(in_features=768, out_features=768, bias=True)\n",
              "              (dropout): Dropout(p=0.1, inplace=False)\n",
              "            )\n",
              "            (output): BertSelfOutput(\n",
              "              (dense): Linear(in_features=768, out_features=768, bias=True)\n",
              "              (LayerNorm): LayerNorm((768,), eps=1e-12, elementwise_affine=True)\n",
              "              (dropout): Dropout(p=0.1, inplace=False)\n",
              "            )\n",
              "          )\n",
              "          (intermediate): BertIntermediate(\n",
              "            (dense): Linear(in_features=768, out_features=3072, bias=True)\n",
              "          )\n",
              "          (output): BertOutput(\n",
              "            (dense): Linear(in_features=3072, out_features=768, bias=True)\n",
              "            (LayerNorm): LayerNorm((768,), eps=1e-12, elementwise_affine=True)\n",
              "            (dropout): Dropout(p=0.1, inplace=False)\n",
              "          )\n",
              "        )\n",
              "        (2): BertLayer(\n",
              "          (attention): BertAttention(\n",
              "            (self): BertSelfAttention(\n",
              "              (query): Linear(in_features=768, out_features=768, bias=True)\n",
              "              (key): Linear(in_features=768, out_features=768, bias=True)\n",
              "              (value): Linear(in_features=768, out_features=768, bias=True)\n",
              "              (dropout): Dropout(p=0.1, inplace=False)\n",
              "            )\n",
              "            (output): BertSelfOutput(\n",
              "              (dense): Linear(in_features=768, out_features=768, bias=True)\n",
              "              (LayerNorm): LayerNorm((768,), eps=1e-12, elementwise_affine=True)\n",
              "              (dropout): Dropout(p=0.1, inplace=False)\n",
              "            )\n",
              "          )\n",
              "          (intermediate): BertIntermediate(\n",
              "            (dense): Linear(in_features=768, out_features=3072, bias=True)\n",
              "          )\n",
              "          (output): BertOutput(\n",
              "            (dense): Linear(in_features=3072, out_features=768, bias=True)\n",
              "            (LayerNorm): LayerNorm((768,), eps=1e-12, elementwise_affine=True)\n",
              "            (dropout): Dropout(p=0.1, inplace=False)\n",
              "          )\n",
              "        )\n",
              "        (3): BertLayer(\n",
              "          (attention): BertAttention(\n",
              "            (self): BertSelfAttention(\n",
              "              (query): Linear(in_features=768, out_features=768, bias=True)\n",
              "              (key): Linear(in_features=768, out_features=768, bias=True)\n",
              "              (value): Linear(in_features=768, out_features=768, bias=True)\n",
              "              (dropout): Dropout(p=0.1, inplace=False)\n",
              "            )\n",
              "            (output): BertSelfOutput(\n",
              "              (dense): Linear(in_features=768, out_features=768, bias=True)\n",
              "              (LayerNorm): LayerNorm((768,), eps=1e-12, elementwise_affine=True)\n",
              "              (dropout): Dropout(p=0.1, inplace=False)\n",
              "            )\n",
              "          )\n",
              "          (intermediate): BertIntermediate(\n",
              "            (dense): Linear(in_features=768, out_features=3072, bias=True)\n",
              "          )\n",
              "          (output): BertOutput(\n",
              "            (dense): Linear(in_features=3072, out_features=768, bias=True)\n",
              "            (LayerNorm): LayerNorm((768,), eps=1e-12, elementwise_affine=True)\n",
              "            (dropout): Dropout(p=0.1, inplace=False)\n",
              "          )\n",
              "        )\n",
              "        (4): BertLayer(\n",
              "          (attention): BertAttention(\n",
              "            (self): BertSelfAttention(\n",
              "              (query): Linear(in_features=768, out_features=768, bias=True)\n",
              "              (key): Linear(in_features=768, out_features=768, bias=True)\n",
              "              (value): Linear(in_features=768, out_features=768, bias=True)\n",
              "              (dropout): Dropout(p=0.1, inplace=False)\n",
              "            )\n",
              "            (output): BertSelfOutput(\n",
              "              (dense): Linear(in_features=768, out_features=768, bias=True)\n",
              "              (LayerNorm): LayerNorm((768,), eps=1e-12, elementwise_affine=True)\n",
              "              (dropout): Dropout(p=0.1, inplace=False)\n",
              "            )\n",
              "          )\n",
              "          (intermediate): BertIntermediate(\n",
              "            (dense): Linear(in_features=768, out_features=3072, bias=True)\n",
              "          )\n",
              "          (output): BertOutput(\n",
              "            (dense): Linear(in_features=3072, out_features=768, bias=True)\n",
              "            (LayerNorm): LayerNorm((768,), eps=1e-12, elementwise_affine=True)\n",
              "            (dropout): Dropout(p=0.1, inplace=False)\n",
              "          )\n",
              "        )\n",
              "        (5): BertLayer(\n",
              "          (attention): BertAttention(\n",
              "            (self): BertSelfAttention(\n",
              "              (query): Linear(in_features=768, out_features=768, bias=True)\n",
              "              (key): Linear(in_features=768, out_features=768, bias=True)\n",
              "              (value): Linear(in_features=768, out_features=768, bias=True)\n",
              "              (dropout): Dropout(p=0.1, inplace=False)\n",
              "            )\n",
              "            (output): BertSelfOutput(\n",
              "              (dense): Linear(in_features=768, out_features=768, bias=True)\n",
              "              (LayerNorm): LayerNorm((768,), eps=1e-12, elementwise_affine=True)\n",
              "              (dropout): Dropout(p=0.1, inplace=False)\n",
              "            )\n",
              "          )\n",
              "          (intermediate): BertIntermediate(\n",
              "            (dense): Linear(in_features=768, out_features=3072, bias=True)\n",
              "          )\n",
              "          (output): BertOutput(\n",
              "            (dense): Linear(in_features=3072, out_features=768, bias=True)\n",
              "            (LayerNorm): LayerNorm((768,), eps=1e-12, elementwise_affine=True)\n",
              "            (dropout): Dropout(p=0.1, inplace=False)\n",
              "          )\n",
              "        )\n",
              "        (6): BertLayer(\n",
              "          (attention): BertAttention(\n",
              "            (self): BertSelfAttention(\n",
              "              (query): Linear(in_features=768, out_features=768, bias=True)\n",
              "              (key): Linear(in_features=768, out_features=768, bias=True)\n",
              "              (value): Linear(in_features=768, out_features=768, bias=True)\n",
              "              (dropout): Dropout(p=0.1, inplace=False)\n",
              "            )\n",
              "            (output): BertSelfOutput(\n",
              "              (dense): Linear(in_features=768, out_features=768, bias=True)\n",
              "              (LayerNorm): LayerNorm((768,), eps=1e-12, elementwise_affine=True)\n",
              "              (dropout): Dropout(p=0.1, inplace=False)\n",
              "            )\n",
              "          )\n",
              "          (intermediate): BertIntermediate(\n",
              "            (dense): Linear(in_features=768, out_features=3072, bias=True)\n",
              "          )\n",
              "          (output): BertOutput(\n",
              "            (dense): Linear(in_features=3072, out_features=768, bias=True)\n",
              "            (LayerNorm): LayerNorm((768,), eps=1e-12, elementwise_affine=True)\n",
              "            (dropout): Dropout(p=0.1, inplace=False)\n",
              "          )\n",
              "        )\n",
              "        (7): BertLayer(\n",
              "          (attention): BertAttention(\n",
              "            (self): BertSelfAttention(\n",
              "              (query): Linear(in_features=768, out_features=768, bias=True)\n",
              "              (key): Linear(in_features=768, out_features=768, bias=True)\n",
              "              (value): Linear(in_features=768, out_features=768, bias=True)\n",
              "              (dropout): Dropout(p=0.1, inplace=False)\n",
              "            )\n",
              "            (output): BertSelfOutput(\n",
              "              (dense): Linear(in_features=768, out_features=768, bias=True)\n",
              "              (LayerNorm): LayerNorm((768,), eps=1e-12, elementwise_affine=True)\n",
              "              (dropout): Dropout(p=0.1, inplace=False)\n",
              "            )\n",
              "          )\n",
              "          (intermediate): BertIntermediate(\n",
              "            (dense): Linear(in_features=768, out_features=3072, bias=True)\n",
              "          )\n",
              "          (output): BertOutput(\n",
              "            (dense): Linear(in_features=3072, out_features=768, bias=True)\n",
              "            (LayerNorm): LayerNorm((768,), eps=1e-12, elementwise_affine=True)\n",
              "            (dropout): Dropout(p=0.1, inplace=False)\n",
              "          )\n",
              "        )\n",
              "        (8): BertLayer(\n",
              "          (attention): BertAttention(\n",
              "            (self): BertSelfAttention(\n",
              "              (query): Linear(in_features=768, out_features=768, bias=True)\n",
              "              (key): Linear(in_features=768, out_features=768, bias=True)\n",
              "              (value): Linear(in_features=768, out_features=768, bias=True)\n",
              "              (dropout): Dropout(p=0.1, inplace=False)\n",
              "            )\n",
              "            (output): BertSelfOutput(\n",
              "              (dense): Linear(in_features=768, out_features=768, bias=True)\n",
              "              (LayerNorm): LayerNorm((768,), eps=1e-12, elementwise_affine=True)\n",
              "              (dropout): Dropout(p=0.1, inplace=False)\n",
              "            )\n",
              "          )\n",
              "          (intermediate): BertIntermediate(\n",
              "            (dense): Linear(in_features=768, out_features=3072, bias=True)\n",
              "          )\n",
              "          (output): BertOutput(\n",
              "            (dense): Linear(in_features=3072, out_features=768, bias=True)\n",
              "            (LayerNorm): LayerNorm((768,), eps=1e-12, elementwise_affine=True)\n",
              "            (dropout): Dropout(p=0.1, inplace=False)\n",
              "          )\n",
              "        )\n",
              "        (9): BertLayer(\n",
              "          (attention): BertAttention(\n",
              "            (self): BertSelfAttention(\n",
              "              (query): Linear(in_features=768, out_features=768, bias=True)\n",
              "              (key): Linear(in_features=768, out_features=768, bias=True)\n",
              "              (value): Linear(in_features=768, out_features=768, bias=True)\n",
              "              (dropout): Dropout(p=0.1, inplace=False)\n",
              "            )\n",
              "            (output): BertSelfOutput(\n",
              "              (dense): Linear(in_features=768, out_features=768, bias=True)\n",
              "              (LayerNorm): LayerNorm((768,), eps=1e-12, elementwise_affine=True)\n",
              "              (dropout): Dropout(p=0.1, inplace=False)\n",
              "            )\n",
              "          )\n",
              "          (intermediate): BertIntermediate(\n",
              "            (dense): Linear(in_features=768, out_features=3072, bias=True)\n",
              "          )\n",
              "          (output): BertOutput(\n",
              "            (dense): Linear(in_features=3072, out_features=768, bias=True)\n",
              "            (LayerNorm): LayerNorm((768,), eps=1e-12, elementwise_affine=True)\n",
              "            (dropout): Dropout(p=0.1, inplace=False)\n",
              "          )\n",
              "        )\n",
              "        (10): BertLayer(\n",
              "          (attention): BertAttention(\n",
              "            (self): BertSelfAttention(\n",
              "              (query): Linear(in_features=768, out_features=768, bias=True)\n",
              "              (key): Linear(in_features=768, out_features=768, bias=True)\n",
              "              (value): Linear(in_features=768, out_features=768, bias=True)\n",
              "              (dropout): Dropout(p=0.1, inplace=False)\n",
              "            )\n",
              "            (output): BertSelfOutput(\n",
              "              (dense): Linear(in_features=768, out_features=768, bias=True)\n",
              "              (LayerNorm): LayerNorm((768,), eps=1e-12, elementwise_affine=True)\n",
              "              (dropout): Dropout(p=0.1, inplace=False)\n",
              "            )\n",
              "          )\n",
              "          (intermediate): BertIntermediate(\n",
              "            (dense): Linear(in_features=768, out_features=3072, bias=True)\n",
              "          )\n",
              "          (output): BertOutput(\n",
              "            (dense): Linear(in_features=3072, out_features=768, bias=True)\n",
              "            (LayerNorm): LayerNorm((768,), eps=1e-12, elementwise_affine=True)\n",
              "            (dropout): Dropout(p=0.1, inplace=False)\n",
              "          )\n",
              "        )\n",
              "        (11): BertLayer(\n",
              "          (attention): BertAttention(\n",
              "            (self): BertSelfAttention(\n",
              "              (query): Linear(in_features=768, out_features=768, bias=True)\n",
              "              (key): Linear(in_features=768, out_features=768, bias=True)\n",
              "              (value): Linear(in_features=768, out_features=768, bias=True)\n",
              "              (dropout): Dropout(p=0.1, inplace=False)\n",
              "            )\n",
              "            (output): BertSelfOutput(\n",
              "              (dense): Linear(in_features=768, out_features=768, bias=True)\n",
              "              (LayerNorm): LayerNorm((768,), eps=1e-12, elementwise_affine=True)\n",
              "              (dropout): Dropout(p=0.1, inplace=False)\n",
              "            )\n",
              "          )\n",
              "          (intermediate): BertIntermediate(\n",
              "            (dense): Linear(in_features=768, out_features=3072, bias=True)\n",
              "          )\n",
              "          (output): BertOutput(\n",
              "            (dense): Linear(in_features=3072, out_features=768, bias=True)\n",
              "            (LayerNorm): LayerNorm((768,), eps=1e-12, elementwise_affine=True)\n",
              "            (dropout): Dropout(p=0.1, inplace=False)\n",
              "          )\n",
              "        )\n",
              "      )\n",
              "    )\n",
              "    (pooler): BertPooler(\n",
              "      (dense): Linear(in_features=768, out_features=768, bias=True)\n",
              "      (activation): Tanh()\n",
              "    )\n",
              "  )\n",
              "  (dropout): Dropout(p=0.1, inplace=False)\n",
              "  (fc1): MobiusLinear(\n",
              "    in_features=768, out_features=384, bias=True\n",
              "    (ball): PoincareBall manifold\n",
              "  )\n",
              "  (fc2): MobiusLinear(\n",
              "    in_features=384, out_features=60, bias=True\n",
              "    (ball): PoincareBall manifold\n",
              "  )\n",
              ")"
            ]
          },
          "metadata": {
            "tags": []
          },
          "execution_count": 51
        }
      ]
    },
    {
      "cell_type": "code",
      "metadata": {
        "id": "4178_yLFMWmx"
      },
      "source": [
        "test_features = test_features.values\n",
        "labels = test_labels.values"
      ],
      "execution_count": 52,
      "outputs": []
    },
    {
      "cell_type": "code",
      "metadata": {
        "id": "3ZpmBJuIC2nM",
        "colab": {
          "base_uri": "https://localhost:8080/"
        },
        "outputId": "f51f578f-c505-4262-d588-47cf6177dcd8"
      },
      "source": [
        "test_features"
      ],
      "execution_count": 53,
      "outputs": [
        {
          "output_type": "execute_result",
          "data": {
            "text/plain": [
              "array([' -  What I hope to do in this video is get familiar with the notion of an interval, and also think about ways that we can show an interval, or interval notation. Right over here I have a number line. Let\\'s say I wanted to talk about the interval on the number line that goes from negative three to two. So I care about this-- Let me use a different color. Let\\'s say I care about this interval right over here. I care about all the numbers from negative three to two. So in order to be more precise, I have to be clear. Am I including negative three and two, or am I not including negative three and two, or maybe I\\'m just including one of them. So if I\\'m including negative three and two, then I would fill them in. So this right over here, I\\'m filling negative three and two in, which means that negative three and two are part of this interval. And when you include the endpoints, this is called a closed interval. Closed interval. And I just showed you how I can depict it on a number line, by actually filling in the endpoints and there\\'s multiple ways to talk about this interval mathematically. I could say that this is all of the... Let\\'s say this number line is showing different values for x. I could say these are all of the x\\'s that are between negative three and two. And notice, I have negative three is less than or equal to x so that\\'s telling us that x could be equal to, that x could be equal to negative three. And then we have x is less than or equal to positive two, so that means that x could be equal to positive two, so it is a closed interval. Another way that we could depict this closed interval is we could say, okay, we\\'re talking about the interval between, and we can use brackets because it\\'s a closed interval, negative three and two, and once again I\\'m using brackets here, these brackets tell us that we include, this bracket on the left says that we include negative three, and this bracket on the right says that we include positive two in our interval. Sometimes you might see things written a little bit more math-y. You might see x is a member of the real numbers such that... And I could put these curly brackets around like this. These curly brackets say that we\\'re talking about a set of values, and we\\'re saying that the set of all x\\'s that are a member of the real number, so this is just fancy math notation, it\\'s a member of the real numbers. I\\'m using the Greek letter epsilon right over here. It\\'s a member of the real numbers such that. This vertical line here means \"such that,\" negative three is less x is less than-- negative three is less than or equal to x, is less than or equal to two. I could also write it this way. I could write x is a member of the real numbers such that x is a member, such that x is a member of this closed set, I\\'m including the endpoints here. So these are all different ways of denoting or depicting the same interval. Let\\'s do some more examples here. So let\\'s-- Let me draw a number line again. So, a number line. And now let me do-- Let me just do an open interval. An open interval just so that we clearly can see the difference. Let\\'s say that I want to talk about the values between negative one and four. Let me use a different color. So the values between negative one and four, but I don\\'t want to include negative one and four. So this is going to be an open interval. So I\\'m not going to include four, and I\\'m not going to include negative one. Notice I have open circles here. Over here had closed circles, the closed circles told me that I included negative three and two. Now I have open circles here, so that says that I\\'m not, it\\'s all the values in between negative one and four. Negative .999999 is going to be included, but negative one is not going to be included. And 3.9999999 is going to be included, but four is not going to be included. So how would we-- What would be the notation for this? Well, here we could say x is going to be a member of the real numbers such that negative one-- I\\'m not going to say less than or equal to because x can\\'t be equal to negative one, so negative one is strictly less than x, is strictly less than four. Notice not less than or equal, because I can\\'t be equal to four, four is not included. So that\\'s one way to say it. Another way I could write it like this. x is a member of the real numbers such that x is a member of... Now the interval is from negative one to four but I\\'m not gonna use these brackets. These brackets say, \"Hey, let me include the endpoint,\" but I\\'m not going to include them, so I\\'m going to put the parentheses right over here. Parentheses. So this tells us that we\\'re dealing with an open interval. This right over here, let me make it clear, this is an open interval. Now you\\'re probably wondering, okay, in this case both endpoints were included, it\\'s a closed interval. In this case both endpoints were excluded, it\\'s an open interval. Can you have things that have one endpoint included and one point excluded, and the answer is absolutely. Let\\'s see an example of that. I\\'ll get another number line here. Another number line. And let\\'s say that we want to-- Actually, let me do it the other way around. Let me write it first, and then I\\'ll graph it. So let\\'s say we\\'re thinking about all of the x\\'s that are a member of the real numbers such that let\\'s say negative four is not included, is less than x, is less than or equal to negative one. So now negative one is included. So we\\'re not going to include negative four. Negative four is strictly less than, not less than or equal to, so x can\\'t be equal to negative four, open circle there. But x could be equal to negative one. It has to be less than or equal to negative one. It could be equal to negative one so I\\'m going to fill that in right over there. And it\\'s everything in between. If I want to write it with this notation I could write x is a member of the real numbers such that x is a member of the interval, so it\\'s going to go between negative four and negative one, but we\\'re not including negative four. We have an open circle here so I\\'m gonna put a parentheses on that side, but we are including negative one. We are including negative one. So we put a bracket on that side. That right over there would be the notation. Now there\\'s other things that you could do with interval notation. You could say, well hey, everything except for some values. Let me give another example. Let\\'s get another example here. Let\\'s say that we wanna talk about all the real numbers except for one. We want to include all of the real numbers. All of the real numbers except for one. Except for one, so we\\'re gonna exclude one right over here, open circle, but it can be any other real number. So how would we denote this? Well, we could write x is a member of the real numbers such that x does not equal one. So here I\\'m saying x can be a member of the real numbers but x cannot be equal to one. It can be anything else, but it cannot be equal to one. And there\\'s other ways of denoting this exact same interval. You could say x is a member of the real numbers such that x is less than one, or x is greater than one. So you could write it just like that. Or you could do something interesting. This is the one that I would use, this is the shortest and it makes it very clear. You say hey, everything except for one. But you could even do something fancy, like you could say x is a member of the real numbers such that x is a member of the set going from negative infinity to one, not including one, or x is a member of the set going from-- or a member of the interval going from one, not including one, all the way to positive, all the way to positive infinity. And when we\\'re talking about negative infinity or positive infinity, you always put a parentheses. And the view there is you could never include everything all the way up to infinity. It needs to be at least open at that endpoint because infinity just keeps going on and on. So you always want to put a parentheses if you\\'re talking about infinity or negative infinity. It\\'s not really an endpoint, it keeps going on and on forever. So you use the notation for open interval, at least at that end, and notice we\\'re not including, we\\'re not including one either, so if x is a member of this interval or that interval, it essentially could be anything other than one. But this would have been the simplest notation to describe that.',\n",
              "       \" In the last video we were able to set up this definite integral using the shell or the hollow cylinder method in order to figure out the volume of this solid of revolution. And so now let's just evaluate this thing. And really the main thing we have to do here is just to multiply what we have here out. So multiply this expression out. So this is going to be equal to-- I'll take the 2 pi out of the integral. 2 pi times the integral from 0 to 1. Let's see, 2 times the square root of x is 2-- I'll write it as 2 square roots of x. But I'll write it as 2x to the 1/2. It'll make it a little bit easier to take the antiderivative conceptually, or at least in our brain. So two times the square root of x is 2x to the 1/2. 2 times negative x squared is negative 2 x squared. And then we have negative x times the square root of x. Well, that's x to the first times x to the 1/2. That's going to be negative x to the 3/2 power. And then we have negative x times negative x squared that's going to be positive x to the third power. And all of that dx. And so now we're ready to take the antiderivative. So this is going to be equal to 2 pi times the antiderivative of all of this business evaluated at 1 and at 0. So the antiderivative of 2 times x to the 1/2 is going to be 2-- it's going to be-- let's see. We're going to take x to the 3/2 times 2/3. So it's going to be 4/3 x to the 3/2. And then for this term right over here it's going to be negative 2/3 x to the third. And you could take the derivative here to verify that you actually do get this. And then right over here, let's see, if we incremented this, you get x to the 5/2. And so we're going to want to multiply by 2/5. So minus-- let me do this in another color. Let's see, so this one right over here, it's going to be minus 2/5 x to the 5/2 power. Yep, that works out. And then finally you're going to have x to the fourth over 4 plus-- let me do that in a different color-- plus x to the fourth over 4. That's this term right over here. And now we just have to evaluate at 1 and 0. And 0, luckily, all of these terms end up being a 0. So that's nice and cancels out. And so we are just left with-- we're just-- [INAUDIBLE] cancel out. It just evaluates to 0. So this is just 2 pi times when you evaluate all this business at 1. So that's going to be 4/3 minus 2/3 minus 2/5 plus 1/4. And the least common multiple right over here looks like 60, so we're going to want to put all this over a denominator of 60. So it's going to be 2 pi times all of this business over a denominator of 60. And 4/3 is same thing as 80/60. Negative 2/3 is the same thing as negative 40/60. Negative 2/5 is the same thing as negative 24/60. And then 1/4 is the same thing as 15/60. So this is equal to-- and actually this will cancel over here, and you'll just get a 30 in your denominator. So in your denominator, you get a 30. And up here 80 minus 40 is 40. 40 minus 24 gets us to 16. 16 plus 15 is 31. So we get 31 times pi over 30 for the volume of the figure right over there.\",\n",
              "       \" -  In previous videos we talk about GDP as the market value of final goods and services produced in a country in a given time period, let's say in a given year and we gave the example of producing jeans where maybe the farmer helps produce the cotton and then the thread maker takes that cotton and makes thread and then the fabric maker takes the thread and makes fabric and then the jean maker takes the fabric and produces jeans and then the market value of those jeans was $50 and so, assuming all of this happened in one year, in the time period that we're measuring GDP for, then we would just count the $50, if we're looking at the final market value or the market value of final goods and services. You would say the GDP for at least for this component of the GDP from these jeans is $50 but I do wanna clarify that there are multiple ways that you can measure GDP and you could even think about it from a value added approach but the key idea is no matter how you measure it you should get to the same value, so let's think about the various actors here and what their value add was. So, first, let's think about the framer right over here. So, this is the farmer, my not so elegantly drawn rectangle around what he's doing. So, the farmer's value add is what? Well, before you just had some dirt and things and so, maybe you could say that the market value was zero and then he's able to produce something or she's able to produce something that now has a market value of $10, so their value add is $10. Now, from there, the cotton goes to the thread maker. The threader maker they take that $10 cotton, so this is thread maker, they take the $10 cotton and are able to produce $20 worth of thread? What is their value add? Value add here? Well, they took something worth $10 and they were able to do something to it to make it worth $20, so their value add is now another $10 and then, this is the thread maker, and then from there it goes to the fabric maker and I think you see where this is going, the fabric maker is this part of our process, fabric maker and their value add is what? Pause this video and think about it. Well, they take something worth $20 and they're to turn it into something that has a market value of $30, so their value add is also $10 and then last but not least, you have the jean company, so the jean manufacturer, I'll call them the jean producer, the jean producer, they take something that has a market value of $30 and they're able to sell it for $50, so their value add here, if you take something for 30 and you make it worth 50, then you've added $20 of value and so, the value added approach to GDP will just sum up these value adds, so this is going to be this $10 from the farmer plus the value add of the thread maker, plus $10 from the thread maker plus $10 from the fabric maker plus $20 from the jean maker and what will that all add up to? Well, that's all going to add up to 10 plus 10 is 20 plus 10 is 30 plus 20 is $50 and lucky for us that is added up to the same amount as we had before where we just looked at the market value of the final goods and services. Now, one benefit of the value added approach is that real supply chains are quite complex and things might be going from one country to another, they might as we've talked about in another video, the year might end right over here and so, when something is made in China and there's value add in China but then it's shipped to the US and some value add is placed on it and then it's shipped back to China or Mexico, you have to be careful to only count the value add in the country for which you are measuring the GDP. So, that's one useful way or one useful reason, or one way in which the value added approach might be useful. The key idea though is that you're getting to the same value. You should get to the same value as the market value of the final goods and services produced in a given time period.\",\n",
              "       ...,\n",
              "       \" Let's see if we can get a little bit more practice and intuition of what cross products are all about. So in the last example, we took a cross b. Let's see what happens when we take b cross a. So let me erase some of this. I don't want to erase all of it because it might be useful to give us some intuition to compare. I'm going to keep that. Actually, I can erase this, I think. So the things I have drawn here, this was a cross b. Let me cordon it off so you don't get confused. So that was me using the right hand rule when I tried to do a cross b, and then we saw that the magnitude of this was 25, and n, the direction, pointed downwards. Or when I drew it here, it would point into the page. So let's see what happens with b cross a, so I'm just switching the order. b cross a. Well, the magnitude is going to be the same thing, right? Because I'm still going to take the magnitude of b times the magnitude of a times the sine of the angle between them, which was pi over 6 radians and then times some unit vector n. But this is going to be the same. When I multiply scalar quantities, it doesn't matter what order I multiply them in, right? So this is still going to be 25, whatever my units might have been, times some vector n. And we still know that that vector n has to be perpendicular to both a and b, and now we have to figure out, well, is it, in being perpendicular, it can either kind of point into the page here or it could pop out of the page, or point out of the page. So which one is it? And then we take our right hand out, and we try it again. So what we do is we take our right hand. I'm actually using my right hand right now, although you can't see it, just to make sure I draw the right thing. So in this example, if I take my right hand, I take the index finger in the direction of b. I take my middle finger in the direction of a, so my middle figure is going to look something like that, right? And then I have two leftover fingers there. Then the thumb goes in the direction of the cross product, right? Because your thumb has a right angle right there. That's the right angle of your thumb. So in this example, that's the direction of a, this is the direction of b, and we're doing b cross a. That's why b gets your index finger. The index finger gets the first term, your middle finger gets the second term, and the thumb gets the direction of the cross product. So in this example, the direction of the cross product is upwards. Or when we're drawing it in two dimensions right here, the cross product would actually pop out of the page for b cross a. So I'll draw it over. It would be the circle with the dot. Or if I were to draw it analogous to this, so this right here, that was a cross b. And then b cross a is the exact same magnitude, but it goes in the other direction. That's b cross a. It just flips in the opposite direction. And that's why you have to use your right hand, because you might know that, oh, something's going to pop in or out of the page, et cetera, et cetera, but you need to know your right hand to know whether it goes in or out of the page. Anyway, let's see if we can get a little bit more intuition of what this is all about because this is all about intuition. And frankly, I'll tell you, the cross product comes into use in a lot of concepts that frankly we don't have a lot of real-life intuition, with electrons flying through a magnetic field or magnetic fields through a coil. A lot of things in our everyday life experience, maybe if we were metal filings living in a magnetic field-- well, we do live in a magnetic field. In a strong magnetic field, maybe we would get an intuition, but it's hard to have as deep of an intuition as we do for, say, falling objects, or friction, or forces, or fluid dynamics even, because we've all played with water. But anyway, let's get a little bit more intuition. And let's think about why is there that sine of theta? Why not just multiply the magnitudes times each other and use the right hand rule and figure out a direction? What is that sine of theta all about? I think I need to clear this up a little bit just so this could be useful. So why is that sine of theta there? Let me redraw some vectors. I'll draw them a little fatter. So let's say that's a, that's a, this is b. b doesn't always have to be longer than a. So this is a and this is b. Now, we can think of it a little bit. We could say, well, this is the same thing as a sine theta times b, or we could say this is b sine theta times a. I hope I'm not confusing-- all I'm saying is you could interpret this as-- because these are just magnitudes, right? So it doesn't matter what order you multiply them in. You could say this is a sine theta times the magnitude of b, all of that in the direction of the normal vector, or you could put the sine theta the other way. But let's think about what this would mean. a sine theta, if this is theta. What is a sine theta? Sine is opposite over hypotenuse, right? So opposite over hypotenuse. So this would be the magnitude of a. Let me draw something. Let me draw a line here and make it a real line. Let me draw a line there, so I have a right angle. So what's a sine theta? This is the opposite side. So a sine theta is a, and sine of theta is opposite over hypotenuse. The hypotenuse is the magnitude of a, right? So sine of theta is equal to this side, which I call o for opposite, over the magnitude of a. So it's opposite over the magnitude of a. So this term a sine theta is actually just the magnitude of this line right here. Another way you could-- let me redraw it. It doesn't matter where the vectors start from. All you care about is this magnitude and direction, so you could shift vectors around. So this vector right here, and you could call it this opposite vector, that's the same thing as this vector. That's the same thing as this. I just shifted it away. And so another way to think about it is, it is the component of vector a, right? We're used to taking a vector and splitting it up into x- and y-components, but now we're taking a vector a, and we're splitting it up into-- you can think of it as a component that's parallel to vector b and a component that is perpendicular to vector b. So a sine theta is the magnitude of the component of vector a that is perpendicular to b. So when you're taking the cross product of two numbers, you're saying, well, I don't care about the entire magnitude of vector a in this example, I care about the magnitude of vector a that is perpendicular to vector b, and those are the two numbers that I want to multiply and then give it that direction as specified by the right hand rule. And I'll show you some applications. This is especially important-- well, we'll use it in torque and we'll also use it in magnetic fields, but it's important in both of those applications to figure out the components of the vector that are perpendicular to either a force or a radius in question. So that's why this cross product has the sine theta because we're taking-- so in this, if you view it as magnitude of a sine theta times b, this is kind of saying this is the magnitude of the component of a perpendicular to b, or you could interpret it the other way. You could interpret it as a times b sine theta, right? Put a parentheses here. And then you could view it the other way. You could say, well, b sine theta is the component of b that is perpendicular to a. Let me draw that, just to hit the point home. So that's my a, that's my b. This is a, this is b. So b has some component of it that is perpendicular to a, and that is going to look something like-- well, I've run out of space. Let me draw it here. If that's a, that's b, the component of b that is perpendicular to a is going to look like this. It's going to be perpendicular to a, and it's going to go that far, right? And then you could go back to SOH CAH TOA and you could prove to yourself that the magnitude of this vector is b sine theta. So that is where the sine theta comes from. 1It makes sure that we're not just multiplying the vectors. 1It makes sure we're multiplying the components of 1the vectors that are perpendicular to each other to 1get a third vector that is perpendicular to both of them. 1And then the people who invented the cross product 1said, well, it's still ambiguous because it doesn't 1tell us-- there's always two vectors that are perpendicular 1to these two. 1One goes in, one goes out. 1They're in opposite directions. 1And that's where the right hand rule comes in. 1They'll say, OK, well, we're just going to say a convention 1that you use your right hand, point it like a gun, make all 1your fingers perpendicular, and then you know what 1direction that vector points in. 1Anyway, hopefully, you're not confused. 1Now I want you to watch the next video. 1This is actually going to be some physics on electricity, 1magnetism and torque, and that's essentially the 1applications of the cross product, and it'll give you a 1little bit more intuition of how to use it. 1See you soon.\",\n",
              "       \" Find the probability of rolling even numbers three times using a six-sided die numbered from 1 to 6. So let's just figure out the probability of rolling it each of the times. So the probability of rolling even numbers. So even roll on six-sided die. So let's think about that probability. Well, how many total outcomes are there? How many possible rolls could we get? Well, you get one, two, three, four, five, six. And how many of them satisfy these conditions, that it's an even number? Well, it could be a 2, it could be a 4, or it could be a 6. So the probability is the events that match what you need, your condition for right here, so three of the possible events are an even roll. And it's out of a total of six possible events. So there is a-- 3 over 6 is the same thing as 1/2 probability of rolling even on each roll. Now they're going to roll-- they want to roll even three times. And these are all going to be independent events. Every time you roll, it's not going to affect what happens in the next roll, despite what some gamblers might think. It has no impact on what happens on the next roll. So the probability of rolling even three times is equal to the probability of an even roll one time, or even roll on six-sided die-- this thing over here is equal to that thing times that thing again. All right, that's our first roll-- we copy and we paste it-- times that thing and then times that thing again. Right? That's our first roll, which is that. That's our second roll. That's our third roll. They're independent events. So this is going to be equal to 1/2-- that's the same 1/2 right there-- times 1/2 times 1/2, which is equal to 1 over 8. There's a 1 in 8 possibility that you roll even numbers on all three rolls. On this roll, this roll, and that roll.\",\n",
              "       ' -  In the last video we began to see some pretty good evidence that DNA was the molecular basis for inheritance and we saw that from the work of Avery, McCarthy and McLead where they tried to identify whether it was DNA or proteins that acted as a transformation principle in Griffith\\'s experiments and I encourage you to watch that video if all of this sounds unfamiliar. But even their work in 1944 was not viewed as conclusive evidence. It was viewed as strong evidence, but not conclusive evidence because, remember how they did it, they took the heat killed smooth strain, the smooth strain you might remember from Griffith\\'s experiment was the virulent one. The heat killed it. When you heat kill it in injected amounts, it didn\\'t do anything to the mouse, but if you took the heat killed smooth strain and put it with the rough strain, it somehow transformed the rough strain in to the smooth strain, in to the virulent strain and so they took the heat killed smooth strain and they took out its different components and they eventually were able to isolate one that was able to transform the rough strain in to the smooth strain by itself and then they applied all sorts of chemical tests to it and said, \"Hey, there\\'s pretty good evidence \"that this is DNA,\" but it wasn\\'t conclusive because, well, maybe they didn\\'t purify it properly or maybe there was still a little bit of protein. Maybe it was mostly DNA, but maybe it was a little bit of protein that was still left there that actually did the transformation. So the scientific community, they weren\\'t just saying, \"Hey, that looks pretty good, \"Let\\'s move on, let\\'s just assume.\" They wanted to continue to test it and especially test it in different ways. And, the conclusive evidence didn\\'t come until a few years later, until 1952 when Alfred Hershey and Martha Chase decided to study T2 bacterio phage. Let me write this down. T2 bacterio phage, this is phage that infects bacteria. Bacterio phage. When you hear the word phage, we\\'re referring to viruses. Now they knew that T2 bacterio phage was composed of proteins and DNA and they didn\\'t, well, we now know, that it\\'s a protein shell and there\\'s DNA inside, but they, from their point of view, they said, \"Okay, it\\'s made up and if we try to \"look at the stuff that this virus is made of, \"it\\'s protein and DNA.\" So protein plus DNA, and they knew that this virus, when it infects bacteria, it injects something into that bacteria. So it injects something and that something is what hijacks that bacteria\\'s genetic information to start producing more of the T2 bacterio phage. So they could identify the something that gets injected. If they could figure out if that something was either a protein or a virus, then they would have conclusively proven so sorry, if they could show that something was not protein or virus, if it was protein or DNA, if they could show that it was either protein or DNA, then they could show conclusively that it\\'s either the protein or the DNA that forms the molecular basis and so they\\'re actually quite sceptical of Avery, McCarthy and MacLead\\'s experiments. They actually, Hershey and Chase, actually thought that they were gonna show that it was the protein, and remember, this whole time people were like, \"Protein, we know it\\'s these complex molecules \"that have these different shapes \"and all these different amino acids. \"It seems like that\\'s much more likely to encode \"the complexity of genetic information than DNA.\" They didn\\'t have an appreciation for the structure of DNA at this time. So they devised an experiment to figure out what is that something that the T2 bacterio phage is infecting. Is that something protein? Is it protein or DNA? So this is the question. So what they do is they take two batches or they developed two batches of T2 bacterio phage. One batch of the T2 bacterio phage they do it in the presence of radioactive phosphorus, phosphorus 32. In the other batch, I should say they grow that T2 bacterio phage in the process of another radioactive isotope, but this time it is of sulfur. This is sulfur 35. So why are they doing that? Well phosphorus is found in DNA. So in this first batch, the radioactive marker, you could say, is going to incorporate itself into the DNA. In the second batch, sulfur is found in the protein and not in the DNA and so this would actually tag the protein parts. And if you\\'re wondering, well, how do you develop these radioactive batches, well, you let the viruses hijack cells in a medium that has either the radioactive sulfur or the radioactive phosphorus and as they reproduce, they are going to incorporate that radioactive material into either the protein or the DNA of the new viruses that get produced. So anyway, they were able to produce some of the T2 bacterio phage in the presence of the radioactive phosphorus and they knew that way that the DNA would get that radioactive material in it and then with the radioactive sulfur they said the protein would have that radioactive sulfur. And then for each of those batches, they then infected bacterio phage with them and they said, okay, they\\'re going to inject something in to the bacterio phage, and to figure out what that something is that was injected in to the bacterio phage they take the products in either of the two scenarios, they first blend \\'em up so that all of the stuff that\\'s left outside gets taken off of the surface of the bacteria cells and then they stick it in to a centrifuge and the centrifuge is, you can imagine, it\\'s kind of just a big spinning machine. If you were to take a test tube and take it sideways, one way to think about it, put it sideways like this. Put maybe a stopper in it so nothing leaks and then you spin it around really, really, really, really fast, what you\\'re going to find, you can actually generate significant g forces and so the heavier stuff is going to gravitate to the bottom of the test tube or to the right when it is on its side, and the lighter stuff is going to gravitate to the left. And, it turns out that the bacteria, the actual bacterial cells, those are heavier so the bacterial cells are going to go towards the bottom of the test tube and they\\'re gonna form a material that we call the pellet and then all of the other stuff, all of the fluid and the leftover phage parts those are going to go up to the top of the test tube and we call that the supernatent. I always have trouble pronouncing that. Supernatent. And so they said, \"Look, if we look at the pellet,\" which they knew had the bacterial cells int here or you could even say the remts of the bacterial cells, \"if the pellet here \"contains phosphorus, that means that the DNA, \"our radioactive DNA or our tagged DNA \"made it in to the bacteria, \"but if it contains sulfur, that means that the protein \"made it in to the bacteria.\" And, what they found is they found that the radioactive phosphorus was in the pellet which allowed them to conclude that, hey, it\\'s the DNA from the virus that made it inside of the bacteria and not the protein and then they said, \"Well, it must be! \"Wow, the Avery, McCarthy and Maclead were correct. \"It\\'s actually the DNA that is this transformation principle \"that can go in and hijack the genetic, \"the machinery of the bacteria \"to produce more of the actual virus, \"so this is a really, really, really big deal.\" Once again, we started with Mendel saying, \"Hey, we have these inheritable factors \"and they seem to segregate and sort in certain ways. \"They seem to be discrete.\" Bover and Sutton said, \"Hey, \"chromosomes seem to kind of, \"their behavior during meiosis \"when cells split \"seem to kind of match up to that.\" Morgan starts to provide some evidence. We have Griffith\\'s experiments with the mice and the bacteria and saying, \"Hey, look, \"there\\'s some transformation principle.\" Avery, McCarthy and MacLeod say, \"Hey, \"looks like when we try to really purify \"this transformation principle, \"it seems like DNA is what really matters.\" And then Hershey and Chase validate that even more conclusively.'],\n",
              "      dtype=object)"
            ]
          },
          "metadata": {
            "tags": []
          },
          "execution_count": 53
        }
      ]
    },
    {
      "cell_type": "code",
      "metadata": {
        "id": "MRZ54gFokNh9",
        "colab": {
          "base_uri": "https://localhost:8080/"
        },
        "outputId": "ba4a9efc-7673-4c83-99ed-f05a8879ecd1"
      },
      "source": [
        "labels"
      ],
      "execution_count": 54,
      "outputs": [
        {
          "output_type": "execute_result",
          "data": {
            "text/plain": [
              "array(['math>>math1>>x89d82521517266d4:functions',\n",
              "       'math>>old-ap-calculus-ab>>ab-applications-definite-integrals',\n",
              "       'economics-finance-domain>>ap-macroeconomics>>economic-iondicators-and-the-business-cycle',\n",
              "       ...,\n",
              "       'science>>in-in-class11th-physics>>in-in-system-of-particles-and-rotational-motion',\n",
              "       'math>>precalculus>>x9e81a4f98389efdf:prob-comb',\n",
              "       'science>>biology>>dna-as-the-genetic-material'], dtype=object)"
            ]
          },
          "metadata": {
            "tags": []
          },
          "execution_count": 54
        }
      ]
    },
    {
      "cell_type": "code",
      "metadata": {
        "id": "8ohj1x7frQJ1",
        "colab": {
          "base_uri": "https://localhost:8080/"
        },
        "outputId": "12d5e25b-d7f4-4471-ce28-5c3b7b14cfaf"
      },
      "source": [
        "len(list(set(labels)))"
      ],
      "execution_count": 55,
      "outputs": [
        {
          "output_type": "execute_result",
          "data": {
            "text/plain": [
              "416"
            ]
          },
          "metadata": {
            "tags": []
          },
          "execution_count": 55
        }
      ]
    },
    {
      "cell_type": "code",
      "metadata": {
        "id": "Kjinn0gXkNuP"
      },
      "source": [
        "\n",
        "# course_taxonomy\n",
        "test_labels = list(set(labels))\n",
        "poincare_emb_data = get_poincare_embeddings_data(test_labels)"
      ],
      "execution_count": 56,
      "outputs": []
    },
    {
      "cell_type": "code",
      "metadata": {
        "id": "RPU8Pm5b8Zwa",
        "colab": {
          "base_uri": "https://localhost:8080/"
        },
        "outputId": "dd34ef6c-40e6-40d7-bcfb-b156936152a5"
      },
      "source": [
        "poincare_emb_data"
      ],
      "execution_count": 57,
      "outputs": [
        {
          "output_type": "execute_result",
          "data": {
            "text/plain": [
              "[['math',\n",
              "  'in-in-class-8-math-india-hindi',\n",
              "  'in-in-8-algebraic-expressions-and-identities-hindi'],\n",
              " ['math', 'arithmetic-home', 'arith-place-value'],\n",
              " ['math', 'integral-calculus', 'ic-integration'],\n",
              " ['math', 'engageny-alg-1', 'alg1-2'],\n",
              " ['math', 'calculus-all-old', 'derivative-applications-calc'],\n",
              " ['math',\n",
              "  'statistics-probability',\n",
              "  'significance-tests-confidence-intervals-two-samples'],\n",
              " ['math', 'algebra-home', 'alg-functions'],\n",
              " ['economics-finance-domain', 'ap-microeconomics', 'imperfect-competition'],\n",
              " ['math',\n",
              "  'calculus-2',\n",
              "  'cs2-parametric-equations-polar-coordinates-and-vector-valued-functions'],\n",
              " ['math', 'algebra', 'x2f8bb11595b61c86:systems-of-equations'],\n",
              " ['math', 'ap-statistics', 'two-sample-inference'],\n",
              " ['math', 'old-ap-calculus-ab', 'ab-derivatives-advanced'],\n",
              " ['math', 'geometry', 'hs-geo-transformations'],\n",
              " ['math', 'in-in-grade-12-ncert', 'in-in-probability-of-events'],\n",
              " ['math', 'calculus-2', 'cs2-integration-techniques'],\n",
              " ['math', 'pre-algebra', 'pre-algebra-factors-multiples'],\n",
              " ['math',\n",
              "  'in-in-class-1st-math-cbse',\n",
              "  'xdedfdde82b722757:cc-1st-add-subtract'],\n",
              " ['math', 'cc-seventh-grade-math', 'cc-7th-fractions-decimals'],\n",
              " ['science', 'ap-chemistry', 'studying-for-ap-chemistry-exam-class'],\n",
              " ['math', 'old-ap-calculus-bc', 'bc-antiderivatives-ftc'],\n",
              " ['math', 'math3', 'x5549cc1686316ba5:equations'],\n",
              " ['math',\n",
              "  'in-in-class-6-math-india-icse',\n",
              "  'in-in-6-ratio-and-proportion-icse'],\n",
              " ['science', 'health-and-medicine', 'executive-systems-of-the-brain'],\n",
              " ['science', 'in-in-class11th-physics', 'in-in-class11th-physics-fluids'],\n",
              " ['math', 'old-integral-calculus', 'indefinite-integrals'],\n",
              " ['math', 'algebra2', 'x2ec2f6f830c9fb89:poly-factor'],\n",
              " ['economics-finance-domain', 'ap-microeconomics', 'factor-markets'],\n",
              " ['math', 'cc-fourth-grade-math', '4th-multiply-fractions'],\n",
              " ['science', 'organic-chemistry', 'organic-structures'],\n",
              " ['math', 'calculus-1', 'cs1-limits-and-continuity'],\n",
              " ['math', 'algebra', 'x2f8bb11595b61c86:linear-equations-graphs'],\n",
              " ['math', '4th-engage-ny', 'engage-4th-module-5'],\n",
              " ['math', 'cc-third-grade-math', 'imp-addition-and-subtraction'],\n",
              " ['math', 'old-integral-calculus', 'riemann-sums-ic'],\n",
              " ['math', 'old-ap-calculus-ab', 'ab-accumulation-riemann-sums'],\n",
              " ['science', 'health-and-medicine', 'respiratory-system-diseases'],\n",
              " ['math', 'calculus-all-old', 'taking-derivatives-calc'],\n",
              " ['math', 'cc-seventh-grade-math', 'cc-7th-ratio-proportion'],\n",
              " ['science', 'cosmology-and-astronomy', 'universe-scale-topic'],\n",
              " ['science', 'chemistry', 'states-of-matter-and-intermolecular-forces'],\n",
              " ['math', 'algebra-home', 'alg-linear-eq-func'],\n",
              " ['math', '8th-grade-foundations-engageny', '8th-m4-engage-ny-foundations'],\n",
              " ['math', '7th-engage-ny', 'engage-7th-module-1'],\n",
              " ['math', 'cc-sixth-grade-math', 'cc-6th-equations-and-inequalities'],\n",
              " ['math', 'geometry-home', 'triangle-properties'],\n",
              " ['math',\n",
              "  'calculus-1',\n",
              "  'cs1-derivatives-chain-rule-and-other-advanced-topics'],\n",
              " ['math', 'cc-fifth-grade-math', 'divide-decimals'],\n",
              " ['math', 'math2', 'xe2ae2386aa2e13d6:circles'],\n",
              " ['math', 'precalculus', 'x9e81a4f98389efdf:matrices'],\n",
              " ['math', 'engageny-precalc', 'precalc-4'],\n",
              " ['math', 'algebra', 'x2f8bb11595b61c86:solve-equations-inequalities'],\n",
              " ['math', 'statistics-probability', 'random-variables-stats-library'],\n",
              " ['math', 'cc-fourth-grade-math', 'imp-measurement-and-data-2'],\n",
              " ['math', 'pre-algebra', 'pre-algebra-fractions'],\n",
              " ['math', 'old-ap-calculus-ab', 'ab-applications-definite-integrals'],\n",
              " ['science', 'health-and-medicine', 'endocrine-system-diseases'],\n",
              " ['math', 'in-in-class-4th-math-cbse', 'x37a2a840963ae149:imp-decimals'],\n",
              " ['math', 'old-ap-calculus-ab', 'ab-limits-continuity'],\n",
              " ['math', 'algebra-home', 'alg-matrices'],\n",
              " ['math', '5th-engage-ny', 'engage-5th-module-2'],\n",
              " ['science', 'ap-chemistry', 'buffers-titrations-solubility-equilibria-ap'],\n",
              " ['math', 'math2', 'xe2ae2386aa2e13d6:solids'],\n",
              " ['math', 'geometry-home', 'geometry-lines'],\n",
              " ['math', 'in-in-class-3rd-math-cbse', 'x80b2f4aa70819288:imp-fractions'],\n",
              " ['math', 'ap-calculus-ab', 'ab-diff-analytical-applications-new'],\n",
              " ['science', 'cosmology-and-astronomy', 'earth-history-topic'],\n",
              " ['science', 'biology', 'crash-course-bio-ecology'],\n",
              " ['economics-finance-domain',\n",
              "  'macroeconomics',\n",
              "  'aggregate-supply-demand-topic'],\n",
              " ['math', '8th-engage-ny', 'engage-8th-module-4'],\n",
              " ['math', 'ap-statistics', 'sampling-distribution-ap'],\n",
              " ['science', 'physics', 'thermodynamics'],\n",
              " ['math', 'old-differential-calculus', 'derivative-intro-dc'],\n",
              " ['math', 'old-ap-calculus-bc', 'bc-derivatives-advanced'],\n",
              " ['science', 'organic-chemistry', 'bond-line-structures-alkanes-cycloalkanes'],\n",
              " ['science', 'health-and-medicine', 'mental-health'],\n",
              " ['science', 'cosmology-and-astronomy', 'stellar-life-topic'],\n",
              " ['science', 'organic-chemistry', 'alcohols-ethers-epoxides-sulfides'],\n",
              " ['science', 'health-and-medicine', 'circulatory-system'],\n",
              " ['science', 'health-and-medicine', 'health-care-system'],\n",
              " ['science',\n",
              "  'in-in-class11th-physics',\n",
              "  'in-in-system-of-particles-and-rotational-motion'],\n",
              " ['science', 'cosmology-and-astronomy', 'life-earth-universe'],\n",
              " ['math', 'ap-calculus-bc', 'bc-series-new'],\n",
              " ['math', 'ap-calculus-ab', 'ab-applications-of-integration-new'],\n",
              " ['math', 'ap-calculus-ab', 'ab-diff-contextual-applications-new'],\n",
              " ['math', 'algebra-home', 'alg-intro-to-algebra'],\n",
              " ['economics-finance-domain', 'microeconomics', 'firm-economic-profit'],\n",
              " ['math', '8th-grade-foundations-engageny', '8th-m5-engage-ny-foundations'],\n",
              " ['math', 'in-in-class-6-math-india-icse', 'in-in-6-perimeter-and-area-icse'],\n",
              " ['math', 'in-in-class-6-math-india-icse', 'in-in-6-decimals-icse'],\n",
              " ['science', 'chemistry', 'atomic-structure-and-properties'],\n",
              " ['math', 'ap-statistics', 'estimating-confidence-ap'],\n",
              " ['science', 'health-and-medicine', 'nervous-system-diseases'],\n",
              " ['science', 'physics', 'quantum-physics'],\n",
              " ['math', 'differential-calculus', 'dc-chain'],\n",
              " ['math', 'old-integral-calculus', 'integration-techniques'],\n",
              " ['science', 'physics', 'review-for-ap-physics-1-exam'],\n",
              " ['science', 'class-10-biology', 'in-in-life-processes'],\n",
              " ['math', 'pre-algebra', 'pre-algebra-arith-prop'],\n",
              " ['math', 'old-ap-calculus-bc', 'bc-limits-continuity'],\n",
              " ['math', 'arithmetic-home', 'multiply-divide'],\n",
              " ['science', 'biology', 'water-acids-and-bases'],\n",
              " ['math', 'in-in-class-7-math-india-icse', 'in-in-7-pair-of-angles-icse'],\n",
              " ['science', 'high-school-biology', 'hs-evolution'],\n",
              " ['math', 'cc-fourth-grade-math', 'imp-fractions-2'],\n",
              " ['math', '6th-grade-illustrative-math', 'unit-6-expressions-and-equations'],\n",
              " ['science', 'ap-biology', 'worked-examples-ap-biology'],\n",
              " ['science', 'health-and-medicine', 'circulatory-system-diseases'],\n",
              " ['math', '5th-grade-foundations-engageny', '5th-m1-engage-ny-foundations'],\n",
              " ['economics-finance-domain',\n",
              "  'ap-microeconomics',\n",
              "  'production-cost-and-the-perfect-competition-model-temporary'],\n",
              " ['economics-finance-domain',\n",
              "  'ap-macroeconomics',\n",
              "  'economic-iondicators-and-the-business-cycle'],\n",
              " ['math',\n",
              "  'in-in-class-7-math-india-icse',\n",
              "  'in-in-7-exponents-and-powers-icse'],\n",
              " ['math', 'algebra', 'x2f8bb11595b61c86:foundation-algebra'],\n",
              " ['math', 'math1', 'x89d82521517266d4:analytic-geo'],\n",
              " ['math', 'algebra', 'x2f8bb11595b61c86:forms-of-linear-equations'],\n",
              " ['science', 'physics', 'one-dimensional-motion'],\n",
              " ['math', 'arithmetic', 'arith-review-add-subtract'],\n",
              " ['math', '4th-engage-ny', 'engage-4th-module-7'],\n",
              " ['math', 'in-in-class-7-math-kv', 'xb054af1c35872e64:in-in-7-kv-integers'],\n",
              " ['math', 'ap-statistics', 'inference-slope-linear-regression'],\n",
              " ['science', 'electrical-engineering', 'ee-circuit-analysis-topic'],\n",
              " ['economics-finance-domain', 'ap-microeconomics', 'unit-2-supply-and-demnd'],\n",
              " ['math', 'cc-fifth-grade-math', 'imp-fractions-3'],\n",
              " ['math', 'old-ap-calculus-ab', 'ab-existence-theorems'],\n",
              " ['science', 'ap-chemistry', 'kinetics-ap'],\n",
              " ['math', 'in-in-class-7-math-india-icse', 'in-in-7-linear-inequalities-icse'],\n",
              " ['math', '6th-engage-ny', 'engage-6th-module-2'],\n",
              " ['science', 'electrical-engineering', 'robots'],\n",
              " ['math', 'in-in-class-7-math-india-icse', 'in-in-7-fractions-icse'],\n",
              " ['science', 'ap-chemistry', 'chemical-equilibrium-ap'],\n",
              " ['science', 'health-and-medicine', 'nervous-system-and-sensory-infor'],\n",
              " ['math', 'cc-2nd-grade-math', 'cc-2nd-add-subtract-100'],\n",
              " ['math', 'ap-statistics', 'bivariate-data-ap'],\n",
              " ['math', 'engageny-geo', 'geo-3'],\n",
              " ['math', 'math1', 'x89d82521517266d4:algebra-foundation'],\n",
              " ['economics-finance-domain', 'macroeconomics', 'monetary-system-topic'],\n",
              " ['science', 'health-and-medicine', 'advanced-endocrine-system'],\n",
              " ['science', 'high-school-biology', 'hs-human-body-systems'],\n",
              " ['math', 'engageny-precalc', 'precalc-3'],\n",
              " ['math', 'cc-fifth-grade-math', 'powers-of-ten'],\n",
              " ['math', 'calculus-all-old', 'series-calc'],\n",
              " ['math', 'cc-kindergarten-math', 'cc-kindergarten-add-subtract'],\n",
              " ['math', 'precalculus', 'x9e81a4f98389efdf:vectors'],\n",
              " ['math', 'algebra-home', 'alg-trig-functions'],\n",
              " ['science',\n",
              "  'in-in-class-12th-physics-india',\n",
              "  'in-in-electromagnetic-induction'],\n",
              " ['math', '8th-engage-ny', 'engage-8th-module-7'],\n",
              " ['math', 'ap-statistics', 'random-variables-ap'],\n",
              " ['math', 'in-in-grade-11-ncert', 'in-in-class11-straight-lines'],\n",
              " ['math', 'algebra2', 'x2ec2f6f830c9fb89:logs'],\n",
              " ['math',\n",
              "  'in-in-class-7-math-india-icse',\n",
              "  'in-in-7-simple-linear-equations-in-one-variable-icse'],\n",
              " ['math', 'cc-fifth-grade-math', 'multi-digit-multiplication-and-division'],\n",
              " ['math',\n",
              "  'in-in-class-5th-math-cbse',\n",
              "  'x91a8f6d2871c8046:multi-digit-multiplication-and-division'],\n",
              " ['math', 'engageny-alg-1', 'alg1-1'],\n",
              " ['science', 'biology', 'properties-of-carbon'],\n",
              " ['math', 'in-in-grade-12-ncert', 'in-in-advanced-differentiation-two'],\n",
              " ['science', 'biology', 'macromolecules'],\n",
              " ['math', 'old-ap-calculus-ab', 'ab-solved-exams'],\n",
              " ['science', 'biology', 'energy-and-enzymes'],\n",
              " ['science', 'physics', 'geometric-optics'],\n",
              " ['math', 'math-for-fun-and-glory', 'math-warmup'],\n",
              " ['math', 'old-ap-calculus-bc', 'bc-derivatives-analyze-functions'],\n",
              " ['math', 'ab-sixth-grade-math', 'ab-patterns-relations'],\n",
              " ['math', 'math1', 'x89d82521517266d4:two-var-eq'],\n",
              " ['math', 'pre-algebra', 'pre-algebra-exponents-radicals'],\n",
              " ['math', 'differential-equations', 'laplace-transform'],\n",
              " ['science', 'electrical-engineering', 'reverse-engin'],\n",
              " ['math', 'linear-algebra', 'alternate-bases'],\n",
              " ['science',\n",
              "  'in-in-class11th-physics',\n",
              "  'in-in-class11th-physics-motion-in-a-straight-line'],\n",
              " ['math', 'ap-calculus-bc', 'bc-differentiation-2-new'],\n",
              " ['math', 'in-in-grade-12-ncert', 'in-in-matrices'],\n",
              " ['science', 'organic-chemistry', 'alkenes-alkynes'],\n",
              " ['science', 'ap-biology', 'cell-structure-and-function'],\n",
              " ['math', 'calculus-all-old', 'limits-and-continuity-calc'],\n",
              " ['math', 'math3', 'x5549cc1686316ba5:poly-arithmetic'],\n",
              " ['math', 'algebra', 'x2f8bb11595b61c86:working-units'],\n",
              " ['math',\n",
              "  '8th-grade-illustrative-math',\n",
              "  'unit-8-pythagorean-theorem-and-irrational-numbers'],\n",
              " ['math', 'in-in-grade-12-ncert', 'in-in-determinants'],\n",
              " ['science', 'high-school-biology', 'hs-ecology'],\n",
              " ['math', 'multivariable-calculus', 'thinking-about-multivariable-function'],\n",
              " ['math', 'statistics-probability', 'summarizing-quantitative-data'],\n",
              " ['math', 'algebra-basics', 'alg-basics-graphing-lines-and-slope'],\n",
              " ['math',\n",
              "  'in-in-class-5th-math-cbse',\n",
              "  'x91a8f6d2871c8046:imp-place-value-and-decimals'],\n",
              " ['math', 'differential-equations', 'first-order-differential-equations'],\n",
              " ['math', 'algebra-home', 'alg-quadratics'],\n",
              " ['math',\n",
              "  'multivariable-calculus',\n",
              "  'applications-of-multivariable-derivatives'],\n",
              " ['math', 'arithmetic-home', 'addition-subtraction'],\n",
              " ['math',\n",
              "  'in-in-class-9-math-kv',\n",
              "  'xab8772e5b9da7f89:in-in-8-kv-number-systems'],\n",
              " ['science', 'health-and-medicine', 'respiratory-system'],\n",
              " ['economics-finance-domain', 'ap-macroeconomics', 'ap-financial-sector'],\n",
              " ['math', 'algebra-basics', 'alg-basics-systems-of-equations'],\n",
              " ['science',\n",
              "  'in-in-class11th-physics',\n",
              "  'in-in-class11th-physics-motion-in-a-plane'],\n",
              " ['math', 'in-in-grade-12-ncert', 'in-in-relations-functions'],\n",
              " ['science', 'organic-chemistry', 'ochem-alpha-carbon-chemistry'],\n",
              " ['math', 'precalculus', 'x9e81a4f98389efdf:prob-comb'],\n",
              " ['science', 'ap-chemistry', 'stoichiometry-and-molecular-composition-ap'],\n",
              " ['math', 'early-math', 'cc-early-math-add-sub-basics'],\n",
              " ['math', 'ap-statistics', 'quantitative-data-ap'],\n",
              " ['science', 'physics', 'circuits-topic'],\n",
              " ['science', 'ap-biology', 'chemistry-of-life'],\n",
              " ['science', 'health-and-medicine', 'advanced-hematologic-system'],\n",
              " ['science', 'in-in-class-12th-physics-india', 'nuclei'],\n",
              " ['math', 'algebra-home', 'alg-absolute-value'],\n",
              " ['math', 'ap-statistics', 'summarizing-quantitative-data-ap'],\n",
              " ['math', 'precalculus', 'x9e81a4f98389efdf:conics'],\n",
              " ['math', '5th-grade-foundations-engageny', '5th-m3-engage-ny-foundations'],\n",
              " ['math', 'old-integral-calculus', 'convergence-tests-integral-calc'],\n",
              " ['math', 'old-ap-calculus-bc', 'bc-series'],\n",
              " ['math', 'integral-calculus', 'ic-series'],\n",
              " ['science', 'organic-chemistry', 'stereochemistry-topic'],\n",
              " ['math',\n",
              "  'cc-fourth-grade-math',\n",
              "  'comparing-fractions-and-equivalent-fractions'],\n",
              " ['math', 'math-for-fun-and-glory', 'puzzles'],\n",
              " ['math', 'engageny-alg-1', 'alg1-3'],\n",
              " ['math', '7th-grade-foundations-engageny', '7th-m5-engage-ny-foundations'],\n",
              " ['science', 'ap-chemistry', 'periodic-table-ap'],\n",
              " ['science',\n",
              "  'in-in-class11th-physics',\n",
              "  'in-in-class11th-physics-laws-of-motion'],\n",
              " ['math', 'algebra-home', 'alg-complex-numbers'],\n",
              " ['math', '4th-grade-foundations-engageny', '4th-m5-engage-ny-foundations'],\n",
              " ['math', 'math2', 'xe2ae2386aa2e13d6:quad-2'],\n",
              " ['math', '8th-engage-ny', 'engage-8th-module-2'],\n",
              " ['science',\n",
              "  'in-in-class11th-physics',\n",
              "  'in-in-11th-physics-units-and-measurement'],\n",
              " ['economics-finance-domain',\n",
              "  'ap-macroeconomics',\n",
              "  'ap-open-economy-international-trade-and-finance'],\n",
              " ['economics-finance-domain', 'microeconomics', 'choices-opp-cost-tutorial'],\n",
              " ['math', 'algebra-basics', 'alg-basics-expressions-with-exponents'],\n",
              " ['science', 'organic-chemistry', 'substitution-elimination-reactions'],\n",
              " ['science', 'chemistry', 'thermodynamics-chemistry'],\n",
              " ['math', 'calculus-all-old', 'ap-calc-topic'],\n",
              " ['science', 'ap-physics-2', 'ap-thermodynamics'],\n",
              " ['science', 'biology', 'membranes-and-transport'],\n",
              " ['science', 'biology', 'cellular-respiration-and-fermentation'],\n",
              " ['math', 'in-in-grade-11-ncert', 'in-in-class11-limits'],\n",
              " ['math', 'algebra', 'x2f8bb11595b61c86:inequalities-systems-graphs'],\n",
              " ['math', 'arithmetic', 'arith-decimals'],\n",
              " ['math', 'geometry-home', 'transformations'],\n",
              " ['math', 'in-in-class-7-math-india-icse', 'in-in-7-perimeter-and-area-icse'],\n",
              " ['math', 'multivariable-calculus', 'greens-theorem-and-stokes-theorem'],\n",
              " ['science', 'physics', 'electric-charge-electric-force-and-voltage'],\n",
              " ['math', 'engageny-geo', 'geo-2'],\n",
              " ['math', '5th-engage-ny', 'engage-5th-module-4'],\n",
              " ['science', 'ap-chemistry', 'states-of-matter-and-intermolecular-forces-ap'],\n",
              " ['math', 'cc-seventh-grade-math', 'cc-7th-geometry'],\n",
              " ['math', 'cc-fourth-grade-math', 'imp-geometry-2'],\n",
              " ['math', 'cc-fifth-grade-math', 'imp-place-value-and-decimals'],\n",
              " ['economics-finance-domain', 'microeconomics', 'elasticity-tutorial'],\n",
              " ['science', 'in-in-class11th-physics', 'in-in-11th-physics-waves'],\n",
              " ['science', 'chemistry', 'periodic-table'],\n",
              " ['math', 'geometry-home', 'geometry-miscellaneous'],\n",
              " ['math', 'statistics-probability', 'probability-library'],\n",
              " ['math', 'ap-statistics', 'probability-ap'],\n",
              " ['science', 'organic-chemistry', 'spectroscopy-jay'],\n",
              " ['math', 'calculus-1', 'cs1-applications-of-integrals'],\n",
              " ['math', 'math1', 'x89d82521517266d4:exp-func'],\n",
              " ['math', 'algebra-home', 'alg-polynomials'],\n",
              " ['science', 'health-and-medicine', 'infectious-diseases'],\n",
              " ['math', 'in-in-grade-12-ncert', 'in-in-definite-integrals'],\n",
              " ['math', 'trigonometry', 'unit-circle-trig-func'],\n",
              " ['math', '7th-engage-ny', 'engage-7th-module-4'],\n",
              " ['math', 'early-math', 'cc-early-math-add-sub-100'],\n",
              " ['math', 'cc-sixth-grade-math', 'cc-6th-negative-number-topic'],\n",
              " ['math', 'geometry', 'hs-geo-trig'],\n",
              " ['math', 'in-in-grade-11-ncert', 'in-in-class11-derivatives'],\n",
              " ['math', 'differential-equations', 'second-order-differential-equations'],\n",
              " ['economics-finance-domain', 'ap-microeconomics', 'basic-economic-concepts'],\n",
              " ['math', 'cc-eighth-grade-math', 'cc-8th-linear-equations-functions'],\n",
              " ['science',\n",
              "  'in-in-class10th-physics',\n",
              "  'in-in-10th-physics-light-reflection-refraction'],\n",
              " ['science', 'physics', 'magnetic-forces-and-magnetic-fields'],\n",
              " ['math', 'arithmetic', 'arith-review-negative-numbers'],\n",
              " ['math', 'math3', 'x5549cc1686316ba5:poly-div'],\n",
              " ['math', 'in-in-grade-12-ncert', 'in-in-differential-equations'],\n",
              " ['math', 'engageny-geo', 'geo-5'],\n",
              " ['math', 'ap-calculus-bc', 'bc-limits-new'],\n",
              " ['science', 'ap-biology', 'cell-communication-and-cell-cycle'],\n",
              " ['science', 'physics', 'mechanical-waves-and-sound'],\n",
              " ['math', 'math-for-fun-and-glory', 'amc-10'],\n",
              " ['math', 'old-differential-calculus', 'limits-from-equations-dc'],\n",
              " ['math', 'geometry', 'hs-geo-foundations'],\n",
              " ['math', 'engageny-alg2', 'alg2-1'],\n",
              " ['math', 'ap-calculus-bc', 'bc-differentiation-1-new'],\n",
              " ['math', 'precalculus', 'x9e81a4f98389efdf:complex'],\n",
              " ['math', 'algebra2', 'x2ec2f6f830c9fb89:transformations'],\n",
              " ['math', 'math3', 'x5549cc1686316ba5:factorization'],\n",
              " ['science', 'chemistry', 'chemical-reactions-stoichiome'],\n",
              " ['math', 'old-integral-calculus', 'fundamental-theorem-of-calculus-ic'],\n",
              " ['math', 'arithmetic', 'fraction-arithmetic'],\n",
              " ['math', 'statistics-probability', 'designing-studies'],\n",
              " ['math',\n",
              "  'statistics-probability',\n",
              "  'inference-categorical-data-chi-square-tests'],\n",
              " ['economics-finance-domain',\n",
              "  'macroeconomics',\n",
              "  'income-and-expenditure-topic'],\n",
              " ['math', 'algebra2', 'x2ec2f6f830c9fb89:rational'],\n",
              " ['math', '5th-grade-foundations-engageny', '5th-m4-engage-ny-foundations'],\n",
              " ['science', 'biology', 'her'],\n",
              " ['math', 'integral-calculus', 'ic-adv-funcs'],\n",
              " ['math', 'algebra', 'x2f8bb11595b61c86:quadratics-multiplying-factoring'],\n",
              " ['math',\n",
              "  'in-in-class-2nd-math-cbse',\n",
              "  'x41ed04e12bec59cd:cc-2nd-add-subtract-1000'],\n",
              " ['science', 'biology', 'photosynthesis-in-plants'],\n",
              " ['science', 'physics', 'discoveries'],\n",
              " ['science', 'chemistry', 'oxidation-reduction'],\n",
              " ['economics-finance-domain',\n",
              "  'ap-microeconomics',\n",
              "  'ap-consumer-producer-surplus'],\n",
              " ['science', 'biology', 'ecology'],\n",
              " ['science', 'ap-chemistry', 'thermodynamics-ap'],\n",
              " ['math', 'old-ap-calculus-bc', 'bc-applications-derivatives'],\n",
              " ['math', 'engageny-geo', 'geo-1'],\n",
              " ['science', 'health-and-medicine', 'healthcare-misc'],\n",
              " ['science', 'chemistry', 'chemical-bonds'],\n",
              " ['science', 'biology', 'dna-as-the-genetic-material'],\n",
              " ['math', '6th-grade-illustrative-math', 'unit-1-area-and-surface-area'],\n",
              " ['math', 'in-in-grade-12-ncert', 'in-in-integrals'],\n",
              " ['math', 'math1', 'x89d82521517266d4:functions'],\n",
              " ['math', 'in-in-grade-12-ncert', 'in-in-continuity-differentiability'],\n",
              " ['math', 'old-ap-calculus-ab', 'ab-derivative-rules'],\n",
              " ['science', 'ap-biology', 'ecology-ap'],\n",
              " ['math', 'engageny-alg2', 'alg2-4'],\n",
              " ['science', 'ap-physics-1', 'ap-one-dimensional-motion'],\n",
              " ['math', 'algebra2', 'x2ec2f6f830c9fb89:modeling'],\n",
              " ['math', 'geometry-home', 'geometry-coordinate-plane'],\n",
              " ['science', 'chemistry', 'acid-base-equilibrium'],\n",
              " ['science', 'ap-physics-1', 'ap-forces-newtons-laws'],\n",
              " ['math', 'algebra-home', 'alg-vectors'],\n",
              " ['math', 'cc-fourth-grade-math', 'division'],\n",
              " ['math', 'statistics-probability', 'modeling-distributions-of-data'],\n",
              " ['math', 'old-integral-calculus', 'area-and-arc-length-ic'],\n",
              " ['math', 'algebra-home', 'alg-conic-sections'],\n",
              " ['science', 'in-in-class11th-physics', 'in-in-phy-kinetic-theory'],\n",
              " ['math', 'math-for-fun-and-glory', 'aime'],\n",
              " ['math', 'algebra-home', 'alg-modeling'],\n",
              " ['math', 'linear-algebra', 'matrix-transformations'],\n",
              " ['math',\n",
              "  'in-in-class-3rd-math-cbse',\n",
              "  'x80b2f4aa70819288:imp-addition-and-subtraction'],\n",
              " ['math', 'multivariable-calculus', 'multivariable-derivatives'],\n",
              " ['science', 'ap-biology', 'gene-expression-and-regulation'],\n",
              " ['math', 'geometry-home', 'geometry-angles'],\n",
              " ['math', 'cc-sixth-grade-math', 'cc-6th-expressions-and-variables'],\n",
              " ['math', 'ab-sixth-grade-math', 'shape-space'],\n",
              " ['math', 'math-for-fun-and-glory', 'vi-hart'],\n",
              " ['math', 'statistics-probability', 'confidence-intervals-one-sample'],\n",
              " ['math',\n",
              "  'in-in-class-2nd-math-cbse',\n",
              "  'x41ed04e12bec59cd:cc-2nd-measurement-data'],\n",
              " ['math', 'cc-sixth-grade-math', 'cc-6th-geometry-topic'],\n",
              " ['math', 'multivariable-calculus', 'integrating-multivariable-functions'],\n",
              " ['math', 'differential-calculus', 'dc-diff-intro'],\n",
              " ['math', 'statistics-probability', 'analysis-of-variance-anova-library'],\n",
              " ['science', 'ap-chemistry', 'redox-reactions-and-electrochemistry-ap'],\n",
              " ['math', 'calculus-2', 'cs2-differential-equations'],\n",
              " ['math', 'cc-eighth-grade-math', 'cc-8th-systems-topic'],\n",
              " ['math', 'algebra-home', 'alg-series-and-induction'],\n",
              " ['science', 'high-school-biology', 'hs-biology-foundations'],\n",
              " ['economics-finance-domain',\n",
              "  'macroeconomics',\n",
              "  'macro-long-run-consequences-of-stabilization-policies'],\n",
              " ['science', 'organic-chemistry', 'carboxylic-acids-derivatives'],\n",
              " ['math', 'arithmetic', 'arith-review-multiply-divide'],\n",
              " ['math', 'cc-fourth-grade-math', 'imp-decimals'],\n",
              " ['science', 'biology', 'history-of-life-on-earth'],\n",
              " ['math', 'algebra-home', 'alg-basic-eq-ineq'],\n",
              " ['economics-finance-domain',\n",
              "  'macroeconomics',\n",
              "  'macro-economic-indicators-and-the-business-cycle'],\n",
              " ['science', 'electrical-engineering', 'ee-signals'],\n",
              " ['economics-finance-domain',\n",
              "  'macroeconomics',\n",
              "  'macro-basic-economics-concepts'],\n",
              " ['science', 'biology', 'biodiversity-and-conservation'],\n",
              " ['science', 'physics', 'centripetal-force-and-gravitation'],\n",
              " ['math', 'algebra-home', 'alg-rational-expr-eq-func'],\n",
              " ['math', 'ap-calculus-ab', 'ab-limits-new'],\n",
              " ['math',\n",
              "  '8th-grade-illustrative-math',\n",
              "  'unit-4-linear-equations-and-linear-systems'],\n",
              " ['math',\n",
              "  'in-in-class-6-math-india-icse',\n",
              "  'in-in-6-addition-and-subtraction-of-negative-numbers-icse'],\n",
              " ['math', 'in-in-class-7-math-india-icse', 'in-in-7-symmetry-icse'],\n",
              " ['math', 'old-integral-calculus', 'definite-integrals-intro-ic'],\n",
              " ['math', 'geometry-home', 'cc-geometry-circles'],\n",
              " ['math', 'ap-calculus-bc', 'bc-applications-of-integration-new'],\n",
              " ['math', 'in-in-grade-11-ncert', 'in-in-class11-linear-inequalities'],\n",
              " ['math', 'algebra', 'x2f8bb11595b61c86:exponential-growth-decay'],\n",
              " ['math', 'linear-algebra', 'vectors-and-spaces'],\n",
              " ['science',\n",
              "  'in-in-class-10-chemistry-india',\n",
              "  'x87dd2847d57ee419:in-in-acids-bases-and-salts'],\n",
              " ['math', '7th-grade-illustrative-math', 'unit-8-probability-and-sampling'],\n",
              " ['science', 'ap-physics-2', 'ap-fluids'],\n",
              " ['math', '7th-grade-illustrative-math', 'unit-1-scale-drawings'],\n",
              " ['math', 'algebra-home', 'alg-exp-and-log'],\n",
              " ['science', 'in-in-class9th-physics-india', 'in-in-motion'],\n",
              " ['economics-finance-domain',\n",
              "  'ap-macroeconomics',\n",
              "  'national-income-and-price-determinations'],\n",
              " ['math',\n",
              "  '7th-grade-illustrative-math',\n",
              "  'unit-2-introducing-proportional-relationships'],\n",
              " ['science', 'ap-biology', 'cellular-energetics'],\n",
              " ['math', 'in-in-class-3rd-math-cbse', 'x80b2f4aa70819288:3rd-perimeter'],\n",
              " ['math', 'algebra', 'x2f8bb11595b61c86:sequences'],\n",
              " ['math', 'cc-sixth-grade-math', 'cc-6th-arithmetic-operations'],\n",
              " ['science', 'ap-physics-2', 'ap-geometric-optics'],\n",
              " ['math', '7th-grade-foundations-engageny', '7th-m4-engage-ny-foundations'],\n",
              " ['math', 'in-in-class-6-math-india-icse', 'in-in-6-fractions-icse'],\n",
              " ['science', 'health-and-medicine', 'hematologic-system-diseases-2'],\n",
              " ['math',\n",
              "  'statistics-probability',\n",
              "  'advanced-regression-inference-transforming'],\n",
              " ['math', 'algebra-home', 'alg-radical-eq-func'],\n",
              " ['math', 'calculus-2', 'cs2-series'],\n",
              " ['science', 'physics', 'forces-newtons-laws'],\n",
              " ['science', 'in-in-class9th-physics-india', 'in-in-work-energy'],\n",
              " ['science', 'organic-chemistry', 'aldehydes-ketones'],\n",
              " ['math', 'cc-eighth-grade-math', 'cc-8th-numbers-operations'],\n",
              " ['science', 'health-and-medicine', 'human-anatomy-and-physiology'],\n",
              " ['math', 'old-ap-calculus-bc', 'bc-diff-equations'],\n",
              " ['math', 'cc-eighth-grade-math', 'geometric-transformations'],\n",
              " ['math', 'statistics-probability', 'significance-tests-one-sample'],\n",
              " ['science', 'physics', 'work-and-energy'],\n",
              " ['math', 'ap-statistics', 'density-curves-normal-distribution-ap'],\n",
              " ['math', 'engageny-alg-1', 'alg1-module-4'],\n",
              " ['science', 'physics', 'light-waves'],\n",
              " ['science', 'electrical-engineering', 'lego-robotics'],\n",
              " ['science', 'biology', 'human-biology'],\n",
              " ['science',\n",
              "  'in-in-class10th-physics',\n",
              "  'in-in-magnetic-effects-of-electric-current'],\n",
              " ['math', 'algebra-home', 'alg-system-of-equations'],\n",
              " ['math', 'engageny-alg2', 'alg2-3'],\n",
              " ['science', 'ap-chemistry', 'chemical-bonds-ap'],\n",
              " ['math', 'ap-calculus-bc', 'bc-advanced-functions-new'],\n",
              " ['science', 'health-and-medicine', 'gastrointestinal-system-diseases'],\n",
              " ['math',\n",
              "  'in-in-class-7-math-india-icse',\n",
              "  'in-in-7-ratio-proportion-and-unitary-method-icse'],\n",
              " ['math',\n",
              "  'statistics-probability',\n",
              "  'describing-relationships-quantitative-data'],\n",
              " ['math', 'math1', 'x89d82521517266d4:systems'],\n",
              " ['science', 'physics', 'special-relativity'],\n",
              " ['math', 'statistics-probability', 'counting-permutations-and-combinations'],\n",
              " ['economics-finance-domain', 'microeconomics', 'consumer-producer-surplus'],\n",
              " ['math', 'algebra-basics', 'basic-alg-foundations'],\n",
              " ['math', 'algebra-home', 'alg-sequences'],\n",
              " ['economics-finance-domain', 'macroeconomics', 'forex-trade-topic'],\n",
              " ['science', 'organic-chemistry', 'gen-chem-review'],\n",
              " ['math', '7th-grade-illustrative-math', 'unit-5-rational-number-arithmetic'],\n",
              " ['math', 'ap-statistics', 'tests-significance-ap'],\n",
              " ['science', 'organic-chemistry', 'aromatic-compounds'],\n",
              " ['math', 'ap-calculus-bc', 'bc-integration-new']]"
            ]
          },
          "metadata": {
            "tags": []
          },
          "execution_count": 57
        }
      ]
    },
    {
      "cell_type": "code",
      "metadata": {
        "id": "7W36EDNakNuR",
        "colab": {
          "base_uri": "https://localhost:8080/"
        },
        "outputId": "ff0bfe2f-c69b-45f3-f7fe-a9c8f06faa73"
      },
      "source": [
        "poincare_embedding =  [exponential_map(np.expand_dims( np.hstack(  [ poincare_model.kv.get_vector(str(x)) for x in taxonomy ] ),axis=0)) for taxonomy in poincare_emb_data ]\n",
        "np.linalg.norm(poincare_embedding[311])"
      ],
      "execution_count": 58,
      "outputs": [
        {
          "output_type": "execute_result",
          "data": {
            "text/plain": [
              "0.8812958075961795"
            ]
          },
          "metadata": {
            "tags": []
          },
          "execution_count": 58
        }
      ]
    },
    {
      "cell_type": "code",
      "metadata": {
        "id": "FIjAYTvykNuU",
        "colab": {
          "base_uri": "https://localhost:8080/"
        },
        "outputId": "980f5fb2-c8b3-43ed-8102-16e6f31074b0"
      },
      "source": [
        "max_val = 0\n",
        "max_emb =None\n",
        "for embedding in poincare_embedding:\n",
        "  val = embedding.shape[1]\n",
        "  if val >max_val:\n",
        "    max_val=val\n",
        "    max_emb =embedding\n",
        "max_val\n"
      ],
      "execution_count": 59,
      "outputs": [
        {
          "output_type": "execute_result",
          "data": {
            "text/plain": [
              "60"
            ]
          },
          "metadata": {
            "tags": []
          },
          "execution_count": 59
        }
      ]
    },
    {
      "cell_type": "code",
      "metadata": {
        "id": "pYDH1p3okNuW"
      },
      "source": [
        "concatenated_embedding = []\n",
        "for embedding in poincare_embedding:\n",
        "  if embedding.shape[1] < max_val_train:\n",
        "    new_embedding = np.append(embedding, np.expand_dims(np.zeros(max_val_train-embedding.shape[1]),axis=0),axis=1)\n",
        "  else:\n",
        "    new_embedding = embedding\n",
        "  concatenated_embedding.append(np.squeeze(new_embedding,axis=0))\n",
        "\n"
      ],
      "execution_count": 60,
      "outputs": []
    },
    {
      "cell_type": "code",
      "metadata": {
        "id": "PxK7a0SUkNuc",
        "colab": {
          "base_uri": "https://localhost:8080/"
        },
        "outputId": "becc8f5c-b875-4d2b-e278-631ddb2c6d0b"
      },
      "source": [
        "poincare_embeddings_final = np.stack(concatenated_embedding, axis=0)\n",
        "poincare_embeddings_final.shape"
      ],
      "execution_count": 61,
      "outputs": [
        {
          "output_type": "execute_result",
          "data": {
            "text/plain": [
              "(416, 60)"
            ]
          },
          "metadata": {
            "tags": []
          },
          "execution_count": 61
        }
      ]
    },
    {
      "cell_type": "code",
      "metadata": {
        "id": "Nso39n1N_po_"
      },
      "source": [
        "# model2 = MulticlassClassifier('bert-base-uncased')\n",
        "# model2.load_state_dict(torch.load('model_hyperbolic_round_2/model_weights'))\n",
        "# model2.cuda()"
      ],
      "execution_count": 62,
      "outputs": []
    },
    {
      "cell_type": "code",
      "metadata": {
        "id": "Qe4qYkV2C4fX",
        "colab": {
          "base_uri": "https://localhost:8080/"
        },
        "outputId": "80dacd4c-b478-45bb-cf3c-6e5a0408f1b1"
      },
      "source": [
        "test_input_ids = []\n",
        "test_attention_masks = []\n",
        "for sent in test_features:\n",
        "\n",
        "    encoded_dict = tokenizer.encode_plus(\n",
        "                        sent,                      # Sentence to encode.\n",
        "                        add_special_tokens = True, # Add '[CLS]' and '[SEP]'\n",
        "                        max_length = 256,           # Pad & truncate all sentences.\n",
        "                        pad_to_max_length = True,\n",
        "                        truncation=True,\n",
        "                        return_attention_mask = True,   # Construct attn. masks.\n",
        "                        return_tensors = 'pt',     # Return pytorch tensors.\n",
        "                   )\n",
        "    \n",
        "    # Add the encoded sentence to the list.    \n",
        "    test_input_ids.append(encoded_dict['input_ids'])\n",
        "    \n",
        "    # And its attention mask (simply differentiates padding from non-padding).\n",
        "    test_attention_masks.append(encoded_dict['attention_mask'])\n",
        "\n",
        "# Convert the lists into tensors.\n",
        "test_input_ids = torch.cat(test_input_ids, dim=0)\n",
        "test_attention_masks = torch.cat(test_attention_masks, dim=0)\n",
        "# labels = torch.tensor(labels)\n",
        "\n",
        "# Set the batch size.  \n",
        "batch_size = 32  \n",
        "test_poincare_tensor = torch.tensor(poincare_embeddings_final,dtype=torch.float)\n",
        "\n",
        "# Create the DataLoader.\n",
        "# prediction_data = TensorDataset(test_input_ids, test_attention_masks, test_poincare_tensor)\n",
        "# prediction_sampler = SequentialSampler(prediction_data)\n",
        "# prediction_dataloader = DataLoader(prediction_data, sampler=prediction_sampler, batch_size=batch_size)"
      ],
      "execution_count": 63,
      "outputs": [
        {
          "output_type": "stream",
          "text": [
            "/usr/local/lib/python3.7/dist-packages/transformers/tokenization_utils_base.py:1770: FutureWarning: The `pad_to_max_length` argument is deprecated and will be removed in a future version, use `padding=True` or `padding='longest'` to pad to the longest sequence in the batch, or use `padding='max_length'` to pad to a max length. In this case, you can give a specific length with `max_length` (e.g. `max_length=45`) or leave max_length to None to pad to the maximal input size of the model (e.g. 512 for Bert).\n",
            "  FutureWarning,\n"
          ],
          "name": "stderr"
        }
      ]
    },
    {
      "cell_type": "code",
      "metadata": {
        "id": "SNdlve8AJcCO"
      },
      "source": [
        "from torch.utils.data import DataLoader, RandomSampler, SequentialSampler\n",
        "test_poincare_tensor = torch.tensor(poincare_embeddings_final,dtype=torch.float)\n"
      ],
      "execution_count": 64,
      "outputs": []
    },
    {
      "cell_type": "code",
      "metadata": {
        "id": "I6aMBHkAQZjT"
      },
      "source": [
        "cos = torch.nn.CosineSimilarity(dim=0, eps=1e-6)\n",
        "def dist_without_grad( u, v):\n",
        "  sqdist = torch.sum((u - v) ** 2, dim=-1)\n",
        "  squnorm = torch.sum(u ** 2, dim=-1)\n",
        "  sqvnorm = torch.sum(v ** 2, dim=-1)\n",
        "  x = 1 + 2 * sqdist / ((1 - squnorm) * (1 - sqvnorm)) + 1e-7\n",
        "  z = torch.sqrt(x ** 2 - 1)\n",
        "  return torch.log(x + z)"
      ],
      "execution_count": 65,
      "outputs": []
    },
    {
      "cell_type": "code",
      "metadata": {
        "id": "oe0otXOPg7z0"
      },
      "source": [
        "test_labels = np.array(test_labels)"
      ],
      "execution_count": 66,
      "outputs": []
    },
    {
      "cell_type": "code",
      "metadata": {
        "id": "mPCktQT9DVT4",
        "colab": {
          "base_uri": "https://localhost:8080/"
        },
        "outputId": "3a6755b9-a4c7-45ca-c35d-0e732443aebf"
      },
      "source": [
        "# Prediction on test set\n",
        "\n",
        "print('Predicting labels for {:,} test sentences...'.format(len(test_input_ids)))\n",
        "cos = torch.nn.CosineSimilarity(dim=1, eps=1e-6)\n",
        "\n",
        "# Put model in evaluation mode\n",
        "model.eval()\n",
        "input_ids = test_input_ids.to('cuda')\n",
        "attention_masks = test_attention_masks.to('cuda')\n",
        "test_poincare_tensor = test_poincare_tensor.to('cuda')\n",
        "# Tracking variables \n",
        "predictions , true_labels = [], []\n",
        "for input_id,attention_mask in zip(input_ids, attention_masks):\n",
        "  with torch.no_grad():\n",
        "    outputs = model(input_id.reshape(1,-1),attention_mask.reshape(1,-1))\n",
        "  distances,indices = torch.topk(dist_without_grad(outputs,test_poincare_tensor),5,largest=False)\n",
        "  predictions.append(test_labels[indices.cpu().numpy()])\n",
        "print(len(predictions))\n",
        "  # max_distance =100000000000000\n",
        "  # label=None\n",
        "  # for index,test_poincare in enumerate(test_poincare_tensor):\n",
        "\n",
        "  #   distance = distanceTo(test_poincare, outputs)\n",
        "  #   if distance < max_distance:\n",
        "  #     max_distance = distance\n",
        "  #     label = index\n",
        "  # predictions.append(labels[label])\n",
        "    \n",
        "# Predict \n",
        "# for batch in prediction_dataloader:\n",
        "#   # Add batch to GPU\n",
        "#   batch = tuple(t.to(device) for t in batch)\n",
        "  \n",
        "#   # Unpack the inputs from our dataloader\n",
        "#   b_input_ids, b_input_mask, b_labels = batch\n",
        "  \n",
        "#   # Telling the model not to compute or store gradients, saving memory and \n",
        "#   # speeding up prediction\n",
        "#   with torch.no_grad():\n",
        "#       # Forward pass, calculate logit predictions\n",
        "#       outputs = model(b_input_ids,b_input_mask)\n",
        "\n",
        "#   logits = outputs\n",
        "#   for logit in logits:\n",
        "#     max_similarity = 0\n",
        "\n",
        "\n",
        "#   # Move logits and labels to CPU\n",
        "#   logits = logits.detach().cpu().numpy()\n",
        "#   label_ids = b_labels.to('cpu').numpy()\n",
        "  \n",
        "#   # Store predictions and true labels\n",
        "#   predictions.append(logits)\n",
        "#   true_labels.append(label_ids)\n",
        "\n",
        "print('    DONE.')\n",
        "# predictions"
      ],
      "execution_count": 97,
      "outputs": [
        {
          "output_type": "stream",
          "text": [
            "Predicting labels for 1,047 test sentences...\n"
          ],
          "name": "stdout"
        },
        {
          "output_type": "stream",
          "text": [
            "/usr/local/lib/python3.7/dist-packages/torch/nn/functional.py:1698: UserWarning: nn.functional.tanh is deprecated. Use torch.tanh instead.\n",
            "  warnings.warn(\"nn.functional.tanh is deprecated. Use torch.tanh instead.\")\n"
          ],
          "name": "stderr"
        },
        {
          "output_type": "stream",
          "text": [
            "1047\n",
            "    DONE.\n"
          ],
          "name": "stdout"
        }
      ]
    },
    {
      "cell_type": "code",
      "metadata": {
        "id": "LJCr2Bi89Zw5",
        "colab": {
          "base_uri": "https://localhost:8080/"
        },
        "outputId": "d4e751df-a584-4044-90f5-f85018323261"
      },
      "source": [
        "!pip install tensorflow==1.13.1"
      ],
      "execution_count": 98,
      "outputs": [
        {
          "output_type": "stream",
          "text": [
            "Requirement already satisfied: tensorflow==1.13.1 in /usr/local/lib/python3.7/dist-packages (1.13.1)\n",
            "Requirement already satisfied: tensorboard<1.14.0,>=1.13.0 in /usr/local/lib/python3.7/dist-packages (from tensorflow==1.13.1) (1.13.1)\n",
            "Requirement already satisfied: termcolor>=1.1.0 in /usr/local/lib/python3.7/dist-packages (from tensorflow==1.13.1) (1.1.0)\n",
            "Requirement already satisfied: keras-preprocessing>=1.0.5 in /usr/local/lib/python3.7/dist-packages (from tensorflow==1.13.1) (1.1.2)\n",
            "Requirement already satisfied: keras-applications>=1.0.6 in /usr/local/lib/python3.7/dist-packages (from tensorflow==1.13.1) (1.0.8)\n",
            "Requirement already satisfied: numpy>=1.13.3 in /usr/local/lib/python3.7/dist-packages (from tensorflow==1.13.1) (1.19.5)\n",
            "Requirement already satisfied: gast>=0.2.0 in /usr/local/lib/python3.7/dist-packages (from tensorflow==1.13.1) (0.3.3)\n",
            "Requirement already satisfied: astor>=0.6.0 in /usr/local/lib/python3.7/dist-packages (from tensorflow==1.13.1) (0.8.1)\n",
            "Requirement already satisfied: six>=1.10.0 in /usr/local/lib/python3.7/dist-packages (from tensorflow==1.13.1) (1.15.0)\n",
            "Requirement already satisfied: protobuf>=3.6.1 in /usr/local/lib/python3.7/dist-packages (from tensorflow==1.13.1) (3.12.4)\n",
            "Requirement already satisfied: grpcio>=1.8.6 in /usr/local/lib/python3.7/dist-packages (from tensorflow==1.13.1) (1.32.0)\n",
            "Requirement already satisfied: tensorflow-estimator<1.14.0rc0,>=1.13.0 in /usr/local/lib/python3.7/dist-packages (from tensorflow==1.13.1) (1.13.0)\n",
            "Requirement already satisfied: absl-py>=0.1.6 in /usr/local/lib/python3.7/dist-packages (from tensorflow==1.13.1) (0.12.0)\n",
            "Requirement already satisfied: wheel>=0.26 in /usr/local/lib/python3.7/dist-packages (from tensorflow==1.13.1) (0.36.2)\n",
            "Requirement already satisfied: werkzeug>=0.11.15 in /usr/local/lib/python3.7/dist-packages (from tensorboard<1.14.0,>=1.13.0->tensorflow==1.13.1) (1.0.1)\n",
            "Requirement already satisfied: markdown>=2.6.8 in /usr/local/lib/python3.7/dist-packages (from tensorboard<1.14.0,>=1.13.0->tensorflow==1.13.1) (3.3.4)\n",
            "Requirement already satisfied: h5py in /usr/local/lib/python3.7/dist-packages (from keras-applications>=1.0.6->tensorflow==1.13.1) (2.10.0)\n",
            "Requirement already satisfied: setuptools in /usr/local/lib/python3.7/dist-packages (from protobuf>=3.6.1->tensorflow==1.13.1) (56.1.0)\n",
            "Requirement already satisfied: mock>=2.0.0 in /usr/local/lib/python3.7/dist-packages (from tensorflow-estimator<1.14.0rc0,>=1.13.0->tensorflow==1.13.1) (4.0.3)\n",
            "Requirement already satisfied: importlib-metadata; python_version < \"3.8\" in /usr/local/lib/python3.7/dist-packages (from markdown>=2.6.8->tensorboard<1.14.0,>=1.13.0->tensorflow==1.13.1) (3.10.1)\n",
            "Requirement already satisfied: typing-extensions>=3.6.4; python_version < \"3.8\" in /usr/local/lib/python3.7/dist-packages (from importlib-metadata; python_version < \"3.8\"->markdown>=2.6.8->tensorboard<1.14.0,>=1.13.0->tensorflow==1.13.1) (3.7.4.3)\n",
            "Requirement already satisfied: zipp>=0.5 in /usr/local/lib/python3.7/dist-packages (from importlib-metadata; python_version < \"3.8\"->markdown>=2.6.8->tensorboard<1.14.0,>=1.13.0->tensorflow==1.13.1) (3.4.1)\n"
          ],
          "name": "stdout"
        }
      ]
    },
    {
      "cell_type": "code",
      "metadata": {
        "id": "O5wj2gXYFkrQ"
      },
      "source": [
        "labels=test_data['hierarchy'].values"
      ],
      "execution_count": 99,
      "outputs": []
    },
    {
      "cell_type": "code",
      "metadata": {
        "id": "r2BANBZnDigR"
      },
      "source": [
        ""
      ],
      "execution_count": 99,
      "outputs": []
    },
    {
      "cell_type": "code",
      "metadata": {
        "colab": {
          "base_uri": "https://localhost:8080/"
        },
        "id": "4yrV51kL43SI",
        "outputId": "aa247fd5-fd72-4af9-e3c3-a5c382a5cbf9"
      },
      "source": [
        "for index,label in enumerate(labels):\n",
        "  if label not in list(train_data[\"hierarchy\"].values):\n",
        "    print(index,label)\n"
      ],
      "execution_count": 100,
      "outputs": [
        {
          "output_type": "stream",
          "text": [
            "61 math>>ap-statistics>>density-curves-normal-distribution-ap\n",
            "314 math>>ap-statistics>>density-curves-normal-distribution-ap\n",
            "385 math>>arithmetic>>fraction-arithmetic\n",
            "436 math>>old-integral-calculus>>convergence-tests-integral-calc\n",
            "444 math>>ap-statistics>>density-curves-normal-distribution-ap\n",
            "879 math>>old-integral-calculus>>convergence-tests-integral-calc\n",
            "926 math>>arithmetic>>fraction-arithmetic\n"
          ],
          "name": "stdout"
        }
      ]
    },
    {
      "cell_type": "markdown",
      "metadata": {
        "id": "kuZEbp-tFaD8"
      },
      "source": [
        ""
      ]
    },
    {
      "cell_type": "code",
      "metadata": {
        "id": "nOt8hvs-CZfn",
        "colab": {
          "base_uri": "https://localhost:8080/"
        },
        "outputId": "9caef094-d9e4-40de-f19b-3eeeb860dc59"
      },
      "source": [
        "from sklearn .preprocessing import LabelEncoder\n",
        "LE= LabelEncoder()\n",
        "labels = LE.fit_transform(labels)\n",
        "labels"
      ],
      "execution_count": 101,
      "outputs": [
        {
          "output_type": "execute_result",
          "data": {
            "text/plain": [
              "array([238, 254,   2, ..., 386, 283, 324])"
            ]
          },
          "metadata": {
            "tags": []
          },
          "execution_count": 101
        }
      ]
    },
    {
      "cell_type": "code",
      "metadata": {
        "id": "adb4gTNgGKUP",
        "colab": {
          "base_uri": "https://localhost:8080/"
        },
        "outputId": "0e80a24e-7913-4fb9-a992-b324a264e51f"
      },
      "source": [
        "labels"
      ],
      "execution_count": 102,
      "outputs": [
        {
          "output_type": "execute_result",
          "data": {
            "text/plain": [
              "array([238, 254,   2, ..., 386, 283, 324])"
            ]
          },
          "metadata": {
            "tags": []
          },
          "execution_count": 102
        }
      ]
    },
    {
      "cell_type": "code",
      "metadata": {
        "colab": {
          "base_uri": "https://localhost:8080/"
        },
        "id": "RZIY_54gHm7M",
        "outputId": "e5597cc9-f7e0-4b85-add6-f75ecc083d52"
      },
      "source": [
        "np.where(labels==325)"
      ],
      "execution_count": 103,
      "outputs": [
        {
          "output_type": "execute_result",
          "data": {
            "text/plain": [
              "(array([ 787, 1034]),)"
            ]
          },
          "metadata": {
            "tags": []
          },
          "execution_count": 103
        }
      ]
    },
    {
      "cell_type": "code",
      "metadata": {
        "id": "azkCfK-bCoXd"
      },
      "source": [
        "final_predictions = []\n",
        "for prediction in predictions:\n",
        "  final_predictions.append(LE.transform(prediction))\n"
      ],
      "execution_count": 104,
      "outputs": []
    },
    {
      "cell_type": "code",
      "metadata": {
        "colab": {
          "base_uri": "https://localhost:8080/"
        },
        "id": "jSDt3De5myle",
        "outputId": "03aed3ca-e775-4357-cef3-916c964a1093"
      },
      "source": [
        "import tensorflow as tf\n",
        "print(tf.__version__)"
      ],
      "execution_count": 105,
      "outputs": [
        {
          "output_type": "stream",
          "text": [
            "1.13.1\n"
          ],
          "name": "stdout"
        }
      ]
    },
    {
      "cell_type": "code",
      "metadata": {
        "id": "BqmxvWkg2vNJ",
        "colab": {
          "base_uri": "https://localhost:8080/"
        },
        "outputId": "dfe3bb94-af8b-4e8a-cf29-6a768bff4efa"
      },
      "source": [
        "import tensorflow as tf\n",
        "y_true = np.array(labels)\n",
        "y_true = tf.identity(y_true)\n",
        "y_pred = np.array(final_predictions)\n",
        "y_pred = tf.identity(y_pred)\n",
        "print(y_pred.shape,y_true.shape)\n",
        "k = 20\n",
        "recall, update_recall = tf.compat.v1.metrics.recall_at_top_k(y_true, y_pred, k=20)\n",
        "precision, update_precision = tf.compat.v1.metrics.precision_at_top_k(y_true, y_pred, k=20)\n",
        "\n",
        "tmp_rank = tf.nn.top_k(y_pred, 20)\n",
        "stream_vars = [i for i in tf.local_variables()]\n",
        "\n",
        "with tf.Session() as sess:\n",
        "    sess.run(tf.local_variables_initializer())\n",
        "    # print(\"precision\",sess.run(update_precision))\n",
        "    # print(\"precision\",sess.run(precision))\n",
        "\n",
        "\n",
        "    print(\"update_recall: \",sess.run(update_recall ))\n",
        "    print(\"recall\",sess.run(recall))\n",
        "\n",
        "    print(\"STREAM_VARS: \",(sess.run(stream_vars)))\n",
        "    print(\"TMP_RANK: \",sess.run(tmp_rank))"
      ],
      "execution_count": null,
      "outputs": [
        {
          "output_type": "stream",
          "text": [
            "(1047, 20) (1047,)\n",
            "update_recall:  0.5616045845272206\n",
            "recall 0.5616045845272206\n",
            "STREAM_VARS:  [0.0, 0.0, 0.0, 0.0, 0.0, 0.0, 0.0, 0.0, 0.0, 0.0, 0.0, 0.0, 588.0, 459.0, 0.0, 0.0]\n",
            "TMP_RANK:  TopKV2(values=array([[297, 296, 295, ..., 190, 189,  29],\n",
            "       [259, 258, 257, ...,  82,  81,  77],\n",
            "       [ 20,  19,  18, ...,   2,   1,   0],\n",
            "       ...,\n",
            "       [182, 181, 180, ...,  92,  91,  47],\n",
            "       [284, 283, 282, ...,  80,  79,  77],\n",
            "       [334, 332, 331, ..., 301, 300, 299]]), indices=array([[14,  9,  5, ..., 18, 16, 19],\n",
            "       [ 8, 12, 10, ..., 17, 14, 18],\n",
            "       [15, 19, 18, ...,  8,  7, 10],\n",
            "       ...,\n",
            "       [ 0,  3,  4, ..., 13, 10, 19],\n",
            "       [ 4,  3,  2, ...,  9, 13, 16],\n",
            "       [12, 13, 14, ...,  3,  0,  2]], dtype=int32))\n"
          ],
          "name": "stdout"
        }
      ]
    },
    {
      "cell_type": "code",
      "metadata": {
        "id": "kI1jhndp6cEW",
        "colab": {
          "base_uri": "https://localhost:8080/"
        },
        "outputId": "2707b8b7-f01f-4a7e-8c4e-0feb2f7cea22"
      },
      "source": [
        "import tensorflow as tf\n",
        "y_true = np.array(labels)\n",
        "y_true = tf.identity(y_true)\n",
        "y_pred = np.array(final_predictions)\n",
        "y_pred = tf.identity(y_pred)\n",
        "print(y_pred.shape,y_true.shape)\n",
        "k = 8\n",
        "recall, update_recall = tf.compat.v1.metrics.recall_at_top_k(y_true, y_pred, 15)\n",
        "precision, update_precision = tf.compat.v1.metrics.precision_at_top_k(y_true, y_pred, 15)\n",
        "\n",
        "tmp_rank = tf.nn.top_k(y_pred, 15)\n",
        "stream_vars = [i for i in tf.local_variables()]\n",
        "\n",
        "with tf.Session() as sess:\n",
        "    sess.run(tf.local_variables_initializer())\n",
        "    # print(\"precision\",sess.run(update_precision))\n",
        "    # print(\"precision\",sess.run(precision))\n",
        "\n",
        "    print(\"update_recall: \",sess.run(update_recall ))\n",
        "    print(\"recall\",sess.run(recall))\n",
        "\n",
        "    print(\"STREAM_VARS: \",(sess.run(stream_vars)))\n",
        "    print(\"TMP_RANK: \",sess.run(tmp_rank))"
      ],
      "execution_count": null,
      "outputs": [
        {
          "output_type": "stream",
          "text": [
            "(1047, 15) (1047,)\n",
            "update_recall:  0.5243553008595988\n",
            "recall 0.5243553008595988\n",
            "STREAM_VARS:  [0.0, 0.0, 0.0, 0.0, 0.0, 0.0, 0.0, 0.0, 0.0, 0.0, 0.0, 0.0, 0.0, 0.0, 0.0, 0.0, 0.0, 0.0, 0.0, 0.0, 0.0, 0.0, 0.0, 0.0, 549.0, 498.0, 0.0, 0.0]\n",
            "TMP_RANK:  TopKV2(values=array([[243, 242, 241, ..., 177, 176,  29],\n",
            "       [226, 225, 224, ...,  89,  88,  87],\n",
            "       [ 20,  19,  18, ...,   2,   1,   0],\n",
            "       ...,\n",
            "       [276, 182, 181, ...,  93,  92,  91],\n",
            "       [284, 283, 282, ...,  79,  78,  77],\n",
            "       [334, 332, 331, ..., 301, 300, 299]]), indices=array([[ 5,  6,  4, ...,  7,  9,  3],\n",
            "       [ 2,  0,  1, ...,  9,  7, 10],\n",
            "       [ 8, 13, 14, ...,  9,  7, 12],\n",
            "       ...,\n",
            "       [14,  2,  5, ...,  9, 13, 10],\n",
            "       [ 4,  3,  2, ..., 10, 12, 13],\n",
            "       [12, 13, 14, ...,  3,  0,  2]], dtype=int32))\n"
          ],
          "name": "stdout"
        }
      ]
    },
    {
      "cell_type": "code",
      "metadata": {
        "colab": {
          "base_uri": "https://localhost:8080/"
        },
        "id": "JUXWWk3jpKCM",
        "outputId": "a7593834-5d5f-4ccf-f090-c132a10b0492"
      },
      "source": [
        "import tensorflow as tf\n",
        "y_true = np.array(labels)\n",
        "y_true = tf.identity(y_true)\n",
        "y_pred = np.array(final_predictions)\n",
        "y_pred = tf.identity(y_pred)\n",
        "print(y_pred.shape,y_true.shape)\n",
        "k = 8\n",
        "recall, update_recall = tf.compat.v1.metrics.recall_at_top_k(y_true, y_pred, 10)\n",
        "precision, update_precision = tf.compat.v1.metrics.precision_at_top_k(y_true, y_pred, 10)\n",
        "\n",
        "tmp_rank = tf.nn.top_k(y_pred, 10)\n",
        "stream_vars = [i for i in tf.local_variables()]\n",
        "\n",
        "with tf.Session() as sess:\n",
        "    sess.run(tf.local_variables_initializer())\n",
        "    # print(\"precision\",sess.run(update_precision))\n",
        "    # print(\"precision\",sess.run(precision))\n",
        "\n",
        "    print(\"update_recall: \",sess.run(update_recall ))\n",
        "    print(\"recall\",sess.run(recall))\n",
        "\n",
        "    print(\"STREAM_VARS: \",(sess.run(stream_vars)))\n",
        "    print(\"TMP_RANK: \",sess.run(tmp_rank))"
      ],
      "execution_count": null,
      "outputs": [
        {
          "output_type": "stream",
          "text": [
            "(1047, 10) (1047,)\n",
            "update_recall:  0.45367717287488063\n",
            "recall 0.45367717287488063\n",
            "STREAM_VARS:  [0.0, 0.0, 0.0, 0.0, 0.0, 0.0, 0.0, 0.0, 0.0, 0.0, 0.0, 0.0, 0.0, 0.0, 0.0, 0.0, 0.0, 0.0, 0.0, 0.0, 475.0, 572.0, 0.0, 0.0]\n",
            "TMP_RANK:  TopKV2(values=array([[296, 295, 292, ..., 243, 242, 241],\n",
            "       [259, 254, 253, ...,  89,  88,  87],\n",
            "       [ 16,  15,  14, ...,   3,   2,   1],\n",
            "       ...,\n",
            "       [182, 181, 180, ...,  95,  94,  93],\n",
            "       [284, 283, 282, ...,  83,  81,  80],\n",
            "       [327, 326, 323, ..., 301, 300, 299]]), indices=array([[9, 5, 4, ..., 1, 2, 0],\n",
            "       [8, 9, 7, ..., 4, 6, 3],\n",
            "       [5, 4, 3, ..., 9, 8, 7],\n",
            "       ...,\n",
            "       [0, 3, 4, ..., 8, 7, 9],\n",
            "       [4, 3, 2, ..., 8, 7, 9],\n",
            "       [9, 8, 7, ..., 3, 0, 2]], dtype=int32))\n"
          ],
          "name": "stdout"
        }
      ]
    },
    {
      "cell_type": "code",
      "metadata": {
        "colab": {
          "base_uri": "https://localhost:8080/"
        },
        "id": "_khOH3epEC1x",
        "outputId": "e01f08f7-d793-48be-f9e2-5ac65aba7b10"
      },
      "source": [
        "import tensorflow as tf\n",
        "y_true = np.array(labels)\n",
        "y_true = tf.identity(y_true)\n",
        "y_pred = np.array(final_predictions)\n",
        "y_pred = tf.identity(y_pred)\n",
        "print(y_pred.shape,y_true.shape)\n",
        "k = 8\n",
        "recall, update_recall = tf.compat.v1.metrics.recall_at_top_k(y_true, y_pred, 5)\n",
        "precision, update_precision = tf.compat.v1.metrics.precision_at_top_k(y_true, y_pred, 5)\n",
        "\n",
        "tmp_rank = tf.nn.top_k(y_pred, 5)\n",
        "stream_vars = [i for i in tf.local_variables()]\n",
        "\n",
        "with tf.Session() as sess:\n",
        "    sess.run(tf.local_variables_initializer())\n",
        "    # print(\"precision\",sess.run(update_precision))\n",
        "    # print(\"precision\",sess.run(precision))\n",
        "\n",
        "    print(\"update_recall: \",sess.run(update_recall ))\n",
        "    print(\"recall\",sess.run(recall))\n",
        "\n",
        "    print(\"STREAM_VARS: \",(sess.run(stream_vars)))\n",
        "    print(\"TMP_RANK: \",sess.run(tmp_rank))"
      ],
      "execution_count": null,
      "outputs": [
        {
          "output_type": "stream",
          "text": [
            "(1047, 5) (1047,)\n",
            "update_recall:  0.3037249283667622\n",
            "recall 0.3037249283667622\n",
            "STREAM_VARS:  [0.0, 0.0, 0.0, 0.0, 0.0, 0.0, 0.0, 0.0, 0.0, 0.0, 0.0, 0.0, 0.0, 0.0, 0.0, 0.0, 0.0, 0.0, 0.0, 0.0, 0.0, 0.0, 0.0, 0.0, 0.0, 0.0, 0.0, 0.0, 0.0, 0.0, 0.0, 0.0, 318.0, 729.0, 0.0, 0.0]\n",
            "TMP_RANK:  TopKV2(values=array([[241, 191, 190, 189,  29],\n",
            "       [226, 225, 224, 133, 132],\n",
            "       [ 15,  14,  13,  11,  10],\n",
            "       ...,\n",
            "       [182, 180, 179, 178, 177],\n",
            "       [284, 283, 282, 281, 280],\n",
            "       [305, 302, 301, 300, 299]]), indices=array([[4, 1, 2, 0, 3],\n",
            "       [2, 0, 1, 4, 3],\n",
            "       [4, 3, 2, 0, 1],\n",
            "       ...,\n",
            "       [2, 4, 0, 1, 3],\n",
            "       [4, 3, 2, 1, 0],\n",
            "       [1, 4, 3, 0, 2]], dtype=int32))\n"
          ],
          "name": "stdout"
        }
      ]
    },
    {
      "cell_type": "code",
      "metadata": {
        "id": "NZ1EsDrinYGN"
      },
      "source": [
        ""
      ],
      "execution_count": null,
      "outputs": []
    }
  ]
}